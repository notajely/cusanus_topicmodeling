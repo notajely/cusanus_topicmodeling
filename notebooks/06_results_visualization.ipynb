{
 "cells": [
  {
   "cell_type": "markdown",
   "metadata": {},
   "source": [
    "# 06_results_visualization.ipynb\n",
    "\n",
    "## Objective\n",
    "Visualize project results:\n",
    "- Plot topic distribution across sermons.\n",
    "- Compare results from different LDA models.\n"
   ]
  }
 ],
 "metadata": {
  "language_info": {
   "name": "python"
  }
 },
 "nbformat": 4,
 "nbformat_minor": 2
}
