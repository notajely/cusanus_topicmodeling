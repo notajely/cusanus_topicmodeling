{
 "cells": [
  {
   "cell_type": "code",
   "execution_count": null,
   "metadata": {},
   "outputs": [],
   "source": [
    "import os\n",
    "from sklearn.feature_extraction.text import CountVectorizer\n",
    "import torch\n",
    "from torch.utils.data import DataLoader, Dataset\n",
    "\n"
   ]
  },
  {
   "cell_type": "code",
   "execution_count": null,
   "metadata": {},
   "outputs": [],
   "source": [
    "BASE_DIR = '/Users/jessie/Documents/Projects/Cusanus_Topic_Modeling'\n",
    "os.chdir(BASE_DIR)"
   ]
  },
  {
   "cell_type": "code",
   "execution_count": null,
   "metadata": {},
   "outputs": [],
   "source": [
    "import os\n",
    "from sklearn.feature_extraction.text import CountVectorizer\n",
    "import torch\n",
    "from torch.utils.data import DataLoader, Dataset\n",
    "\n",
    "# 加载预处理后的文档数据\n",
    "testset_dir = 'data/testset'\n",
    "documents = []\n",
    "\n",
    "for file_name in os.listdir(testset_dir):\n",
    "    if file_name.endswith('.txt'):\n",
    "        file_path = os.path.join(testset_dir, file_name)\n",
    "        with open(file_path, 'r', encoding='utf-8') as file:\n",
    "            content = file.read()\n",
    "            documents.append(content)\n",
    "\n",
    "# 使用 CountVectorizer 创建词袋模型（直接基于预处理文本）\n",
    "vectorizer = CountVectorizer(max_df=0.95, min_df=2)  # max_df和min_df可以根据需要调整\n",
    "X = vectorizer.fit_transform(documents)\n",
    "vocab = vectorizer.get_feature_names_out()\n",
    "bow_data = X.toarray()\n"
   ]
  },
  {
   "cell_type": "code",
   "execution_count": null,
   "metadata": {},
   "outputs": [],
   "source": [
    "class BOWDataset(Dataset):\n",
    "    def __init__(self, bow_data):\n",
    "        self.bow_data = torch.tensor(bow_data).float()\n",
    "\n",
    "    def __len__(self):\n",
    "        return len(self.bow_data)\n",
    "\n",
    "    def __getitem__(self, idx):\n",
    "        return {'bow': self.bow_data[idx]}\n",
    "\n",
    "# 创建 DataLoader\n",
    "bow_dataset = BOWDataset(bow_data)\n",
    "data_loader = DataLoader(bow_dataset, batch_size=16, shuffle=True)\n"
   ]
  },
  {
   "cell_type": "code",
   "execution_count": null,
   "metadata": {},
   "outputs": [],
   "source": [
    "import torch.nn as nn\n",
    "import pytorch_lightning as pl\n",
    "from pytorch_lightning import Trainer\n",
    "\n",
    "class ETM(pl.LightningModule):\n",
    "    def __init__(self, vocab_size, num_topics, embed_size, hidden_size, dropout=0.2):\n",
    "        super(ETM, self).__init__()\n",
    "        self.num_topics = num_topics\n",
    "        self.embed_size = embed_size\n",
    "        self.hidden_size = hidden_size\n",
    "\n",
    "        # 词汇嵌入\n",
    "        self.word_embeddings = nn.Embedding(vocab_size, embed_size)\n",
    "        \n",
    "        # 主题嵌入\n",
    "        self.topic_embeddings = nn.Embedding(num_topics, embed_size)\n",
    "\n",
    "        # 编码器\n",
    "        self.encoder = nn.Sequential(\n",
    "            nn.Linear(vocab_size, hidden_size),\n",
    "            nn.ReLU(),\n",
    "            nn.Dropout(dropout),\n",
    "            nn.Linear(hidden_size, num_topics),\n",
    "            nn.Softmax(dim=-1)\n",
    "        )\n",
    "\n",
    "    def forward(self, bow):\n",
    "        # 文档编码为主题分布\n",
    "        doc_topic_distr = self.encoder(bow)\n",
    "        \n",
    "        # 主题嵌入\n",
    "        topic_vectors = self.topic_embeddings(torch.arange(self.num_topics, device=self.device))\n",
    "        \n",
    "        # 重构分布\n",
    "        reconstructed_bow = torch.matmul(doc_topic_distr, topic_vectors)\n",
    "        word_distr = torch.matmul(reconstructed_bow, self.word_embeddings.weight.t())\n",
    "        \n",
    "        return word_distr, doc_topic_distr\n",
    "\n",
    "    def training_step(self, batch, batch_idx):\n",
    "        bow = batch['bow']\n",
    "        word_distr, doc_topic_distr = self(bow)\n",
    "        \n",
    "        # 使用 KL 散度损失\n",
    "        kl_loss = torch.nn.functional.kl_div(word_distr.log(), bow, reduction=\"batchmean\")\n",
    "        return kl_loss\n",
    "\n",
    "    def configure_optimizers(self):\n",
    "        return torch.optim.Adam(self.parameters(), lr=0.001)\n"
   ]
  },
  {
   "cell_type": "code",
   "execution_count": null,
   "metadata": {},
   "outputs": [],
   "source": [
    "# 设置模型参数\n",
    "vocab_size = len(vocab)\n",
    "num_topics = 5  # 根据您的需求调整\n",
    "embed_size = 300\n",
    "hidden_size = 128\n",
    "\n",
    "# 初始化 ETM 模型\n",
    "etm_model = ETM(vocab_size, num_topics, embed_size, hidden_size)\n",
    "\n",
    "# 使用 Trainer 进行训练\n",
    "trainer = Trainer(max_epochs=50)  # 根据情况调整epoch数\n",
    "trainer.fit(etm_model, data_loader)\n"
   ]
  },
  {
   "cell_type": "code",
   "execution_count": null,
   "metadata": {},
   "outputs": [],
   "source": [
    "# 提取每个主题的关键词\n",
    "topic_vectors = etm_model.topic_embeddings.weight.cpu().detach().numpy()\n",
    "for topic_idx, topic_vec in enumerate(topic_vectors):\n",
    "    top_word_indices = topic_vec.argsort()[-10:][::-1]  # 获取每个主题的前10个词\n",
    "    top_words = [vocab[i] for i in top_word_indices]\n",
    "    print(f\"Topic {topic_idx}: {', '.join(top_words)}\")\n"
   ]
  }
 ],
 "metadata": {
  "kernelspec": {
   "display_name": "Python 3",
   "language": "python",
   "name": "python3"
  },
  "language_info": {
   "codemirror_mode": {
    "name": "ipython",
    "version": 3
   },
   "file_extension": ".py",
   "mimetype": "text/x-python",
   "name": "python",
   "nbconvert_exporter": "python",
   "pygments_lexer": "ipython3",
   "version": "3.10.15"
  }
 },
 "nbformat": 4,
 "nbformat_minor": 2
}
