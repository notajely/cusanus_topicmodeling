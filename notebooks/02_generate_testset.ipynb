{
 "cells": [
  {
   "cell_type": "code",
   "execution_count": 4,
   "metadata": {},
   "outputs": [],
   "source": [
    "import os\n",
    "import json\n",
    "import random\n",
    "import logging\n",
    "import shutil\n",
    "import stanza\n",
    "from tqdm import tqdm"
   ]
  },
  {
   "cell_type": "code",
   "execution_count": 5,
   "metadata": {},
   "outputs": [],
   "source": [
    "# 假设 BASE_DIR 已经定义为项目的根目录\n",
    "BASE_DIR = '/Users/jessie/Documents/Projects/Cusanus_Topic_Modeling' "
   ]
  },
  {
   "cell_type": "code",
   "execution_count": 6,
   "metadata": {},
   "outputs": [
    {
     "name": "stdout",
     "output_type": "stream",
     "text": [
      "处理 Spacy 预处理文件...\n",
      "已选择 61 个Spacy测试文件\n",
      "已选择 245 个Spacy训练文件\n",
      "\n",
      "处理 Cusanus 预处理文件...\n",
      "已选择 61 个Cusanus测试文件\n",
      "已选择 247 个Cusanus训练文件\n"
     ]
    }
   ],
   "source": [
    "# 定义源目录和目标目录\n",
    "spacy_dir = os.path.join(BASE_DIR, 'experiments/lda/spacy/preprocessed')\n",
    "cusanus_dir = os.path.join(BASE_DIR, 'experiments/lda/cusanus/preprocessed')\n",
    "\n",
    "# 创建测试集和训练集目录\n",
    "spacy_test_dir = os.path.join(BASE_DIR, 'experiments/lda/spacy/test_set')\n",
    "spacy_train_dir = os.path.join(BASE_DIR, 'experiments/lda/spacy/train_set')\n",
    "cusanus_test_dir = os.path.join(BASE_DIR, 'experiments/lda/cusanus/test_set')\n",
    "cusanus_train_dir = os.path.join(BASE_DIR, 'experiments/lda/cusanus/train_set')\n",
    "\n",
    "# 确保所有目录存在\n",
    "for directory in [spacy_test_dir, spacy_train_dir, cusanus_test_dir, cusanus_train_dir]:\n",
    "    os.makedirs(directory, exist_ok=True)\n",
    "\n",
    "def split_train_test_files(source_dir, test_dir, train_dir, test_ratio=0.2):\n",
    "    # 获取所有文件\n",
    "    all_files = [f for f in os.listdir(source_dir) if f.endswith('.txt')]\n",
    "    \n",
    "    # 计算测试集数量\n",
    "    test_size = int(len(all_files) * test_ratio)\n",
    "    \n",
    "    # 随机选择测试文件\n",
    "    test_files = random.sample(all_files, test_size)\n",
    "    # 剩余的文件作为训练集\n",
    "    train_files = [f for f in all_files if f not in test_files]\n",
    "    \n",
    "    # 复制测试文件\n",
    "    for file in test_files:\n",
    "        src = os.path.join(source_dir, file)\n",
    "        dst = os.path.join(test_dir, file)\n",
    "        shutil.copy2(src, dst)\n",
    "    \n",
    "    # 复制训练文件\n",
    "    for file in train_files:\n",
    "        src = os.path.join(source_dir, file)\n",
    "        dst = os.path.join(train_dir, file)\n",
    "        shutil.copy2(src, dst)\n",
    "    \n",
    "    return test_files, train_files\n",
    "\n",
    "# 处理 Spacy 文件\n",
    "print(\"处理 Spacy 预处理文件...\")\n",
    "spacy_test_files, spacy_train_files = split_train_test_files(spacy_dir, spacy_test_dir, spacy_train_dir)\n",
    "print(f\"已选择 {len(spacy_test_files)} 个Spacy测试文件\")\n",
    "print(f\"已选择 {len(spacy_train_files)} 个Spacy训练文件\")\n",
    "\n",
    "# 处理 Cusanus 文件\n",
    "print(\"\\n处理 Cusanus 预处理文件...\")\n",
    "cusanus_test_files, cusanus_train_files = split_train_test_files(cusanus_dir, cusanus_test_dir, cusanus_train_dir)\n",
    "print(f\"已选择 {len(cusanus_test_files)} 个Cusanus测试文件\")\n",
    "print(f\"已选择 {len(cusanus_train_files)} 个Cusanus训练文件\")\n",
    "\n",
    "# 保存文件列表\n",
    "with open(os.path.join(BASE_DIR, 'train_test_files_list.json'), 'w', encoding='utf-8') as f:\n",
    "    json.dump({\n",
    "        'spacy': {\n",
    "            'test_files': spacy_test_files,\n",
    "            'train_files': spacy_train_files\n",
    "        },\n",
    "        'cusanus': {\n",
    "            'test_files': cusanus_test_files,\n",
    "            'train_files': cusanus_train_files\n",
    "        }\n",
    "    }, f, indent=2, ensure_ascii=False)"
   ]
  }
 ],
 "metadata": {
  "kernelspec": {
   "display_name": "Python 3",
   "language": "python",
   "name": "python3"
  },
  "language_info": {
   "codemirror_mode": {
    "name": "ipython",
    "version": 3
   },
   "file_extension": ".py",
   "mimetype": "text/x-python",
   "name": "python",
   "nbconvert_exporter": "python",
   "pygments_lexer": "ipython3",
   "version": "3.10.15"
  }
 },
 "nbformat": 4,
 "nbformat_minor": 2
}
