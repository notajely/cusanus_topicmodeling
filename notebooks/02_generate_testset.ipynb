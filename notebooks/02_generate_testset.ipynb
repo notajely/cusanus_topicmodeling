{
 "cells": [
  {
   "cell_type": "code",
   "execution_count": 1,
   "metadata": {},
   "outputs": [],
   "source": [
    "import os\n",
    "import random\n",
    "import shutil\n",
    "import logging"
   ]
  },
  {
   "cell_type": "code",
   "execution_count": 2,
   "metadata": {},
   "outputs": [],
   "source": [
    "# 假设 BASE_DIR 已经定义为项目的根目录\n",
    "BASE_DIR = '/Users/jessie/Documents/Projects/Cusanus_Topic_Modeling' "
   ]
  },
  {
   "cell_type": "code",
   "execution_count": 3,
   "metadata": {},
   "outputs": [],
   "source": [
    "# 配置日志\n",
    "logging.basicConfig(\n",
    "    filename='test_log.log',  # 日志文件名\n",
    "    level=logging.INFO,       # 日志级别\n",
    "    format='%(asctime)s - %(levelname)s - %(message)s',  # 日志格式\n",
    "    filemode='w'              # 使用 'w' 模式覆盖之前的日志记录\n",
    ")"
   ]
  },
  {
   "cell_type": "code",
   "execution_count": 4,
   "metadata": {},
   "outputs": [],
   "source": [
    "def select_files_for_testing(processed_dir, testset_dir, test_percentage=0.2):\n",
    "    # 获取所有已处理的文件\n",
    "    processed_files = [f for f in os.listdir(processed_dir) if f.endswith('.txt')]\n",
    "    total_files = len(processed_files)\n",
    "\n",
    "    # 检查是否有已处理的文件\n",
    "    if total_files == 0:\n",
    "        print(\"没有找到已处理的文件，请检查 processed 目录。\")\n",
    "        logging.error(\"没有找到已处理的文件，测试无法进行。\")\n",
    "        return []\n",
    "\n",
    "    # 计算测试集的文件数量，确保不会超过总文件数\n",
    "    test_file_count = max(1, min(total_files, int(total_files * test_percentage)))  # 至少选取一个文件用于测试\n",
    "\n",
    "    # 随机选取测试文件\n",
    "    test_files = random.sample(processed_files, test_file_count)\n",
    "\n",
    "    # 创建测试集目录（如果不存在）\n",
    "    if not os.path.exists(testset_dir):\n",
    "        os.makedirs(testset_dir)\n",
    "\n",
    "    # 将选中的测试文件复制到 testset 目录\n",
    "    for test_file in test_files:\n",
    "        source_path = os.path.join(processed_dir, test_file)\n",
    "        destination_path = os.path.join(testset_dir, test_file)\n",
    "        shutil.copy(source_path, destination_path)  # 使用 shutil.copy 复制文件\n",
    "        print(f\"文件 {test_file} 已复制到测试集目录。\")\n",
    "        logging.info(f\"文件 {test_file} 已复制到测试集目录 {testset_dir}。\")\n",
    "\n",
    "    print(f\"从已处理的 {total_files} 个文件中随机选取了 {test_file_count} 个文件并复制到测试集目录。\\n\")\n",
    "    logging.info(f\"从已处理的 {total_files} 个文件中随机选取了 {test_file_count} 个文件并复制到测试集目录。\")\n",
    "\n",
    "    return test_files"
   ]
  },
  {
   "cell_type": "code",
   "execution_count": 5,
   "metadata": {},
   "outputs": [],
   "source": [
    "processed_dir = os.path.join(BASE_DIR, 'data/processed')\n",
    "testset_dir = os.path.join(BASE_DIR, 'data/testset')"
   ]
  },
  {
   "cell_type": "code",
   "execution_count": 6,
   "metadata": {},
   "outputs": [
    {
     "name": "stdout",
     "output_type": "stream",
     "text": [
      "文件 v190_291.txt 已复制到测试集目录。\n",
      "文件 v170_056.txt 已复制到测试集目录。\n",
      "文件 v170_119.txt 已复制到测试集目录。\n",
      "文件 v160_006.txt 已复制到测试集目录。\n",
      "文件 v170_050.txt 已复制到测试集目录。\n",
      "文件 v180_136.txt 已复制到测试集目录。\n",
      "文件 v160_009.txt 已复制到测试集目录。\n",
      "文件 v180_140.txt 已复制到测试集目录。\n",
      "文件 v170_083.txt 已复制到测试集目录。\n",
      "文件 v180_163.txt 已复制到测试集目录。\n",
      "文件 v180_161.txt 已复制到测试集目录。\n",
      "文件 v170_039.txt 已复制到测试集目录。\n",
      "文件 v190_277.txt 已复制到测试集目录。\n",
      "文件 v170_041.txt 已复制到测试集目录。\n",
      "文件 v180_149.txt 已复制到测试集目录。\n",
      "文件 v180_164.txt 已复制到测试集目录。\n",
      "文件 v160_014.txt 已复制到测试集目录。\n",
      "文件 v190_225.txt 已复制到测试集目录。\n",
      "文件 v180_151.txt 已复制到测试集目录。\n",
      "文件 v180_137.txt 已复制到测试集目录。\n",
      "文件 v180_197_a.txt 已复制到测试集目录。\n",
      "文件 v190_233.txt 已复制到测试集目录。\n",
      "文件 v170_117.txt 已复制到测试集目录。\n",
      "文件 v170_064.txt 已复制到测试集目录。\n",
      "文件 v170_048.txt 已复制到测试集目录。\n",
      "文件 v180_189.txt 已复制到测试集目录。\n",
      "文件 v160_020.txt 已复制到测试集目录。\n",
      "文件 v180_182_b.txt 已复制到测试集目录。\n",
      "文件 v190_288.txt 已复制到测试集目录。\n",
      "文件 v190_206.txt 已复制到测试集目录。\n",
      "文件 v180_187.txt 已复制到测试集目录。\n",
      "文件 v160_013.txt 已复制到测试集目录。\n",
      "文件 v170_046.txt 已复制到测试集目录。\n",
      "文件 v190_212.txt 已复制到测试集目录。\n",
      "文件 v180_158.txt 已复制到测试集目录。\n",
      "文件 v180_128.txt 已复制到测试集目录。\n",
      "文件 v170_079.txt 已复制到测试集目录。\n",
      "文件 v170_068.txt 已复制到测试集目录。\n",
      "文件 v160_023.txt 已复制到测试集目录。\n",
      "文件 v190_244.txt 已复制到测试集目录。\n",
      "文件 v170_120.txt 已复制到测试集目录。\n",
      "文件 v180_186.txt 已复制到测试集目录。\n",
      "文件 v190_266.txt 已复制到测试集目录。\n",
      "文件 v190_264.txt 已复制到测试集目录。\n",
      "文件 v180_200.txt 已复制到测试集目录。\n",
      "文件 v180_145.txt 已复制到测试集目录。\n",
      "文件 v180_195.txt 已复制到测试集目录。\n",
      "文件 v190_205.txt 已复制到测试集目录。\n",
      "文件 v170_096.txt 已复制到测试集目录。\n",
      "文件 v170_045.txt 已复制到测试集目录。\n",
      "文件 v160_022.txt 已复制到测试集目录。\n",
      "文件 v170_103.txt 已复制到测试集目录。\n",
      "文件 v190_257.txt 已复制到测试集目录。\n",
      "文件 v190_285.txt 已复制到测试集目录。\n",
      "文件 v170_055.txt 已复制到测试集目录。\n",
      "文件 v170_057.txt 已复制到测试集目录。\n",
      "文件 v180_139.txt 已复制到测试集目录。\n",
      "文件 v190_289.txt 已复制到测试集目录。\n",
      "文件 v180_144.txt 已复制到测试集目录。\n",
      "文件 v160_003.txt 已复制到测试集目录。\n",
      "文件 v190_254.txt 已复制到测试集目录。\n",
      "从已处理的 306 个文件中随机选取了 61 个文件并复制到测试集目录。\n",
      "\n"
     ]
    }
   ],
   "source": [
    "test_files = select_files_for_testing(processed_dir, testset_dir, test_percentage=0.2)\n"
   ]
  }
 ],
 "metadata": {
  "kernelspec": {
   "display_name": "cusanus_py310",
   "language": "python",
   "name": "python3"
  },
  "language_info": {
   "codemirror_mode": {
    "name": "ipython",
    "version": 3
   },
   "file_extension": ".py",
   "mimetype": "text/x-python",
   "name": "python",
   "nbconvert_exporter": "python",
   "pygments_lexer": "ipython3",
   "version": "3.10.15"
  }
 },
 "nbformat": 4,
 "nbformat_minor": 2
}
