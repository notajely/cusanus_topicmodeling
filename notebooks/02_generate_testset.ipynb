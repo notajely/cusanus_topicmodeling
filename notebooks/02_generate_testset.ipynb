{
 "cells": [
  {
   "cell_type": "code",
   "execution_count": 1,
   "metadata": {},
   "outputs": [],
   "source": [
    "import os\n",
    "import json\n",
    "import random\n",
    "import logging"
   ]
  },
  {
   "cell_type": "code",
   "execution_count": 2,
   "metadata": {},
   "outputs": [],
   "source": [
    "# 假设 BASE_DIR 已经定义为项目的根目录\n",
    "BASE_DIR = '/Users/jessie/Documents/Projects/Cusanus_Topic_Modeling' "
   ]
  },
  {
   "cell_type": "code",
   "execution_count": 3,
   "metadata": {},
   "outputs": [],
   "source": [
    "# 配置日志\n",
    "logging.basicConfig(\n",
    "    filename='test_log.log',  # 日志文件名\n",
    "    level=logging.INFO,       # 日志级别\n",
    "    format='%(asctime)s - %(levelname)s - %(message)s',  # 日志格式\n",
    "    filemode='w'              # 使用 'w' 模式覆盖之前的日志记录\n",
    ")"
   ]
  },
  {
   "cell_type": "code",
   "execution_count": 4,
   "metadata": {},
   "outputs": [],
   "source": [
    "def select_documents_for_modeling(paragraphs_data_path, output_path, test_percentage=0.2):\n",
    "    # 加载段落数据\n",
    "    with open(paragraphs_data_path, 'r', encoding='utf-8') as json_file:\n",
    "        data = json.load(json_file)\n",
    "\n",
    "    # 获取所有文档\n",
    "    documents = data[\"documents\"]\n",
    "    total_documents = len(documents)\n",
    "\n",
    "    # 检查是否有文档\n",
    "    if total_documents == 0:\n",
    "        print(\"没有找到文档，请检查 paragraphs_data.json 文件。\")\n",
    "        logging.error(\"没有找到文档，建模无法进行。\")\n",
    "        return []\n",
    "\n",
    "    # 计算建模集的文档数量，确保不会超过总文档数\n",
    "    modeling_document_count = max(1, min(total_documents, int(total_documents * test_percentage)))  # 至少选取一个文档用于建模\n",
    "\n",
    "    # 随机选取建模文档\n",
    "    modeling_documents = random.sample(documents, modeling_document_count)\n",
    "\n",
    "    # 将选中的建模文档保存到新的 JSON 文件\n",
    "    with open(output_path, 'w', encoding='utf-8') as json_file:\n",
    "        json.dump({\"documents\": modeling_documents}, json_file, ensure_ascii=False, indent=4)\n",
    "\n",
    "    print(f\"从 {total_documents} 个文档中随机选取了 {modeling_document_count} 个文档并保存到 {output_path}。\")\n",
    "    logging.info(f\"从 {total_documents} 个文档中随机选取了 {modeling_document_count} 个文档并保存到 {output_path}。\")\n",
    "\n",
    "    return modeling_documents\n"
   ]
  },
  {
   "cell_type": "code",
   "execution_count": 5,
   "metadata": {},
   "outputs": [],
   "source": [
    "# 定义段落数据文件路径和输出路径\n",
    "paragraphs_data_path = os.path.join(BASE_DIR, 'paragraphs_data.json')\n",
    "output_path = os.path.join(BASE_DIR, 'data/testset_paragraphs_level.json')"
   ]
  },
  {
   "cell_type": "code",
   "execution_count": 6,
   "metadata": {},
   "outputs": [
    {
     "name": "stdout",
     "output_type": "stream",
     "text": [
      "从 306 个文档中随机选取了 61 个文档并保存到 /Users/jessie/Documents/Projects/Cusanus_Topic_Modeling/data/testset_paragraphs_level.json。\n"
     ]
    }
   ],
   "source": [
    "modeling_documents = select_documents_for_modeling(paragraphs_data_path, output_path, test_percentage=0.2)"
   ]
  }
 ],
 "metadata": {
  "kernelspec": {
   "display_name": "Python 3",
   "language": "python",
   "name": "python3"
  },
  "language_info": {
   "codemirror_mode": {
    "name": "ipython",
    "version": 3
   },
   "file_extension": ".py",
   "mimetype": "text/x-python",
   "name": "python",
   "nbconvert_exporter": "python",
   "pygments_lexer": "ipython3",
   "version": "3.10.15"
  }
 },
 "nbformat": 4,
 "nbformat_minor": 2
}
