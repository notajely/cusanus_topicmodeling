{
 "cells": [
  {
   "cell_type": "markdown",
   "metadata": {},
   "source": [
    "# 05_final_model_visualization.ipynb\n",
    "\n",
    "## Objective\n",
    "Visualize final LDA model topics:\n",
    "- Display key topics and relevant words.\n",
    "- Use pyLDAvis for topic interpretation.\n"
   ]
  }
 ],
 "metadata": {
  "language_info": {
   "name": "python"
  }
 },
 "nbformat": 4,
 "nbformat_minor": 2
}
