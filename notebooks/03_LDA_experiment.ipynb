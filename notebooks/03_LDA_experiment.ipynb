{
 "cells": [
  {
   "cell_type": "code",
   "execution_count": null,
   "metadata": {},
   "outputs": [],
   "source": [
    "import os\n",
    "import gensim\n",
    "from gensim import corpora\n",
    "import logging\n",
    "from tqdm import tqdm"
   ]
  },
  {
   "cell_type": "code",
   "execution_count": null,
   "metadata": {},
   "outputs": [],
   "source": [
    "# 确保工作目录正确\n",
    "os.chdir('/Users/jessie/Documents/Projects/Cusanus_Topic_Modeling')\n",
    "\n",
    "# Step 1: 设置日志记录\n",
    "log_dir = 'notebooks'\n",
    "if not os.path.exists(log_dir):\n",
    "    os.makedirs(log_dir)  # 如果 notebooks 目录不存在则创建\n",
    "\n",
    "log_path = os.path.join(log_dir, 'lda_testset_analysis.log')\n",
    "\n",
    "logging.basicConfig(\n",
    "    level=logging.INFO,\n",
    "    format=\"%(asctime)s - %(levelname)s - %(message)s\",\n",
    "    handlers=[\n",
    "        logging.FileHandler(log_path),  # 将日志保存到 notebooks 文件夹中\n",
    "        logging.StreamHandler()\n",
    "    ]\n",
    ")\n",
    "\n",
    "logging.info(\"启动 LDA 主题建模分析（基线模型）\")"
   ]
  },
  {
   "cell_type": "code",
   "execution_count": null,
   "metadata": {},
   "outputs": [],
   "source": [
    "testset_dir = 'data/testset'\n",
    "testset_files = [os.path.join(testset_dir, f) for f in os.listdir(testset_dir) if f.endswith('.txt')]\n",
    "documents = []"
   ]
  },
  {
   "cell_type": "code",
   "execution_count": null,
   "metadata": {},
   "outputs": [],
   "source": [
    "# 读取每个测试集文档内容\n",
    "for file_path in tqdm(testset_files, desc=\"加载测试集文档\"):\n",
    "    with open(file_path, 'r', encoding='utf-8') as f:\n",
    "        content = f.read().split()  # 直接读取单词列表\n",
    "        documents.append(content)\n",
    "\n",
    "logging.info(f\"从测试集加载了 {len(documents)} 个文档\")"
   ]
  },
  {
   "cell_type": "code",
   "execution_count": null,
   "metadata": {},
   "outputs": [],
   "source": [
    "# Step 4: 创建字典和语料库（用于 LDA）\n",
    "dictionary = corpora.Dictionary(documents)\n",
    "corpus = [dictionary.doc2bow(text) for text in documents]\n",
    "\n",
    "logging.info(\"创建了 LDA 所需的词典和语料库\")"
   ]
  },
  {
   "cell_type": "code",
   "execution_count": null,
   "metadata": {},
   "outputs": [],
   "source": [
    "# Step 5: 训练 LDA 模型\n",
    "num_topics = 10  # 设置要生成的主题数\n",
    "lda_model = gensim.models.LdaModel(corpus=corpus, id2word=dictionary, num_topics=num_topics, random_state=42, passes=10)\n",
    "\n",
    "logging.info(\"LDA 模型训练完成\")"
   ]
  },
  {
   "cell_type": "code",
   "execution_count": null,
   "metadata": {},
   "outputs": [],
   "source": [
    "# Step 6: 显示 LDA 生成的主题\n",
    "print(\"LDA 模型生成的主题：\")\n",
    "for idx, topic in lda_model.print_topics(num_topics=num_topics, num_words=10):\n",
    "    print(f\"Topic {idx}: {topic}\")\n",
    "    logging.info(f\"Topic {idx}: {topic}\")"
   ]
  },
  {
   "cell_type": "code",
   "execution_count": null,
   "metadata": {},
   "outputs": [],
   "source": [
    "# Step 7: 对每个文档进行主题分配\n",
    "print(\"\\n文档的主题分配：\")\n",
    "for i, doc in enumerate(corpus):\n",
    "    doc_topics = lda_model.get_document_topics(doc)\n",
    "    print(f\"文档 {os.path.basename(testset_files[i])}：\")\n",
    "    logging.info(f\"文档 {os.path.basename(testset_files[i])}：\")\n",
    "    for topic_id, prob in doc_topics:\n",
    "        print(f\"  主题 {topic_id}：概率 = {prob:.2f}\")\n",
    "        logging.info(f\"  主题 {topic_id}：概率 = {prob:.2f}\")"
   ]
  },
  {
   "cell_type": "code",
   "execution_count": null,
   "metadata": {},
   "outputs": [],
   "source": [
    "# Step 8: 段落级别的主题分配（可选的详细分析）\n",
    "print(\"\\n段落级别的主题分配：\")\n",
    "logging.info(\"开始进行段落级别的主题分配\")\n",
    "\n",
    "for file_path in tqdm(testset_files, desc=\"对段落进行主题分配\"):\n",
    "    with open(file_path, 'r', encoding='utf-8') as f:\n",
    "        paragraphs = f.read().split('\\n\\n')  # 假设段落以双换行符分隔\n",
    "\n",
    "    print(f\"\\n文档：{os.path.basename(file_path)}\")\n",
    "    logging.info(f\"\\n文档：{os.path.basename(file_path)}\")\n",
    "    for j, paragraph in enumerate(paragraphs):\n",
    "        tokens = paragraph.split()  # 使用空格拆分段落中的单词（已经预处理）\n",
    "        paragraph_bow = dictionary.doc2bow(tokens)\n",
    "        paragraph_topics = lda_model.get_document_topics(paragraph_bow)\n",
    "\n",
    "        print(f\"  段落 {j + 1}：\")\n",
    "        logging.info(f\"  段落 {j + 1}：\")\n",
    "        for topic_id, prob in paragraph_topics:\n",
    "            print(f\"    主题 {topic_id}：概率 = {prob:.2f}\")\n",
    "            logging.info(f\"    主题 {topic_id}：概率 = {prob:.2f}\")\n",
    "\n",
    "logging.info(\"LDA 主题建模和段落分析完成\")"
   ]
  },
  {
   "cell_type": "code",
   "execution_count": 10,
   "metadata": {},
   "outputs": [
    {
     "name": "stderr",
     "output_type": "stream",
     "text": [
      "2024-11-06 22:22:10,264 - INFO - NumExpr defaulting to 8 threads.\n",
      "2024-11-06 22:22:18,271 - WARNING - Matplotlib is building the font cache; this may take a moment.\n",
      "2024-11-06 22:22:30,069 - INFO - Failed to extract font properties from /System/Library/Fonts/Supplemental/NISC18030.ttf: In FT2Font: Could not set the fontsize (invalid pixel size; error code 0x17)\n",
      "2024-11-06 22:22:30,075 - INFO - Failed to extract font properties from /System/Library/PrivateFrameworks/FontServices.framework/Resources/Reserved/PingFangUI.ttc: In FT2Font: Can not load face (locations (loca) table missing; error code 0x90)\n",
      "2024-11-06 22:22:30,254 - INFO - Failed to extract font properties from /System/Library/Fonts/Apple Color Emoji.ttc: In FT2Font: Could not set the fontsize (invalid pixel size; error code 0x17)\n",
      "2024-11-06 22:22:30,256 - INFO - Failed to extract font properties from /System/Library/Fonts/LastResort.otf: tuple indices must be integers or slices, not str\n",
      "2024-11-06 22:22:30,348 - INFO - generated new fontManager\n",
      "2024-11-06 22:22:30,643 - INFO - 正在生成 pyLDAvis 交互式可视化...\n",
      "2024-11-06 22:22:33,817 - INFO - pyLDAvis 可视化已生成并保存至: notebooks/lda_visualization.html\n",
      "2024-11-06 22:22:33,818 - INFO - 可以通过浏览器查看该文件，进行交互式的主题探索\n",
      "2024-11-06 22:22:33,818 - INFO - 开始保存文档的主题分配情况...\n",
      "2024-11-06 22:22:33,981 - INFO - 文档的主题分配情况已保存至: notebooks/document_topic_distributions.csv\n",
      "2024-11-06 22:22:33,982 - INFO - 开始对文档的主题分配进行可视化展示\n"
     ]
    },
    {
     "name": "stdout",
     "output_type": "stream",
     "text": [
      "\n",
      "pyLDAvis 可视化已保存到: notebooks/lda_visualization.html\n",
      "\n",
      "文档的主题分配情况已保存到: notebooks/document_topic_distributions.csv\n"
     ]
    },
    {
     "name": "stderr",
     "output_type": "stream",
     "text": [
      "/var/folders/jj/84v_jpsx4rj3__y62xh3klxm0000gn/T/ipykernel_35013/3509021598.py:52: UserWarning: Glyph 20027 (\\N{CJK UNIFIED IDEOGRAPH-4E3B}) missing from font(s) DejaVu Sans.\n",
      "  plt.tight_layout()\n",
      "/var/folders/jj/84v_jpsx4rj3__y62xh3klxm0000gn/T/ipykernel_35013/3509021598.py:52: UserWarning: Glyph 39064 (\\N{CJK UNIFIED IDEOGRAPH-9898}) missing from font(s) DejaVu Sans.\n",
      "  plt.tight_layout()\n",
      "/var/folders/jj/84v_jpsx4rj3__y62xh3klxm0000gn/T/ipykernel_35013/3509021598.py:52: UserWarning: Glyph 27010 (\\N{CJK UNIFIED IDEOGRAPH-6982}) missing from font(s) DejaVu Sans.\n",
      "  plt.tight_layout()\n",
      "/var/folders/jj/84v_jpsx4rj3__y62xh3klxm0000gn/T/ipykernel_35013/3509021598.py:52: UserWarning: Glyph 29575 (\\N{CJK UNIFIED IDEOGRAPH-7387}) missing from font(s) DejaVu Sans.\n",
      "  plt.tight_layout()\n",
      "/var/folders/jj/84v_jpsx4rj3__y62xh3klxm0000gn/T/ipykernel_35013/3509021598.py:52: UserWarning: Glyph 21069 (\\N{CJK UNIFIED IDEOGRAPH-524D}) missing from font(s) DejaVu Sans.\n",
      "  plt.tight_layout()\n",
      "/var/folders/jj/84v_jpsx4rj3__y62xh3klxm0000gn/T/ipykernel_35013/3509021598.py:52: UserWarning: Glyph 20010 (\\N{CJK UNIFIED IDEOGRAPH-4E2A}) missing from font(s) DejaVu Sans.\n",
      "  plt.tight_layout()\n",
      "/var/folders/jj/84v_jpsx4rj3__y62xh3klxm0000gn/T/ipykernel_35013/3509021598.py:52: UserWarning: Glyph 25991 (\\N{CJK UNIFIED IDEOGRAPH-6587}) missing from font(s) DejaVu Sans.\n",
      "  plt.tight_layout()\n",
      "/var/folders/jj/84v_jpsx4rj3__y62xh3klxm0000gn/T/ipykernel_35013/3509021598.py:52: UserWarning: Glyph 26723 (\\N{CJK UNIFIED IDEOGRAPH-6863}) missing from font(s) DejaVu Sans.\n",
      "  plt.tight_layout()\n",
      "/var/folders/jj/84v_jpsx4rj3__y62xh3klxm0000gn/T/ipykernel_35013/3509021598.py:52: UserWarning: Glyph 30340 (\\N{CJK UNIFIED IDEOGRAPH-7684}) missing from font(s) DejaVu Sans.\n",
      "  plt.tight_layout()\n",
      "/var/folders/jj/84v_jpsx4rj3__y62xh3klxm0000gn/T/ipykernel_35013/3509021598.py:52: UserWarning: Glyph 20998 (\\N{CJK UNIFIED IDEOGRAPH-5206}) missing from font(s) DejaVu Sans.\n",
      "  plt.tight_layout()\n",
      "/var/folders/jj/84v_jpsx4rj3__y62xh3klxm0000gn/T/ipykernel_35013/3509021598.py:52: UserWarning: Glyph 37197 (\\N{CJK UNIFIED IDEOGRAPH-914D}) missing from font(s) DejaVu Sans.\n",
      "  plt.tight_layout()\n",
      "/var/folders/jj/84v_jpsx4rj3__y62xh3klxm0000gn/T/ipykernel_35013/3509021598.py:52: UserWarning: Glyph 24773 (\\N{CJK UNIFIED IDEOGRAPH-60C5}) missing from font(s) DejaVu Sans.\n",
      "  plt.tight_layout()\n",
      "/var/folders/jj/84v_jpsx4rj3__y62xh3klxm0000gn/T/ipykernel_35013/3509021598.py:52: UserWarning: Glyph 20917 (\\N{CJK UNIFIED IDEOGRAPH-51B5}) missing from font(s) DejaVu Sans.\n",
      "  plt.tight_layout()\n",
      "/Users/jessie/Documents/Projects/Cusanus_Topic_Modeling/.venv/lib/python3.10/site-packages/IPython/core/pylabtools.py:170: UserWarning: Glyph 27010 (\\N{CJK UNIFIED IDEOGRAPH-6982}) missing from font(s) DejaVu Sans.\n",
      "  fig.canvas.print_figure(bytes_io, **kw)\n",
      "/Users/jessie/Documents/Projects/Cusanus_Topic_Modeling/.venv/lib/python3.10/site-packages/IPython/core/pylabtools.py:170: UserWarning: Glyph 29575 (\\N{CJK UNIFIED IDEOGRAPH-7387}) missing from font(s) DejaVu Sans.\n",
      "  fig.canvas.print_figure(bytes_io, **kw)\n",
      "/Users/jessie/Documents/Projects/Cusanus_Topic_Modeling/.venv/lib/python3.10/site-packages/IPython/core/pylabtools.py:170: UserWarning: Glyph 21069 (\\N{CJK UNIFIED IDEOGRAPH-524D}) missing from font(s) DejaVu Sans.\n",
      "  fig.canvas.print_figure(bytes_io, **kw)\n",
      "/Users/jessie/Documents/Projects/Cusanus_Topic_Modeling/.venv/lib/python3.10/site-packages/IPython/core/pylabtools.py:170: UserWarning: Glyph 20010 (\\N{CJK UNIFIED IDEOGRAPH-4E2A}) missing from font(s) DejaVu Sans.\n",
      "  fig.canvas.print_figure(bytes_io, **kw)\n",
      "/Users/jessie/Documents/Projects/Cusanus_Topic_Modeling/.venv/lib/python3.10/site-packages/IPython/core/pylabtools.py:170: UserWarning: Glyph 25991 (\\N{CJK UNIFIED IDEOGRAPH-6587}) missing from font(s) DejaVu Sans.\n",
      "  fig.canvas.print_figure(bytes_io, **kw)\n",
      "/Users/jessie/Documents/Projects/Cusanus_Topic_Modeling/.venv/lib/python3.10/site-packages/IPython/core/pylabtools.py:170: UserWarning: Glyph 26723 (\\N{CJK UNIFIED IDEOGRAPH-6863}) missing from font(s) DejaVu Sans.\n",
      "  fig.canvas.print_figure(bytes_io, **kw)\n",
      "/Users/jessie/Documents/Projects/Cusanus_Topic_Modeling/.venv/lib/python3.10/site-packages/IPython/core/pylabtools.py:170: UserWarning: Glyph 30340 (\\N{CJK UNIFIED IDEOGRAPH-7684}) missing from font(s) DejaVu Sans.\n",
      "  fig.canvas.print_figure(bytes_io, **kw)\n",
      "/Users/jessie/Documents/Projects/Cusanus_Topic_Modeling/.venv/lib/python3.10/site-packages/IPython/core/pylabtools.py:170: UserWarning: Glyph 20027 (\\N{CJK UNIFIED IDEOGRAPH-4E3B}) missing from font(s) DejaVu Sans.\n",
      "  fig.canvas.print_figure(bytes_io, **kw)\n",
      "/Users/jessie/Documents/Projects/Cusanus_Topic_Modeling/.venv/lib/python3.10/site-packages/IPython/core/pylabtools.py:170: UserWarning: Glyph 39064 (\\N{CJK UNIFIED IDEOGRAPH-9898}) missing from font(s) DejaVu Sans.\n",
      "  fig.canvas.print_figure(bytes_io, **kw)\n",
      "/Users/jessie/Documents/Projects/Cusanus_Topic_Modeling/.venv/lib/python3.10/site-packages/IPython/core/pylabtools.py:170: UserWarning: Glyph 20998 (\\N{CJK UNIFIED IDEOGRAPH-5206}) missing from font(s) DejaVu Sans.\n",
      "  fig.canvas.print_figure(bytes_io, **kw)\n",
      "/Users/jessie/Documents/Projects/Cusanus_Topic_Modeling/.venv/lib/python3.10/site-packages/IPython/core/pylabtools.py:170: UserWarning: Glyph 37197 (\\N{CJK UNIFIED IDEOGRAPH-914D}) missing from font(s) DejaVu Sans.\n",
      "  fig.canvas.print_figure(bytes_io, **kw)\n",
      "/Users/jessie/Documents/Projects/Cusanus_Topic_Modeling/.venv/lib/python3.10/site-packages/IPython/core/pylabtools.py:170: UserWarning: Glyph 24773 (\\N{CJK UNIFIED IDEOGRAPH-60C5}) missing from font(s) DejaVu Sans.\n",
      "  fig.canvas.print_figure(bytes_io, **kw)\n",
      "/Users/jessie/Documents/Projects/Cusanus_Topic_Modeling/.venv/lib/python3.10/site-packages/IPython/core/pylabtools.py:170: UserWarning: Glyph 20917 (\\N{CJK UNIFIED IDEOGRAPH-51B5}) missing from font(s) DejaVu Sans.\n",
      "  fig.canvas.print_figure(bytes_io, **kw)\n"
     ]
    },
    {
     "data": {
      "image/png": "[encoded data removed]",
      "text/plain": [
       "<Figure size 1200x800 with 1 Axes>"
      ]
     },
     "metadata": {},
     "output_type": "display_data"
    },
    {
     "name": "stderr",
     "output_type": "stream",
     "text": [
      "2024-11-06 22:22:34,458 - INFO - 主题分配的可视化展示完成\n",
      "2024-11-06 22:22:34,458 - INFO - LDA 模型的所有步骤已完成，生成了多个输出结果包括主题建模日志、主题分配 CSV 文件和交互式 HTML 报告\n"
     ]
    }
   ],
   "source": [
    "import pyLDAvis\n",
    "import pyLDAvis.gensim_models as gensimvis\n",
    "import matplotlib.pyplot as plt\n",
    "import pandas as pd\n",
    "\n",
    "# Step 8: 使用 pyLDAvis 进行交互式可视化\n",
    "logging.info(\"正在生成 pyLDAvis 交互式可视化...\")\n",
    "\n",
    "lda_visualization = gensimvis.prepare(lda_model, corpus, dictionary)\n",
    "pyldavis_path = os.path.join(log_dir, 'lda_visualization.html')\n",
    "pyLDAvis.save_html(lda_visualization, pyldavis_path)\n",
    "\n",
    "logging.info(f\"pyLDAvis 可视化已生成并保存至: {pyldavis_path}\")\n",
    "print(f\"\\npyLDAvis 可视化已保存到: {pyldavis_path}\")\n",
    "logging.info(\"可以通过浏览器查看该文件，进行交互式的主题探索\")\n",
    "\n",
    "# Step 9: 将文档的主题分配情况保存为 CSV 文件\n",
    "logging.info(\"开始保存文档的主题分配情况...\")\n",
    "\n",
    "doc_topic_distributions = []\n",
    "\n",
    "for i, doc in enumerate(corpus):\n",
    "    doc_topics = lda_model.get_document_topics(doc)\n",
    "    for topic_id, prob in doc_topics:\n",
    "        doc_topic_distributions.append({\n",
    "            \"Document\": os.path.basename(testset_files[i]),\n",
    "            \"Topic\": topic_id,\n",
    "            \"Probability\": prob\n",
    "        })\n",
    "\n",
    "# 保存为 CSV 文件\n",
    "topic_distributions_df = pd.DataFrame(doc_topic_distributions)\n",
    "csv_output_path = os.path.join(log_dir, 'document_topic_distributions.csv')\n",
    "topic_distributions_df.to_csv(csv_output_path, index=False)\n",
    "\n",
    "logging.info(f\"文档的主题分配情况已保存至: {csv_output_path}\")\n",
    "print(f\"\\n文档的主题分配情况已保存到: {csv_output_path}\")\n",
    "\n",
    "# Step 10: 使用 matplotlib 对前几个文档的主题分配进行可视化\n",
    "logging.info(\"开始对文档的主题分配进行可视化展示\")\n",
    "\n",
    "plt.figure(figsize=(12, 8))\n",
    "for i, doc in enumerate(corpus[:5]):  # 可视化前 5 个文档\n",
    "    doc_topics = lda_model.get_document_topics(doc)\n",
    "    topics, probs = zip(*doc_topics)\n",
    "    plt.bar(topics, probs, alpha=0.6, label=f'文档 {os.path.basename(testset_files[i])}')\n",
    "\n",
    "plt.xlabel(\"主题 ID\")\n",
    "plt.ylabel(\"概率\")\n",
    "plt.title(\"前 5 个文档的主题分配情况\")\n",
    "plt.legend()\n",
    "plt.tight_layout()\n",
    "plt.show()\n",
    "\n",
    "logging.info(\"主题分配的可视化展示完成\")\n",
    "\n",
    "# Summary Log Message\n",
    "logging.info(\"LDA 模型的所有步骤已完成，生成了多个输出结果包括主题建模日志、主题分配 CSV 文件和交互式 HTML 报告\")\n"
   ]
  }
 ],
 "metadata": {
  "kernelspec": {
   "display_name": ".venv",
   "language": "python",
   "name": "python3"
  },
  "language_info": {
   "codemirror_mode": {
    "name": "ipython",
    "version": 3
   },
   "file_extension": ".py",
   "mimetype": "text/x-python",
   "name": "python",
   "nbconvert_exporter": "python",
   "pygments_lexer": "ipython3",
   "version": "3.10.15"
  }
 },
 "nbformat": 4,
 "nbformat_minor": 2
}
