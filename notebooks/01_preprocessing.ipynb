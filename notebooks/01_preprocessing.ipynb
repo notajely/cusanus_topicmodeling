{
 "cells": [
  {
   "cell_type": "markdown",
   "metadata": {},
   "source": [
    "# 01_preprocessing.ipynb\n",
    "\n",
    "## Objective\n",
    "Preprocess Cusanus' sermons, including:\n",
    "- Loading raw XML files.\n",
    "- Cleaning and extracting relevant text using BeautifulSoup.\n",
    "- Saving cleaned text for analysis.\n"
   ]
  },
  {
   "cell_type": "code",
   "execution_count": null,
   "metadata": {},
   "outputs": [],
   "source": [
    "import os\n",
    "from bs4 import BeautifulSoup"
   ]
  },
  {
   "cell_type": "code",
   "execution_count": null,
   "metadata": {},
   "outputs": [],
   "source": [
    "# Define input and output directories\n",
    "current_dir = os.path.dirname(os.path.abspath(__file__))\n",
    "xml_folder = os.path.join(current_dir, '../data/Sermones_XML')\n",
    "output_folder = os.path.join(current_dir, '../data/Preprocessed')\n",
    "\n",
    "# Create output directory if it doesn't exist\n",
    "if not os.path.exists(output_folder):\n",
    "    os.makedirs(output_folder)"
   ]
  },
  {
   "cell_type": "code",
   "execution_count": null,
   "metadata": {},
   "outputs": [],
   "source": [
    "# Function to preprocess a single XML file\n",
    "def preprocess_tei_data(file_path):\n",
    "    # Read and parse the XML file\n",
    "    with open(file_path, 'r', encoding='utf-8') as file:\n",
    "        content = file.read()\n",
    "    soup = BeautifulSoup(content, 'lxml-xml')\n",
    "    \n",
    "    # Extract body content\n",
    "    body_tag = soup.find('body')\n",
    "    sermon_text = body_tag.get_text() if body_tag else 'No Content Found'\n",
    "    \n",
    "    # Clean up the text by removing extra spaces\n",
    "    cleaned_text = ' '.join(sermon_text.split())\n",
    "    \n",
    "    return cleaned_text"
   ]
  },
  {
   "cell_type": "code",
   "execution_count": null,
   "metadata": {},
   "outputs": [],
   "source": [
    "# Process all XML files\n",
    "for filename in os.listdir(xml_folder):\n",
    "    if filename.endswith('.xml'):\n",
    "        file_path = os.path.join(xml_folder, filename)\n",
    "        processed_sermon = preprocess_tei_data(file_path)\n",
    "        \n",
    "        # Save the processed text to the output folder\n",
    "        output_file_path = os.path.join(output_folder, f\"{os.path.splitext(filename)[0]}_processed.txt\")\n",
    "        with open(output_file_path, 'w', encoding='utf-8') as output_file:\n",
    "            output_file.write(processed_sermon)\n",
    "\n",
    "print(\"All files have been successfully preprocessed and saved.\")"
   ]
  }
 ],
 "metadata": {
  "kernelspec": {
   "display_name": ".venv",
   "language": "python",
   "name": "python3"
  },
  "language_info": {
   "name": "python",
   "version": "3.12.0"
  }
 },
 "nbformat": 4,
 "nbformat_minor": 2
}
