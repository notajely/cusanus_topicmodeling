{
 "cells": [
  {
   "cell_type": "markdown",
   "metadata": {},
   "source": [
    "# 01_preprocessing.ipynb\n",
    "\n",
    "## Objective\n",
    "\n",
    "Preprocess Cusanus' sermons for topic modeling:\n",
    "\n",
    "- Load and parse TEI XML files.\n",
    "- Clean, normalize, and lemmatize text.\n",
    "- Save cleaned text for further analysis.\n"
   ]
  },
  {
   "cell_type": "code",
   "execution_count": 1,
   "metadata": {},
   "outputs": [],
   "source": [
    "import os\n",
    "from bs4 import BeautifulSoup\n",
    "import tqdm\n",
    "from collections import defaultdict\n",
    "import yaml"
   ]
  },
  {
   "cell_type": "code",
   "execution_count": 2,
   "metadata": {},
   "outputs": [
    {
     "name": "stdout",
     "output_type": "stream",
     "text": [
      "当前工作目录为:  /Users/jessie/Documents/Projects/Cusanus_Topic_Modeling\n"
     ]
    }
   ],
   "source": [
    "# 更改工作目录到项目根目录\n",
    "os.chdir('/Users/jessie/Documents/Projects/Cusanus_Topic_Modeling')\n",
    "print(\"当前工作目录为: \", os.getcwd())\n"
   ]
  },
  {
   "cell_type": "code",
   "execution_count": 3,
   "metadata": {},
   "outputs": [
    {
     "name": "stdout",
     "output_type": "stream",
     "text": [
      "配置文件加载成功，项目根目录为:  /Users/jessie/Documents/Projects/Cusanus_Topic_Modeling\n",
      "输入目录: /Users/jessie/Documents/Projects/Cusanus_Topic_Modeling/data/raw\n",
      "输出目录: /Users/jessie/Documents/Projects/Cusanus_Topic_Modeling/data/processed\n",
      "输入目录中的文件:  ['v170_048.xml', 'v170_060.xml', 'v170_074.xml', 'h180_134.xml', 'v180_135.xml', 'h170_075.xml', 'h170_061.xml', 'h170_049.xml', 'h190_281.xml', 'v160_024_1.xml', 'h190_256.xml', 'h170_101.xml', 'h170_115.xml', 'h190_242.xml', 'v190_243.xml', 'v170_114.xml', 'v170_100.xml', 'v190_257.xml', 'v190_280.xml', 'v190_281.xml', 'v190_256.xml', 'v170_101.xml', 'v170_115.xml', 'v190_242.xml', 'h190_243.xml', 'h170_114.xml', 'h170_100.xml', 'h190_257.xml', 'h190_280.xml', 'h170_048.xml', 'h170_060.xml', 'h170_074.xml', 'v180_134.xml', 'h180_135.xml', 'v170_075.xml', 'v170_061.xml', 'v170_049.xml', 'v170_077.xml', 'v170_063.xml', 'h180_123.xml', 'v170_088.xml', 'h180_137.xml', 'v180_136.xml', 'v180_122.xml', 'h170_089.xml', 'h170_062.xml', 'h170_076.xml', 'h190_282.xml', 'v160_024_2.xml', 'h170_116.xml', 'h190_241.xml', 'h190_255.xml', 'h170_102.xml', 'h190_269.xml', 'v190_268.xml', 'v170_103.xml', 'v190_254.xml', 'v190_240.xml', 'v170_117.xml', 'v190_283.xml', 'v190_282.xml', 'v170_116.xml', 'v190_241.xml', 'v190_255.xml', 'v170_102.xml', 'v190_269.xml', 'h190_268.xml', 'h170_103.xml', 'h190_254.xml', 'h190_240.xml', 'h170_117.xml', 'h510_epalb.xml', 'h190_283.xml', 'h170_077.xml', 'h170_063.xml', 'v180_123.xml', 'h170_088.xml', 'v180_137.xml', 'h180_136.xml', 'h180_122.xml', 'v170_089.xml', 'v170_062.xml', 'v170_076.xml', 'v170_072.xml', 'v170_066.xml', 'h180_126.xml', 'h180_132.xml', 'v170_099.xml', 'v180_133.xml', 'h170_098.xml', 'v180_127.xml', 'h170_067.xml', 'h170_073.xml', 'h190_287.xml', 'h190_293.xml', 'h190_278.xml', 'h170_113.xml', 'h190_244.xml', 'h190_250.xml', 'h170_107.xml', 'v170_106.xml', 'v190_251.xml', 'v190_245.xml', 'v170_112.xml', 'v190_279.xml', 'v190_292.xml', 'v190_286.xml', 'v190_287.xml', 'v190_293.xml', 'v190_278.xml', 'h160_024_2.xml', 'v170_113.xml', 'v190_244.xml', 'v190_250.xml', 'v170_107.xml', 'h170_106.xml', 'h190_251.xml', 'h190_245.xml', 'h170_112.xml', 'h190_279.xml', 'h190_292.xml', 'h190_286.xml', 'h170_072.xml', 'h170_066.xml', 'v180_126.xml', 'v180_132.xml', 'h170_099.xml', 'h180_133.xml', 'v170_098.xml', 'h180_127.xml', 'v170_067.xml', 'v170_073.xml', 'v170_065.xml', 'v170_071.xml', 'v170_059.xml', 'h180_131.xml', 'h180_125.xml', 'v180_124.xml', 'v180_130.xml', 'h170_058.xml', 'h170_070.xml', 'h170_064.xml', 'h190_290.xml', 'h190_284.xml', 'h190_253.xml', 'h170_104.xml', 'h170_110.xml', 'h190_247.xml', 'v190_246.xml', 'v170_111.xml', 'v170_105.xml', 'v190_252.xml', 'v190_285.xml', 'v190_291.xml', 'v190_290.xml', 'v190_284.xml', 'h160_024_1.xml', 'v190_253.xml', 'v170_104.xml', 'v170_110.xml', 'v190_247.xml', 'h190_246.xml', 'h170_111.xml', 'h170_105.xml', 'h190_252.xml', 'h190_285.xml', 'h190_291.xml', 'h170_065.xml', 'h170_071.xml', 'h170_059.xml', 'v180_131.xml', 'v180_125.xml', 'h180_124.xml', 'h180_130.xml', 'v170_058.xml', 'v170_070.xml', 'v170_064.xml', 'v170_037_b.xml', 'h180_194.xml', 'h180_180.xml', 'v160_017.xml', 'v160_003.xml', 'h180_157.xml', 'h180_195_a.xml', 'h180_143.xml', 'v180_142.xml', 'v180_156.xml', 'h160_002.xml', 'h160_016.xml', 'v180_181.xml', 'v180_195.xml', 'h190_235.xml', 'h190_221.xml', 'h190_209.xml', 'v190_208.xml', 'v190_220.xml', 'v190_234.xml', 'v190_235.xml', 'v190_221.xml', 'v190_209.xml', 'h190_208.xml', 'h190_220.xml', 'h190_234.xml', 'v180_194.xml', 'v180_180.xml', 'h160_017.xml', 'h180_197_b.xml', 'h160_003.xml', 'v180_157.xml', 'v180_143.xml', 'h180_142.xml', 'h180_156.xml', 'v160_002.xml', 'v160_016.xml', 'h180_181.xml', 'v170_037_c.xml', 'h180_195.xml', 'v170_028.xml', 'h180_183.xml', 'h180_197.xml', 'v170_037_a.xml', 'v160_014.xml', 'h180_195_b.xml', 'h180_140.xml', 'h180_154.xml', 'h180_168.xml', 'v180_169.xml', 'v180_155.xml', 'v180_141.xml', 'h160_015.xml', 'h160_001.xml', 'v180_196.xml', 'h170_029.xml', 'v180_182.xml', 'h190_222.xml', 'h190_236.xml', 'v190_237.xml', 'v190_223.xml', 'v190_222.xml', 'v190_236.xml', '.gitkeep', 'h190_237.xml', 'h190_223.xml', 'h170_028.xml', 'v180_183.xml', 'v180_197.xml', 'h160_014.xml', 'h180_197_a.xml', 'v180_140.xml', 'v180_154.xml', 'v180_168.xml', 'h180_169.xml', 'h180_155.xml', 'h180_141.xml', 'v160_015.xml', 'v160_001.xml', 'h180_196.xml', 'v170_029.xml', 'h180_182.xml', 'v160_005.xml', 'v160_011.xml', 'h180_186.xml', 'v170_039.xml', 'h180_192.xml', 'h180_179.xml', 'v180_197_a.xml', 'h180_145.xml', 'h180_151.xml', 'v180_150.xml', 'v180_144.xml', 'v180_178.xml', 'h170_038.xml', 'v180_193.xml', 'v180_187.xml', 'h160_010.xml', 'h160_004.xml', 'h190_227.xml', 'h190_233.xml', 'v190_232.xml', 'v190_226.xml', 'v190_227.xml', 'v190_233.xml', 'h190_232.xml', 'h190_226.xml', 'h160_005.xml', 'h160_011.xml', 'v180_186.xml', 'h170_039.xml', 'v180_195_b.xml', 'v180_192.xml', 'v180_179.xml', 'h170_037_a.xml', 'v180_145.xml', 'v180_151.xml', 'h180_150.xml', 'h180_144.xml', 'h180_178.xml', 'v170_038.xml', 'h180_193.xml', 'h180_187.xml', 'v160_010.xml', 'v160_004.xml', 'v160_012.xml', 'v160_006.xml', 'h180_191.xml', 'h180_185.xml', 'v180_197_b.xml', 'h180_152.xml', 'h180_146.xml', 'v180_147.xml', 'h170_037_c.xml', 'v180_153.xml', 'v180_184.xml', 'v180_190.xml', 'h160_007.xml', 'h160_013.xml', 'h190_218.xml', 'h190_230.xml', 'h190_224.xml', 'v190_225.xml', 'v190_231.xml', 'v190_219.xml', 'v190_218.xml', 'v190_230.xml', 'v190_224.xml', 'h190_225.xml', 'h190_231.xml', 'h190_219.xml', 'h160_012.xml', 'h160_006.xml', 'v180_191.xml', 'v180_195_a.xml', 'v180_185.xml', 'v180_152.xml', 'h170_037_b.xml', 'v180_146.xml', 'h180_147.xml', 'h180_153.xml', 'h180_184.xml', 'h180_190.xml', 'v160_007.xml', 'v160_013.xml', 'h180_189.xml', 'v160_022.xml', 'v170_036.xml', 'h180_176.xml', 'h180_162.xml', 'v180_163.xml', 'v180_177.xml', 'h160_023.xml', 'h170_037.xml', 'v180_188.xml', 'h180_200.xml', 'h190_214.xml', 'h190_228.xml', 'v190_229.xml', 'v180_201.xml', 'v190_215.xml', 'v180_182_b.xml', 'v180_200.xml', 'v190_214.xml', 'v190_228.xml', 'h190_229.xml', 'h180_201.xml', 'h190_215.xml', 'v180_189.xml', 'h160_022.xml', 'h170_036.xml', 'v180_176.xml', 'v180_162.xml', 'h180_163.xml', 'h180_177.xml', 'v160_023.xml', 'v170_037.xml', 'h180_188.xml', 'v160_009.xml', 'v170_035.xml', 'v160_021.xml', 'h180_161.xml', 'h180_175.xml', 'h180_149.xml', 'v180_148.xml', 'v180_174.xml', 'v180_160.xml', 'h170_034.xml', 'h160_020.xml', 'h160_008.xml', 'h190_217.xml', 'h180_203.xml', 'h500_ck.xml', 'v190_216.xml', 'v180_202.xml', 'v180_182_a.xml', 'v190_217.xml', 'v180_203.xml', 'h190_216.xml', 'h180_202.xml', 'h160_009.xml', 'h170_035.xml', 'h160_021.xml', 'v180_161.xml', 'v180_175.xml', 'v180_149.xml', 'h180_148.xml', 'h180_174.xml', 'h180_160.xml', 'v170_034.xml', 'v160_020.xml', 'v160_008.xml', 'v160_024.xml', 'v170_030.xml', 'v160_018.xml', 'h180_158.xml', 'h180_164.xml', 'h180_170.xml', 'v180_171.xml', 'v180_165.xml', 'v180_159.xml', 'h160_019.xml', 'h160_025.xml', 'h170_031.xml', 'h190_206.xml', 'h190_212.xml', 'v190_213.xml', 'v190_207.xml', 'v190_206.xml', 'v190_212.xml', 'h190_213.xml', 'h190_207.xml', 'h180_182_a.xml', 'h160_024.xml', 'h170_030.xml', 'h160_018.xml', 'v180_158.xml', 'v180_164.xml', 'v180_170.xml', 'h180_171.xml', 'h180_165.xml', 'h180_159.xml', 'v160_019.xml', 'v160_025.xml', 'v170_031.xml', 'v170_027.xml', 'v170_033.xml', 'h180_198.xml', 'h180_173.xml', 'h180_167.xml', 'v180_166.xml', 'v180_172.xml', 'h170_032.xml', 'v180_199.xml', 'h160_026.xml', 'h190_239.xml', 'h190_211.xml', 'h190_205.xml', 'v190_204.xml', 'v190_210.xml', 'v190_238.xml', 'v190_239.xml', 'v190_211.xml', 'v190_205.xml', 'h190_204.xml', 'h190_210.xml', 'h190_238.xml', 'h180_182_b.xml', 'h170_027.xml', 'h170_033.xml', 'v180_198.xml', 'v180_173.xml', 'v180_167.xml', 'h180_166.xml', 'h180_172.xml', 'v170_032.xml', 'h180_199.xml', 'v160_026.xml', 'v170_069.xml', 'v170_041.xml', 'v170_055.xml', 'h180_129.xml', 'v170_082.xml', 'v170_096.xml', 'h170_097.xml', 'v180_128.xml', 'h170_083.xml', 'h170_054.xml', 'h170_040.xml', 'h170_068.xml', 'h190_288.xml', 'h170_120.xml', 'h190_277.xml', 'h190_263.xml', 'h170_108.xml', 'v170_109.xml', 'tei.dtd', 'v190_262.xml', 'v190_276.xml', 'v170_121.xml', 'v190_289.xml', 'v190_288.xml', 'v170_120.xml', 'v190_277.xml', 'v190_263.xml', 'v170_108.xml', 'h170_109.xml', 'h190_262.xml', 'h190_276.xml', 'h170_121.xml', 'h190_289.xml', 'h170_069.xml', 'v170_079_b.xml', 'h170_041.xml', 'h170_055.xml', 'v180_129.xml', 'h170_082.xml', 'h170_096.xml', 'v170_097.xml', 'h180_128.xml', 'v170_083.xml', 'v170_054.xml', 'v170_040.xml', 'v170_068.xml', 'v170_056.xml', 'v170_042.xml', 'v170_095.xml', 'v170_081.xml', 'h170_080.xml', 'h170_094.xml', 'h170_043.xml', 'h170_057.xml', 'h190_260.xml', 'h190_274.xml', 'h190_248.xml', 'v190_249.xml', 'v190_275.xml', 'v190_261.xml', 'v190_260.xml', 'v190_274.xml', 'v190_248.xml', 'h190_249.xml', 'h190_275.xml', 'h190_261.xml', 'v170_079_a.xml', 'h170_056.xml', 'h170_042.xml', 'h170_095.xml', 'h170_081.xml', 'v170_080.xml', 'v170_094.xml', 'v170_043.xml', 'v170_057.xml', 'v170_053.xml', 'v170_047.xml', 'v170_090.xml', 'v170_084.xml', 'h170_079_a.xml', 'h170_085.xml', 'h170_091.xml', 'h170_046.xml', 'h170_052.xml', 'h190_259.xml', 'lemma.xml', 'h190_265.xml', 'h190_271.xml', 'v190_270.xml', 'v190_264.xml', 'v190_258.xml', 'v190_259.xml', 'v190_265.xml', 'v190_271.xml', 'h190_270.xml', 'h190_264.xml', 'h190_258.xml', 'h170_053.xml', 'h170_047.xml', 'h170_090.xml', 'h170_084.xml', 'v170_085.xml', 'v170_091.xml', 'v170_046.xml', 'v170_052.xml', 'v170_044.xml', 'v170_050.xml', 'v170_078.xml', 'v170_087.xml', 'h180_138.xml', 'v170_093.xml', 'h170_079_b.xml', 'v180_139.xml', 'h170_092.xml', 'h170_086.xml', 'h170_079.xml', 'h170_051.xml', 'h170_045.xml', 'h170_119.xml', 'h190_272.xml', 'h190_266.xml', 'v190_267.xml', 'v190_273.xml', 'v170_118.xml', 'v170_119.xml', 'v190_272.xml', 'v190_266.xml', 'h190_267.xml', 'h190_273.xml', 'h170_118.xml', 'h170_044.xml', 'h170_050.xml', 'h170_078.xml', 'h170_087.xml', 'v180_138.xml', 'h170_093.xml', 'h180_139.xml', 'v170_092.xml', 'v170_086.xml', 'v170_079.xml', 'v170_051.xml', 'v170_045.xml']\n"
     ]
    }
   ],
   "source": [
    "# 加载配置文件\n",
    "CONFIG_PATH = 'config.yaml'\n",
    "\n",
    "try:\n",
    "    with open(CONFIG_PATH, 'r') as config_file:\n",
    "        config = yaml.safe_load(config_file)\n",
    "    BASE_DIR = config.get('BASE_DIR', os.getcwd())\n",
    "    print(\"配置文件加载成功，项目根目录为: \", BASE_DIR)\n",
    "except FileNotFoundError:\n",
    "    print(f\"配置文件未找到: {CONFIG_PATH}，使用当前工作目录。\")\n",
    "    BASE_DIR = os.getcwd()\n",
    "\n",
    "# 示例使用 BASE_DIR\n",
    "input_dir = os.path.join(BASE_DIR, 'data/raw')\n",
    "output_dir = os.path.join(BASE_DIR, 'data/processed')\n",
    "\n",
    "print(f\"输入目录: {input_dir}\")\n",
    "print(f\"输出目录: {output_dir}\")\n",
    "\n",
    "# 列出输入目录中的文件\n",
    "print(\"输入目录中的文件: \", os.listdir(input_dir))"
   ]
  },
  {
   "cell_type": "markdown",
   "metadata": {},
   "source": [
    "# 数据预处理部分"
   ]
  },
  {
   "cell_type": "code",
   "execution_count": 4,
   "metadata": {},
   "outputs": [
    {
     "name": "stdout",
     "output_type": "stream",
     "text": [
      "停用词列表加载成功。\n"
     ]
    }
   ],
   "source": [
    "# 停用词加载函数，过滤掉空行和注释行\n",
    "def load_stopwords(filepath):\n",
    "    try:\n",
    "        with open(filepath, 'r') as f:\n",
    "            stopwords = {line.strip() for line in f if line.strip() and not line.startswith('#')}\n",
    "        print(\"停用词列表加载成功。\")\n",
    "        return stopwords\n",
    "    except FileNotFoundError:\n",
    "        print(f\"停用词文件未找到: {filepath}\")\n",
    "        return set()\n",
    "\n",
    "# 加载词形表和停用词\n",
    "stopwords_path = os.path.join(BASE_DIR, config.get('STOPWORDS_PATH', 'data/external/stopwords_latin.txt'))\n",
    "latin_stopwords = load_stopwords(stopwords_path)"
   ]
  },
  {
   "cell_type": "code",
   "execution_count": 13,
   "metadata": {},
   "outputs": [],
   "source": [
    "# 词形表加载函数\n",
    "# 从 lemma.xml 文件中加载词形，还原词汇的标准形式\n",
    "# 解析 lemma.xml 文件并创建 lemma_dict\n",
    "def load_lemma_dict(lemma_file):\n",
    "    with open(lemma_file, 'r') as file:\n",
    "        soup = BeautifulSoup(file, 'xml')\n",
    "        lemma_dict = {}\n",
    "        for lemma in soup.find_all('lemma'):\n",
    "            id_lemma = lemma.get('id_lemma')\n",
    "            name = lemma.get('name')\n",
    "            if id_lemma and name:\n",
    "                lemma_dict[int(id_lemma)] = name\n",
    "        return lemma_dict\n"
   ]
  },
  {
   "cell_type": "code",
   "execution_count": 14,
   "metadata": {},
   "outputs": [],
   "source": [
    "# 加载词典\n",
    "lemma_dict = load_lemma_dict(\"data/raw/lemma.xml\")"
   ]
  },
  {
   "cell_type": "code",
   "execution_count": 15,
   "metadata": {},
   "outputs": [],
   "source": [
    "# XML 文件预处理函数\n",
    "# 处理 XML 文件，检查是否包含 lemma_l 属性，并根据情况进行词形还原和停用词去除\n",
    "def preprocess_text(xml_file):\n",
    "    try:\n",
    "        with open(xml_file, 'r') as file:\n",
    "            soup = BeautifulSoup(file, 'xml')\n",
    "            words = []\n",
    "\n",
    "            for w in soup.find_all('w'):\n",
    "                lemma_attr = w.get('lemma_l')\n",
    "                \n",
    "                # 若 lemma_l 存在且为数字，用 lemma_dict 词典获取还原词，否则用原始文本\n",
    "                if lemma_attr and lemma_attr.isdigit():\n",
    "                    word = lemma_dict.get(int(lemma_attr), w.get_text().lower())\n",
    "                else:\n",
    "                    raw_word = w.get_text().lower()\n",
    "                    word = lemmas.get(raw_word, raw_word)\n",
    "\n",
    "                # 若非停用词则添加到 words 列表\n",
    "                if word not in latin_stopwords:\n",
    "                    words.append(word)\n",
    "\n",
    "            # 返回处理后的文本字符串\n",
    "            return ' '.join(words)\n",
    "\n",
    "    # 文件不存在时，输出错误信息\n",
    "    except FileNotFoundError:\n",
    "        print(f\"XML 文件未找到: {xml_file}\")\n",
    "        return \"\"\n"
   ]
  },
  {
   "cell_type": "code",
   "execution_count": 16,
   "metadata": {},
   "outputs": [],
   "source": [
    "# 处理目录中的文件，保存结果\n",
    "# 读取原始文件并处理，生成经过词形还原和停用词去除的文本文件\n",
    "def process_directory(input_dir, output_dir):\n",
    "    input_dir = os.path.join(BASE_DIR, input_dir)\n",
    "    output_dir = os.path.join(BASE_DIR, output_dir)\n",
    "\n",
    "    # 如果输出目录不存在，则创建\n",
    "    if not os.path.exists(output_dir):\n",
    "        os.makedirs(output_dir)\n",
    "\n",
    "    # 获取所有 XML 文件\n",
    "    xml_files = [f for f in os.listdir(input_dir) if f.endswith('.xml')]\n",
    "\n",
    "    for xml_file in tqdm.tqdm(xml_files, desc=\"Processing files\"):\n",
    "        input_path = os.path.join(input_dir, xml_file)\n",
    "        output_path = os.path.join(output_dir, xml_file.replace('.xml', '.txt'))\n",
    "        \n",
    "        # 如果文件已处理则跳过\n",
    "        if os.path.exists(output_path):\n",
    "            print(f\"文件已存在，跳过处理: {output_path}\")\n",
    "            continue\n",
    "        \n",
    "        try:\n",
    "            # 调用预处理函数处理文本\n",
    "            processed_text = preprocess_text(input_path)\n",
    "            \n",
    "            # 写入处理结果到输出文件\n",
    "            with open(output_path, 'w') as out_file:\n",
    "                out_file.write(processed_text)\n",
    "            \n",
    "            print(f\"成功处理文件: {xml_file}\")\n",
    "        \n",
    "        except Exception as e:\n",
    "            print(f\"处理文件 {xml_file} 时出错: {e}\")\n"
   ]
  },
  {
   "cell_type": "code",
   "execution_count": 17,
   "metadata": {},
   "outputs": [
    {
     "name": "stderr",
     "output_type": "stream",
     "text": [
      "Processing files:   1%|          | 7/615 [00:00<00:14, 43.23it/s]"
     ]
    },
    {
     "name": "stdout",
     "output_type": "stream",
     "text": [
      "文件已存在，跳过处理: /Users/jessie/Documents/Projects/Cusanus_Topic_Modeling/data/processed/v170_048.txt\n",
      "文件已存在，跳过处理: /Users/jessie/Documents/Projects/Cusanus_Topic_Modeling/data/processed/v170_060.txt\n",
      "文件已存在，跳过处理: /Users/jessie/Documents/Projects/Cusanus_Topic_Modeling/data/processed/v170_074.txt\n",
      "成功处理文件: h180_134.xml\n",
      "文件已存在，跳过处理: /Users/jessie/Documents/Projects/Cusanus_Topic_Modeling/data/processed/v180_135.txt\n",
      "成功处理文件: h170_075.xml\n",
      "成功处理文件: h170_061.xml\n",
      "成功处理文件: h170_049.xml\n"
     ]
    },
    {
     "name": "stderr",
     "output_type": "stream",
     "text": [
      "Processing files:   5%|▍         | 28/615 [00:00<00:07, 77.44it/s]"
     ]
    },
    {
     "name": "stdout",
     "output_type": "stream",
     "text": [
      "成功处理文件: h190_281.xml\n",
      "文件已存在，跳过处理: /Users/jessie/Documents/Projects/Cusanus_Topic_Modeling/data/processed/v160_024_1.txt\n",
      "成功处理文件: h190_256.xml\n",
      "成功处理文件: h170_101.xml\n",
      "成功处理文件: h170_115.xml\n",
      "成功处理文件: h190_242.xml\n",
      "文件已存在，跳过处理: /Users/jessie/Documents/Projects/Cusanus_Topic_Modeling/data/processed/v190_243.txt\n",
      "文件已存在，跳过处理: /Users/jessie/Documents/Projects/Cusanus_Topic_Modeling/data/processed/v170_114.txt\n",
      "文件已存在，跳过处理: /Users/jessie/Documents/Projects/Cusanus_Topic_Modeling/data/processed/v170_100.txt\n",
      "文件已存在，跳过处理: /Users/jessie/Documents/Projects/Cusanus_Topic_Modeling/data/processed/v190_257.txt\n",
      "文件已存在，跳过处理: /Users/jessie/Documents/Projects/Cusanus_Topic_Modeling/data/processed/v190_280.txt\n",
      "文件已存在，跳过处理: /Users/jessie/Documents/Projects/Cusanus_Topic_Modeling/data/processed/v190_281.txt\n",
      "文件已存在，跳过处理: /Users/jessie/Documents/Projects/Cusanus_Topic_Modeling/data/processed/v190_256.txt\n",
      "文件已存在，跳过处理: /Users/jessie/Documents/Projects/Cusanus_Topic_Modeling/data/processed/v170_101.txt\n",
      "文件已存在，跳过处理: /Users/jessie/Documents/Projects/Cusanus_Topic_Modeling/data/processed/v170_115.txt\n",
      "文件已存在，跳过处理: /Users/jessie/Documents/Projects/Cusanus_Topic_Modeling/data/processed/v190_242.txt\n",
      "成功处理文件: h190_243.xml\n",
      "成功处理文件: h170_114.xml\n",
      "成功处理文件: h170_100.xml\n",
      "成功处理文件: h190_257.xml\n"
     ]
    },
    {
     "name": "stderr",
     "output_type": "stream",
     "text": [
      "Processing files:   6%|▌         | 37/615 [00:00<00:10, 57.65it/s]"
     ]
    },
    {
     "name": "stdout",
     "output_type": "stream",
     "text": [
      "成功处理文件: h190_280.xml\n",
      "成功处理文件: h170_048.xml\n",
      "成功处理文件: h170_060.xml\n",
      "成功处理文件: h170_074.xml\n",
      "文件已存在，跳过处理: /Users/jessie/Documents/Projects/Cusanus_Topic_Modeling/data/processed/v180_134.txt\n",
      "成功处理文件: h180_135.xml\n",
      "文件已存在，跳过处理: /Users/jessie/Documents/Projects/Cusanus_Topic_Modeling/data/processed/v170_075.txt\n",
      "文件已存在，跳过处理: /Users/jessie/Documents/Projects/Cusanus_Topic_Modeling/data/processed/v170_061.txt\n",
      "文件已存在，跳过处理: /Users/jessie/Documents/Projects/Cusanus_Topic_Modeling/data/processed/v170_049.txt\n",
      "文件已存在，跳过处理: /Users/jessie/Documents/Projects/Cusanus_Topic_Modeling/data/processed/v170_077.txt\n",
      "文件已存在，跳过处理: /Users/jessie/Documents/Projects/Cusanus_Topic_Modeling/data/processed/v170_063.txt\n",
      "成功处理文件: h180_123.xml\n",
      "文件已存在，跳过处理: /Users/jessie/Documents/Projects/Cusanus_Topic_Modeling/data/processed/v170_088.txt\n",
      "成功处理文件: h180_137.xml\n",
      "文件已存在，跳过处理: /Users/jessie/Documents/Projects/Cusanus_Topic_Modeling/data/processed/v180_136.txt\n",
      "文件已存在，跳过处理: /Users/jessie/Documents/Projects/Cusanus_Topic_Modeling/data/processed/v180_122.txt\n",
      "成功处理文件: h170_089.xml\n",
      "成功处理文件: h170_062.xml\n"
     ]
    },
    {
     "name": "stderr",
     "output_type": "stream",
     "text": [
      "Processing files:   9%|▉         | 55/615 [00:00<00:09, 62.05it/s]"
     ]
    },
    {
     "name": "stdout",
     "output_type": "stream",
     "text": [
      "成功处理文件: h170_076.xml\n",
      "成功处理文件: h190_282.xml\n",
      "文件已存在，跳过处理: /Users/jessie/Documents/Projects/Cusanus_Topic_Modeling/data/processed/v160_024_2.txt\n",
      "成功处理文件: h170_116.xml\n",
      "成功处理文件: h190_241.xml\n",
      "成功处理文件: h190_255.xml\n",
      "成功处理文件: h170_102.xml\n",
      "成功处理文件: h190_269.xml\n",
      "文件已存在，跳过处理: /Users/jessie/Documents/Projects/Cusanus_Topic_Modeling/data/processed/v190_268.txt\n",
      "文件已存在，跳过处理: /Users/jessie/Documents/Projects/Cusanus_Topic_Modeling/data/processed/v170_103.txt\n",
      "文件已存在，跳过处理: /Users/jessie/Documents/Projects/Cusanus_Topic_Modeling/data/processed/v190_254.txt\n",
      "文件已存在，跳过处理: /Users/jessie/Documents/Projects/Cusanus_Topic_Modeling/data/processed/v190_240.txt\n",
      "文件已存在，跳过处理: /Users/jessie/Documents/Projects/Cusanus_Topic_Modeling/data/processed/v170_117.txt\n",
      "文件已存在，跳过处理: /Users/jessie/Documents/Projects/Cusanus_Topic_Modeling/data/processed/v190_283.txt\n",
      "文件已存在，跳过处理: /Users/jessie/Documents/Projects/Cusanus_Topic_Modeling/data/processed/v190_282.txt\n",
      "文件已存在，跳过处理: /Users/jessie/Documents/Projects/Cusanus_Topic_Modeling/data/processed/v170_116.txt\n",
      "文件已存在，跳过处理: /Users/jessie/Documents/Projects/Cusanus_Topic_Modeling/data/processed/v190_241.txt\n",
      "文件已存在，跳过处理: /Users/jessie/Documents/Projects/Cusanus_Topic_Modeling/data/processed/v190_255.txt\n",
      "文件已存在，跳过处理: /Users/jessie/Documents/Projects/Cusanus_Topic_Modeling/data/processed/v170_102.txt\n",
      "文件已存在，跳过处理: /Users/jessie/Documents/Projects/Cusanus_Topic_Modeling/data/processed/v190_269.txt\n"
     ]
    },
    {
     "name": "stderr",
     "output_type": "stream",
     "text": [
      "Processing files:  11%|█         | 68/615 [00:01<00:06, 78.66it/s]"
     ]
    },
    {
     "name": "stdout",
     "output_type": "stream",
     "text": [
      "成功处理文件: h190_268.xml\n",
      "成功处理文件: h170_103.xml\n",
      "成功处理文件: h190_254.xml\n",
      "成功处理文件: h190_240.xml\n",
      "成功处理文件: h170_117.xml\n",
      "成功处理文件: h510_epalb.xml\n"
     ]
    },
    {
     "name": "stderr",
     "output_type": "stream",
     "text": [
      "Processing files:  14%|█▍        | 87/615 [00:01<00:07, 69.22it/s]"
     ]
    },
    {
     "name": "stdout",
     "output_type": "stream",
     "text": [
      "成功处理文件: h190_283.xml\n",
      "成功处理文件: h170_077.xml\n",
      "成功处理文件: h170_063.xml\n",
      "文件已存在，跳过处理: /Users/jessie/Documents/Projects/Cusanus_Topic_Modeling/data/processed/v180_123.txt\n",
      "成功处理文件: h170_088.xml\n",
      "文件已存在，跳过处理: /Users/jessie/Documents/Projects/Cusanus_Topic_Modeling/data/processed/v180_137.txt\n",
      "成功处理文件: h180_136.xml\n",
      "成功处理文件: h180_122.xml\n",
      "文件已存在，跳过处理: /Users/jessie/Documents/Projects/Cusanus_Topic_Modeling/data/processed/v170_089.txt\n",
      "文件已存在，跳过处理: /Users/jessie/Documents/Projects/Cusanus_Topic_Modeling/data/processed/v170_062.txt\n",
      "文件已存在，跳过处理: /Users/jessie/Documents/Projects/Cusanus_Topic_Modeling/data/processed/v170_076.txt\n",
      "文件已存在，跳过处理: /Users/jessie/Documents/Projects/Cusanus_Topic_Modeling/data/processed/v170_072.txt\n",
      "文件已存在，跳过处理: /Users/jessie/Documents/Projects/Cusanus_Topic_Modeling/data/processed/v170_066.txt\n",
      "成功处理文件: h180_126.xml\n",
      "成功处理文件: h180_132.xml\n",
      "文件已存在，跳过处理: /Users/jessie/Documents/Projects/Cusanus_Topic_Modeling/data/processed/v170_099.txt\n",
      "文件已存在，跳过处理: /Users/jessie/Documents/Projects/Cusanus_Topic_Modeling/data/processed/v180_133.txt\n",
      "成功处理文件: h170_098.xml\n",
      "文件已存在，跳过处理: /Users/jessie/Documents/Projects/Cusanus_Topic_Modeling/data/processed/v180_127.txt\n"
     ]
    },
    {
     "name": "stderr",
     "output_type": "stream",
     "text": [
      "Processing files:  15%|█▌        | 95/615 [00:01<00:08, 60.07it/s]"
     ]
    },
    {
     "name": "stdout",
     "output_type": "stream",
     "text": [
      "成功处理文件: h170_067.xml\n",
      "成功处理文件: h170_073.xml\n",
      "成功处理文件: h190_287.xml\n",
      "成功处理文件: h190_293.xml\n",
      "成功处理文件: h190_278.xml\n",
      "成功处理文件: h170_113.xml\n",
      "成功处理文件: h190_244.xml\n",
      "成功处理文件: h190_250.xml\n"
     ]
    },
    {
     "name": "stderr",
     "output_type": "stream",
     "text": [
      "Processing files:  19%|█▉        | 116/615 [00:01<00:06, 75.41it/s]"
     ]
    },
    {
     "name": "stdout",
     "output_type": "stream",
     "text": [
      "成功处理文件: h170_107.xml\n",
      "文件已存在，跳过处理: /Users/jessie/Documents/Projects/Cusanus_Topic_Modeling/data/processed/v170_106.txt\n",
      "文件已存在，跳过处理: /Users/jessie/Documents/Projects/Cusanus_Topic_Modeling/data/processed/v190_251.txt\n",
      "文件已存在，跳过处理: /Users/jessie/Documents/Projects/Cusanus_Topic_Modeling/data/processed/v190_245.txt\n",
      "文件已存在，跳过处理: /Users/jessie/Documents/Projects/Cusanus_Topic_Modeling/data/processed/v170_112.txt\n",
      "文件已存在，跳过处理: /Users/jessie/Documents/Projects/Cusanus_Topic_Modeling/data/processed/v190_279.txt\n",
      "文件已存在，跳过处理: /Users/jessie/Documents/Projects/Cusanus_Topic_Modeling/data/processed/v190_292.txt\n",
      "文件已存在，跳过处理: /Users/jessie/Documents/Projects/Cusanus_Topic_Modeling/data/processed/v190_286.txt\n",
      "文件已存在，跳过处理: /Users/jessie/Documents/Projects/Cusanus_Topic_Modeling/data/processed/v190_287.txt\n",
      "文件已存在，跳过处理: /Users/jessie/Documents/Projects/Cusanus_Topic_Modeling/data/processed/v190_293.txt\n",
      "文件已存在，跳过处理: /Users/jessie/Documents/Projects/Cusanus_Topic_Modeling/data/processed/v190_278.txt\n",
      "成功处理文件: h160_024_2.xml\n",
      "文件已存在，跳过处理: /Users/jessie/Documents/Projects/Cusanus_Topic_Modeling/data/processed/v170_113.txt\n",
      "文件已存在，跳过处理: /Users/jessie/Documents/Projects/Cusanus_Topic_Modeling/data/processed/v190_244.txt\n",
      "文件已存在，跳过处理: /Users/jessie/Documents/Projects/Cusanus_Topic_Modeling/data/processed/v190_250.txt\n",
      "文件已存在，跳过处理: /Users/jessie/Documents/Projects/Cusanus_Topic_Modeling/data/processed/v170_107.txt\n",
      "成功处理文件: h170_106.xml\n",
      "成功处理文件: h190_251.xml\n",
      "成功处理文件: h190_245.xml\n",
      "成功处理文件: h170_112.xml\n",
      "成功处理文件: h190_279.xml\n"
     ]
    },
    {
     "name": "stderr",
     "output_type": "stream",
     "text": [
      "Processing files:  23%|██▎       | 140/615 [00:02<00:05, 81.84it/s]"
     ]
    },
    {
     "name": "stdout",
     "output_type": "stream",
     "text": [
      "成功处理文件: h190_292.xml\n",
      "成功处理文件: h190_286.xml\n",
      "成功处理文件: h170_072.xml\n",
      "成功处理文件: h170_066.xml\n",
      "文件已存在，跳过处理: /Users/jessie/Documents/Projects/Cusanus_Topic_Modeling/data/processed/v180_126.txt\n",
      "文件已存在，跳过处理: /Users/jessie/Documents/Projects/Cusanus_Topic_Modeling/data/processed/v180_132.txt\n",
      "成功处理文件: h170_099.xml\n",
      "成功处理文件: h180_133.xml\n",
      "文件已存在，跳过处理: /Users/jessie/Documents/Projects/Cusanus_Topic_Modeling/data/processed/v170_098.txt\n",
      "成功处理文件: h180_127.xml\n",
      "文件已存在，跳过处理: /Users/jessie/Documents/Projects/Cusanus_Topic_Modeling/data/processed/v170_067.txt\n",
      "文件已存在，跳过处理: /Users/jessie/Documents/Projects/Cusanus_Topic_Modeling/data/processed/v170_073.txt\n",
      "文件已存在，跳过处理: /Users/jessie/Documents/Projects/Cusanus_Topic_Modeling/data/processed/v170_065.txt\n",
      "文件已存在，跳过处理: /Users/jessie/Documents/Projects/Cusanus_Topic_Modeling/data/processed/v170_071.txt\n",
      "文件已存在，跳过处理: /Users/jessie/Documents/Projects/Cusanus_Topic_Modeling/data/processed/v170_059.txt\n",
      "成功处理文件: h180_131.xml\n",
      "成功处理文件: h180_125.xml\n",
      "文件已存在，跳过处理: /Users/jessie/Documents/Projects/Cusanus_Topic_Modeling/data/processed/v180_124.txt\n",
      "文件已存在，跳过处理: /Users/jessie/Documents/Projects/Cusanus_Topic_Modeling/data/processed/v180_130.txt\n",
      "成功处理文件: h170_058.xml\n",
      "成功处理文件: h170_070.xml\n",
      "成功处理文件: h170_064.xml\n"
     ]
    },
    {
     "name": "stderr",
     "output_type": "stream",
     "text": [
      "Processing files:  24%|██▍       | 149/615 [00:02<00:06, 69.10it/s]"
     ]
    },
    {
     "name": "stdout",
     "output_type": "stream",
     "text": [
      "成功处理文件: h190_290.xml\n",
      "成功处理文件: h190_284.xml\n",
      "成功处理文件: h190_253.xml\n",
      "成功处理文件: h170_104.xml\n",
      "成功处理文件: h170_110.xml\n",
      "成功处理文件: h190_247.xml\n",
      "文件已存在，跳过处理: /Users/jessie/Documents/Projects/Cusanus_Topic_Modeling/data/processed/v190_246.txt\n",
      "文件已存在，跳过处理: /Users/jessie/Documents/Projects/Cusanus_Topic_Modeling/data/processed/v170_111.txt\n",
      "文件已存在，跳过处理: /Users/jessie/Documents/Projects/Cusanus_Topic_Modeling/data/processed/v170_105.txt\n",
      "文件已存在，跳过处理: /Users/jessie/Documents/Projects/Cusanus_Topic_Modeling/data/processed/v190_252.txt\n",
      "文件已存在，跳过处理: /Users/jessie/Documents/Projects/Cusanus_Topic_Modeling/data/processed/v190_285.txt\n",
      "文件已存在，跳过处理: /Users/jessie/Documents/Projects/Cusanus_Topic_Modeling/data/processed/v190_291.txt\n",
      "文件已存在，跳过处理: /Users/jessie/Documents/Projects/Cusanus_Topic_Modeling/data/processed/v190_290.txt\n",
      "文件已存在，跳过处理: /Users/jessie/Documents/Projects/Cusanus_Topic_Modeling/data/processed/v190_284.txt\n"
     ]
    },
    {
     "name": "stderr",
     "output_type": "stream",
     "text": [
      "Processing files:  27%|██▋       | 165/615 [00:02<00:06, 70.85it/s]"
     ]
    },
    {
     "name": "stdout",
     "output_type": "stream",
     "text": [
      "成功处理文件: h160_024_1.xml\n",
      "文件已存在，跳过处理: /Users/jessie/Documents/Projects/Cusanus_Topic_Modeling/data/processed/v190_253.txt\n",
      "文件已存在，跳过处理: /Users/jessie/Documents/Projects/Cusanus_Topic_Modeling/data/processed/v170_104.txt\n",
      "文件已存在，跳过处理: /Users/jessie/Documents/Projects/Cusanus_Topic_Modeling/data/processed/v170_110.txt\n",
      "文件已存在，跳过处理: /Users/jessie/Documents/Projects/Cusanus_Topic_Modeling/data/processed/v190_247.txt\n",
      "成功处理文件: h190_246.xml\n",
      "成功处理文件: h170_111.xml\n",
      "成功处理文件: h170_105.xml\n",
      "成功处理文件: h190_252.xml\n",
      "成功处理文件: h190_285.xml\n",
      "成功处理文件: h190_291.xml\n",
      "成功处理文件: h170_065.xml\n"
     ]
    },
    {
     "name": "stderr",
     "output_type": "stream",
     "text": [
      "Processing files:  28%|██▊       | 173/615 [00:02<00:07, 58.15it/s]"
     ]
    },
    {
     "name": "stdout",
     "output_type": "stream",
     "text": [
      "成功处理文件: h170_071.xml\n",
      "成功处理文件: h170_059.xml\n",
      "文件已存在，跳过处理: /Users/jessie/Documents/Projects/Cusanus_Topic_Modeling/data/processed/v180_131.txt\n",
      "文件已存在，跳过处理: /Users/jessie/Documents/Projects/Cusanus_Topic_Modeling/data/processed/v180_125.txt\n",
      "成功处理文件: h180_124.xml\n",
      "成功处理文件: h180_130.xml\n",
      "文件已存在，跳过处理: /Users/jessie/Documents/Projects/Cusanus_Topic_Modeling/data/processed/v170_058.txt\n",
      "文件已存在，跳过处理: /Users/jessie/Documents/Projects/Cusanus_Topic_Modeling/data/processed/v170_070.txt\n",
      "文件已存在，跳过处理: /Users/jessie/Documents/Projects/Cusanus_Topic_Modeling/data/processed/v170_064.txt\n",
      "文件已存在，跳过处理: /Users/jessie/Documents/Projects/Cusanus_Topic_Modeling/data/processed/v170_037_b.txt\n",
      "成功处理文件: h180_194.xml\n",
      "成功处理文件: h180_180.xml\n",
      "文件已存在，跳过处理: /Users/jessie/Documents/Projects/Cusanus_Topic_Modeling/data/processed/v160_017.txt\n",
      "文件已存在，跳过处理: /Users/jessie/Documents/Projects/Cusanus_Topic_Modeling/data/processed/v160_003.txt\n",
      "成功处理文件: h180_157.xml\n",
      "成功处理文件: h180_195_a.xml\n",
      "成功处理文件: h180_143.xml\n",
      "文件已存在，跳过处理: /Users/jessie/Documents/Projects/Cusanus_Topic_Modeling/data/processed/v180_142.txt\n",
      "文件已存在，跳过处理: /Users/jessie/Documents/Projects/Cusanus_Topic_Modeling/data/processed/v180_156.txt\n"
     ]
    },
    {
     "name": "stderr",
     "output_type": "stream",
     "text": [
      "Processing files:  32%|███▏      | 196/615 [00:02<00:05, 69.89it/s]"
     ]
    },
    {
     "name": "stdout",
     "output_type": "stream",
     "text": [
      "成功处理文件: h160_002.xml\n",
      "成功处理文件: h160_016.xml\n",
      "文件已存在，跳过处理: /Users/jessie/Documents/Projects/Cusanus_Topic_Modeling/data/processed/v180_181.txt\n",
      "文件已存在，跳过处理: /Users/jessie/Documents/Projects/Cusanus_Topic_Modeling/data/processed/v180_195.txt\n",
      "成功处理文件: h190_235.xml\n",
      "成功处理文件: h190_221.xml\n",
      "成功处理文件: h190_209.xml\n",
      "文件已存在，跳过处理: /Users/jessie/Documents/Projects/Cusanus_Topic_Modeling/data/processed/v190_208.txt\n",
      "文件已存在，跳过处理: /Users/jessie/Documents/Projects/Cusanus_Topic_Modeling/data/processed/v190_220.txt\n",
      "文件已存在，跳过处理: /Users/jessie/Documents/Projects/Cusanus_Topic_Modeling/data/processed/v190_234.txt\n",
      "文件已存在，跳过处理: /Users/jessie/Documents/Projects/Cusanus_Topic_Modeling/data/processed/v190_235.txt\n",
      "文件已存在，跳过处理: /Users/jessie/Documents/Projects/Cusanus_Topic_Modeling/data/processed/v190_221.txt\n",
      "文件已存在，跳过处理: /Users/jessie/Documents/Projects/Cusanus_Topic_Modeling/data/processed/v190_209.txt\n",
      "成功处理文件: h190_208.xml\n",
      "成功处理文件: h190_220.xml\n",
      "成功处理文件: h190_234.xml\n",
      "文件已存在，跳过处理: /Users/jessie/Documents/Projects/Cusanus_Topic_Modeling/data/processed/v180_194.txt\n",
      "文件已存在，跳过处理: /Users/jessie/Documents/Projects/Cusanus_Topic_Modeling/data/processed/v180_180.txt\n"
     ]
    },
    {
     "name": "stderr",
     "output_type": "stream",
     "text": [
      "Processing files:  35%|███▍      | 214/615 [00:03<00:05, 74.65it/s]"
     ]
    },
    {
     "name": "stdout",
     "output_type": "stream",
     "text": [
      "成功处理文件: h160_017.xml\n",
      "成功处理文件: h180_197_b.xml\n",
      "成功处理文件: h160_003.xml\n",
      "文件已存在，跳过处理: /Users/jessie/Documents/Projects/Cusanus_Topic_Modeling/data/processed/v180_157.txt\n",
      "文件已存在，跳过处理: /Users/jessie/Documents/Projects/Cusanus_Topic_Modeling/data/processed/v180_143.txt\n",
      "成功处理文件: h180_142.xml\n",
      "成功处理文件: h180_156.xml\n",
      "文件已存在，跳过处理: /Users/jessie/Documents/Projects/Cusanus_Topic_Modeling/data/processed/v160_002.txt\n",
      "文件已存在，跳过处理: /Users/jessie/Documents/Projects/Cusanus_Topic_Modeling/data/processed/v160_016.txt\n",
      "成功处理文件: h180_181.xml\n",
      "文件已存在，跳过处理: /Users/jessie/Documents/Projects/Cusanus_Topic_Modeling/data/processed/v170_037_c.txt\n",
      "成功处理文件: h180_195.xml\n",
      "文件已存在，跳过处理: /Users/jessie/Documents/Projects/Cusanus_Topic_Modeling/data/processed/v170_028.txt\n",
      "成功处理文件: h180_183.xml\n",
      "成功处理文件: h180_197.xml\n",
      "文件已存在，跳过处理: /Users/jessie/Documents/Projects/Cusanus_Topic_Modeling/data/processed/v170_037_a.txt\n",
      "文件已存在，跳过处理: /Users/jessie/Documents/Projects/Cusanus_Topic_Modeling/data/processed/v160_014.txt\n",
      "成功处理文件: h180_195_b.xml\n",
      "成功处理文件: h180_140.xml\n"
     ]
    },
    {
     "name": "stderr",
     "output_type": "stream",
     "text": [
      "Processing files:  38%|███▊      | 233/615 [00:03<00:05, 72.62it/s]"
     ]
    },
    {
     "name": "stdout",
     "output_type": "stream",
     "text": [
      "成功处理文件: h180_154.xml\n",
      "成功处理文件: h180_168.xml\n",
      "文件已存在，跳过处理: /Users/jessie/Documents/Projects/Cusanus_Topic_Modeling/data/processed/v180_169.txt\n",
      "文件已存在，跳过处理: /Users/jessie/Documents/Projects/Cusanus_Topic_Modeling/data/processed/v180_155.txt\n",
      "文件已存在，跳过处理: /Users/jessie/Documents/Projects/Cusanus_Topic_Modeling/data/processed/v180_141.txt\n",
      "成功处理文件: h160_015.xml\n",
      "成功处理文件: h160_001.xml\n",
      "文件已存在，跳过处理: /Users/jessie/Documents/Projects/Cusanus_Topic_Modeling/data/processed/v180_196.txt\n",
      "成功处理文件: h170_029.xml\n",
      "文件已存在，跳过处理: /Users/jessie/Documents/Projects/Cusanus_Topic_Modeling/data/processed/v180_182.txt\n",
      "成功处理文件: h190_222.xml\n",
      "成功处理文件: h190_236.xml\n",
      "文件已存在，跳过处理: /Users/jessie/Documents/Projects/Cusanus_Topic_Modeling/data/processed/v190_237.txt\n",
      "文件已存在，跳过处理: /Users/jessie/Documents/Projects/Cusanus_Topic_Modeling/data/processed/v190_223.txt\n",
      "文件已存在，跳过处理: /Users/jessie/Documents/Projects/Cusanus_Topic_Modeling/data/processed/v190_222.txt\n",
      "文件已存在，跳过处理: /Users/jessie/Documents/Projects/Cusanus_Topic_Modeling/data/processed/v190_236.txt\n",
      "成功处理文件: h190_237.xml\n"
     ]
    },
    {
     "name": "stderr",
     "output_type": "stream",
     "text": [
      "Processing files:  40%|████      | 249/615 [00:03<00:06, 60.75it/s]"
     ]
    },
    {
     "name": "stdout",
     "output_type": "stream",
     "text": [
      "成功处理文件: h190_223.xml\n",
      "成功处理文件: h170_028.xml\n",
      "文件已存在，跳过处理: /Users/jessie/Documents/Projects/Cusanus_Topic_Modeling/data/processed/v180_183.txt\n",
      "文件已存在，跳过处理: /Users/jessie/Documents/Projects/Cusanus_Topic_Modeling/data/processed/v180_197.txt\n",
      "成功处理文件: h160_014.xml\n",
      "成功处理文件: h180_197_a.xml\n",
      "文件已存在，跳过处理: /Users/jessie/Documents/Projects/Cusanus_Topic_Modeling/data/processed/v180_140.txt\n",
      "文件已存在，跳过处理: /Users/jessie/Documents/Projects/Cusanus_Topic_Modeling/data/processed/v180_154.txt\n",
      "文件已存在，跳过处理: /Users/jessie/Documents/Projects/Cusanus_Topic_Modeling/data/processed/v180_168.txt\n",
      "成功处理文件: h180_169.xml\n"
     ]
    },
    {
     "name": "stderr",
     "output_type": "stream",
     "text": [
      "Processing files:  42%|████▏     | 256/615 [00:03<00:07, 50.76it/s]"
     ]
    },
    {
     "name": "stdout",
     "output_type": "stream",
     "text": [
      "成功处理文件: h180_155.xml\n",
      "成功处理文件: h180_141.xml\n",
      "文件已存在，跳过处理: /Users/jessie/Documents/Projects/Cusanus_Topic_Modeling/data/processed/v160_015.txt\n",
      "文件已存在，跳过处理: /Users/jessie/Documents/Projects/Cusanus_Topic_Modeling/data/processed/v160_001.txt\n",
      "成功处理文件: h180_196.xml\n",
      "文件已存在，跳过处理: /Users/jessie/Documents/Projects/Cusanus_Topic_Modeling/data/processed/v170_029.txt\n",
      "成功处理文件: h180_182.xml\n",
      "文件已存在，跳过处理: /Users/jessie/Documents/Projects/Cusanus_Topic_Modeling/data/processed/v160_005.txt\n",
      "文件已存在，跳过处理: /Users/jessie/Documents/Projects/Cusanus_Topic_Modeling/data/processed/v160_011.txt\n",
      "成功处理文件: h180_186.xml\n",
      "文件已存在，跳过处理: /Users/jessie/Documents/Projects/Cusanus_Topic_Modeling/data/processed/v170_039.txt\n"
     ]
    },
    {
     "name": "stderr",
     "output_type": "stream",
     "text": [
      "Processing files:  44%|████▍     | 271/615 [00:04<00:06, 54.13it/s]"
     ]
    },
    {
     "name": "stdout",
     "output_type": "stream",
     "text": [
      "成功处理文件: h180_192.xml\n",
      "成功处理文件: h180_179.xml\n",
      "文件已存在，跳过处理: /Users/jessie/Documents/Projects/Cusanus_Topic_Modeling/data/processed/v180_197_a.txt\n",
      "成功处理文件: h180_145.xml\n",
      "成功处理文件: h180_151.xml\n",
      "文件已存在，跳过处理: /Users/jessie/Documents/Projects/Cusanus_Topic_Modeling/data/processed/v180_150.txt\n",
      "文件已存在，跳过处理: /Users/jessie/Documents/Projects/Cusanus_Topic_Modeling/data/processed/v180_144.txt\n",
      "文件已存在，跳过处理: /Users/jessie/Documents/Projects/Cusanus_Topic_Modeling/data/processed/v180_178.txt\n",
      "成功处理文件: h170_038.xml\n",
      "文件已存在，跳过处理: /Users/jessie/Documents/Projects/Cusanus_Topic_Modeling/data/processed/v180_193.txt\n",
      "文件已存在，跳过处理: /Users/jessie/Documents/Projects/Cusanus_Topic_Modeling/data/processed/v180_187.txt\n"
     ]
    },
    {
     "name": "stderr",
     "output_type": "stream",
     "text": [
      "Processing files:  45%|████▌     | 277/615 [00:04<00:07, 45.84it/s]"
     ]
    },
    {
     "name": "stdout",
     "output_type": "stream",
     "text": [
      "成功处理文件: h160_010.xml\n",
      "成功处理文件: h160_004.xml\n",
      "成功处理文件: h190_227.xml\n",
      "成功处理文件: h190_233.xml\n",
      "文件已存在，跳过处理: /Users/jessie/Documents/Projects/Cusanus_Topic_Modeling/data/processed/v190_232.txt\n",
      "文件已存在，跳过处理: /Users/jessie/Documents/Projects/Cusanus_Topic_Modeling/data/processed/v190_226.txt\n",
      "文件已存在，跳过处理: /Users/jessie/Documents/Projects/Cusanus_Topic_Modeling/data/processed/v190_227.txt\n",
      "文件已存在，跳过处理: /Users/jessie/Documents/Projects/Cusanus_Topic_Modeling/data/processed/v190_233.txt\n",
      "成功处理文件: h190_232.xml\n",
      "成功处理文件: h190_226.xml\n"
     ]
    },
    {
     "name": "stderr",
     "output_type": "stream",
     "text": [
      "Processing files:  48%|████▊     | 298/615 [00:04<00:05, 55.58it/s]"
     ]
    },
    {
     "name": "stdout",
     "output_type": "stream",
     "text": [
      "成功处理文件: h160_005.xml\n",
      "成功处理文件: h160_011.xml\n",
      "文件已存在，跳过处理: /Users/jessie/Documents/Projects/Cusanus_Topic_Modeling/data/processed/v180_186.txt\n",
      "成功处理文件: h170_039.xml\n",
      "文件已存在，跳过处理: /Users/jessie/Documents/Projects/Cusanus_Topic_Modeling/data/processed/v180_195_b.txt\n",
      "文件已存在，跳过处理: /Users/jessie/Documents/Projects/Cusanus_Topic_Modeling/data/processed/v180_192.txt\n",
      "文件已存在，跳过处理: /Users/jessie/Documents/Projects/Cusanus_Topic_Modeling/data/processed/v180_179.txt\n",
      "成功处理文件: h170_037_a.xml\n",
      "文件已存在，跳过处理: /Users/jessie/Documents/Projects/Cusanus_Topic_Modeling/data/processed/v180_145.txt\n",
      "文件已存在，跳过处理: /Users/jessie/Documents/Projects/Cusanus_Topic_Modeling/data/processed/v180_151.txt\n",
      "成功处理文件: h180_150.xml\n",
      "成功处理文件: h180_144.xml\n",
      "成功处理文件: h180_178.xml\n",
      "文件已存在，跳过处理: /Users/jessie/Documents/Projects/Cusanus_Topic_Modeling/data/processed/v170_038.txt\n",
      "成功处理文件: h180_193.xml\n"
     ]
    },
    {
     "name": "stderr",
     "output_type": "stream",
     "text": [
      "Processing files:  50%|████▉     | 305/615 [00:04<00:05, 55.49it/s]"
     ]
    },
    {
     "name": "stdout",
     "output_type": "stream",
     "text": [
      "成功处理文件: h180_187.xml\n",
      "文件已存在，跳过处理: /Users/jessie/Documents/Projects/Cusanus_Topic_Modeling/data/processed/v160_010.txt\n",
      "文件已存在，跳过处理: /Users/jessie/Documents/Projects/Cusanus_Topic_Modeling/data/processed/v160_004.txt\n",
      "文件已存在，跳过处理: /Users/jessie/Documents/Projects/Cusanus_Topic_Modeling/data/processed/v160_012.txt\n",
      "文件已存在，跳过处理: /Users/jessie/Documents/Projects/Cusanus_Topic_Modeling/data/processed/v160_006.txt\n",
      "成功处理文件: h180_191.xml\n",
      "成功处理文件: h180_185.xml\n",
      "文件已存在，跳过处理: /Users/jessie/Documents/Projects/Cusanus_Topic_Modeling/data/processed/v180_197_b.txt\n",
      "成功处理文件: h180_152.xml\n",
      "成功处理文件: h180_146.xml\n",
      "文件已存在，跳过处理: /Users/jessie/Documents/Projects/Cusanus_Topic_Modeling/data/processed/v180_147.txt\n",
      "成功处理文件: h170_037_c.xml\n",
      "文件已存在，跳过处理: /Users/jessie/Documents/Projects/Cusanus_Topic_Modeling/data/processed/v180_153.txt\n",
      "文件已存在，跳过处理: /Users/jessie/Documents/Projects/Cusanus_Topic_Modeling/data/processed/v180_184.txt\n",
      "文件已存在，跳过处理: /Users/jessie/Documents/Projects/Cusanus_Topic_Modeling/data/processed/v180_190.txt\n"
     ]
    },
    {
     "name": "stderr",
     "output_type": "stream",
     "text": [
      "Processing files:  53%|█████▎    | 328/615 [00:05<00:04, 57.50it/s]"
     ]
    },
    {
     "name": "stdout",
     "output_type": "stream",
     "text": [
      "成功处理文件: h160_007.xml\n",
      "成功处理文件: h160_013.xml\n",
      "成功处理文件: h190_218.xml\n",
      "成功处理文件: h190_230.xml\n",
      "成功处理文件: h190_224.xml\n",
      "文件已存在，跳过处理: /Users/jessie/Documents/Projects/Cusanus_Topic_Modeling/data/processed/v190_225.txt\n",
      "文件已存在，跳过处理: /Users/jessie/Documents/Projects/Cusanus_Topic_Modeling/data/processed/v190_231.txt\n",
      "文件已存在，跳过处理: /Users/jessie/Documents/Projects/Cusanus_Topic_Modeling/data/processed/v190_219.txt\n",
      "文件已存在，跳过处理: /Users/jessie/Documents/Projects/Cusanus_Topic_Modeling/data/processed/v190_218.txt\n",
      "文件已存在，跳过处理: /Users/jessie/Documents/Projects/Cusanus_Topic_Modeling/data/processed/v190_230.txt\n",
      "文件已存在，跳过处理: /Users/jessie/Documents/Projects/Cusanus_Topic_Modeling/data/processed/v190_224.txt\n",
      "成功处理文件: h190_225.xml\n",
      "成功处理文件: h190_231.xml\n",
      "成功处理文件: h190_219.xml\n",
      "成功处理文件: h160_012.xml\n"
     ]
    },
    {
     "name": "stderr",
     "output_type": "stream",
     "text": [
      "Processing files:  56%|█████▌    | 342/615 [00:05<00:04, 55.72it/s]"
     ]
    },
    {
     "name": "stdout",
     "output_type": "stream",
     "text": [
      "成功处理文件: h160_006.xml\n",
      "文件已存在，跳过处理: /Users/jessie/Documents/Projects/Cusanus_Topic_Modeling/data/processed/v180_191.txt\n",
      "文件已存在，跳过处理: /Users/jessie/Documents/Projects/Cusanus_Topic_Modeling/data/processed/v180_195_a.txt\n",
      "文件已存在，跳过处理: /Users/jessie/Documents/Projects/Cusanus_Topic_Modeling/data/processed/v180_185.txt\n",
      "文件已存在，跳过处理: /Users/jessie/Documents/Projects/Cusanus_Topic_Modeling/data/processed/v180_152.txt\n",
      "成功处理文件: h170_037_b.xml\n",
      "文件已存在，跳过处理: /Users/jessie/Documents/Projects/Cusanus_Topic_Modeling/data/processed/v180_146.txt\n",
      "成功处理文件: h180_147.xml\n",
      "成功处理文件: h180_153.xml\n",
      "成功处理文件: h180_184.xml\n",
      "成功处理文件: h180_190.xml\n",
      "文件已存在，跳过处理: /Users/jessie/Documents/Projects/Cusanus_Topic_Modeling/data/processed/v160_007.txt\n",
      "文件已存在，跳过处理: /Users/jessie/Documents/Projects/Cusanus_Topic_Modeling/data/processed/v160_013.txt\n",
      "成功处理文件: h180_189.xml\n",
      "文件已存在，跳过处理: /Users/jessie/Documents/Projects/Cusanus_Topic_Modeling/data/processed/v160_022.txt\n",
      "文件已存在，跳过处理: /Users/jessie/Documents/Projects/Cusanus_Topic_Modeling/data/processed/v170_036.txt\n"
     ]
    },
    {
     "name": "stderr",
     "output_type": "stream",
     "text": [
      "Processing files:  59%|█████▉    | 362/615 [00:05<00:03, 70.51it/s]"
     ]
    },
    {
     "name": "stdout",
     "output_type": "stream",
     "text": [
      "成功处理文件: h180_176.xml\n",
      "成功处理文件: h180_162.xml\n",
      "文件已存在，跳过处理: /Users/jessie/Documents/Projects/Cusanus_Topic_Modeling/data/processed/v180_163.txt\n",
      "文件已存在，跳过处理: /Users/jessie/Documents/Projects/Cusanus_Topic_Modeling/data/processed/v180_177.txt\n",
      "成功处理文件: h160_023.xml\n",
      "成功处理文件: h170_037.xml\n",
      "文件已存在，跳过处理: /Users/jessie/Documents/Projects/Cusanus_Topic_Modeling/data/processed/v180_188.txt\n",
      "成功处理文件: h180_200.xml\n",
      "成功处理文件: h190_214.xml\n",
      "成功处理文件: h190_228.xml\n",
      "文件已存在，跳过处理: /Users/jessie/Documents/Projects/Cusanus_Topic_Modeling/data/processed/v190_229.txt\n",
      "文件已存在，跳过处理: /Users/jessie/Documents/Projects/Cusanus_Topic_Modeling/data/processed/v180_201.txt\n",
      "文件已存在，跳过处理: /Users/jessie/Documents/Projects/Cusanus_Topic_Modeling/data/processed/v190_215.txt\n",
      "文件已存在，跳过处理: /Users/jessie/Documents/Projects/Cusanus_Topic_Modeling/data/processed/v180_182_b.txt\n",
      "文件已存在，跳过处理: /Users/jessie/Documents/Projects/Cusanus_Topic_Modeling/data/processed/v180_200.txt\n",
      "文件已存在，跳过处理: /Users/jessie/Documents/Projects/Cusanus_Topic_Modeling/data/processed/v190_214.txt\n",
      "文件已存在，跳过处理: /Users/jessie/Documents/Projects/Cusanus_Topic_Modeling/data/processed/v190_228.txt\n",
      "成功处理文件: h190_229.xml\n",
      "成功处理文件: h180_201.xml\n"
     ]
    },
    {
     "name": "stderr",
     "output_type": "stream",
     "text": [
      "Processing files:  62%|██████▏   | 380/615 [00:06<00:03, 78.07it/s]"
     ]
    },
    {
     "name": "stdout",
     "output_type": "stream",
     "text": [
      "成功处理文件: h190_215.xml\n",
      "文件已存在，跳过处理: /Users/jessie/Documents/Projects/Cusanus_Topic_Modeling/data/processed/v180_189.txt\n",
      "成功处理文件: h160_022.xml\n",
      "成功处理文件: h170_036.xml\n",
      "文件已存在，跳过处理: /Users/jessie/Documents/Projects/Cusanus_Topic_Modeling/data/processed/v180_176.txt\n",
      "文件已存在，跳过处理: /Users/jessie/Documents/Projects/Cusanus_Topic_Modeling/data/processed/v180_162.txt\n",
      "成功处理文件: h180_163.xml\n",
      "成功处理文件: h180_177.xml\n",
      "文件已存在，跳过处理: /Users/jessie/Documents/Projects/Cusanus_Topic_Modeling/data/processed/v160_023.txt\n",
      "文件已存在，跳过处理: /Users/jessie/Documents/Projects/Cusanus_Topic_Modeling/data/processed/v170_037.txt\n",
      "成功处理文件: h180_188.xml\n",
      "文件已存在，跳过处理: /Users/jessie/Documents/Projects/Cusanus_Topic_Modeling/data/processed/v160_009.txt\n",
      "文件已存在，跳过处理: /Users/jessie/Documents/Projects/Cusanus_Topic_Modeling/data/processed/v170_035.txt\n",
      "文件已存在，跳过处理: /Users/jessie/Documents/Projects/Cusanus_Topic_Modeling/data/processed/v160_021.txt\n",
      "成功处理文件: h180_161.xml\n",
      "成功处理文件: h180_175.xml\n",
      "成功处理文件: h180_149.xml\n",
      "文件已存在，跳过处理: /Users/jessie/Documents/Projects/Cusanus_Topic_Modeling/data/processed/v180_148.txt\n",
      "文件已存在，跳过处理: /Users/jessie/Documents/Projects/Cusanus_Topic_Modeling/data/processed/v180_174.txt\n",
      "文件已存在，跳过处理: /Users/jessie/Documents/Projects/Cusanus_Topic_Modeling/data/processed/v180_160.txt\n",
      "成功处理文件: h170_034.xml\n",
      "成功处理文件: h160_020.xml\n",
      "成功处理文件: h160_008.xml\n"
     ]
    },
    {
     "name": "stderr",
     "output_type": "stream",
     "text": [
      "Processing files:  63%|██████▎   | 389/615 [00:06<00:05, 41.45it/s]"
     ]
    },
    {
     "name": "stdout",
     "output_type": "stream",
     "text": [
      "成功处理文件: h190_217.xml\n",
      "成功处理文件: h180_203.xml\n",
      "成功处理文件: h500_ck.xml\n",
      "文件已存在，跳过处理: /Users/jessie/Documents/Projects/Cusanus_Topic_Modeling/data/processed/v190_216.txt\n",
      "文件已存在，跳过处理: /Users/jessie/Documents/Projects/Cusanus_Topic_Modeling/data/processed/v180_202.txt\n",
      "文件已存在，跳过处理: /Users/jessie/Documents/Projects/Cusanus_Topic_Modeling/data/processed/v180_182_a.txt\n",
      "文件已存在，跳过处理: /Users/jessie/Documents/Projects/Cusanus_Topic_Modeling/data/processed/v190_217.txt\n",
      "文件已存在，跳过处理: /Users/jessie/Documents/Projects/Cusanus_Topic_Modeling/data/processed/v180_203.txt\n"
     ]
    },
    {
     "name": "stderr",
     "output_type": "stream",
     "text": [
      "Processing files:  64%|██████▍   | 396/615 [00:06<00:05, 41.40it/s]"
     ]
    },
    {
     "name": "stdout",
     "output_type": "stream",
     "text": [
      "成功处理文件: h190_216.xml\n",
      "成功处理文件: h180_202.xml\n"
     ]
    },
    {
     "name": "stderr",
     "output_type": "stream",
     "text": [
      "Processing files:  66%|██████▌   | 407/615 [00:07<00:06, 30.37it/s]"
     ]
    },
    {
     "name": "stdout",
     "output_type": "stream",
     "text": [
      "成功处理文件: h160_009.xml\n",
      "成功处理文件: h170_035.xml\n",
      "成功处理文件: h160_021.xml\n",
      "文件已存在，跳过处理: /Users/jessie/Documents/Projects/Cusanus_Topic_Modeling/data/processed/v180_161.txt\n",
      "文件已存在，跳过处理: /Users/jessie/Documents/Projects/Cusanus_Topic_Modeling/data/processed/v180_175.txt\n",
      "文件已存在，跳过处理: /Users/jessie/Documents/Projects/Cusanus_Topic_Modeling/data/processed/v180_149.txt\n",
      "成功处理文件: h180_148.xml\n",
      "成功处理文件: h180_174.xml\n",
      "成功处理文件: h180_160.xml\n",
      "文件已存在，跳过处理: /Users/jessie/Documents/Projects/Cusanus_Topic_Modeling/data/processed/v170_034.txt\n",
      "文件已存在，跳过处理: /Users/jessie/Documents/Projects/Cusanus_Topic_Modeling/data/processed/v160_020.txt\n",
      "文件已存在，跳过处理: /Users/jessie/Documents/Projects/Cusanus_Topic_Modeling/data/processed/v160_008.txt\n",
      "文件已存在，跳过处理: /Users/jessie/Documents/Projects/Cusanus_Topic_Modeling/data/processed/v160_024.txt\n",
      "文件已存在，跳过处理: /Users/jessie/Documents/Projects/Cusanus_Topic_Modeling/data/processed/v170_030.txt\n",
      "文件已存在，跳过处理: /Users/jessie/Documents/Projects/Cusanus_Topic_Modeling/data/processed/v160_018.txt\n",
      "成功处理文件: h180_158.xml\n"
     ]
    },
    {
     "name": "stderr",
     "output_type": "stream",
     "text": [
      "Processing files:  69%|██████▉   | 425/615 [00:07<00:04, 45.57it/s]"
     ]
    },
    {
     "name": "stdout",
     "output_type": "stream",
     "text": [
      "成功处理文件: h180_164.xml\n",
      "成功处理文件: h180_170.xml\n",
      "文件已存在，跳过处理: /Users/jessie/Documents/Projects/Cusanus_Topic_Modeling/data/processed/v180_171.txt\n",
      "文件已存在，跳过处理: /Users/jessie/Documents/Projects/Cusanus_Topic_Modeling/data/processed/v180_165.txt\n",
      "文件已存在，跳过处理: /Users/jessie/Documents/Projects/Cusanus_Topic_Modeling/data/processed/v180_159.txt\n",
      "成功处理文件: h160_019.xml\n",
      "成功处理文件: h160_025.xml\n",
      "成功处理文件: h170_031.xml\n",
      "成功处理文件: h190_206.xml\n",
      "成功处理文件: h190_212.xml\n",
      "文件已存在，跳过处理: /Users/jessie/Documents/Projects/Cusanus_Topic_Modeling/data/processed/v190_213.txt\n",
      "文件已存在，跳过处理: /Users/jessie/Documents/Projects/Cusanus_Topic_Modeling/data/processed/v190_207.txt\n",
      "文件已存在，跳过处理: /Users/jessie/Documents/Projects/Cusanus_Topic_Modeling/data/processed/v190_206.txt\n",
      "文件已存在，跳过处理: /Users/jessie/Documents/Projects/Cusanus_Topic_Modeling/data/processed/v190_212.txt\n",
      "成功处理文件: h190_213.xml\n"
     ]
    },
    {
     "name": "stderr",
     "output_type": "stream",
     "text": [
      "Processing files:  70%|███████   | 431/615 [00:07<00:04, 38.46it/s]"
     ]
    },
    {
     "name": "stdout",
     "output_type": "stream",
     "text": [
      "成功处理文件: h190_207.xml\n",
      "成功处理文件: h180_182_a.xml\n",
      "成功处理文件: h160_024.xml\n",
      "成功处理文件: h170_030.xml\n"
     ]
    },
    {
     "name": "stderr",
     "output_type": "stream",
     "text": [
      "Processing files:  72%|███████▏  | 445/615 [00:07<00:03, 47.58it/s]"
     ]
    },
    {
     "name": "stdout",
     "output_type": "stream",
     "text": [
      "成功处理文件: h160_018.xml\n",
      "文件已存在，跳过处理: /Users/jessie/Documents/Projects/Cusanus_Topic_Modeling/data/processed/v180_158.txt\n",
      "文件已存在，跳过处理: /Users/jessie/Documents/Projects/Cusanus_Topic_Modeling/data/processed/v180_164.txt\n",
      "文件已存在，跳过处理: /Users/jessie/Documents/Projects/Cusanus_Topic_Modeling/data/processed/v180_170.txt\n",
      "成功处理文件: h180_171.xml\n",
      "成功处理文件: h180_165.xml\n",
      "成功处理文件: h180_159.xml\n",
      "文件已存在，跳过处理: /Users/jessie/Documents/Projects/Cusanus_Topic_Modeling/data/processed/v160_019.txt\n",
      "文件已存在，跳过处理: /Users/jessie/Documents/Projects/Cusanus_Topic_Modeling/data/processed/v160_025.txt\n",
      "文件已存在，跳过处理: /Users/jessie/Documents/Projects/Cusanus_Topic_Modeling/data/processed/v170_031.txt\n",
      "文件已存在，跳过处理: /Users/jessie/Documents/Projects/Cusanus_Topic_Modeling/data/processed/v170_027.txt\n",
      "文件已存在，跳过处理: /Users/jessie/Documents/Projects/Cusanus_Topic_Modeling/data/processed/v170_033.txt\n",
      "成功处理文件: h180_198.xml\n",
      "成功处理文件: h180_173.xml\n",
      "成功处理文件: h180_167.xml\n",
      "文件已存在，跳过处理: /Users/jessie/Documents/Projects/Cusanus_Topic_Modeling/data/processed/v180_166.txt\n",
      "文件已存在，跳过处理: /Users/jessie/Documents/Projects/Cusanus_Topic_Modeling/data/processed/v180_172.txt\n",
      "成功处理文件: h170_032.xml\n",
      "文件已存在，跳过处理: /Users/jessie/Documents/Projects/Cusanus_Topic_Modeling/data/processed/v180_199.txt\n",
      "成功处理文件: h160_026.xml\n"
     ]
    },
    {
     "name": "stderr",
     "output_type": "stream",
     "text": [
      "Processing files:  75%|███████▌  | 462/615 [00:08<00:02, 60.79it/s]"
     ]
    },
    {
     "name": "stdout",
     "output_type": "stream",
     "text": [
      "成功处理文件: h190_239.xml\n",
      "成功处理文件: h190_211.xml\n",
      "成功处理文件: h190_205.xml\n",
      "文件已存在，跳过处理: /Users/jessie/Documents/Projects/Cusanus_Topic_Modeling/data/processed/v190_204.txt\n",
      "文件已存在，跳过处理: /Users/jessie/Documents/Projects/Cusanus_Topic_Modeling/data/processed/v190_210.txt\n",
      "文件已存在，跳过处理: /Users/jessie/Documents/Projects/Cusanus_Topic_Modeling/data/processed/v190_238.txt\n",
      "文件已存在，跳过处理: /Users/jessie/Documents/Projects/Cusanus_Topic_Modeling/data/processed/v190_239.txt\n",
      "文件已存在，跳过处理: /Users/jessie/Documents/Projects/Cusanus_Topic_Modeling/data/processed/v190_211.txt\n",
      "文件已存在，跳过处理: /Users/jessie/Documents/Projects/Cusanus_Topic_Modeling/data/processed/v190_205.txt\n",
      "成功处理文件: h190_204.xml\n",
      "成功处理文件: h190_210.xml\n",
      "成功处理文件: h190_238.xml\n"
     ]
    },
    {
     "name": "stderr",
     "output_type": "stream",
     "text": [
      "Processing files:  77%|███████▋  | 471/615 [00:08<00:02, 59.20it/s]"
     ]
    },
    {
     "name": "stdout",
     "output_type": "stream",
     "text": [
      "成功处理文件: h180_182_b.xml\n",
      "成功处理文件: h170_027.xml\n",
      "成功处理文件: h170_033.xml\n",
      "文件已存在，跳过处理: /Users/jessie/Documents/Projects/Cusanus_Topic_Modeling/data/processed/v180_198.txt\n",
      "文件已存在，跳过处理: /Users/jessie/Documents/Projects/Cusanus_Topic_Modeling/data/processed/v180_173.txt\n",
      "文件已存在，跳过处理: /Users/jessie/Documents/Projects/Cusanus_Topic_Modeling/data/processed/v180_167.txt\n",
      "成功处理文件: h180_166.xml\n",
      "成功处理文件: h180_172.xml\n",
      "文件已存在，跳过处理: /Users/jessie/Documents/Projects/Cusanus_Topic_Modeling/data/processed/v170_032.txt\n",
      "成功处理文件: h180_199.xml\n",
      "文件已存在，跳过处理: /Users/jessie/Documents/Projects/Cusanus_Topic_Modeling/data/processed/v160_026.txt\n",
      "文件已存在，跳过处理: /Users/jessie/Documents/Projects/Cusanus_Topic_Modeling/data/processed/v170_069.txt\n",
      "文件已存在，跳过处理: /Users/jessie/Documents/Projects/Cusanus_Topic_Modeling/data/processed/v170_041.txt\n",
      "文件已存在，跳过处理: /Users/jessie/Documents/Projects/Cusanus_Topic_Modeling/data/processed/v170_055.txt\n",
      "成功处理文件: h180_129.xml\n",
      "文件已存在，跳过处理: /Users/jessie/Documents/Projects/Cusanus_Topic_Modeling/data/processed/v170_082.txt\n",
      "文件已存在，跳过处理: /Users/jessie/Documents/Projects/Cusanus_Topic_Modeling/data/processed/v170_096.txt\n",
      "成功处理文件: h170_097.xml\n",
      "文件已存在，跳过处理: /Users/jessie/Documents/Projects/Cusanus_Topic_Modeling/data/processed/v180_128.txt\n",
      "成功处理文件: h170_083.xml\n"
     ]
    },
    {
     "name": "stderr",
     "output_type": "stream",
     "text": [
      "Processing files:  79%|███████▊  | 484/615 [00:08<00:01, 70.25it/s]"
     ]
    },
    {
     "name": "stdout",
     "output_type": "stream",
     "text": [
      "成功处理文件: h170_054.xml\n",
      "成功处理文件: h170_040.xml\n",
      "成功处理文件: h170_068.xml\n",
      "成功处理文件: h190_288.xml\n",
      "成功处理文件: h170_120.xml\n"
     ]
    },
    {
     "name": "stderr",
     "output_type": "stream",
     "text": [
      "Processing files:  80%|████████  | 492/615 [00:08<00:02, 48.31it/s]"
     ]
    },
    {
     "name": "stdout",
     "output_type": "stream",
     "text": [
      "成功处理文件: h190_277.xml\n",
      "成功处理文件: h190_263.xml\n",
      "成功处理文件: h170_108.xml\n",
      "文件已存在，跳过处理: /Users/jessie/Documents/Projects/Cusanus_Topic_Modeling/data/processed/v170_109.txt\n",
      "文件已存在，跳过处理: /Users/jessie/Documents/Projects/Cusanus_Topic_Modeling/data/processed/v190_262.txt\n",
      "文件已存在，跳过处理: /Users/jessie/Documents/Projects/Cusanus_Topic_Modeling/data/processed/v190_276.txt\n",
      "文件已存在，跳过处理: /Users/jessie/Documents/Projects/Cusanus_Topic_Modeling/data/processed/v170_121.txt\n",
      "文件已存在，跳过处理: /Users/jessie/Documents/Projects/Cusanus_Topic_Modeling/data/processed/v190_289.txt\n",
      "文件已存在，跳过处理: /Users/jessie/Documents/Projects/Cusanus_Topic_Modeling/data/processed/v190_288.txt\n",
      "文件已存在，跳过处理: /Users/jessie/Documents/Projects/Cusanus_Topic_Modeling/data/processed/v170_120.txt\n",
      "文件已存在，跳过处理: /Users/jessie/Documents/Projects/Cusanus_Topic_Modeling/data/processed/v190_277.txt\n",
      "文件已存在，跳过处理: /Users/jessie/Documents/Projects/Cusanus_Topic_Modeling/data/processed/v190_263.txt\n",
      "文件已存在，跳过处理: /Users/jessie/Documents/Projects/Cusanus_Topic_Modeling/data/processed/v170_108.txt\n",
      "成功处理文件: h170_109.xml\n",
      "成功处理文件: h190_262.xml\n"
     ]
    },
    {
     "name": "stderr",
     "output_type": "stream",
     "text": [
      "Processing files:  83%|████████▎ | 511/615 [00:09<00:02, 49.29it/s]"
     ]
    },
    {
     "name": "stdout",
     "output_type": "stream",
     "text": [
      "成功处理文件: h190_276.xml\n",
      "成功处理文件: h170_121.xml\n",
      "成功处理文件: h190_289.xml\n",
      "成功处理文件: h170_069.xml\n",
      "文件已存在，跳过处理: /Users/jessie/Documents/Projects/Cusanus_Topic_Modeling/data/processed/v170_079_b.txt\n",
      "成功处理文件: h170_041.xml\n",
      "成功处理文件: h170_055.xml\n",
      "文件已存在，跳过处理: /Users/jessie/Documents/Projects/Cusanus_Topic_Modeling/data/processed/v180_129.txt\n"
     ]
    },
    {
     "name": "stderr",
     "output_type": "stream",
     "text": [
      "Processing files:  86%|████████▌ | 526/615 [00:09<00:01, 65.94it/s]"
     ]
    },
    {
     "name": "stdout",
     "output_type": "stream",
     "text": [
      "成功处理文件: h170_082.xml\n",
      "成功处理文件: h170_096.xml\n",
      "文件已存在，跳过处理: /Users/jessie/Documents/Projects/Cusanus_Topic_Modeling/data/processed/v170_097.txt\n",
      "成功处理文件: h180_128.xml\n",
      "文件已存在，跳过处理: /Users/jessie/Documents/Projects/Cusanus_Topic_Modeling/data/processed/v170_083.txt\n",
      "文件已存在，跳过处理: /Users/jessie/Documents/Projects/Cusanus_Topic_Modeling/data/processed/v170_054.txt\n",
      "文件已存在，跳过处理: /Users/jessie/Documents/Projects/Cusanus_Topic_Modeling/data/processed/v170_040.txt\n",
      "文件已存在，跳过处理: /Users/jessie/Documents/Projects/Cusanus_Topic_Modeling/data/processed/v170_068.txt\n",
      "文件已存在，跳过处理: /Users/jessie/Documents/Projects/Cusanus_Topic_Modeling/data/processed/v170_056.txt\n",
      "文件已存在，跳过处理: /Users/jessie/Documents/Projects/Cusanus_Topic_Modeling/data/processed/v170_042.txt\n",
      "文件已存在，跳过处理: /Users/jessie/Documents/Projects/Cusanus_Topic_Modeling/data/processed/v170_095.txt\n",
      "文件已存在，跳过处理: /Users/jessie/Documents/Projects/Cusanus_Topic_Modeling/data/processed/v170_081.txt\n",
      "成功处理文件: h170_080.xml\n",
      "成功处理文件: h170_094.xml\n",
      "成功处理文件: h170_043.xml\n",
      "成功处理文件: h170_057.xml\n"
     ]
    },
    {
     "name": "stderr",
     "output_type": "stream",
     "text": [
      "Processing files:  87%|████████▋ | 534/615 [00:09<00:01, 53.97it/s]"
     ]
    },
    {
     "name": "stdout",
     "output_type": "stream",
     "text": [
      "成功处理文件: h190_260.xml\n",
      "成功处理文件: h190_274.xml\n",
      "成功处理文件: h190_248.xml\n",
      "文件已存在，跳过处理: /Users/jessie/Documents/Projects/Cusanus_Topic_Modeling/data/processed/v190_249.txt\n",
      "文件已存在，跳过处理: /Users/jessie/Documents/Projects/Cusanus_Topic_Modeling/data/processed/v190_275.txt\n",
      "文件已存在，跳过处理: /Users/jessie/Documents/Projects/Cusanus_Topic_Modeling/data/processed/v190_261.txt\n",
      "文件已存在，跳过处理: /Users/jessie/Documents/Projects/Cusanus_Topic_Modeling/data/processed/v190_260.txt\n",
      "文件已存在，跳过处理: /Users/jessie/Documents/Projects/Cusanus_Topic_Modeling/data/processed/v190_274.txt\n",
      "文件已存在，跳过处理: /Users/jessie/Documents/Projects/Cusanus_Topic_Modeling/data/processed/v190_248.txt\n",
      "成功处理文件: h190_249.xml\n"
     ]
    },
    {
     "name": "stderr",
     "output_type": "stream",
     "text": [
      "Processing files:  90%|█████████ | 556/615 [00:09<00:00, 71.12it/s]"
     ]
    },
    {
     "name": "stdout",
     "output_type": "stream",
     "text": [
      "成功处理文件: h190_275.xml\n",
      "成功处理文件: h190_261.xml\n",
      "文件已存在，跳过处理: /Users/jessie/Documents/Projects/Cusanus_Topic_Modeling/data/processed/v170_079_a.txt\n",
      "成功处理文件: h170_056.xml\n",
      "成功处理文件: h170_042.xml\n",
      "成功处理文件: h170_095.xml\n",
      "成功处理文件: h170_081.xml\n",
      "文件已存在，跳过处理: /Users/jessie/Documents/Projects/Cusanus_Topic_Modeling/data/processed/v170_080.txt\n",
      "文件已存在，跳过处理: /Users/jessie/Documents/Projects/Cusanus_Topic_Modeling/data/processed/v170_094.txt\n",
      "文件已存在，跳过处理: /Users/jessie/Documents/Projects/Cusanus_Topic_Modeling/data/processed/v170_043.txt\n",
      "文件已存在，跳过处理: /Users/jessie/Documents/Projects/Cusanus_Topic_Modeling/data/processed/v170_057.txt\n",
      "文件已存在，跳过处理: /Users/jessie/Documents/Projects/Cusanus_Topic_Modeling/data/processed/v170_053.txt\n",
      "文件已存在，跳过处理: /Users/jessie/Documents/Projects/Cusanus_Topic_Modeling/data/processed/v170_047.txt\n",
      "文件已存在，跳过处理: /Users/jessie/Documents/Projects/Cusanus_Topic_Modeling/data/processed/v170_090.txt\n",
      "文件已存在，跳过处理: /Users/jessie/Documents/Projects/Cusanus_Topic_Modeling/data/processed/v170_084.txt\n",
      "成功处理文件: h170_079_a.xml\n",
      "成功处理文件: h170_085.xml\n",
      "成功处理文件: h170_091.xml\n",
      "成功处理文件: h170_046.xml\n",
      "成功处理文件: h170_052.xml\n",
      "成功处理文件: h190_259.xml\n",
      "成功处理文件: lemma.xml\n"
     ]
    },
    {
     "name": "stderr",
     "output_type": "stream",
     "text": [
      "Processing files:  92%|█████████▏| 565/615 [00:10<00:01, 39.51it/s]"
     ]
    },
    {
     "name": "stdout",
     "output_type": "stream",
     "text": [
      "成功处理文件: h190_265.xml\n",
      "成功处理文件: h190_271.xml\n",
      "文件已存在，跳过处理: /Users/jessie/Documents/Projects/Cusanus_Topic_Modeling/data/processed/v190_270.txt\n",
      "文件已存在，跳过处理: /Users/jessie/Documents/Projects/Cusanus_Topic_Modeling/data/processed/v190_264.txt\n",
      "文件已存在，跳过处理: /Users/jessie/Documents/Projects/Cusanus_Topic_Modeling/data/processed/v190_258.txt\n",
      "文件已存在，跳过处理: /Users/jessie/Documents/Projects/Cusanus_Topic_Modeling/data/processed/v190_259.txt\n",
      "文件已存在，跳过处理: /Users/jessie/Documents/Projects/Cusanus_Topic_Modeling/data/processed/v190_265.txt\n",
      "文件已存在，跳过处理: /Users/jessie/Documents/Projects/Cusanus_Topic_Modeling/data/processed/v190_271.txt\n",
      "成功处理文件: h190_270.xml\n",
      "成功处理文件: h190_264.xml\n",
      "成功处理文件: h190_258.xml\n",
      "成功处理文件: h170_053.xml\n"
     ]
    },
    {
     "name": "stderr",
     "output_type": "stream",
     "text": [
      "Processing files:  96%|█████████▋| 593/615 [00:10<00:00, 60.90it/s]"
     ]
    },
    {
     "name": "stdout",
     "output_type": "stream",
     "text": [
      "成功处理文件: h170_047.xml\n",
      "成功处理文件: h170_090.xml\n",
      "成功处理文件: h170_084.xml\n",
      "文件已存在，跳过处理: /Users/jessie/Documents/Projects/Cusanus_Topic_Modeling/data/processed/v170_085.txt\n",
      "文件已存在，跳过处理: /Users/jessie/Documents/Projects/Cusanus_Topic_Modeling/data/processed/v170_091.txt\n",
      "文件已存在，跳过处理: /Users/jessie/Documents/Projects/Cusanus_Topic_Modeling/data/processed/v170_046.txt\n",
      "文件已存在，跳过处理: /Users/jessie/Documents/Projects/Cusanus_Topic_Modeling/data/processed/v170_052.txt\n",
      "文件已存在，跳过处理: /Users/jessie/Documents/Projects/Cusanus_Topic_Modeling/data/processed/v170_044.txt\n",
      "文件已存在，跳过处理: /Users/jessie/Documents/Projects/Cusanus_Topic_Modeling/data/processed/v170_050.txt\n",
      "文件已存在，跳过处理: /Users/jessie/Documents/Projects/Cusanus_Topic_Modeling/data/processed/v170_078.txt\n",
      "文件已存在，跳过处理: /Users/jessie/Documents/Projects/Cusanus_Topic_Modeling/data/processed/v170_087.txt\n",
      "成功处理文件: h180_138.xml\n",
      "文件已存在，跳过处理: /Users/jessie/Documents/Projects/Cusanus_Topic_Modeling/data/processed/v170_093.txt\n",
      "成功处理文件: h170_079_b.xml\n",
      "文件已存在，跳过处理: /Users/jessie/Documents/Projects/Cusanus_Topic_Modeling/data/processed/v180_139.txt\n",
      "成功处理文件: h170_092.xml\n",
      "成功处理文件: h170_086.xml\n",
      "成功处理文件: h170_079.xml\n",
      "成功处理文件: h170_051.xml\n",
      "成功处理文件: h170_045.xml\n",
      "成功处理文件: h170_119.xml\n",
      "成功处理文件: h190_272.xml\n",
      "成功处理文件: h190_266.xml\n",
      "文件已存在，跳过处理: /Users/jessie/Documents/Projects/Cusanus_Topic_Modeling/data/processed/v190_267.txt\n",
      "文件已存在，跳过处理: /Users/jessie/Documents/Projects/Cusanus_Topic_Modeling/data/processed/v190_273.txt\n",
      "文件已存在，跳过处理: /Users/jessie/Documents/Projects/Cusanus_Topic_Modeling/data/processed/v170_118.txt\n",
      "文件已存在，跳过处理: /Users/jessie/Documents/Projects/Cusanus_Topic_Modeling/data/processed/v170_119.txt\n",
      "文件已存在，跳过处理: /Users/jessie/Documents/Projects/Cusanus_Topic_Modeling/data/processed/v190_272.txt\n",
      "文件已存在，跳过处理: /Users/jessie/Documents/Projects/Cusanus_Topic_Modeling/data/processed/v190_266.txt\n"
     ]
    },
    {
     "name": "stderr",
     "output_type": "stream",
     "text": [
      "Processing files: 100%|██████████| 615/615 [00:10<00:00, 57.14it/s]"
     ]
    },
    {
     "name": "stdout",
     "output_type": "stream",
     "text": [
      "成功处理文件: h190_267.xml\n",
      "成功处理文件: h190_273.xml\n",
      "成功处理文件: h170_118.xml\n",
      "成功处理文件: h170_044.xml\n",
      "成功处理文件: h170_050.xml\n",
      "成功处理文件: h170_078.xml\n",
      "成功处理文件: h170_087.xml\n",
      "文件已存在，跳过处理: /Users/jessie/Documents/Projects/Cusanus_Topic_Modeling/data/processed/v180_138.txt\n",
      "成功处理文件: h170_093.xml\n",
      "成功处理文件: h180_139.xml\n",
      "文件已存在，跳过处理: /Users/jessie/Documents/Projects/Cusanus_Topic_Modeling/data/processed/v170_092.txt\n",
      "文件已存在，跳过处理: /Users/jessie/Documents/Projects/Cusanus_Topic_Modeling/data/processed/v170_086.txt\n",
      "文件已存在，跳过处理: /Users/jessie/Documents/Projects/Cusanus_Topic_Modeling/data/processed/v170_079.txt\n",
      "文件已存在，跳过处理: /Users/jessie/Documents/Projects/Cusanus_Topic_Modeling/data/processed/v170_051.txt\n",
      "文件已存在，跳过处理: /Users/jessie/Documents/Projects/Cusanus_Topic_Modeling/data/processed/v170_045.txt\n"
     ]
    },
    {
     "name": "stderr",
     "output_type": "stream",
     "text": [
      "\n"
     ]
    }
   ],
   "source": [
    "# 运行数据预处理\n",
    "process_directory('data/raw', 'data/processed')"
   ]
  }
 ],
 "metadata": {
  "kernelspec": {
   "display_name": ".venv",
   "language": "python",
   "name": "python3"
  },
  "language_info": {
   "codemirror_mode": {
    "name": "ipython",
    "version": 3
   },
   "file_extension": ".py",
   "mimetype": "text/x-python",
   "name": "python",
   "nbconvert_exporter": "python",
   "pygments_lexer": "ipython3",
   "version": "3.10.15"
  }
 },
 "nbformat": 4,
 "nbformat_minor": 2
}
