{
 "cells": [
  {
   "cell_type": "markdown",
   "metadata": {},
   "source": [
    "# 01_preprocessing.ipynb\n",
    "\n",
    "## Objective\n",
    "\n",
    "Preprocess Cusanus' sermons for topic modeling:\n",
    "\n",
    "- Load and parse TEI XML files.\n",
    "- Clean, normalize, and lemmatize text.\n",
    "- Save cleaned text for further analysis.\n"
   ]
  },
  {
   "cell_type": "code",
   "execution_count": null,
   "metadata": {},
   "outputs": [],
   "source": [
    "!pip install beautifulsoup4"
   ]
  },
  {
   "cell_type": "code",
   "execution_count": null,
   "metadata": {},
   "outputs": [],
   "source": [
    "!pip install lxml\n"
   ]
  },
  {
   "cell_type": "code",
   "execution_count": 3,
   "metadata": {},
   "outputs": [],
   "source": [
    "import os\n",
    "from bs4 import BeautifulSoup\n",
    "from tqdm import tqdm\n"
   ]
  },
  {
   "cell_type": "code",
   "execution_count": 4,
   "metadata": {},
   "outputs": [],
   "source": [
    "# Preprocess the XML content and extract the word-level text\n",
    "def preprocess_text(xml_data):\n",
    "    \"\"\"\n",
    "    Process the XML content and extract the word-level text, ensuring to handle line breaks and special characters.\n",
    "    \n",
    "    Args:\n",
    "    xml_data (str): XML content in string format.\n",
    "\n",
    "    Returns:\n",
    "    str: Processed text from the XML content.\n",
    "    \"\"\"\n",
    "    try:\n",
    "        # Parse the XML content using BeautifulSoup\n",
    "        soup = BeautifulSoup(xml_data, \"lxml-xml\")\n",
    "        \n",
    "        # Extract text within <w> tags\n",
    "        words = [w.get_text() for w in soup.find_all('w')]\n",
    "        \n",
    "        # Join the words and clean up line breaks\n",
    "        text_output = \" \".join(words).replace(\"\\n\", \" \").strip()\n",
    "\n",
    "        return text_output\n",
    "    except Exception as e:\n",
    "        print(f\"Error processing XML: {e}\")\n",
    "        return \"\""
   ]
  },
  {
   "cell_type": "code",
   "execution_count": null,
   "metadata": {},
   "outputs": [],
   "source": [
    "# Process all XML files in the input directory  \n",
    "def process_files(input_dir, output_dir):\n",
    "    \"\"\"\n",
    "    Processes all XML files in the input directory and saves the processed text to the output directory.\n",
    "    \n",
    "    Args:\n",
    "    input_dir (str): The directory containing the raw XML files.\n",
    "    output_dir (str): The directory to save processed text files.\n",
    "    \"\"\"\n",
    "    if not os.path.exists(output_dir):\n",
    "        os.makedirs(output_dir)\n",
    "    \n",
    "    files = [f for f in os.listdir(input_dir) if f.endswith('.xml')]\n",
    "    \n",
    "    for filename in tqdm(files, desc=\"Processing files\"):\n",
    "        input_path = os.path.join(input_dir, filename)\n",
    "        output_path = os.path.join(output_dir, f\"{os.path.splitext(filename)[0]}_processed.txt\")\n",
    "\n",
    "        try:\n",
    "            with open(input_path, 'r', encoding='utf-8') as file:\n",
    "                xml_content = file.read()\n",
    "\n",
    "            processed_text = preprocess_text(xml_content)\n",
    "\n",
    "            with open(output_path, 'w', encoding='utf-8') as output_file:\n",
    "                output_file.write(processed_text)\n",
    "\n",
    "        except Exception as e:\n",
    "            print(f\"Failed to process {filename}: {e}\")\n",
    "    \n",
    "    print(\"\\nAll files have been successfully processed!\")"
   ]
  },
  {
   "cell_type": "code",
   "execution_count": null,
   "metadata": {},
   "outputs": [],
   "source": [
    "# Test the preprocess function\n",
    "def test_preprocess():\n",
    "    test_xml = '''\n",
    "    <TEI.2>\n",
    "      <text>\n",
    "        <body>\n",
    "          <p>\n",
    "            <w id=\"C160375504\" lemma_l=\"10242\">Verbum</w> \n",
    "            <w id=\"C160375505\" lemma_l=\"1433\">caro</w> \n",
    "            <w id=\"C160375506\" lemma_l=\"3761\">factum</w> \n",
    "            <w id=\"C160375507\" lemma_l=\"9483\">est</w>.\n",
    "          </p>\n",
    "        </body>\n",
    "      </text>\n",
    "    </TEI.2>\n",
    "    '''\n",
    "\n",
    "    # Test the preprocess function\n",
    "    processed_test_text = preprocess_text(test_xml)\n",
    "    print(f\"Processed test text: {processed_test_text}\")"
   ]
  },
  {
   "cell_type": "code",
   "execution_count": 6,
   "metadata": {},
   "outputs": [],
   "source": [
    "# Run the preprocessing function\n",
    "if __name__ == \"__main__\":\n",
    "    current_dir = os.path.dirname(os.path.abspath(__file__))\n",
    "    input_dir = os.path.join(current_dir, '../data/raw/')\n",
    "    output_dir = os.path.join(current_dir, '../data/processed/')\n",
    "    \n",
    "    process_files(input_dir, output_dir)\n",
    "    \n",
    "    # test_preprocess()"
   ]
  },
  {
   "cell_type": "code",
   "execution_count": null,
   "metadata": {},
   "outputs": [],
   "source": []
  }
 ],
 "metadata": {
  "kernelspec": {
   "display_name": ".venv",
   "language": "python",
   "name": "python3"
  },
  "language_info": {
   "codemirror_mode": {
    "name": "ipython",
    "version": 3
   },
   "file_extension": ".py",
   "mimetype": "text/x-python",
   "name": "python",
   "nbconvert_exporter": "python",
   "pygments_lexer": "ipython3",
   "version": "3.10.15"
  }
 },
 "nbformat": 4,
 "nbformat_minor": 2
}
