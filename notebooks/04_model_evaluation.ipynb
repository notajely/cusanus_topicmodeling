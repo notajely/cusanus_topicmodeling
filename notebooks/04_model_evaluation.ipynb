{
 "cells": [
  {
   "cell_type": "markdown",
   "metadata": {},
   "source": [
    "# 04_model_evaluation.ipynb\n",
    "\n",
    "## Objective\n",
    "Evaluate the LDA model:\n",
    "- Calculate coherence scores and perplexity.\n",
    "- Review topics for quality and interpretability.\n"
   ]
  }
 ],
 "metadata": {
  "language_info": {
   "name": "python"
  }
 },
 "nbformat": 4,
 "nbformat_minor": 2
}
