{
 "cells": [
  {
   "cell_type": "code",
   "execution_count": 1,
   "metadata": {},
   "outputs": [
    {
     "name": "stderr",
     "output_type": "stream",
     "text": [
      "2024-11-08 17:10:17.540 python[12499:84999] getMetalPluginClassForService: Failed to find bundle for accelerator bundle named: AGXMetalA12 errno: 0\n"
     ]
    },
    {
     "name": "stdout",
     "output_type": "stream",
     "text": [
      "Intel MKL WARNING: Support of Intel(R) Streaming SIMD Extensions 4.2 (Intel(R) SSE4.2) enabled only processors has been deprecated. Intel oneAPI Math Kernel Library 2025.0 will require Intel(R) Advanced Vector Extensions (Intel(R) AVX) instructions.\n"
     ]
    }
   ],
   "source": [
    "import os\n",
    "import time\n",
    "import logging\n",
    "import pickle\n",
    "import tqdm\n",
    "import json\n",
    "from bertopic import BERTopic\n",
    "from sklearn.feature_extraction.text import CountVectorizer\n",
    "from umap import UMAP\n",
    "from transformers import AutoTokenizer, AutoModel\n",
    "import torch\n",
    "import pandas as pd\n",
    "import collections\n",
    "import numpy as np\n",
    "from gensim.corpora import Dictionary\n",
    "from gensim.models.coherencemodel import CoherenceModel\n",
    "from numba import jit\n"
   ]
  },
  {
   "cell_type": "code",
   "execution_count": 2,
   "metadata": {},
   "outputs": [],
   "source": [
    "BASE_DIR = '/Users/jessie/Documents/Projects/Cusanus_Topic_Modeling'"
   ]
  },
  {
   "cell_type": "code",
   "execution_count": 3,
   "metadata": {},
   "outputs": [],
   "source": [
    "experiment_id = f\"bertopic_experiment_{int(time.time())}\"\n",
    "experiment_dir = os.path.join(BASE_DIR, 'experiments', experiment_id)\n",
    "if not os.path.exists(experiment_dir):\n",
    "    os.makedirs(experiment_dir)"
   ]
  },
  {
   "cell_type": "code",
   "execution_count": 4,
   "metadata": {},
   "outputs": [
    {
     "name": "stderr",
     "output_type": "stream",
     "text": [
      "2024-11-08 17:10:31,885 - INFO - 启动实验 bertopic_experiment_1731082231，日志记录到 /Users/jessie/Documents/Projects/Cusanus_Topic_Modeling/experiments/bertopic_experiment_1731082231/bertopic_experiment_bertopic_experiment_1731082231.log\n"
     ]
    },
    {
     "name": "stdout",
     "output_type": "stream",
     "text": [
      "启动实验 bertopic_experiment_1731082231，日志记录到 /Users/jessie/Documents/Projects/Cusanus_Topic_Modeling/experiments/bertopic_experiment_1731082231/bertopic_experiment_bertopic_experiment_1731082231.log\n"
     ]
    }
   ],
   "source": [
    "log_file_path = os.path.join(experiment_dir, f\"bertopic_experiment_{experiment_id}.log\")\n",
    "logger = logging.getLogger()\n",
    "if logger.hasHandlers():\n",
    "    logger.handlers.clear()\n",
    "logger.setLevel(logging.INFO)\n",
    "formatter = logging.Formatter(\"%(asctime)s - %(levelname)s - %(message)s\")\n",
    "file_handler = logging.FileHandler(log_file_path)\n",
    "file_handler.setFormatter(formatter)\n",
    "logger.addHandler(file_handler)\n",
    "console_handler = logging.StreamHandler()\n",
    "console_handler.setFormatter(formatter)\n",
    "logger.addHandler(console_handler)\n",
    "logger.info(f\"启动实验 {experiment_id}，日志记录到 {log_file_path}\")\n",
    "print(f\"启动实验 {experiment_id}，日志记录到 {log_file_path}\")"
   ]
  },
  {
   "cell_type": "code",
   "execution_count": 5,
   "metadata": {},
   "outputs": [
    {
     "name": "stderr",
     "output_type": "stream",
     "text": [
      "2024-11-08 17:10:31,931 - INFO - 实验配置已保存到 /Users/jessie/Documents/Projects/Cusanus_Topic_Modeling/experiments/bertopic_experiment_1731082231/config.json\n"
     ]
    },
    {
     "name": "stdout",
     "output_type": "stream",
     "text": [
      "实验配置已保存到 /Users/jessie/Documents/Projects/Cusanus_Topic_Modeling/experiments/bertopic_experiment_1731082231/config.json\n"
     ]
    }
   ],
   "source": [
    "experiment_config = {\n",
    "    \"parameters\": {\n",
    "        \"n_gram_range\": (1, 2),\n",
    "        \"min_topic_size\": 2,\n",
    "        \"nr_topics\": \"auto\",\n",
    "        \"umap_params\": {\n",
    "            \"n_neighbors\": 15,\n",
    "            \"min_dist\": 0.1,\n",
    "            \"n_components\": 5,\n",
    "            \"random_state\": 42\n",
    "        }\n",
    "    }\n",
    "}\n",
    "config_path = os.path.join(experiment_dir, 'config.json')\n",
    "with open(config_path, 'w') as config_file:\n",
    "    json.dump(experiment_config, config_file, indent=4)\n",
    "logger.info(f\"实验配置已保存到 {config_path}\")\n",
    "print(f\"实验配置已保存到 {config_path}\")"
   ]
  },
  {
   "cell_type": "code",
   "execution_count": 6,
   "metadata": {},
   "outputs": [
    {
     "name": "stderr",
     "output_type": "stream",
     "text": [
      "2024-11-08 17:10:31,947 - INFO - 加载 Latin-BERT 嵌入模型...\n"
     ]
    }
   ],
   "source": [
    "logger.info(\"加载 Latin-BERT 嵌入模型...\")\n",
    "model_path = \"/Users/jessie/Documents/Projects/Cusanus_Topic_Modeling/latin-bert/models/latin_bert\"\n",
    "tokenizer = AutoTokenizer.from_pretrained(model_path)\n",
    "bert_model = AutoModel.from_pretrained(model_path)\n",
    "def get_embeddings(texts):\n",
    "    tokens = tokenizer(texts, padding=True, truncation=True, return_tensors=\"pt\", max_length=512)\n",
    "    with torch.no_grad():\n",
    "        embeddings = bert_model(**tokens).last_hidden_state.mean(dim=1)\n",
    "    return embeddings"
   ]
  },
  {
   "cell_type": "code",
   "execution_count": 7,
   "metadata": {},
   "outputs": [],
   "source": [
    "vectorizer_model = CountVectorizer(\n",
    "    ngram_range=experiment_config[\"parameters\"][\"n_gram_range\"],\n",
    "    token_pattern=r\"(?u)\\b\\w+\\b\"\n",
    ")\n",
    "custom_umap = UMAP(\n",
    "    n_neighbors=experiment_config[\"parameters\"][\"umap_params\"][\"n_neighbors\"],\n",
    "    min_dist=experiment_config[\"parameters\"][\"umap_params\"][\"min_dist\"],\n",
    "    n_components=experiment_config[\"parameters\"][\"umap_params\"][\"n_components\"],\n",
    "    random_state=experiment_config[\"parameters\"][\"umap_params\"][\"random_state\"]\n",
    ")"
   ]
  },
  {
   "cell_type": "code",
   "execution_count": 8,
   "metadata": {},
   "outputs": [
    {
     "name": "stderr",
     "output_type": "stream",
     "text": [
      "2024-11-08 17:10:32,589 - INFO - 加载测试集数据...\n",
      "Loading testset files: 100%|██████████| 61/61 [00:00<00:00, 7556.86it/s]\n",
      "2024-11-08 17:10:32,641 - INFO - 加载了 61 个文档用于 BERTopic 实验。\n",
      "2024-11-08 17:10:32,642 - INFO - 文档列表包含 61 个文档。\n"
     ]
    },
    {
     "name": "stdout",
     "output_type": "stream",
     "text": [
      "['humanus infirmitas caro membrum romanus qui¬dam liber communis membrum exhibeo servio iniquitas immunditia iniquitas exhibeo membrum servio justitia sanc¬tificatio doctor gens hu¬manum loquor respondeo quae¬stio christianus propono debeo assequor vita aeternus saltem servio justitia sanctificatio servio iniquitas im¬munditiae iniquitas perfec¬ta iustitia requiro magnus dilectio humaniter dico2 saltem cum2 parvus fer¬ventia servio justitia prior ser¬viebatur immunditia consido unus¬quisque volo christianus acqui¬renda sanctificatio saltem sollicitus servio immunditia iniquitas converto servitium justitia derelinquo servitium iniqui¬tas consido fructus iniquitas cogito immunditiam pecco caro genero eru¬bescentiam finis pecco mors libero verus pecco fides christus fructus sancti¬ficatio finis verus vita aeternus stipendium pecco mors gratia deus sanc¬ti vito aeternus christus iesus attendo cum2 diligentia iniquitas caro immunditia servio asse¬quendum iniquitas cum2 vigilo labor adhibeo misero immunditia nobilis hastiludiis periculosus placeo diligo exerceo membrum servitium periculum subjaceo miser servio pecco anima vita aeternus neglego momentaneam delecta¬tio assequantur dimitto eru¬bescentiam memoria finis mors servio immunditia mors acceleratur mercator considero dives mundus cum2 quan¬to labor periculum servio mammonae divi¬tiis servitium accedo mors acquisitio divitiaris im¬mensos labor prolongat vita mors acceleraris considero cum2 diligentia juvenis chorea accedo orno gravis levis1 finis sta¬bilis bonus superbia volo sollicitus laboriosus finis fatuitas vacuitas provocatio odium1 men¬suret exhibeo membrum iusti¬tiae exhibeo iniquitas spero sanctificatio gratia vita aeternus oportet anima pulcher1 orna¬tissimam debeo gratus deus dono sponsum iustitia pul¬chritudo deus gratus philo¬sophos decus lucifer hespe¬rum validus divino solus bonus respicio alienus animus communis utilitas servo uniquique tribuo dignita¬tem homo ordino deus debeo subiectio dilectio laus subjectio nobilitatio in¬ferius subicio superus conjungo no¬bilitatur aër subicio caelum nobilito ra¬dio sol remaneo tenebrosus absum totus perfectio materia subjectio forma anima sensibilis homo nobilior bestia subicio conjungo rational dilectio deus debeo homo iustitia servo unamquamque quan¬do exhibeo vesti¬mentum induo comb¬uratur vinum bibo1 effundo vestio comburo vinum effundo iustus bonus diligo purus bonus purus diligo deus purus bonus debeo magnus diligo bonus participatio creaturis lux candela sol bonus creaturis bonus creator augustinus paruus amo deus amo amo debeo deus laudatio laudatio dominus loquor os pars turpis congruo totus om¬nia creo laudo glorificant deus psal¬mo laudo dominus caelis homi¬nes laudo dominus gens iustitia ordino homo pro¬ximum pius subventio sufficio unus indigeo dominus servo servus1 dominus mutuus debeo servio complacere debeo sper¬nere nobilis oculus sperno pedis manus oculus dirigo manus manus pur¬gat oculus apostolus onus portas ordino homo iustitia proxi¬mum conservatio amicitia social necessarius prosperitas amicus homo teneo status arbor con¬quassatio venio radix teneo homo adversitas amicus consolo senectus amicus necessarius sub¬veniant retraho pecco aristo¬telis homo necessarius vita eligo vivo amicus debeo propior narratio verus lingua nuntius cor¬dis diminutae veritas filius homi¬num', 'commemoratio lucae clementinis dominus sanctus reliquiae veneratio sanc¬tor vir honorabilis christus dilectus fra¬tres insto devotio tempus tempus piger cor redeo debeo salus cor inflammo cari¬tas ardor sedulus meditatio pensaris excusatio sperno eloquen¬tiae fuco scientia vito ineptissi¬mus sperno allegatio simplex quoad conor cunctipotentis gratia mens via salutaris meditatio incitaris meditatio verbum exprimo instituo inardescat ignis spirital affectio qui1 anima sacro passio tempus divinus amor gaudium vitalis incalesco eapropter dilectus utor doctrina urbanus reliquiae veneratio sancio dominus exordior intentio laus sacrosanctus sacramentum novus lex utor exordior commemoratio epilogus tres tres tempus magnus ecclesiastici vir superus studium meditaris debeo memoria acerbus passio salvator salutifer eucharistiae sacramentum dies pius testamentum legatus necnon tertius sacramentum confectio cum2 quattuor effectus materia forma per¬ceptio praeho verbum christus salvator ostendo thema diligo finis diligo manifestus secundus doctor superus sacerdotium apostolus verbum confero quoad sacro sacramentum confectio finis dilectio superus nox cena superus amor con¬vivio superus nostraris anima salus magnus sacerdos sermo mereo thema dirigo apostolo¬rum successor consecrativa potestas subsidiarius oratio verus deus virtus spiritus ora excel¬lenti divino supernus spiritual materia dominus postulo paruus sincerus cor devoto oratio placo verbum incarnati virgo mater nostraris pre¬cum advoco sollicitatrix mare cum2 aperio os impleo spiritus sapien¬tiae auditus auris oboedienter cor inflammetur singuli mens pius dico2 avus mare trinitas dominus deus infinitus boni¬tas cum2 aeternus essentia absque otium torpor bonificavit bonificabilis amo amabilis intellego intellegibilis bonificaris amo intellego uni¬tas essentia trinitas simplicissima unitas unissima facilis credo vivo deus bonus absque otium essentia bonificans pater appello essentia relati¬vum bonificabilis deus filius bonificaris amo spiritus sancio appello placeo bonitas effluenti essen¬tiam bonificaris crearis creo tripli¬cem natura spiritual corporal misceo spiritual brevis transeo libertas arbitrium pars sto recta humilis caritativa subiectio pars superbia rebellio blasphemia cado homo misceo corpus spiritus imago similitudo sancio trinitas essentia creo foris amoenitas paradisus decoro intus plenus notitia perficio impleo qui¬dem intellego voluntas memoria cum2 angelus sensus corporeos cum2 brutus1 homo effluo superus bonus principium superus finis alpha ome¬ga armo ratio sensus sub¬iugaret voluntas deus amo intro2 memoria stabilis firma¬ret vis appetitivam concupiscibilis cum2 delectatio affectio cari¬tas erigo irascibilis indig¬nanter deus amo contrarius repello cum2 spes audacia deus cunctus validus bonus bonus bonus nihilum similitudo ratio bonus deus bonitas magnus verus tristitia dolor habitualiter poten¬tialiter homo peccatum pono actus unus unitas unus concordia vireo1 voluntas ratio sensus pareo concordia original iustitia deus adae tribuo sanctus voco casus homo primus proto¬plasti parvus pendeo ordo concreatum deus tendo pervertentes deus praecipio praevaricatio separo imperial justus mando1 edo1 pomum transgressor gravis poena mando1 annexam puto hora comederitis mors morior verus cunctus humanus genus vis produc¬tiva seminal ratio latito cado bernardus cado lutum1 acervus lapis coinquino original culpa collido confringo vis potentiis anima optume dis¬positis gravis vulnero amitto origi¬nal iustitia casus deus justus iudicium vireo1 affectio anima status prolabor diminutae deordinatae de¬structae contrarius experior sensualitas volo1 concupiscibilis irascibilis voluntas contrarian¬tur voluntas ratio frequens ago ratio vireo1 pronus malus pro¬clives illicitus concupisco ratio caecus erronea falsum verus uto curiosus inutilis involvo voluntas car¬nalia diligo saepis spiritualia volo1 concu¬piscibilis prolabor concupiscentia car¬nis concupiscentia oculus carnal vo¬luptas irascibilis deordinata prolabor superbia vita gloria mundanam spes spero deus divitiae proprius meritum tristamur amissio divitiaris despicio mundus irasco frater totus homo discordantiam via rectitudo amissio original iusti¬tiae labor contraho disproportio vis aversio homo malus exercitium limositas viscositas concu¬piscentiis vis anima glutinosus lubricitas inferus ligo1 retineo fili¬us prodigus abeo regio longinquus totus substantia fornicatio con¬sumens longus deus abeo porco¬rum custos diabolus servio prae¬cepta custodio homo venio regio dissimilitudo longus deus revorto incarnatio deus homi¬nem salus finis resisto iusti¬tia pervenio cum2 sententia adam eva cum2 posterus mortuus resurgo aeternus mors valeo vita praesto creo deus vivo deus homo vita creo restituo similitudo angelus peccatum proveho praecedo integer satisfactio oportet deus debeo supero deus peccaris deus exhono¬raris homo debeo cunctus deus pereo debeo ratio exigo vereor immutabilis pecco reddo deus honor aufero magnus exhonoraris debeo humanus natura solus habe¬bat satisfactio finis regnum pervenio deus bonitas dilectio efficacia unit amo amo medium tempus secundus medium mundus medius silentium teneo medius creatura ho¬mini unio2 communis creatu¬raris deus descendo salus creo unio¬nem deus homo exaltaretur finis pervenio christus jesus verbum incar¬natum sententia mors mors mors morior alieno immolatio infinitus delinquo macula infinitus deus infini¬tum crimen laedo maiestas committo praeceptum levitici necessarius christus pontifex magnus accedo altare immolo hostio1 purus placabilis dignus facinus infinitus satisfieret invenio unus hostia purus christus jesus ob¬tulit mortuus volo volo augustinus trinitas unus verus mediator sacrificium pax reconcilio deus unus cum2 maneo offertor pater unus face¬ret offero unus offero relinquo memorial sacrificium sacramentum origi¬nal peccatum eximius careo relinquo sacerdos instituo sacramentum cum2 corpus christus sacrificium peccatum populus actual offertor tango sacrificium volo relin¬quere altare crux offero christus sacerdos sacrificium offertor unus sacerdos unus oblatio sacrificium cum2 sacrificium relinquo sacramen¬tum cibus magnus unio2 cibus cibati cibus spiritual conver¬tit cibo audio augustinus cibus grandis muto cibus caro muto modus presbyteri[i dius mutatio filius excello inferus tango pars mysterium passio sacrificium elevemus mens contemplo audio dilectus primus pa¬rentes corrumpo abominabilis iniquitas eapropter bonus domi¬num jesum christum deitas humanitas hypostaticam unio superus gradus exalto consequor creo homo deus unita unus creo mundus unus deus filius incarnan¬dum verbum carus1 finis venio debeo humanitas deitas unita magnus honor deus impendeo deus christus cum2 summus humilitas volun¬tarie offero ara crux contemplaris anima christiana anima gravis mors resuscitata anima misero servi¬tus sanguis deus redempto excio mens memento resuscitatio redemptio libertatio accipio doctrina via honoro deus tollo unusquisque cru¬cem sequor via christus christus uniatur mediator ascenderit finis pervenio humilio exalto vita mundus custodio nitor per¬det via pervenio caritas perficio vivo morior unus christus adhaereo bonus pono totus spes vito vivo spes morior salus spero obliviscaris aeternus hereditas acqui¬renda aeternus patria christum deus homo absque aenigma christus mortuus careo deus de¬scendere homo ascendo unitas suppono careo deus homo mundanus tribulatio tristitia absque culpa tollo terra exalta¬tus expando crux manus cunctus traho genus mors turpis pontifex rex rex verus anima pastor ani¬mam vita ovis offertor dominus dulcis fauces mel aurum eloquium sitio gratia caritas ostium intro volo volo peto accipio affluenter fons indeficiens ostium via vereor vito dulcedo acerbus passio gusto anima dominus lumen lumen lumen gloria lu¬men obscuro sol iusti¬tiae rutilans aurum dominus vito vivo muto1 color bonus vermis homo opprobrium homo abjectio plebs do¬mine verus samaritanus vulnero sano solus sano sanus despicio infirmus planto pes verti¬cem sanitas dulcedo pietas1 cum2 humanus intellec¬tus capio aperio intro2 cognosco dominus nullibi tueor fluo sanguis aqua me¬dicamenta antidotum sacramentum humanus sal¬vatio agnus immaculatus victima duco inflammo desiderium ara crux accedo sanguis agnus stola lavaris dominus anima liquefacio recordor delectus crux consummo passio mysterium amor langueo incipio sitio anima multipliciter fundamentum humilitas comessatio ebrietas vito crux induo crucifixum alibi quaero solus inveni¬tur angelicam sumo natura corpus careo creaturis assumptam humanitas praebeo auxilium humanitas scala creo deus ascendo finio infinitus proportio humanitas creaturas symbolica concordo amor ascendo transformo humanitas deus unita uni¬mur caput ascen¬sum caritas descendo unimur infinitus pietas gratia paulus1 hebraeos nihilum deus potestas caelum terra deus homo mors victor1 adae cul¬pam cado restau¬raris mors transfero vita presbyter transsubstantiat panis corpus altare magnitudo poena enumero nobilis sensibilis corpus robustus patior extrinsece intrinsece spiritualiter compatiendo humanus natura ge¬neraliter mater sanctus patior poenio humanus homo nosco cunc¬tos aequus diligo poena morior volo dolorosissima mors dolor homi¬num praeteritor mors ascendo poena scientia futu¬rorum nosco damno obsto passio offensio christianorum haeresis seco guerras tribulatio caput aqua oculus lacrimaris fons compatiar christe mortuus institutio sacramentum eucharistiae sacramentum bonus gratia cari¬tas divina deus maximus dilectio ostendo dilectio afficio specialis inflam¬mavit christus deus verbum incarnato principium repa¬rativo virtus sapientia sufficientissi¬mam secundus confero sacra¬menta largior medicamentum mor¬borum charisma gratia insti¬tuit sacramentum gratia gene¬raret baptismum gigno augmentaret confirmatio verus gigno augmentatos enutriret sacramentum eucha¬ristiae sacramentum accedo fides nutrimenta gratui¬tum attendo unoquoque fidelis con¬servatio devotio deus dilectio propior delectatio de¬votio deus exerceo sacrificium oblatio¬nem dilectio propior unus sacramentum communio delectatio viaticus refectio christus principium reparativum sacramentum sacrificium oblatio sacramentum communio¬nis viaticus refectio principium reparativum sapientissi¬mum sacrificium sacramentum viaticus dispono exhibeo secundus competo tempus gratia revelatae statuo via capaci¬tas tempus revelatae gratia requiro purus plenariam oblatio crux offertor corpus sanguis christus oportet sacramentum significaris vera¬citer corpus christus oblatio tempus debeo contineo similis sacramen¬tum tempus gratia debeo commu¬nio dilectio significaris inflam¬maris mutuus caritas magnus unire membrum unitas capio vis amor diffusivam unitivam transformativam mano dilectio mutuus sacramentum contineo unus corpus christus carus1 imma¬culata diffundo invicem uniens transformans ardentissimam caritas offero reddo finis mundus exsisto sacramentum doctor de_-voveo teneo sacramentum verus corpus verus sanguis christus significo veraciter con¬tinetur duplex species panis vinum unus duplex sacramentum consecratio sacerdotal prolatio vocal forma dominus instituo panis cor¬pus vinum calix verbum cum2 intentio confacio sacerdos1 profero transsubstantiatur elementum secundus substantia corpus sanguis christus jesu remaneo species sensibilis uter con¬tinetur totaliter circumscriptibiliter sacramentaliter totus christus propono cibus dignus accipio solus sacramentaliter verus fides caritas spiritualiter manducando corpus christus mysticus incorporatur reficio purgo verus indignus accedo iudicium manduco1 bibo dijudico corpus christus species panis vinum sta¬tui via competo christum apertus velamen aenigma mereo fides convenio christus caro dens attractaris horror crudelitas immortalitas corpus resurrectio necesse corpus christus trado velo sacra¬tissimis symbola similitudo congruo expressivis congruosius significa¬tio unitas corpus christus panis triticeus mundus1 granum vinum labrusca acinus hiis species debeo exhibeo secundus sancio cyprianum epistula christus granum fru¬menti terra mitto fruc¬tum panis granum confacio farina aqua aqua populus significo johannes apoca¬lypsi aqua populus unio2 capio verus granum aqua unitas panis triticei materia sacramentum eapropter aqua vinum calix appono christus vita verus volo uniri sacra¬mentum deus sapientia pono panis misceo vinum refectio vital refectio spiritus verbum vita refectio spiritual carnis verbum incarnatum carus1 verbum cibus communis salutaris unus sano cibus spiritual communis salutifer cor¬pus christus verus veraciter oportet sacramentum exigo perfectio sacrificium sacramentum unitivi viaticus refectivi debeo tempus nosco testamentum gratia revelatae veritas christus corpus christus verus divido pars corpus anima deus utrobique unus simplicissimum sacra¬mentum totus corpus totus species pars integer divido circumscribo occupo locus sino percepti¬bilis sensus corporeus humanus lateo sensus fides locus mereo deprehen¬datur accido1 operatio prior subicio quamdiu corpus christus quamdiu duro proprietas natural idoneus cibandum necessarius sacramentum quattuor consecro sacerdos debeo materia panis vinum tertius requiro intentio consecrantis quartum forma verbum intentio special genera¬lis requiro attentio incuria neglegentia pecco consecro secus infirmitas solus intentio consecrantis instituentis panis forum presbyter transsubstantiaret profero verbum cum2 intentio hostio1 consecraris totus1 mundus suffice¬rent cum2 ludibrium stultitia inten¬tio instituentis debeo forma verbum dictio debeo dimitto forma debeo necessarius materia necessarius panis triticeus vinum debeo panis triticeus fermen¬tatus vinum cum2 aqua misceo utor instituo christus fermento pec¬cati aqua ecclesia significo vinum christus caritas jungo vinco debeo aqua vinum alioqui impedio conse¬cratio cum2 christum converto mutamur converro sacramentum eucharistiae species panis vinum sacramentum corpus christus mysticus corpus christus verus sacramentum primus sacramentum secundus1 figura sacramentum oblatio melchi¬sedech secundus forma exter refec¬tio refectio praecedo figuro sacramentum manna significo efficio gratia agnus paschal significo liberatio servitus aegyptiaca sacramentum liberatio diabolus sacrificium levi¬tico significo oblatio passio christus hostia quoad recon¬ciliatio victima quoad satisfactio peccatum holocaustum quoad totus corpus laesio longus cunctus explicaris guilelmus parisiensis fides lex figuro sanguis christus vinum desig¬nandum refectio canticum1 introduco rex aqua ablutio aqua egredior sanguis signo redemp¬tio hebraeos sanguis effu¬sio remissio hiis appareo dignitas sacramentum christus institus lex lex prae¬figuratum propheta praenuntio panis angelus manduco1 homo apostolus observo convenio unus maximus excello sacramentum deus cunctus excello anima cunctus anima antecello corpus cor¬pora antecedo christus nobi¬lissimum caelum terra unita elevo mens sacro sacramentum miro suavitas ali¬quantulis rumino dico2 dominus dulcedo boni¬tas volo1 edo1 vita mors coti¬die annuntiemus homi¬ni mortuus edo1 vita edo1 vita alimentum crux affixum do¬num largus1 mens capio altus pius nobilis alimentum praesto2 plenitu¬do largitas dilectio modus excedo dono cum2 dator natio grandis deus approximantes verus deus adsum forma proprius sub¬stantia cibus verus nutrio reficio summe¬que impinguat caro anima venter mens memorial nobilis intimus commen¬dandum praecordia firmiter animus alligo diligenter chordus1 servo uterus commemoratio assunt sua¬vitas gaudium lacrima lacrimemur devo¬te gaudeo cor ingens perfundo gaudium dulcis oculus stillo gutta1 cum2 dominus alo consideratio¬nem elevo cognosco lumen intellego solus cunctus curiosus quaero ratio signum fides accedo mirus subeo prolatio verbum transsubstantiatio subeo calor1 semen vivus animal bombyces voco verto ser¬pens verbum incanto obturo auris audio voco incanto audio verbum necessarius compareo deus unicus verbum uxor lot visio verso lapis statua sal fons certus lignum lapis ferrum cuprum muto miro stomachus natura caro sanguis panis vinum muto vitrificator cinis silex pul¬chrum vitrum educo1 percussio pyrites lapis subeo ignis emano miror deus homo contractatus cum2 totus quantitas pependisti crux sacramentum ciconia oculus aviculae mons magnus modicus granum sinapis maximus virtus magnus arbor elisaeus vir magnus puer mortuus pono singulus membrum singulus reg miror species natura subiectus adamo figuro sacramentum velo species debeo jacob esau species isaac decipio sensus deci¬piuntur gustus tango auditus fallo isaac voco interior venio nosco fides fallo deus miror sacramentaliter corpus sanguis diver¬sis locus integraliter unus sermo profero integraliter aequus perficio audio intellego scio deus convenio ubique homo unus locus tan¬tum mirus deus homo medium ubique unus locus unus definitio species individuus aequus convenio verbum totus aeternus aeternus pater totus descendo uterus virgi¬nis totus unus utrobique venio caro manduco1 homo maneo integer pater pasco angelus paruus miro totus pars hostia divido mul¬tis locus indivisus totaliter pars hostia unus totus christus speculum similis capio figura unus frango fragmentum similis totus capio homogeneis qui1 pars puto aqua aqua totus colligo manna pluo desero2 paruus paruus anima parvus homo magnus magnus totus totus pars miror paruus cottidie man¬ducetur minuo glorifico incorruptibilis resurrectio corrum¬pitur converto natura alo sumo spiritualiter verto men¬tis excedo amor lumen unus candela accendo2 lumen candela minuo potis miran¬dum edo1 minuo corpus christus mysticus ecclesia cum2 caput sponsum christus dignus edo1 homo efficio corpus membrum edo1 maio¬ratur cor nescio corpus membrum christus dignus manduco1 augmentat corpus mysticus dia¬boli scientia distribuo suscipio incre¬mentum eph cresco caput christus fons cottidie aqua fluo minuo mirus fons salvator miror sacramentum prodo salus noceo iudicium floreo apis1 mel araneus vene¬num sugo unus unus medicina mors sol dissolvo glacio congelo lutum1 dominus dubito vita promitto assequor sacramentum dominus vito concordo anima corpus plenus miseria mor¬tem subitaneus comparatio aeviter¬nitas sequor diligo aeternus vito dignus sacra¬mentum accedo fons vita hauri¬unt vae indignus fons vita mors bibo1 dominus misero vito plenus fletus cum2 laetitia divitiae voluptas homo decipio cum2 cogo perdo vita aeternus caducus tran¬sitoriam totus ingemisco tremo vito ordino abutor venio fallacia magnus pars homo fingo servio pereo vereor suffoco falsitas sacerdos cogito vito cogito cogito verbum opus cogito nobilitas officium', 'verbum carus1 no¬bis expositio evangelium principium verbum attendo debeo paulus romanus invisibilis deus conspicio1 attendo invisibilis conspicio me¬dio intellego sempiternus virtus divinitas invisibilis conspicio doceo ignoro intellego visibilis deus invisibilis osten¬dat medium converto necesse iuvemus evangelium primus considero procedo produco semen prin¬cipio verbum ratio procedo produco produ¬cente produco distinguo produ¬cente verbum deus sono aequalitas analogicus procedo inferus inaequal natura participo aequalitas procedo filius producentis persono natura ver¬bum pater sequor deus verbum analogicus procedo inferus natura produ¬cente principium natura suppono arca mens arca vito in¬tellegere artifex conceptio actua¬lis attendo bene verbum evangelium processio divinaris personaris doceo invenio processio productio entis natura ars arca procedo maneo artifex foris corrumpo se¬quitur principium deus praemitto principium verbum eckardum nomen reci¬tat jordanus sermo festivitas', 'signum magnus vito virgo gloria milito ecclesia vito virgo magnus signum appareo caelum altitudo milito ecclesia mulier amicio sol exsisto contemplatio divinus lumen pes afficio luna calceo terrenus tango cum2 vito activus corona privilegiatam duodecim stel¬laris duodecim privilegiorum caput expositio introduco evangeli¬um mysticus sentio duplex appareo vito mare activus marthae contem¬plativa magdalenae activus studiosus iustus labor insisto mariae convenio satagebat primus recipio gravidus opus misericordia quin¬que modus graduata summus exerceo contemplativus cum2 longus exercitium secundus gregorium calceo cura secundus bernardum mortificata car¬ne secundus hugonem tres gradus purgo illumino perficio evangelium primus tres necessarius otium sedeo secus pes audio verbum exercitium activus soli¬tudo humilitas munditia chordus1 fervo caritas mens stabilio coadunantia primus consideratio creatura¬rum tres secundus hugonem magnificenti¬am sapientia bonitas magnitudo decus utilitas apprehendendo secundus cognitio scalaris descensus ascensus tres modus vario qualitas contempla¬tio mens dilatatio sublevatio aliena¬tio beatus virgo vita summus apprehenditur gratia privi¬legiis duodecim duodecim stella corona contemplatio venio mors primus pars secundus glorificatio gloria lumen gloria gloria con¬secuta aureolas locus ange¬los contemplatio assumptio secundus tertius tertius expositio quoad ecclesia', 'trinitas unitas veneror sym¬bolo aristotelis primus tri¬nam efficio formal final unus trini tricausal primus cau¬sa efficio primus formal primus final tres primus pluralitas unitas primus tricausal efficio for¬mal final formal final distinguo hypostasi¬bus intueor primitas in¬tuemur unus plato dionysium tyrannus primus rex gratia fors volo1 innuo aristotelis primus tri¬nam primus rex intellego omni¬potentia efficio il¬lum for¬mal forma formaris complico formabilis forma gratia final impossibilis omnipotens efficio possibilitas essendi actus ars forma formal ve¬ro finio termino causatio efficio formal necto possibilitas ago figulus1 possibilitas efficio terra apto capax forma pro¬ponit volo forma mens concipio motus possibili¬tas terra forma mens conecto unus magisterius tres insum figulus1 efficio possibilitas nihilum primus omnipotens attendo duplex final unus finio perficio opus di¬citur finis finis opus finis primus tricausal re¬spicimus final causans necto opus opero manifesto2 gloria figulus1 opus pulcher ostensio gloria ars ad¬mirabilis manifestaris volo1 evangelium iohannis pater filius spiritus sancio magister no¬strum nominaris vivificantes pater vivifico filius vivifico alibi spiritus vivifico quaera¬mus vivificatio aliqual gustus bea¬tissimae trinitas deus trinus unus vivi¬ficator optume vivo debeo primus vivificante necesse essentia bonus vita necessarius vivo cum2 notitia delectatio laetitia vivo notitia vita nequaquam perficio vivo dormio oculus tenebrae vivo cognosco vivo delectatio gaudium pater vivificante spiritus rational imago vital natura sapientia verbum filius verbum vita vivificantis formo illuminatur actus vivo intellego intellego vivo natura intellectual vivo intellego spiritus sancio vivifi¬cante laetitia gaudium na¬turam vital intelligit vivo deus creo natura vital vito rational deus illuminans vivo deus felicitans laetifico volo1 investigaris imago trinitas trinitas spiritus intellectual imago deus creo rex caelum1 regnum re¬peritur caelum memoria reperio caelum discretio electio voco notitia caelum deli¬ciaris voco voluntas caelum primus re¬gni mens caelum nomen mens memoria memoria imago aeternus deus memoria memoria secundus caelum venio lux mensurentur mens nomen caelum meti¬endo tertius caelum deliciae caelum regnum mens mens primus regnum divitiaris thesaurus secundus numero1 eligo tertius deliciatur memoria veritas iustitia pul¬chritudo perpetuus aeternus memoria aeternitas secundus regnum iudi¬cat justus verus pulcher1 primus re¬gnum ministro veritas iustitia pul¬chritudo cum2 iudico iustus verus pulcher ter¬tio regnum deliciatur gaudeo reperio iustus verus pulcher studeo mens aequaris regnum memoria genero notitia mens intellego inquantum capacitas memoria extendo sequor summus delectatio gaudium felicitas aeternus co¬gnosceret deus imago memoria occulto2 vereor imago deus omnipotens omnipotens complico nominaris aeter¬nitas creatura refero prin¬cipium principium complicantur om¬nia omnipotens genero notitia lux om¬nipotens ignoro lux produco lux omnipotentia lux substantial figuro hiis omnipotens principium cognosco procedo felicitas gaudium aeternus omnipotens principium primus regnum complicite secundus re¬gnum regnum filiatio ratio verbum notitia primus regnum pater memoria aeternus thesaurus memoria lux discerno explicata tertius regnum regnum spiritus sancio amplector cum2 gaudium caritas avidus quaero laetus1 invenio regnum laetitia felicitas jungo primus doceo igno¬rantiae festus1 sermo']\n"
     ]
    }
   ],
   "source": [
    "testset_dir = os.path.join(BASE_DIR, 'data/testset')\n",
    "documents = []\n",
    "logger.info(\"加载测试集数据...\")\n",
    "test_files = [f for f in os.listdir(testset_dir) if f.endswith('.txt')]\n",
    "for test_file in tqdm.tqdm(test_files, desc=\"Loading testset files\"):\n",
    "    file_path = os.path.join(testset_dir, test_file)\n",
    "    with open(file_path, 'r', encoding='utf-8') as file:\n",
    "        documents.append(file.read())\n",
    "logger.info(f\"加载了 {len(documents)} 个文档用于 BERTopic 实验。\")\n",
    "print(documents[:5])\n",
    "if not documents:\n",
    "    logger.error(\"文档列表为空，无法进行 BERTopic 分析。\")\n",
    "else:\n",
    "    logger.info(f\"文档列表包含 {len(documents)} 个文档。\")"
   ]
  },
  {
   "cell_type": "code",
   "execution_count": 9,
   "metadata": {},
   "outputs": [
    {
     "name": "stderr",
     "output_type": "stream",
     "text": [
      "2024-11-08 17:10:32,650 - INFO - 初始化 BERTopic 模型...\n"
     ]
    }
   ],
   "source": [
    "logger.info(\"初始化 BERTopic 模型...\")\n",
    "topic_model = BERTopic(\n",
    "    vectorizer_model=CountVectorizer(ngram_range=experiment_config[\"parameters\"][\"n_gram_range\"]),\n",
    "    embedding_model=get_embeddings,\n",
    "    umap_model=UMAP(**experiment_config[\"parameters\"][\"umap_params\"]),\n",
    "    min_topic_size=experiment_config[\"parameters\"][\"min_topic_size\"],\n",
    "    nr_topics=experiment_config[\"parameters\"][\"nr_topics\"],\n",
    "    language=\"multilingual\"\n",
    ")"
   ]
  },
  {
   "cell_type": "code",
   "execution_count": null,
   "metadata": {},
   "outputs": [
    {
     "name": "stderr",
     "output_type": "stream",
     "text": [
      "2024-11-08 17:10:32,660 - INFO - 开始训练 BERTopic 模型...\n",
      "2024-11-08 17:10:32,675 - INFO - Use pytorch device_name: mps\n",
      "2024-11-08 17:10:32,676 - INFO - Load pretrained SentenceTransformer: sentence-transformers/all-MiniLM-L6-v2\n",
      "OMP: Info #276: omp_set_nested routine deprecated, please use omp_set_max_active_levels instead.\n"
     ]
    }
   ],
   "source": [
    "if documents:\n",
    "    logger.info(\"开始训练 BERTopic 模型...\")\n",
    "    topics, probabilities = topic_model.fit_transform(documents)\n",
    "    logger.info(\"BERTopic 模型训练成功。\")\n",
    "    unique_topics = set(topics)\n",
    "    logger.info(f\"生成了 {len(unique_topics)} 个唯一主题。\")\n",
    "    logger.info(\"开始进行主题的简单可视化...\")\n",
    "    try:\n",
    "        topics_info = topic_model.get_topic_info()\n",
    "        if len(topics_info) > 0:\n",
    "            for topic_num in topics_info['Topic'][:10]:\n",
    "                if topic_num != -1:\n",
    "                    words_weights = topic_model.get_topic(topic_num)\n",
    "                    words_str = ', '.join([word for word, _ in words_weights])\n",
    "                    print(f\"主题 {topic_num}: {words_str}\")\n",
    "                    logger.info(f\"主题 {topic_num}: {words_str}\")\n",
    "        else:\n",
    "            logger.warning(\"未生成有效的主题，无法进行可视化。\")\n",
    "    except Exception as e:\n",
    "        logger.error(f\"可视化时发生错误: {e}\")\n",
    "    logger.info(\"保存每个文档的主题分配结果...\")\n",
    "    document_topic_data = []\n",
    "    for doc_idx, (topic, prob) in enumerate(zip(topics, probabilities)):\n",
    "        document_name = os.path.basename(test_files[doc_idx])\n",
    "        document_topic_data.append([document_name, topic, prob])\n",
    "    df_document_topics = pd.DataFrame(document_topic_data, columns=[\"Document\", \"Assigned Topic\", \"Probability\"])\n",
    "    document_topics_csv_path = os.path.join(experiment_dir, 'bertopic_document_topic_distribution.csv')\n",
    "    df_document_topics.to_csv(document_topics_csv_path, index=False)\n",
    "    logger.info(f\"每个文档的主题分配结果已保存至 {document_topics_csv_path}。\")\n",
    "else:\n",
    "    logger.error(\"文档加载失败，无法进行 BERTopic 分析。\")"
   ]
  },
  {
   "cell_type": "code",
   "execution_count": null,
   "metadata": {},
   "outputs": [],
   "source": [
    "fig = topic_model.visualize_topics()\n",
    "fig.show()\n",
    "fig = topic_model.visualize_hierarchy()\n",
    "fig.show()"
   ]
  },
  {
   "cell_type": "code",
   "execution_count": null,
   "metadata": {},
   "outputs": [],
   "source": [
    "# Step 10: 评估模块\n",
    "try:\n",
    "    logger.info(\"开始评估 BERTopic 模型...\")\n",
    "\n",
    "    # 提取每个主题的前10个关键词\n",
    "    bertopic_topics = [\n",
    "        [word for word, _ in topic_model.get_topic(topic_num)]\n",
    "        for topic_num in range(len(topic_model.get_topics()))\n",
    "        if topic_model.get_topic(topic_num)\n",
    "    ]\n",
    "\n",
    "    # 使用 gensim.corpora.Dictionary 创建词典\n",
    "    texts = [doc.split() for doc in documents]\n",
    "    dictionary = Dictionary(texts)\n",
    "\n",
    "    # Step 10.1: 计算主题一致性（Topic Coherence） - TC-NPMI\n",
    "    logger.info(\"计算主题一致性 (TC-NPMI)...\")\n",
    "    coherence_model_npmi = CoherenceModel(topics=bertopic_topics, texts=texts, dictionary=dictionary, coherence='c_npmi')\n",
    "    coherence_score_npmi = coherence_model_npmi.get_coherence()\n",
    "    logger.info(f\"平均主题一致性 (TC-NPMI): {coherence_score_npmi}\")\n",
    "    print(f\"平均主题一致性 (TC-NPMI): {coherence_score_npmi}\")\n",
    "\n",
    "    # Step 10.2: 计算主题一致性（Topic Coherence） - TC-LCP\n",
    "    logger.info(\"计算主题一致性 (TC-LCP)...\")\n",
    "    coherence_model_lcp = CoherenceModel(topics=bertopic_topics, texts=texts, dictionary=dictionary, coherence='c_uci')\n",
    "    coherence_score_lcp = coherence_model_lcp.get_coherence()\n",
    "    logger.info(f\"平均主题一致性 (TC-LCP): {coherence_score_lcp}\")\n",
    "    print(f\"平均主题一致性 (TC-LCP): {coherence_score_lcp}\")\n",
    "\n",
    "    # Step 10.3: 计算平均成对 Jaccard 相似度（Mean Pairwise Jaccard Similarity）\n",
    "    logger.info(\"计算平均成对 Jaccard 相似度 (MPJ)...\")\n",
    "\n",
    "    @jit(nopython=True)\n",
    "    def jaccard_similarity(set1, set2):\n",
    "        intersection = set1 & set2\n",
    "        union = set1 | set2\n",
    "        return len(intersection) / len(union) if union else 0\n",
    "\n",
    "    @jit(nopython=True)\n",
    "    def calculate_avg_jaccard(bertopic_topics):\n",
    "        jaccard_scores = [\n",
    "            jaccard_similarity(set(bertopic_topics[i]), set(bertopic_topics[j]))\n",
    "            for i in range(len(bertopic_topics))\n",
    "            for j in range(i + 1, len(bertopic_topics))\n",
    "        ]\n",
    "        return np.mean(jaccard_scores)\n",
    "\n",
    "    avg_jaccard = calculate_avg_jaccard(bertopic_topics)\n",
    "    logger.info(f\"平均成对 Jaccard 相似度 (MPJ): {avg_jaccard}\")\n",
    "    print(f\"平均成对 Jaccard 相似度 (MPJ): {avg_jaccard}\")\n",
    "\n",
    "    # Step 10.4: 高频词汇分布分析\n",
    "    logger.info(\"进行高频词汇分布分析...\")\n",
    "\n",
    "    # 统计所有文档中的词频\n",
    "    word_freq = collections.Counter(word for doc in documents for word in doc.split())\n",
    "\n",
    "    # 获取高频词汇\n",
    "    high_freq_words = {word for word, _ in word_freq.most_common(50)}\n",
    "\n",
    "    # 检查每个主题中高频词汇的比例\n",
    "    high_freq_word_ratios = [\n",
    "        sum(1 for word in topic if word in high_freq_words) / len(topic)\n",
    "        for topic in bertopic_topics\n",
    "    ]\n",
    "\n",
    "    avg_high_freq_word_ratio = np.mean(high_freq_word_ratios)\n",
    "    logger.info(f\"平均高频词汇比例: {avg_high_freq_word_ratio}\")\n",
    "    print(f\"平均高频词汇比例: {avg_high_freq_word_ratio}\")\n",
    "\n",
    "    # 保存评估结果\n",
    "    evaluation_results_path = os.path.join(experiment_dir, 'bertopic_evaluation_results.txt')\n",
    "    with open(evaluation_results_path, 'w') as eval_file:\n",
    "        eval_file.write(f\"平均主题一致性 (TC-NPMI): {coherence_score_npmi}\\n\")\n",
    "        eval_file.write(f\"平均主题一致性 (TC-LCP): {coherence_score_lcp}\\n\")\n",
    "        eval_file.write(f\"平均成对 Jaccard 相似度 (MPJ): {avg_jaccard}\\n\")\n",
    "        eval_file.write(f\"平均高频词汇比例: {avg_high_freq_word_ratio}\\n\")\n",
    "\n",
    "    logger.info(f\"BERTopic 模型评估结果已保存至 {evaluation_results_path}\")\n",
    "except Exception as e:\n",
    "    logger.error(f\"评估 BERTopic 模型时发生错误: {e}\")\n",
    "    raise"
   ]
  }
 ],
 "metadata": {
  "kernelspec": {
   "display_name": "cusanus_py310",
   "language": "python",
   "name": "python3"
  },
  "language_info": {
   "codemirror_mode": {
    "name": "ipython",
    "version": 3
   },
   "file_extension": ".py",
   "mimetype": "text/x-python",
   "name": "python",
   "nbconvert_exporter": "python",
   "pygments_lexer": "ipython3",
   "version": "3.10.15"
  }
 },
 "nbformat": 4,
 "nbformat_minor": 2
}
