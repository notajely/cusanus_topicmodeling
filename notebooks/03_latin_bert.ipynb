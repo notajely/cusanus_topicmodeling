{
 "cells": [
  {
   "cell_type": "code",
   "execution_count": 22,
   "metadata": {},
   "outputs": [],
   "source": [
    "import os\n",
    "import time\n",
    "import logging\n",
    "import json\n",
    "import numpy as np\n",
    "from sklearn.metrics.pairwise import cosine_similarity\n",
    "from sklearn.model_selection import ParameterGrid\n",
    "from sklearn.metrics import silhouette_score\n",
    "from bertopic import BERTopic\n",
    "from sklearn.feature_extraction.text import CountVectorizer\n",
    "from umap import UMAP\n",
    "from transformers import AutoTokenizer, AutoModel\n",
    "import torch\n",
    "from gensim.models.coherencemodel import CoherenceModel\n",
    "from gensim import corpora\n",
    "from tqdm import tqdm"
   ]
  },
  {
   "cell_type": "code",
   "execution_count": 3,
   "metadata": {},
   "outputs": [
    {
     "name": "stdout",
     "output_type": "stream",
     "text": [
      "Using MPS backend on Apple Silicon.\n"
     ]
    }
   ],
   "source": [
    "# 检查 MPS 是否可用\n",
    "if torch.backends.mps.is_available():\n",
    "    device = torch.device(\"mps\")\n",
    "    print(\"Using MPS backend on Apple Silicon.\")\n",
    "else:\n",
    "    device = torch.device(\"cpu\")\n",
    "    print(\"MPS backend not available, using CPU instead.\")"
   ]
  },
  {
   "cell_type": "code",
   "execution_count": 4,
   "metadata": {},
   "outputs": [
    {
     "name": "stderr",
     "output_type": "stream",
     "text": [
      "2024-11-10 19:22:20,096 - INFO - 启动实验 latinbert_20241110192220，日志记录到 /Users/jessie/Documents/Projects/Cusanus_Topic_Modeling/experiments/latinbert/latinbert_20241110192220/latinbert_20241110192220.log\n"
     ]
    },
    {
     "name": "stdout",
     "output_type": "stream",
     "text": [
      "启动实验 latinbert_20241110192220，日志记录到 /Users/jessie/Documents/Projects/Cusanus_Topic_Modeling/experiments/latinbert/latinbert_20241110192220/latinbert_20241110192220.log\n"
     ]
    }
   ],
   "source": [
    "# 基础路径设置\n",
    "BASE_DIR = '/Users/jessie/Documents/Projects/Cusanus_Topic_Modeling'\n",
    "\n",
    "# 生成唯一实验ID\n",
    "experiment_id = f\"latinbert_{time.strftime('%Y%m%d%H%M%S')}\"\n",
    "experiment_dir = os.path.join(BASE_DIR, 'experiments', 'latinbert', experiment_id)\n",
    "\n",
    "# 创建实验目录\n",
    "if not os.path.exists(experiment_dir):\n",
    "    os.makedirs(experiment_dir)\n",
    "\n",
    "# 获取日志文件路径\n",
    "log_file_path = os.path.join(experiment_dir, f\"{experiment_id}.log\")\n",
    "\n",
    "# 配置日志记录\n",
    "logger = logging.getLogger()\n",
    "if logger.hasHandlers():\n",
    "    logger.handlers.clear()\n",
    "logger.setLevel(logging.INFO)\n",
    "formatter = logging.Formatter(\"%(asctime)s - %(levelname)s - %(message)s\")\n",
    "file_handler = logging.FileHandler(log_file_path)\n",
    "file_handler.setFormatter(formatter)\n",
    "logger.addHandler(file_handler)\n",
    "console_handler = logging.StreamHandler()\n",
    "console_handler.setFormatter(formatter)\n",
    "logger.addHandler(console_handler)\n",
    "\n",
    "logger.info(f\"启动实验 {experiment_id}，日志记录到 {log_file_path}\")\n",
    "print(f\"启动实验 {experiment_id}，日志记录到 {log_file_path}\")"
   ]
  },
  {
   "cell_type": "code",
   "execution_count": 5,
   "metadata": {},
   "outputs": [
    {
     "name": "stderr",
     "output_type": "stream",
     "text": [
      "2024-11-10 19:22:22,925 - INFO - 实验配置已保存到 /Users/jessie/Documents/Projects/Cusanus_Topic_Modeling/experiments/latinbert/latinbert_20241110192220/config.json\n"
     ]
    },
    {
     "name": "stdout",
     "output_type": "stream",
     "text": [
      "实验配置已保存到 /Users/jessie/Documents/Projects/Cusanus_Topic_Modeling/experiments/latinbert/latinbert_20241110192220/config.json\n"
     ]
    }
   ],
   "source": [
    "# 实验配置\n",
    "experiment_config = {\n",
    "    \"parameters\": {\n",
    "        \"n_gram_range\": (1, 2),  # 捕捉更多的上下文短语\n",
    "        \"min_topic_size\": 2,  # 增大最小主题大小以减少噪声\n",
    "        \"nr_topics\": \"auto\",  # 自动确定主题数量\n",
    "        \"umap_params\": {\n",
    "            \"n_neighbors\": 10,  # 增加邻居数使得降维更平滑\n",
    "            \"min_dist\": 0.1,  # 增大最小距离使主题更分离\n",
    "            \"n_components\": 2,  # 增大维度以保留更多特征信息\n",
    "            \"random_state\": 42  # 确保实验可重复\n",
    "        }\n",
    "    }\n",
    "}\n",
    "\n",
    "config_path = os.path.join(experiment_dir, 'config.json')\n",
    "with open(config_path, 'w') as config_file:\n",
    "    json.dump(experiment_config, config_file, indent=4)\n",
    "\n",
    "logger.info(f\"实验配置已保存到 {config_path}\")\n",
    "print(f\"实验配置已保存到 {config_path}\")"
   ]
  },
  {
   "cell_type": "code",
   "execution_count": 6,
   "metadata": {},
   "outputs": [
    {
     "name": "stderr",
     "output_type": "stream",
     "text": [
      "2024-11-10 19:22:29,113 - INFO - 加载 Latin-BERT 嵌入模型...\n"
     ]
    }
   ],
   "source": [
    "# 加载本地 Latin BERT 模型\n",
    "logger.info(\"加载 Latin-BERT 嵌入模型...\")\n",
    "model_path = \"/Users/jessie/Documents/Projects/Cusanus_Topic_Modeling/latin-bert/models/latin_bert\"\n",
    "tokenizer = AutoTokenizer.from_pretrained(model_path)\n",
    "model = AutoModel.from_pretrained(model_path).to(device)"
   ]
  },
  {
   "cell_type": "code",
   "execution_count": 7,
   "metadata": {},
   "outputs": [],
   "source": [
    "# 定义嵌入生成函数\n",
    "def get_latin_bert_embeddings(texts):\n",
    "    tokens = tokenizer(texts, padding=True, truncation=True, return_tensors=\"pt\", max_length=256).to(device)\n",
    "    with torch.no_grad():\n",
    "        embeddings = model(**tokens).last_hidden_state.mean(dim=1)\n",
    "    return embeddings.cpu().numpy()"
   ]
  },
  {
   "cell_type": "code",
   "execution_count": 9,
   "metadata": {},
   "outputs": [
    {
     "name": "stderr",
     "output_type": "stream",
     "text": [
      "2024-11-10 19:22:44,652 - INFO - 加载测试集数据...\n",
      "Loading testset files: 100%|██████████| 61/61 [00:00<00:00, 2487.17it/s]\n",
      "2024-11-10 19:22:44,682 - INFO - 加载了 61 个文档用于 BERTopic 实验。\n"
     ]
    },
    {
     "name": "stdout",
     "output_type": "stream",
     "text": [
      "['induimini dominus iesum christum romanus epistula dominicus quoad intellego aliqual iesus secundus adam filius deus andreas declaro aegeae lego his¬toria lombardica tertius folium considero epistula aposto¬lus hora somnus surgo probo apostolus dilectio com¬pletio lex prae¬cepto dilectio propior complicantur om¬nia quoad propior subjungo plenitudo lex dilectio scio hora somnus sur¬gere dilectio plenitudo lex scio surgen¬dum somnus vigilanter attenden¬dum propior salus credo expono tempus credo fides recipio salus mors christus conformabimur exspecto dico2 credo salus lex spiri¬tualiter intellego scien¬tes spiritual intellego dilectio¬nem propior salus unus mando1 dilectio adimpleo diligo nolo malus infero salus intel¬lectu diligo removeo difficilis potestas pauper dives nobilis ignobilis graecus barbaris diligo plenitu¬do lex deus adimplemus mandatum ser¬vamus vita ingredior salus magister veritas volo1 vita ingredior servo mandatum somnus sopor teneo dilectio plenitudo lex ignoro peccatum te¬nebra obfuscatio mens peccatum moueo inor¬dinatus amor moueo anima mo¬vetur ordino moveo rectus justus amo deus pro¬ximum inordinatus moveo reflexe curvus retorquendo om¬nia diligo finis con¬stituat surgo peccatum mortalis somnus orior spiritus calor desero2 expando exter contraho interior vigil verus dif¬fusio spiritus exter somnus di¬citur peccatum similitudo som¬nus immobilitat motus immobilitat sensus immobilitat ago immobilitat in¬fluxum moueo procedo cor prop¬ter finis finis bonus hiis finis sanitas bonus medicina cor¬pus indumentum gratia poenitentia peccatum immobilitat aufero mo¬tum deus finis ulter moueo homo finis dimitto constituo pec¬cator finis particularis luxuriosus luxuria moveo avarus pecunia superbus vanus gloria finis homo vilis peccatum aufero motus immobilitat sensus sensus rivulis procedo sentio com¬muni resideo primus pars cerebrum fumus ascendo cerebrum infrigidantur condenso claudeo spiritus rivulorum sensus2 immobilitatur sensus peccator sentio sensus tango iudico lenis1 pun¬git gustus iudico dulcis amaris olefactus sentio foe¬tor pecco puteo plenus foetor corpus sentio audio faber audio magnus clamor peccator deus mors praedicator ami¬cos audio ammonent lucidus judico tenebrosus bonus malus peccatum immobilitat ago som¬nus meritorium natural sci¬licet augeo nutrio rational sci¬licet consiliaris gubernaris publicus meritorium separo gratia deus mereo immobilitat influxum gra¬tiae caput ecclesia iesus corpus peccator membrum abscido corpus somnus pecco assimilatur ratio generatio ratio privatio ra¬tio operatio ratio apparitio genero somnus vapor as¬cendentibus occupatio spiritus evaporatio caro orior peccatum concupisco caro oculus superbia vita infrigidatur sensus communis somnus origo sensus2 peccator careo origo virtus meritor ratio privatio somnus homo privo actus intelligentiae ligo1 vireo1 animal pecco ma¬ximae luxuria intellego visio somnus appareo peccator visio ap¬paret bonus apostolus surgo dormio ex¬surge morior som¬num assimilaris pecco hora somnus surgo considero salus salvator venio salus radius illuminans nox tenebrae detineo radius dies efficio descendo sol recedo verbum sapientia pater sapientia magister illuminan¬dum discipulus nox ignorantia existen¬tes mens descendo medium verbum maneo magister sedeo tenebrae um¬bra mors lux orior magnus af¬fert laetitia radius illuminans dulcis delectabilis lumen oculus nox gravis infirmis dies alleviat venio salvator canto ambrosius1 hymnus dominicus advenio salvator infirmis iu¬cundissimus advenio sponsus sponsa sponsus procedo thalamus venio rex nos¬ter mansuetus abicio debeo opus te¬nebraris vitio fugio lu¬cem fur odi lux sordidus debe¬mus lavaris proicio tenebrosus nox induo splendidus arma lucus arma princeps tenebraris arma lucus veritas occurro debeo bene mundo orno arma splendeo rex dies natalis honestus ambulo debeo po¬nere festivitas advenio vita comessatio ebrietas cubilis vito anima esca potus2 gratia pax induo debeo iesum christum induo iesum christum abicio tenebrae praecedo nox animalita¬tem primus adae assumo arma lucus honestas ambulo dies opus manifesto2 specto pos¬sunt lucidus honestus deus mundus laudabilis complicetur vito iesus humilis mitis mansueto rex christus conformo re¬periet requies anima testor attingo vita quaero immortal necesse chri¬stum induamus induo nequi¬mus prior abicio opus tenebra¬rum incoho tempus ad¬ventus dominus venio spi¬ritus spiritus nasco deside¬ria caro necesse abicio spi¬ritus iesus nascor desiderium caro desiderium caelestis virtuosis incorruptibilis adjuvo memoria beatus an¬dreae apostolus discipulus io¬hannis audio iohannes baptista dice¬bat agnus deus quaero maneo nox frater petro1 revelo iesum messiam redeo officium pis¬catio frater delinquo mens ie¬sum stagnum genezareth frater petrus servio magister volo iesus intimiores dome¬stici ambulo secus mare mitto reor mare voco penitus relinquo adhaereo verbum vita andreas penitus induo ie¬sum sequor maximus desiderium desidero morior prout magister christus crux mortuus achaia magnus fructus crux aegea biduus populus praedico1 lux caelestis spiritus reddo volo uxor aegeae maximilla deus amabilis honorificus sepelio mitis humilis cor andreas spiritus iesus crux gloria praedico1 praedicatio obeo testimonium perhi¬buit iesum induo sequor', 'verus filius deus jesus potestas pono sumo anima verus filius deus primus evangelium resurrectio approbo testimonium creaturis caelestis terrestris infernal caelestis angelus terrestris terra tremo infernal duo filius sime¬onis justus surgo argumentum gustus tango manus gustus manduco1 tango palpo1 approbo indicium signum passio¬nis corpus ostendo infero digitus1 perficio comitivam corpus hora diliculo nox circumstantia tertius dies necesse chris¬tum resurgo perficio con¬summatum solutio convenio christum resurgo complementum perfectio mereo humiliatio obicio delec¬tatio argumentum obsto car¬cere exsisto indigeo primus redimo vestio resurrectio necessarius per¬fectio natura exsecutio iustiti¬ae fruitio gloria confor¬tatio fiducia modus dico2 resur¬rexit corono orno fortificatus primus egredior filia sion corona flos floreo appareo terra surgo orno lumen surgo armo impassibilitas fortificatus agilitas subtilitas considero johannes evan¬gelista scribo jesus signum miraculum fe¬cit credo filius deus ostendo argumentum crucifixio vivo credo filius deus apostolus testis resurrectio actus2 apostolus resurrectio capio testimonium resurgo te¬stantur colloquium comissatio filius deus pono ani¬mam sumo dubito bene considero christus miraculum mors ostendo mortal natura unitam immortal resurrectio ostendo mor¬tal absorptam immortal depositio mortalitas miraculum mors ma¬nifesta humanitas credo occulo divinitas argumentum resurrectio¬nem manifestus divinitas crede¬retur occulo humanitas intro2 jesus janua claudo discipulus credo propterea natura humanus ostendo natura convenio humanus loquor comedo dubito humanus natura chri¬sto mors divino dubi¬um argumentum ostendo opus homo dubito deus immortal bene dubito natura divino oc¬cultata humanus ostendo argumentum concludebant apostolus testimonium sanguis perhibeo resurgo homo dubito', 'commemoratio lucae clementinis dominus sanctus reliquiae veneratio sanc¬tor vir honorabilis christus dilectus fra¬tres insto devotio tempus tempus piger cor redeo debeo salus cor inflammo cari¬tas ardor sedulus meditatio pensaris excusatio sperno eloquen¬tiae fuco scientia vito ineptissi¬mus sperno allegatio simplex quoad conor cunctipotentis gratia mens via salutaris meditatio incitaris meditatio verbum exprimo instituo inardescat ignis spirital affectio qui1 anima sacro passio tempus divinus amor gaudium vitalis incalesco eapropter dilectus utor doctrina urbanus reliquiae veneratio sancio dominus exordior intentio laus sacrosanctus sacramentum novus lex utor exordior commemoratio epilogus tres tres tempus magnus ecclesiastici vir superus studium meditaris debeo memoria acerbus passio salvator salutifer eucharistiae sacramentum dies pius testamentum legatus necnon tertius sacramentum confectio quattuor effectus materia forma per¬ceptio praeho verbum christus salvator ostendo thema diligo finis diligo manifestus secundus doctor superus sacerdotium apostolus verbum confero quoad sacro sacramentum confectio finis dilectio superus nox cena superus amor con¬vivio superus nostraris anima salus magnus sacerdos sermo mereo thema dirigo apostolo¬rum successor consecrativa potestas subsidiarius oratio verus deus virtus spiritus ora excel¬lenti divino supernus spiritual materia dominus postulo paruus sincerus cor devoto oratio placo verbum incarnati virgo mater nostraris pre¬cum advoco sollicitatrix mare aperio os impleo spiritus sapien¬tiae auditus auris oboedienter cor inflammetur singuli mens pius dico2 avus mare trinitas dominus deus infinitus boni¬tas aeternus essentia absque otium torpor bonificavit bonificabilis amo amabilis intellego intellegibilis bonificaris amo intellego uni¬tas essentia trinitas simplicissima unitas unissima facilis credo vivo deus bonus absque otium essentia bonificans pater appello essentia relati¬vum bonificabilis deus filius bonificaris amo spiritus sancio appello placeo bonitas effluenti essen¬tiam bonificaris crearis creo tripli¬cem natura spiritual corporal misceo spiritual brevis transeo libertas arbitrium pars sto recta humilis caritativa subiectio pars superbia rebellio blasphemia cado homo misceo corpus spiritus imago similitudo sancio trinitas essentia creo foris amoenitas paradisus decoro intus plenus notitia perficio impleo qui¬dem intellego voluntas memoria angelus sensus corporeos brutus1 homo effluo superus bonus principium superus finis alpha ome¬ga armo ratio sensus sub¬iugaret voluntas deus amo intro2 memoria stabilis firma¬ret vis appetitivam concupiscibilis delectatio affectio cari¬tas erigo irascibilis indig¬nanter deus amo contrarius repello spes audacia deus cunctus validus bonus bonus bonus nihilum similitudo ratio bonus deus bonitas magnus verus tristitia dolor habitualiter poten¬tialiter homo peccatum pono actus unus unitas unus concordia vireo1 voluntas ratio sensus pareo concordia original iustitia deus adae tribuo sanctus voco casus homo primus proto¬plasti parvus pendeo ordo concreatum deus tendo pervertentes deus praecipio praevaricatio separo imperial justus mando1 edo1 pomum transgressor gravis poena mando1 annexam puto hora comederitis mors morior verus cunctus humanus genus vis produc¬tiva seminal ratio latito cado bernardus cado lutum1 acervus lapis coinquino original culpa collido confringo vis potentiis anima optume dis¬positis gravis vulnero amitto origi¬nal iustitia casus deus justus iudicium vireo1 affectio anima status prolabor diminutae deordinatae de¬structae contrarius experior sensualitas volo1 concupiscibilis irascibilis voluntas contrarian¬tur voluntas ratio frequens ago ratio vireo1 pronus malus pro¬clives illicitus concupisco ratio caecus erronea falsum verus uto curiosus inutilis involvo voluntas car¬nalia diligo saepis spiritualia volo1 concu¬piscibilis prolabor concupiscentia car¬nis concupiscentia oculus carnal vo¬luptas irascibilis deordinata prolabor superbia vita gloria mundanam spes spero deus divitiae proprius meritum tristamur amissio divitiaris despicio mundus irasco frater totus homo discordantiam via rectitudo amissio original iusti¬tiae labor contraho disproportio vis aversio homo malus exercitium limositas viscositas concu¬piscentiis vis anima glutinosus lubricitas inferus ligo1 retineo fili¬us prodigus abeo regio longinquus totus substantia fornicatio con¬sumens longus deus abeo porco¬rum custos diabolus servio prae¬cepta custodio homo venio regio dissimilitudo longus deus revorto incarnatio deus homi¬nem salus finis resisto iusti¬tia pervenio sententia adam eva posterus mortuus resurgo aeternus mors valeo vita praesto creo deus vivo deus homo vita creo restituo similitudo angelus peccatum proveho praecedo integer satisfactio oportet deus debeo supero deus peccaris deus exhono¬raris homo debeo cunctus deus pereo debeo ratio exigo vereor immutabilis pecco reddo deus honor aufero magnus exhonoraris debeo humanus natura solus habe¬bat satisfactio finis regnum pervenio deus bonitas dilectio efficacia unit amo amo medium tempus secundus medium mundus medius silentium teneo medius creatura ho¬mini unio2 communis creatu¬raris deus descendo salus creo unio¬nem deus homo exaltaretur finis pervenio christus jesus verbum incar¬natum sententia mors mors mors morior alieno immolatio infinitus delinquo macula infinitus deus infini¬tum crimen laedo maiestas committo praeceptum levitici necessarius christus pontifex magnus accedo altare immolo hostio1 purus placabilis dignus facinus infinitus satisfieret invenio unus hostia purus christus jesus ob¬tulit mortuus volo volo augustinus trinitas unus verus mediator sacrificium pax reconcilio deus unus maneo offertor pater unus face¬ret offero unus offero relinquo memorial sacrificium sacramentum origi¬nal peccatum eximius careo relinquo sacerdos instituo sacramentum corpus christus sacrificium peccatum populus actual offertor tango sacrificium volo relin¬quere altare crux offero christus sacerdos sacrificium offertor unus sacerdos unus oblatio sacrificium sacrificium relinquo sacramen¬tum cibus magnus unio2 cibus cibati cibus spiritual conver¬tit cibo audio augustinus cibus grandis muto cibus caro muto modus presbyteri[i dius mutatio filius excello inferus tango pars mysterium passio sacrificium elevemus mens contemplo audio dilectus primus pa¬rentes corrumpo abominabilis iniquitas eapropter bonus domi¬num jesum christum deitas humanitas hypostaticam unio superus gradus exalto consequor creo homo deus unita unus creo mundus unus deus filius incarnan¬dum verbum carus1 finis venio debeo humanitas deitas unita magnus honor deus impendeo deus christus summus humilitas volun¬tarie offero ara crux contemplaris anima christiana anima gravis mors resuscitata anima misero servi¬tus sanguis deus redempto excio mens memento resuscitatio redemptio libertatio accipio doctrina via honoro deus tollo unusquisque cru¬cem sequor via christus christus uniatur mediator ascenderit finis pervenio humilio exalto vita mundus custodio nitor per¬det via pervenio caritas perficio vivo morior unus christus adhaereo bonus pono totus spes vito vivo spes morior salus spero obliviscaris aeternus hereditas acqui¬renda aeternus patria christum deus homo absque aenigma christus mortuus careo deus de¬scendere homo ascendo unitas suppono careo deus homo mundanus tribulatio tristitia absque culpa tollo terra exalta¬tus expando crux manus cunctus traho genus mors turpis pontifex rex rex verus anima pastor ani¬mam vita ovis offertor dominus dulcis fauces mel aurum eloquium sitio gratia caritas ostium intro volo volo peto accipio affluenter fons indeficiens ostium via vereor vito dulcedo acerbus passio gusto anima dominus lumen lumen lumen gloria lu¬men obscuro sol iusti¬tiae rutilans aurum dominus vito vivo muto1 color bonus vermis homo opprobrium homo abjectio plebs do¬mine verus samaritanus vulnero sano solus sano sanus despicio infirmus planto pes verti¬cem sanitas dulcedo pietas1 humanus intellec¬tus capio aperio intro2 cognosco dominus nullibi tueor fluo sanguis aqua me¬dicamenta antidotum sacramentum humanus sal¬vatio agnus immaculatus victima duco inflammo desiderium ara crux accedo sanguis agnus stola lavaris dominus anima liquefacio recordor delectus crux consummo passio mysterium amor langueo incipio sitio anima multipliciter fundamentum humilitas comessatio ebrietas vito crux induo crucifixum alibi quaero solus inveni¬tur angelicam sumo natura corpus careo creaturis assumptam humanitas praebeo auxilium humanitas scala creo deus ascendo finio infinitus proportio humanitas creaturas symbolica concordo amor ascendo transformo humanitas deus unita uni¬mur caput ascen¬sum caritas descendo unimur infinitus pietas gratia paulus1 hebraeos nihilum deus potestas caelum terra deus homo mors victor1 adae cul¬pam cado restau¬raris mors transfero vita presbyter transsubstantiat panis corpus altare magnitudo poena enumero nobilis sensibilis corpus robustus patior extrinsece intrinsece spiritualiter compatiendo humanus natura ge¬neraliter mater sanctus patior poenio humanus homo nosco cunc¬tos aequus diligo poena morior volo dolorosissima mors dolor homi¬num praeteritor mors ascendo poena scientia futu¬rorum nosco damno obsto passio offensio christianorum haeresis seco guerras tribulatio caput aqua oculus lacrimaris fons compatiar christe mortuus institutio sacramentum eucharistiae sacramentum bonus gratia cari¬tas divina deus maximus dilectio ostendo dilectio afficio specialis inflam¬mavit christus deus verbum incarnato principium repa¬rativo virtus sapientia sufficientissi¬mam secundus confero sacra¬menta largior medicamentum mor¬borum charisma gratia insti¬tuit sacramentum gratia gene¬raret baptismum gigno augmentaret confirmatio verus gigno augmentatos enutriret sacramentum eucha¬ristiae sacramentum accedo fides nutrimenta gratui¬tum attendo unoquoque fidelis con¬servatio devotio deus dilectio propior delectatio de¬votio deus exerceo sacrificium oblatio¬nem dilectio propior unus sacramentum communio delectatio viaticus refectio christus principium reparativum sacramentum sacrificium oblatio sacramentum communio¬nis viaticus refectio principium reparativum sapientissi¬mum sacrificium sacramentum viaticus dispono exhibeo secundus competo tempus gratia revelatae statuo via capaci¬tas tempus revelatae gratia requiro purus plenariam oblatio crux offertor corpus sanguis christus oportet sacramentum significaris vera¬citer corpus christus oblatio tempus debeo contineo similis sacramen¬tum tempus gratia debeo commu¬nio dilectio significaris inflam¬maris mutuus caritas magnus unire membrum unitas capio vis amor diffusivam unitivam transformativam mano dilectio mutuus sacramentum contineo unus corpus christus carus1 imma¬culata diffundo invicem uniens transformans ardentissimam caritas offero reddo finis mundus exsisto sacramentum doctor de_-voveo teneo sacramentum verus corpus verus sanguis christus significo veraciter con¬tinetur duplex species panis vinum unus duplex sacramentum consecratio sacerdotal prolatio vocal forma dominus instituo panis cor¬pus vinum calix verbum intentio confacio sacerdos1 profero transsubstantiatur elementum secundus substantia corpus sanguis christus jesu remaneo species sensibilis uter con¬tinetur totaliter circumscriptibiliter sacramentaliter totus christus propono cibus dignus accipio solus sacramentaliter verus fides caritas spiritualiter manducando corpus christus mysticus incorporatur reficio purgo verus indignus accedo iudicium manduco1 bibo dijudico corpus christus species panis vinum sta¬tui via competo christum apertus velamen aenigma mereo fides convenio christus caro dens attractaris horror crudelitas immortalitas corpus resurrectio necesse corpus christus trado velo sacra¬tissimis symbola similitudo congruo expressivis congruosius significa¬tio unitas corpus christus panis triticeus mundus1 granum vinum labrusca acinus hiis species debeo exhibeo secundus sancio cyprianum epistula christus granum fru¬menti terra mitto fruc¬tum panis granum confacio farina aqua aqua populus significo johannes apoca¬lypsi aqua populus unio2 capio verus granum aqua unitas panis triticei materia sacramentum eapropter aqua vinum calix appono christus vita verus volo uniri sacra¬mentum deus sapientia pono panis misceo vinum refectio vital refectio spiritus verbum vita refectio spiritual carnis verbum incarnatum carus1 verbum cibus communis salutaris unus sano cibus spiritual communis salutifer cor¬pus christus verus veraciter oportet sacramentum exigo perfectio sacrificium sacramentum unitivi viaticus refectivi debeo tempus nosco testamentum gratia revelatae veritas christus corpus christus verus divido pars corpus anima deus utrobique unus simplicissimum sacra¬mentum totus corpus totus species pars integer divido circumscribo occupo locus sino percepti¬bilis sensus corporeus humanus lateo sensus fides locus mereo deprehen¬datur accido1 operatio prior subicio quamdiu corpus christus quamdiu duro proprietas natural idoneus cibandum necessarius sacramentum quattuor consecro sacerdos debeo materia panis vinum tertius requiro intentio consecrantis quartum forma verbum intentio special genera¬lis requiro attentio incuria neglegentia pecco consecro secus infirmitas solus intentio consecrantis instituentis panis forum presbyter transsubstantiaret profero verbum intentio hostio1 consecraris totus1 mundus suffice¬rent ludibrium stultitia inten¬tio instituentis debeo forma verbum dictio debeo dimitto forma debeo necessarius materia necessarius panis triticeus vinum debeo panis triticeus fermen¬tatus vinum aqua misceo utor instituo christus fermento pec¬cati aqua ecclesia significo vinum christus caritas jungo vinco debeo aqua vinum alioqui impedio conse¬cratio christum converto mutamur converro sacramentum eucharistiae species panis vinum sacramentum corpus christus mysticus corpus christus verus sacramentum primus sacramentum secundus1 figura sacramentum oblatio melchi¬sedech secundus forma exter refec¬tio refectio praecedo figuro sacramentum manna significo efficio gratia agnus paschal significo liberatio servitus aegyptiaca sacramentum liberatio diabolus sacrificium levi¬tico significo oblatio passio christus hostia quoad recon¬ciliatio victima quoad satisfactio peccatum holocaustum quoad totus corpus laesio longus cunctus explicaris guilelmus parisiensis fides lex figuro sanguis christus vinum desig¬nandum refectio canticum1 introduco rex aqua ablutio aqua egredior sanguis signo redemp¬tio hebraeos sanguis effu¬sio remissio hiis appareo dignitas sacramentum christus institus lex lex prae¬figuratum propheta praenuntio panis angelus manduco1 homo apostolus observo convenio unus maximus excello sacramentum deus cunctus excello anima cunctus anima antecello corpus cor¬pora antecedo christus nobi¬lissimum caelum terra unita elevo mens sacro sacramentum miro suavitas ali¬quantulis rumino dico2 dominus dulcedo boni¬tas volo1 edo1 vita mors coti¬die annuntiemus homi¬ni mortuus edo1 vita edo1 vita alimentum crux affixum do¬num largus1 mens capio altus pius nobilis alimentum praesto2 plenitu¬do largitas dilectio modus excedo dono dator natio grandis deus approximantes verus deus adsum forma proprius sub¬stantia cibus verus nutrio reficio summe¬que impinguat caro anima venter mens memorial nobilis intimus commen¬dandum praecordia firmiter animus alligo diligenter chordus1 servo uterus commemoratio assunt sua¬vitas gaudium lacrima lacrimemur devo¬te gaudeo cor ingens perfundo gaudium dulcis oculus stillo gutta1 dominus alo consideratio¬nem elevo cognosco lumen intellego solus cunctus curiosus quaero ratio signum fides accedo mirus subeo prolatio verbum transsubstantiatio subeo calor1 semen vivus animal bombyces voco verto ser¬pens verbum incanto obturo auris audio voco incanto audio verbum necessarius compareo deus unicus verbum uxor lot visio verso lapis statua sal fons certus lignum lapis ferrum cuprum muto miro stomachus natura caro sanguis panis vinum muto vitrificator cinis silex pul¬chrum vitrum educo1 percussio pyrites lapis subeo ignis emano miror deus homo contractatus totus quantitas pependisti crux sacramentum ciconia oculus aviculae mons magnus modicus granum sinapis maximus virtus magnus arbor elisaeus vir magnus puer mortuus pono singulus membrum singulus reg miror species natura subiectus adamo figuro sacramentum velo species debeo jacob esau species isaac decipio sensus deci¬piuntur gustus tango auditus fallo isaac voco interior venio nosco fides fallo deus miror sacramentaliter corpus sanguis diver¬sis locus integraliter unus sermo profero integraliter aequus perficio audio intellego scio deus convenio ubique homo unus locus tan¬tum mirus deus homo medium ubique unus locus unus definitio species individuus aequus convenio verbum totus aeternus aeternus pater totus descendo uterus virgi¬nis totus unus utrobique venio caro manduco1 homo maneo integer pater pasco angelus paruus miro totus pars hostia divido mul¬tis locus indivisus totaliter pars hostia unus totus christus speculum similis capio figura unus frango fragmentum similis totus capio homogeneis qui1 pars puto aqua aqua totus colligo manna pluo desero2 paruus paruus anima parvus homo magnus magnus totus totus pars miror paruus cottidie man¬ducetur minuo glorifico incorruptibilis resurrectio corrum¬pitur converto natura alo sumo spiritualiter verto men¬tis excedo amor lumen unus candela accendo2 lumen candela minuo potis miran¬dum edo1 minuo corpus christus mysticus ecclesia caput sponsum christus dignus edo1 homo efficio corpus membrum edo1 maio¬ratur cor nescio corpus membrum christus dignus manduco1 augmentat corpus mysticus dia¬boli scientia distribuo suscipio incre¬mentum eph cresco caput christus fons cottidie aqua fluo minuo mirus fons salvator miror sacramentum prodo salus noceo iudicium floreo apis1 mel araneus vene¬num sugo unus unus medicina mors sol dissolvo glacio congelo lutum1 dominus dubito vita promitto assequor sacramentum dominus vito concordo anima corpus plenus miseria mor¬tem subitaneus comparatio aeviter¬nitas sequor diligo aeternus vito dignus sacra¬mentum accedo fons vita hauri¬unt vae indignus fons vita mors bibo1 dominus misero vito plenus fletus laetitia divitiae voluptas homo decipio cogo perdo vita aeternus caducus tran¬sitoriam totus ingemisco tremo vito ordino abutor venio fallacia magnus pars homo fingo servio pereo vereor suffoco falsitas sacerdos cogito vito cogito cogito verbum opus cogito nobilitas officium', 'unus oblatio consummo sempiter¬num sanctifico unus oblatio consummo sem¬piternum sanctifico christus rex rex dominus dominor johan¬nes apocalypsis primus capitulum1 la¬vit sanguis princeps rex terra principium genesis homi¬nem creo praesum bestia de¬inde genesis quartum capitulum1 reperio deus cain appeto1 pecco intelligo appeto1 sequor natura bestial animal sensibilitas appeto1 pecco homo ratio homo dominabi¬tur reperio homo homo praefero rex na¬turaliter rego vigeo volo1 rego ratio homo ra¬tio vigeo naturalis dominus rector aristotelis homo bestia praefero christus princeps rex terra cu¬ius regnum mundus regnum rex pasco homo regnum pasco bestia regnum pasco rex homo princeps teneo principatus ratio rego deus sapientia ratio expers sapientia apto rego solus sapientia ratio luceo oboeditur ratio ostendo veritas sapientia oboeditur audi¬ens auditus intellego capio acquiescit praecipio sapientia vereor princeps rex praecipio prae¬cepta vita vivificantis suavis gratus plenus amor homo natura praesum bestia intereo homo praesum exter paulus animal interior homo praesum ver¬bum pater verbum praesum pater paulus1 caput mulier vir ratio dominaris appetitui paulus1 caput vir christum caput christus deus rex animalitas bonus sensibilitas bonus anima rational animal brutus1 bonus princeps ratio homo humiliatio princeps rex virtuosior humanus humiliatio oboedio oboedientia bonus oboedio victima oboedio victima illi¬us consummo oblatio complicans om¬ne mereo mediatio pacificus victima possibilis recon¬ciliatio attendo textus2 gene¬sis deus imago similitudo homo creo praesum bestia verus praeessentia imperium conservaris dependo deus creator similitudo deus prae¬est universaliter creo homo participo divina potestas quoad bestia manifestus praeessentiam ra¬tio volo1 rational similitu¬do deus creo experior praesum sensibilitas animalitas imperium ratio extendo sensibilis natura manifestus homo exterio¬rem animal homo per¬cipit deus subsum debeo homo inte¬riori spiritus percipio deus percipio deus rego debeo exter homo secundus verbum princeps ratio loquor audio loquor dominus similitudo deus praeessendo servo augeo assimilat regimen su¬um divinus praecipio percipio verus negligit principatus rego dominor animalitas evenio appeto1 erigo inoboedientia imago deus obscuro rex volo1 perdo induo servilis obumbratur deus similitudo finaliter subsum princeps tenebraris maneo interior homo deus imago animalitas sensibilis appeto1 sub¬egit homo deus finis pervenio finis imago principium deus vereor imago veri¬tas imago pertingo reluceo vereor cesso imago christus reparator imago offusca¬tae doceo imago offuscatio denuo renascor coepio doceo visibilis experimentum pertingeremus renascentiam via scia¬mus imago repararis debeo deus imago exemplaris vereor ex¬emplum disco necesse imago deus vivo vivus motus vita gusto deus vivus imago intueor imago quiesco continuo desiderium move¬tur vito vivifico lavo sordeo limus terra filiaris sion sanguis denuo creo reparo lotio novus homo secun¬dum deus inspiro spi¬raculis vita imago deus spiritus vi¬vum reno1 attendo debeo offuscatae imago renovator necessarius pertineo exemplar veritas volo imago renovaris possibilis solus filius pater creator solus filius co¬gnoscit pater id¬eo solus filius salvator renovator regenerator nosco homo homo imago secundus deus renovaris paruus alte¬rius imago unus deus filius opero salus novo om¬nia textus2 solus filius cognosco pater volo revelaris deus abs-condio oculus solus fili¬um revelaris revelatio renovatio imago praedico2 nosco reparator renovator imago debeo natura conversatio instruo infirmitas tenebrositas imago debeo imago offuscata pec¬cator tenebrae obumbrata magisterius reparandi imago vereor exemplaris re¬splenduisset intellego magister deus pater reparo imagi¬nem proprius imago quapropter magister re¬paratio concupisco caro imago foedus1 macula1 contraho filius adae sanguis concupiscen¬tia vir necesse magister re¬paratio homo virilis semen natus mater virgo filius ho¬minis necesse oportet filius deus solus cognosco pater filius virgo optume reparo mortalis homo similis evangelium contineo seriatim perago bonus mo¬do deus imago ip¬sum magister dominus debeo re¬pararis superfluo1 diminute ac¬tum prout exigo salvatio intellego subintras gero inquiro no¬stram reparatio reperio ordinatissima deus provideo optume servio similitudo granum triticum1 attendo christus gentilis prout johannes scribo dies luna lego2 evangelium volo1 aperio granum panis vivus caelum descendo nomino johannis mortalis cado terra mortalis granum humilio cado terra sacro virgineus vitio infructiferam bonus forma mortalis homo induo terra descendo morior maneo solus fructus affer¬ret sapientia pater omnipotens hu¬mana natura remaneo induo car¬nem mors subeo volo1 vegetativae vita gra¬no abs-condio mors granum triticum1 morior potis expando communico volo1 divino vita mor¬tal jesu abs-condio mors mo¬ritur potis expando communico fructus affero considero vis vegetabilis granum virtus ratio mensurabilis divina vis verbum similis actus intellego excedo admiror similitudo similitudo vitis verus perficio adam vita exspecto labrusca profero labrusca verso amari¬tudo deus creo pal¬mites vitis procedo se¬cundum condicio vita labrusca fructus profero sequor natura vita inficio christus verus novus adam novo verus vita sano fecundus palmes fructiferi reperio vegeten¬tur adam vita natura corrumpo chri¬stus vita gratia adam vita veto homo christus vita nosco homo adam vita concu¬piscentiae christus vita caritas considero institutio sacrificium no¬vae lex memoria liberatio mors institutio sacrificium agnus paschal me¬moriam liberatio mors exodium le¬gitur sanguis munio domus salvo primogenitus exsistentes angelus de¬vastator interfacio reperio mu¬nitio praetereo domus pha¬se primogenitus deus sacro deus specto primogenitus christus primogenitus sancio sancio sanguis pri¬mogenitum munio spiritus devastator inter¬imatur vivo aeternus memoria liberatio mors perpetuus institus sacrificium attendo memoria locus venter domus anima colligo1 repono venio mundus via sensus2 ostium intro¬itus species intro ostium debeo nox claudo si¬gnatum superliminaris postis sanguis immaculati agnus signo angelus devastator vita princeps mundus tene¬braris negotium perambulo tenebrae reperio sanguis ostium memoria linitum praetereo alibi quaero anima macto dies lucius debeo ostium aperio noto filius israel credo moysi sanguis agnus domus tueor experior credo salvatos fides auditus verbum medium sensibilis signum aptus credo significo salvo in¬credulus visibilis sacramentum conse¬quitur scio intellectual spiritus domus memoria primogenitus deus inspiratus vito spiritus spiraculis vita salvo noceo malignus spiritus vita adverso ostium memoria linitum san¬guine vinco sanguis effusio¬ne linitio fides indu¬bitata fides sacramentum sensibilis prout auctor institus sperno manifestus consto verus fides sacrificium perficio signum firmitas foedo testamentum indubito fides compactato¬rum verbum deus professio homo scio christus verbum solus defendo noceo adversarius diabolus vinco adversarius mortuus resuscito vivifico fi¬liatio deus transfero solus medicina morbus solus cibus vita conforto transfero qua¬propter optume significo fides visibilis species corporal cibus debilitas expello confortatio tribuo principalis panis triticeus vinum adverto virtus panis vinum famescentis furor debilitas caro expello, confortatio induco robur innovan¬te exter homo contingo1 fides virtus verbum similis interior homo opero intueor natura visibilis cibus exter homo ministro fides in¬visibilis cibus verbum deus interior ho¬mine invisibilis assequitur igi¬tur cibus deus verbum ordino assequitur corpus desidero pascentiam anima corpus medium virtus digestivae unio calor1 natural anima me¬dio virtus fides digestiva fortis unio calor1 super¬natural calor careo scio cibus perficio utri¬usque homo catholicus ecclesia reperio cibus exter homo eucharistia verus cibus homo nutrio corpus panis stomachus di¬gestus nutrio spiritus rational verbum fides filius deus recipio verbum re¬cipitur fides verbum filius deus pinguis panis praebeo deliquia virtus pasco panis principalis deus virtus verbum pasco anima verbum deus divino substantia reperio eucharistia substantia unus fluo virtus substantia panis visibilis substantia verbum innuo christus moyses mysterium exprimo panis vivo homo verbum pro¬cedit os deus homo exter vivo substantia panis excludo substantia verbum virtus panis teneo vivo solus pa¬nem corpus christus sacramentum adverto substantia panis ne¬cessariam pasco adsum substan¬tia virtus pasco complicatur virtus inferus substantia virtus superus propheta vercod. vat. lat. 1245 fol.85vbbo dominus caelum firmo virtus attendo substantia panis confec¬tio sacramentum debeo superus substanti¬am christus transsumi alioqui perfec¬tum sacramentum debeo contineo possibilis transsubstantiatio vera¬citer natura transeo gratiosus deus filiatio natura pereo substantia transsumitur alo natura panis cibatio pereo substantia transsubstantiatur alti¬orem substantia transsumitur divinus propheta david exprimo lex dominus immaculatus converto anima testimonium fidelis praesto2 parvulis lex dominus immaculatus verbum deus lex deus verbum converto ani¬mas sapientia converto intellego sapientia transsumendo parvulis conversio praesto fidelis testimonium fidelis validus praesto sacramentum testimonium conversio substantia panis converto substantia verbum incarnati praecisissimum efficax testi¬monium spiritual natura vi¬deatur humanus ignoro verbum deus filius deus tenebrae ignorantia deus ve¬ritas visio lux converto pateo christum sacramentum localiter accido1 substantia panis accido1 sub¬stantia panis subsisto virtus superus substantia substantia panis effluo substantia panis converro sub¬stantiam corpus christus praevenio acci¬dens maneo accido1 prior sub¬stantia converro ignoro homo sapio laicus sacerdos subdo servus1 rex maneo accido1 solus ignoro transfero sapientia imperfectus perficio similitudo aliqual propinquus propinquus igno¬rantia substantia similis sapientia paulus1 intelligeret panis transsubstantiaris supervestio nobilis substantia exspecto lu¬mine gloria supervestio substantia salvo prout vetus theologus intellego reperi¬untur solus panis cor¬pus christus sacramentum vis vocabulis attendo lumen gloria accido1 nobilis prior substantia christus juda bonus natus damno econverso bonus lumen gloria substantia anima adverso propono voco substantia bonus reperio accido1 advenio na¬tural refero dico2 necessarius corpus christus magnitudo quantitativa sa¬cramento indivisibiliter pars hostia perficio memoria induo mons magnus in¬duit granum milium totus memoro memoro memoria induo memoria recordor memoria reperio me¬moria unus oculus unus vox auris praeci¬sius exemplum alibi', 'humanus infirmitas caro membrum romanus qui¬dam liber communis membrum exhibeo servio iniquitas immunditia iniquitas exhibeo membrum servio justitia sanc¬tificatio doctor gens hu¬manum loquor respondeo quae¬stio christianus propono debeo assequor vita aeternus saltem servio justitia sanctificatio servio iniquitas im¬munditiae iniquitas perfec¬ta iustitia requiro magnus dilectio humaniter dico2 saltem parvus fer¬ventia servio justitia prior ser¬viebatur immunditia consido unus¬quisque volo christianus acqui¬renda sanctificatio saltem sollicitus servio immunditia iniquitas converto servitium justitia derelinquo servitium iniqui¬tas consido fructus iniquitas cogito immunditiam pecco caro genero eru¬bescentiam finis pecco mors libero verus pecco fides christus fructus sancti¬ficatio finis verus vita aeternus stipendium pecco mors gratia deus sanc¬ti vito aeternus christus iesus attendo diligentia iniquitas caro immunditia servio asse¬quendum iniquitas vigilo labor adhibeo misero immunditia nobilis hastiludiis periculosus placeo diligo exerceo membrum servitium periculum subjaceo miser servio pecco anima vita aeternus neglego momentaneam delecta¬tio assequantur dimitto eru¬bescentiam memoria finis mors servio immunditia mors acceleratur mercator considero dives mundus quan¬to labor periculum servio mammonae divi¬tiis servitium accedo mors acquisitio divitiaris im¬mensos labor prolongat vita mors acceleraris considero diligentia juvenis chorea accedo orno gravis levis1 finis sta¬bilis bonus superbia volo sollicitus laboriosus finis fatuitas vacuitas provocatio odium1 men¬suret exhibeo membrum iusti¬tiae exhibeo iniquitas spero sanctificatio gratia vita aeternus oportet anima pulcher1 orna¬tissimam debeo gratus deus dono sponsum iustitia pul¬chritudo deus gratus philo¬sophos decus lucifer hespe¬rum validus divino solus bonus respicio alienus animus communis utilitas servo uniquique tribuo dignita¬tem homo ordino deus debeo subiectio dilectio laus subjectio nobilitatio in¬ferius subicio superus conjungo no¬bilitatur aër subicio caelum nobilito ra¬dio sol remaneo tenebrosus absum totus perfectio materia subjectio forma anima sensibilis homo nobilior bestia subicio conjungo rational dilectio deus debeo homo iustitia servo unamquamque quan¬do exhibeo vesti¬mentum induo comb¬uratur vinum bibo1 effundo vestio comburo vinum effundo iustus bonus diligo purus bonus purus diligo deus purus bonus debeo magnus diligo bonus participatio creaturis lux candela sol bonus creaturis bonus creator augustinus paruus amo deus amo amo debeo deus laudatio laudatio dominus loquor os pars turpis congruo totus om¬nia creo laudo glorificant deus psal¬mo laudo dominus caelis homi¬nes laudo dominus gens iustitia ordino homo pro¬ximum pius subventio sufficio unus indigeo dominus servo servus1 dominus mutuus debeo servio complacere debeo sper¬nere nobilis oculus sperno pedis manus oculus dirigo manus manus pur¬gat oculus apostolus onus portas ordino homo iustitia proxi¬mum conservatio amicitia social necessarius prosperitas amicus homo teneo status arbor con¬quassatio venio radix teneo homo adversitas amicus consolo senectus amicus necessarius sub¬veniant retraho pecco aristo¬telis homo necessarius vita eligo vivo amicus debeo propior narratio verus lingua nuntius cor¬dis diminutae veritas filius homi¬num']\n"
     ]
    }
   ],
   "source": [
    "# 加载测试集文档\n",
    "testset_dir = os.path.join(BASE_DIR, 'data/testset')\n",
    "documents = []\n",
    "\n",
    "logger.info(\"加载测试集数据...\")\n",
    "test_files = [f for f in os.listdir(testset_dir) if f.endswith('.txt')]\n",
    "for test_file in tqdm(test_files, desc=\"Loading testset files\"):\n",
    "    file_path = os.path.join(testset_dir, test_file)\n",
    "    with open(file_path, 'r', encoding='utf-8') as file:\n",
    "        documents.append(file.read())\n",
    "\n",
    "logger.info(f\"加载了 {len(documents)} 个文档用于 BERTopic 实验。\")\n",
    "print(documents[:5])"
   ]
  },
  {
   "cell_type": "code",
   "execution_count": 10,
   "metadata": {},
   "outputs": [],
   "source": [
    "# 嵌入生成\n",
    "document_embeddings = get_latin_bert_embeddings(documents)"
   ]
  },
  {
   "cell_type": "code",
   "execution_count": 13,
   "metadata": {},
   "outputs": [],
   "source": [
    "# 创建 CountVectorizer 和 UMAP\n",
    "vectorizer_model = CountVectorizer(\n",
    "    ngram_range=experiment_config[\"parameters\"][\"n_gram_range\"],\n",
    "    token_pattern=r\"(?u)\\b\\w+\\b\"\n",
    ")\n",
    "custom_umap = UMAP(\n",
    "    n_neighbors=experiment_config[\"parameters\"][\"umap_params\"][\"n_neighbors\"],\n",
    "    min_dist=experiment_config[\"parameters\"][\"umap_params\"][\"min_dist\"],\n",
    "    n_components=experiment_config[\"parameters\"][\"umap_params\"][\"n_components\"],\n",
    "    random_state=experiment_config[\"parameters\"][\"umap_params\"][\"random_state\"]\n",
    ")"
   ]
  },
  {
   "cell_type": "code",
   "execution_count": 14,
   "metadata": {},
   "outputs": [],
   "source": [
    "# 初始化 BERTopic 模型，不设置 embedding_model\n",
    "topic_model = BERTopic(\n",
    "    embedding_model=None,  # 不使用默认的嵌入模型\n",
    "    vectorizer_model=vectorizer_model,\n",
    "    umap_model=custom_umap,\n",
    "    min_topic_size=experiment_config[\"parameters\"][\"min_topic_size\"],\n",
    "    nr_topics=experiment_config[\"parameters\"][\"nr_topics\"],\n",
    "    language=None  # 禁用语言特定的嵌入\n",
    ")"
   ]
  },
  {
   "cell_type": "code",
   "execution_count": 15,
   "metadata": {},
   "outputs": [
    {
     "name": "stderr",
     "output_type": "stream",
     "text": [
      "2024-11-10 19:22:57,166 - INFO - 开始训练 BERTopic 模型...\n"
     ]
    },
    {
     "name": "stdout",
     "output_type": "stream",
     "text": [
      "Starting BERTopic model training...\n"
     ]
    },
    {
     "name": "stderr",
     "output_type": "stream",
     "text": [
      "OMP: Info #276: omp_set_nested routine deprecated, please use omp_set_max_active_levels instead.\n",
      "2024-11-10 19:23:00,297 - INFO - BERTopic 模型训练成功。\n",
      "2024-11-10 19:23:00,299 - INFO - 主题 0: deus, christus, verbum, pater, bonus, filius, semen, spiritus, mors, mundus\n",
      "2024-11-10 19:23:00,299 - INFO - 主题 1: deus, dies, anima, homo, virgo, secundus, verbum, ratio, ars, filius\n",
      "2024-11-10 19:23:00,299 - INFO - 主题 2: deus, spiritus, christus, homo, virtus, gloria, rex, verbum, mundus, unus\n",
      "2024-11-10 19:23:00,300 - INFO - 主题 3: christus, deus, iustitia, intelligibilis, debeo, intellego, doceo, bonus, apostolus, evangelium\n",
      "2024-11-10 19:23:00,301 - INFO - 主题 4: imago, deus, vita, spiritus, lumen, christus, intellego, ratio, visito, pater\n",
      "2024-11-10 19:23:00,301 - INFO - 主题 5: spiritus, deus, christus, virtus, careo, ecclesia, filius, vita, amor, fides\n",
      "2024-11-10 19:23:00,301 - INFO - 主题 6: mare, corpus, christus, quaero, dominus, deus, verbum, curro, secundus, mors\n",
      "2024-11-10 19:23:00,302 - INFO - 主题 7: nosco, mundus, principium, cena, verbum, lucerna, excuso, voco, thesaurus, evangelium\n",
      "2024-11-10 19:23:00,308 - INFO - 每个文档的主题分配结果已保存至 /Users/jessie/Documents/Projects/Cusanus_Topic_Modeling/experiments/latinbert/latinbert_20241110192220/bertopic_document_topic_distribution.csv。\n"
     ]
    },
    {
     "name": "stdout",
     "output_type": "stream",
     "text": [
      "BERTopic model training completed.\n",
      "主题 0: deus, christus, verbum, pater, bonus, filius, semen, spiritus, mors, mundus\n",
      "主题 1: deus, dies, anima, homo, virgo, secundus, verbum, ratio, ars, filius\n",
      "主题 2: deus, spiritus, christus, homo, virtus, gloria, rex, verbum, mundus, unus\n",
      "主题 3: christus, deus, iustitia, intelligibilis, debeo, intellego, doceo, bonus, apostolus, evangelium\n",
      "主题 4: imago, deus, vita, spiritus, lumen, christus, intellego, ratio, visito, pater\n",
      "主题 5: spiritus, deus, christus, virtus, careo, ecclesia, filius, vita, amor, fides\n",
      "主题 6: mare, corpus, christus, quaero, dominus, deus, verbum, curro, secundus, mors\n",
      "主题 7: nosco, mundus, principium, cena, verbum, lucerna, excuso, voco, thesaurus, evangelium\n"
     ]
    }
   ],
   "source": [
    "# 使用手动生成的嵌入进行主题模型训练\n",
    "if documents:\n",
    "    print(\"Starting BERTopic model training...\")\n",
    "    logger.info(\"开始训练 BERTopic 模型...\")\n",
    "    \n",
    "    # 将生成的 numpy 格式的自定义嵌入传入 fit_transform\n",
    "    topics, probabilities = topic_model.fit_transform(documents, embeddings=document_embeddings)\n",
    "    logger.info(\"BERTopic 模型训练成功。\")\n",
    "    print(\"BERTopic model training completed.\")\n",
    "    \n",
    "    # 可视化和保存结果\n",
    "    topics_info = topic_model.get_topic_info()\n",
    "    for topic_num in topics_info['Topic'][:10]:  # 输出前 10 个主题\n",
    "        if topic_num != -1:\n",
    "            words_weights = topic_model.get_topic(topic_num)\n",
    "            words_str = ', '.join([word for word, _ in words_weights])\n",
    "            print(f\"主题 {topic_num}: {words_str}\")\n",
    "            logger.info(f\"主题 {topic_num}: {words_str}\")\n",
    "\n",
    "    # 保存文档的主题分配结果\n",
    "    document_topic_data = []\n",
    "    for doc_idx, (topic, prob) in enumerate(zip(topics, probabilities)):\n",
    "        document_name = os.path.basename(test_files[doc_idx])\n",
    "        document_topic_data.append([document_name, topic, prob])\n",
    "\n",
    "    df_document_topics = pd.DataFrame(document_topic_data, columns=[\"Document\", \"Assigned Topic\", \"Probability\"])\n",
    "    document_topics_csv_path = os.path.join(experiment_dir, 'bertopic_document_topic_distribution.csv')\n",
    "    df_document_topics.to_csv(document_topics_csv_path, index=False)\n",
    "    logger.info(f\"每个文档的主题分配结果已保存至 {document_topics_csv_path}。\")"
   ]
  },
  {
   "cell_type": "code",
   "execution_count": 17,
   "metadata": {},
   "outputs": [
    {
     "name": "stderr",
     "output_type": "stream",
     "text": [
      "2024-11-10 19:24:05,077 - INFO - 主题可视化图表已保存至 /Users/jessie/Documents/Projects/Cusanus_Topic_Modeling/experiments/latinbert/latinbert_20241110192220/bertopic_topics.html\n",
      "2024-11-10 19:24:05,099 - ERROR - 保存可视化图表时发生错误: Mime type rendering requires nbformat>=4.2.0 but it is not installed\n"
     ]
    },
    {
     "ename": "ValueError",
     "evalue": "Mime type rendering requires nbformat>=4.2.0 but it is not installed",
     "output_type": "error",
     "traceback": [
      "\u001b[0;31m---------------------------------------------------------------------------\u001b[0m",
      "\u001b[0;31mValueError\u001b[0m                                Traceback (most recent call last)",
      "Cell \u001b[0;32mIn[17], line 10\u001b[0m\n\u001b[1;32m      8\u001b[0m \u001b[38;5;66;03m# 生成并保存层次聚类图表\u001b[39;00m\n\u001b[1;32m      9\u001b[0m fig_hierarchy \u001b[38;5;241m=\u001b[39m topic_model\u001b[38;5;241m.\u001b[39mvisualize_hierarchy()\n\u001b[0;32m---> 10\u001b[0m \u001b[43mfig_hierarchy\u001b[49m\u001b[38;5;241;43m.\u001b[39;49m\u001b[43mshow\u001b[49m\u001b[43m(\u001b[49m\u001b[43m)\u001b[49m\n\u001b[1;32m     11\u001b[0m hierarchy_fig_path \u001b[38;5;241m=\u001b[39m os\u001b[38;5;241m.\u001b[39mpath\u001b[38;5;241m.\u001b[39mjoin(experiment_dir, \u001b[38;5;124m'\u001b[39m\u001b[38;5;124mbertopic_hierarchy.html\u001b[39m\u001b[38;5;124m'\u001b[39m)\n\u001b[1;32m     12\u001b[0m fig_hierarchy\u001b[38;5;241m.\u001b[39mwrite_html(hierarchy_fig_path)\n",
      "File \u001b[0;32m~/miniforge3/envs/latinbert_env/lib/python3.10/site-packages/plotly/basedatatypes.py:3410\u001b[0m, in \u001b[0;36mBaseFigure.show\u001b[0;34m(self, *args, **kwargs)\u001b[0m\n\u001b[1;32m   3377\u001b[0m \u001b[38;5;250m\u001b[39m\u001b[38;5;124;03m\"\"\"\u001b[39;00m\n\u001b[1;32m   3378\u001b[0m \u001b[38;5;124;03mShow a figure using either the default renderer(s) or the renderer(s)\u001b[39;00m\n\u001b[1;32m   3379\u001b[0m \u001b[38;5;124;03mspecified by the renderer argument\u001b[39;00m\n\u001b[0;32m   (...)\u001b[0m\n\u001b[1;32m   3406\u001b[0m \u001b[38;5;124;03mNone\u001b[39;00m\n\u001b[1;32m   3407\u001b[0m \u001b[38;5;124;03m\"\"\"\u001b[39;00m\n\u001b[1;32m   3408\u001b[0m \u001b[38;5;28;01mimport\u001b[39;00m \u001b[38;5;21;01mplotly\u001b[39;00m\u001b[38;5;21;01m.\u001b[39;00m\u001b[38;5;21;01mio\u001b[39;00m \u001b[38;5;28;01mas\u001b[39;00m \u001b[38;5;21;01mpio\u001b[39;00m\n\u001b[0;32m-> 3410\u001b[0m \u001b[38;5;28;01mreturn\u001b[39;00m \u001b[43mpio\u001b[49m\u001b[38;5;241;43m.\u001b[39;49m\u001b[43mshow\u001b[49m\u001b[43m(\u001b[49m\u001b[38;5;28;43mself\u001b[39;49m\u001b[43m,\u001b[49m\u001b[43m \u001b[49m\u001b[38;5;241;43m*\u001b[39;49m\u001b[43margs\u001b[49m\u001b[43m,\u001b[49m\u001b[43m \u001b[49m\u001b[38;5;241;43m*\u001b[39;49m\u001b[38;5;241;43m*\u001b[39;49m\u001b[43mkwargs\u001b[49m\u001b[43m)\u001b[49m\n",
      "File \u001b[0;32m~/miniforge3/envs/latinbert_env/lib/python3.10/site-packages/plotly/io/_renderers.py:394\u001b[0m, in \u001b[0;36mshow\u001b[0;34m(fig, renderer, validate, **kwargs)\u001b[0m\n\u001b[1;32m    389\u001b[0m         \u001b[38;5;28;01mraise\u001b[39;00m \u001b[38;5;167;01mValueError\u001b[39;00m(\n\u001b[1;32m    390\u001b[0m             \u001b[38;5;124m\"\u001b[39m\u001b[38;5;124mMime type rendering requires ipython but it is not installed\u001b[39m\u001b[38;5;124m\"\u001b[39m\n\u001b[1;32m    391\u001b[0m         )\n\u001b[1;32m    393\u001b[0m     \u001b[38;5;28;01mif\u001b[39;00m \u001b[38;5;129;01mnot\u001b[39;00m nbformat \u001b[38;5;129;01mor\u001b[39;00m Version(nbformat\u001b[38;5;241m.\u001b[39m__version__) \u001b[38;5;241m<\u001b[39m Version(\u001b[38;5;124m\"\u001b[39m\u001b[38;5;124m4.2.0\u001b[39m\u001b[38;5;124m\"\u001b[39m):\n\u001b[0;32m--> 394\u001b[0m         \u001b[38;5;28;01mraise\u001b[39;00m \u001b[38;5;167;01mValueError\u001b[39;00m(\n\u001b[1;32m    395\u001b[0m             \u001b[38;5;124m\"\u001b[39m\u001b[38;5;124mMime type rendering requires nbformat>=4.2.0 but it is not installed\u001b[39m\u001b[38;5;124m\"\u001b[39m\n\u001b[1;32m    396\u001b[0m         )\n\u001b[1;32m    398\u001b[0m     ipython_display\u001b[38;5;241m.\u001b[39mdisplay(bundle, raw\u001b[38;5;241m=\u001b[39m\u001b[38;5;28;01mTrue\u001b[39;00m)\n\u001b[1;32m    400\u001b[0m \u001b[38;5;66;03m# external renderers\u001b[39;00m\n",
      "\u001b[0;31mValueError\u001b[0m: Mime type rendering requires nbformat>=4.2.0 but it is not installed"
     ]
    }
   ],
   "source": [
    "# 保存可视化图表为 HTML 文件\n",
    "try:\n",
    "    topics_fig_path = os.path.join(experiment_dir, 'bertopic_topics.html')\n",
    "    fig = topic_model.visualize_topics()\n",
    "    fig.write_html(topics_fig_path)\n",
    "    logger.info(f\"主题可视化图表已保存至 {topics_fig_path}\")\n",
    "\n",
    "    # 生成并保存层次聚类图表\n",
    "    fig_hierarchy = topic_model.visualize_hierarchy()\n",
    "    fig_hierarchy.show()\n",
    "    hierarchy_fig_path = os.path.join(experiment_dir, 'bertopic_hierarchy.html')\n",
    "    fig_hierarchy.write_html(hierarchy_fig_path)\n",
    "    logger.info(f\"层次聚类图表已保存至 {hierarchy_fig_path}\")\n",
    "except Exception as e:\n",
    "    logger.error(f\"保存可视化图表时发生错误: {e}\")\n",
    "    raise"
   ]
  },
  {
   "cell_type": "code",
   "execution_count": 21,
   "metadata": {},
   "outputs": [
    {
     "name": "stderr",
     "output_type": "stream",
     "text": [
      "2024-11-10 19:45:12,787 - INFO - 开始评估 BERTopic 模型...\n",
      "2024-11-10 19:45:12,800 - INFO - adding document #0 to Dictionary<0 unique tokens: []>\n",
      "2024-11-10 19:45:12,834 - INFO - built Dictionary<9286 unique tokens: ['abicio', 'abscido', 'achaia', 'actus', 'adae']...> from 61 documents (total 52171 corpus positions)\n",
      "2024-11-10 19:45:12,836 - INFO - Dictionary lifecycle event {'msg': \"built Dictionary<9286 unique tokens: ['abicio', 'abscido', 'achaia', 'actus', 'adae']...> from 61 documents (total 52171 corpus positions)\", 'datetime': '2024-11-10T19:45:12.836112', 'gensim': '4.3.3', 'python': '3.10.13 | packaged by conda-forge | (main, Dec 23 2023, 15:35:25) [Clang 16.0.6 ]', 'platform': 'macOS-15.1-arm64-arm-64bit', 'event': 'created'}\n",
      "2024-11-10 19:45:12,838 - INFO - 计算主题一致性 (NPMI)...\n",
      "2024-11-10 19:45:12,847 - INFO - using ParallelWordOccurrenceAccumulator<processes=7, batch_size=64> to estimate probabilities from sliding windows\n",
      "huggingface/tokenizers: The current process just got forked, after parallelism has already been used. Disabling parallelism to avoid deadlocks...\n",
      "To disable this warning, you can either:\n",
      "\t- Avoid using `tokenizers` before the fork if possible\n",
      "\t- Explicitly set the environment variable TOKENIZERS_PARALLELISM=(true | false)\n",
      "huggingface/tokenizers: The current process just got forked, after parallelism has already been used. Disabling parallelism to avoid deadlocks...\n",
      "To disable this warning, you can either:\n",
      "\t- Avoid using `tokenizers` before the fork if possible\n",
      "\t- Explicitly set the environment variable TOKENIZERS_PARALLELISM=(true | false)\n",
      "huggingface/tokenizers: The current process just got forked, after parallelism has already been used. Disabling parallelism to avoid deadlocks...\n",
      "To disable this warning, you can either:\n",
      "\t- Avoid using `tokenizers` before the fork if possible\n",
      "\t- Explicitly set the environment variable TOKENIZERS_PARALLELISM=(true | false)\n",
      "huggingface/tokenizers: The current process just got forked, after parallelism has already been used. Disabling parallelism to avoid deadlocks...\n",
      "To disable this warning, you can either:\n",
      "\t- Avoid using `tokenizers` before the fork if possible\n",
      "\t- Explicitly set the environment variable TOKENIZERS_PARALLELISM=(true | false)\n",
      "huggingface/tokenizers: The current process just got forked, after parallelism has already been used. Disabling parallelism to avoid deadlocks...\n",
      "To disable this warning, you can either:\n",
      "\t- Avoid using `tokenizers` before the fork if possible\n",
      "\t- Explicitly set the environment variable TOKENIZERS_PARALLELISM=(true | false)\n",
      "huggingface/tokenizers: The current process just got forked, after parallelism has already been used. Disabling parallelism to avoid deadlocks...\n",
      "To disable this warning, you can either:\n",
      "\t- Avoid using `tokenizers` before the fork if possible\n",
      "\t- Explicitly set the environment variable TOKENIZERS_PARALLELISM=(true | false)\n",
      "huggingface/tokenizers: The current process just got forked, after parallelism has already been used. Disabling parallelism to avoid deadlocks...\n",
      "To disable this warning, you can either:\n",
      "\t- Avoid using `tokenizers` before the fork if possible\n",
      "\t- Explicitly set the environment variable TOKENIZERS_PARALLELISM=(true | false)\n",
      "2024-11-10 19:45:16,934 - INFO - 1 batches submitted to accumulate stats from 64 documents (51622 virtual)\n",
      "2024-11-10 19:45:17,187 - INFO - 7 accumulators retrieved from output queue\n",
      "2024-11-10 19:45:17,192 - INFO - accumulated word occurrence stats for 51622 virtual documents\n",
      "2024-11-10 19:45:17,216 - INFO - 平均主题一致性 (NPMI): -0.05126873692312986\n",
      "2024-11-10 19:45:17,217 - INFO - 主题多样性: 0.6\n",
      "2024-11-10 19:45:17,217 - INFO - 计算 WEPS 评分...\n"
     ]
    },
    {
     "name": "stdout",
     "output_type": "stream",
     "text": [
      "平均主题一致性 (NPMI): -0.05126873692312986\n",
      "主题多样性: 0.6\n"
     ]
    },
    {
     "name": "stderr",
     "output_type": "stream",
     "text": [
      "2024-11-10 19:45:22,271 - INFO - WEPS: 0.9848667979240417\n",
      "2024-11-10 19:45:22,276 - INFO - BERTopic 模型评估结果已保存至 /Users/jessie/Documents/Projects/Cusanus_Topic_Modeling/experiments/latinbert/latinbert_20241110192220/bertopic_evaluation_results.txt\n"
     ]
    },
    {
     "name": "stdout",
     "output_type": "stream",
     "text": [
      "WEPS: 0.9848667979240417\n"
     ]
    }
   ],
   "source": [
    "\n",
    "from sklearn.metrics.pairwise import cosine_similarity\n",
    "\n",
    "# 评估模型\n",
    "logger.info(\"开始评估 BERTopic 模型...\")\n",
    "\n",
    "# 提取每个主题的前10个关键词\n",
    "bertopic_topics = []\n",
    "for topic_num in range(len(topic_model.get_topics())):\n",
    "    topic = topic_model.get_topic(topic_num)\n",
    "    if topic:  # 确保 topic 不是布尔值\n",
    "        bertopic_topics.append([word for word, _ in topic])\n",
    "\n",
    "# 使用 gensim.corpora.Dictionary 创建词典\n",
    "texts = [doc.split() for doc in documents]\n",
    "dictionary = corpora.Dictionary(texts)\n",
    "\n",
    "# 计算主题一致性（NPMI）\n",
    "logger.info(\"计算主题一致性 (NPMI)...\")\n",
    "coherence_model_npmi = CoherenceModel(topics=bertopic_topics, texts=texts, dictionary=dictionary, coherence='c_npmi')\n",
    "coherence_score_npmi = coherence_model_npmi.get_coherence()\n",
    "logger.info(f\"平均主题一致性 (NPMI): {coherence_score_npmi}\")\n",
    "print(f\"平均主题一致性 (NPMI): {coherence_score_npmi}\")\n",
    "\n",
    "# 计算主题多样性\n",
    "unique_words = set()\n",
    "total_words = 0\n",
    "for topic in bertopic_topics:\n",
    "    unique_words.update(topic)\n",
    "    total_words += len(topic)\n",
    "topic_diversity = len(unique_words) / total_words\n",
    "logger.info(f\"主题多样性: {topic_diversity}\")\n",
    "print(f\"主题多样性: {topic_diversity}\")\n",
    "\n",
    "# 计算 WEPS 评分\n",
    "logger.info(\"计算 WEPS 评分...\")\n",
    "\n",
    "# 定义嵌入获取函数：根据主题中的词汇获取其嵌入向量\n",
    "def get_average_embedding_for_topic(topic_words, tokenizer, model, device):\n",
    "    tokens = tokenizer(topic_words, padding=True, truncation=True, return_tensors=\"pt\", max_length=256).to(device)\n",
    "    with torch.no_grad():\n",
    "        embeddings = model(**tokens).last_hidden_state.mean(dim=1)\n",
    "    return embeddings.cpu().numpy()\n",
    "\n",
    "# 获取每个主题的平均嵌入向量\n",
    "topic_embeddings = []\n",
    "for topic in bertopic_topics:  # 每个主题的词汇\n",
    "    topic_embedding = get_average_embedding_for_topic(topic, tokenizer, model, device)\n",
    "    topic_embeddings.append(topic_embedding)\n",
    "\n",
    "# 计算不同主题之间的余弦相似度\n",
    "topic_embeddings = np.concatenate(topic_embeddings)  # 合并所有主题的嵌入\n",
    "similarity_matrix = cosine_similarity(topic_embeddings)\n",
    "\n",
    "# 计算 WEPS（主题之间的相似度）\n",
    "weps = np.mean(similarity_matrix)  # 或者根据需求选择合适的聚合方式\n",
    "logger.info(f\"WEPS: {weps}\")\n",
    "print(f\"WEPS: {weps}\")\n",
    "\n",
    "# 保存评估结果\n",
    "evaluation_results_path = os.path.join(experiment_dir, 'bertopic_evaluation_results.txt')\n",
    "with open(evaluation_results_path, 'w') as eval_file:\n",
    "    eval_file.write(f\"平均主题一致性 (NPMI): {coherence_score_npmi}\\n\")\n",
    "    eval_file.write(f\"主题多样性: {topic_diversity}\\n\")\n",
    "    eval_file.write(f\"WEPS: {weps}\\n\")\n",
    "\n",
    "logger.info(f\"BERTopic 模型评估结果已保存至 {evaluation_results_path}\")"
   ]
  },
  {
   "cell_type": "code",
   "execution_count": 19,
   "metadata": {},
   "outputs": [
    {
     "name": "stderr",
     "output_type": "stream",
     "text": [
      "2024-11-10 19:24:32,579 - INFO - 生成的主题和评估结果已保存至 /Users/jessie/Documents/Projects/Cusanus_Topic_Modeling/experiments/latinbert/latinbert_20241110192220/bertopic_results.txt\n"
     ]
    }
   ],
   "source": [
    "# 保存每次生成的主题和评估结果到一个文件\n",
    "results_file_path = os.path.join(experiment_dir, 'bertopic_results.txt')\n",
    "with open(results_file_path, 'w', encoding='utf-8') as f:\n",
    "    # 保存主题词\n",
    "    f.write(\"BERTopic 生成的主题：\\n\")\n",
    "    for idx, topic in enumerate(bertopic_topics):\n",
    "        topic_str = f\"Topic {idx}: {', '.join(topic)}\"\n",
    "        f.write(topic_str + '\\n')\n",
    "    f.write(\"\\n\")\n",
    "    \n",
    "    # 保存评估结果\n",
    "    f.write(f\"平均主题一致性 (NPMI): {coherence_score_npmi}\\n\")\n",
    "    f.write(f\"主题多样性: {topic_diversity}\\n\")\n",
    "\n",
    "logger.info(f\"生成的主题和评估结果已保存至 {results_file_path}\")"
   ]
  }
 ],
 "metadata": {
  "kernelspec": {
   "display_name": "latinbert_env",
   "language": "python",
   "name": "python3"
  },
  "language_info": {
   "codemirror_mode": {
    "name": "ipython",
    "version": 3
   },
   "file_extension": ".py",
   "mimetype": "text/x-python",
   "name": "python",
   "nbconvert_exporter": "python",
   "pygments_lexer": "ipython3",
   "version": "3.10.15"
  }
 },
 "nbformat": 4,
 "nbformat_minor": 2
}
