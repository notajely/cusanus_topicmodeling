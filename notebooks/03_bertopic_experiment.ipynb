{
 "cells": [
  {
   "cell_type": "code",
   "execution_count": 1,
   "metadata": {},
   "outputs": [
    {
     "name": "stderr",
     "output_type": "stream",
     "text": [
      "2024-11-08 22:04:09.024 python[52201:405582] getMetalPluginClassForService: Failed to find bundle for accelerator bundle named: AGXMetalA12 errno: 0\n"
     ]
    }
   ],
   "source": [
    "import os\n",
    "import time\n",
    "import logging\n",
    "import pickle\n",
    "import tqdm\n",
    "import json\n",
    "from bertopic import BERTopic\n",
    "from sklearn.feature_extraction.text import CountVectorizer\n",
    "from umap import UMAP\n",
    "from transformers import AutoTokenizer, AutoModel\n",
    "import torch\n",
    "import pandas as pd\n",
    "import numpy as np"
   ]
  },
  {
   "cell_type": "code",
   "execution_count": 2,
   "metadata": {},
   "outputs": [],
   "source": [
    "BASE_DIR = '/Users/jessie/Documents/Projects/Cusanus_Topic_Modeling'"
   ]
  },
  {
   "cell_type": "code",
   "execution_count": 3,
   "metadata": {},
   "outputs": [],
   "source": [
    "os.environ[\"PYTORCH_MPS_SUPPORT\"] = \"0\"\n"
   ]
  },
  {
   "cell_type": "code",
   "execution_count": 4,
   "metadata": {},
   "outputs": [],
   "source": [
    "# 设置 CPU 设备\n",
    "device = torch.device(\"cpu\")"
   ]
  },
  {
   "cell_type": "code",
   "execution_count": 5,
   "metadata": {},
   "outputs": [
    {
     "name": "stderr",
     "output_type": "stream",
     "text": [
      "2024-11-08 22:04:16,629 - INFO - 启动实验 bertopic_experiment_1731099856，日志记录到 /Users/jessie/Documents/Projects/Cusanus_Topic_Modeling/experiments/bertopic_experiment_1731099856/bertopic_experiment_bertopic_experiment_1731099856.log\n"
     ]
    },
    {
     "name": "stdout",
     "output_type": "stream",
     "text": [
      "启动实验 bertopic_experiment_1731099856，日志记录到 /Users/jessie/Documents/Projects/Cusanus_Topic_Modeling/experiments/bertopic_experiment_1731099856/bertopic_experiment_bertopic_experiment_1731099856.log\n"
     ]
    }
   ],
   "source": [
    "# 生成唯一实验ID\n",
    "experiment_id = f\"bertopic_experiment_{int(time.time())}\"\n",
    "experiment_dir = os.path.join(BASE_DIR, 'experiments', experiment_id)\n",
    "\n",
    "# 创建实验目录\n",
    "if not os.path.exists(experiment_dir):\n",
    "    os.makedirs(experiment_dir)\n",
    "\n",
    "# 获取日志文件路径\n",
    "log_file_path = os.path.join(experiment_dir, f\"bertopic_experiment_{experiment_id}.log\")\n",
    "\n",
    "# 配置日志记录\n",
    "logger = logging.getLogger()\n",
    "if logger.hasHandlers():\n",
    "    logger.handlers.clear()\n",
    "logger.setLevel(logging.INFO)\n",
    "formatter = logging.Formatter(\"%(asctime)s - %(levelname)s - %(message)s\")\n",
    "file_handler = logging.FileHandler(log_file_path)\n",
    "file_handler.setFormatter(formatter)\n",
    "logger.addHandler(file_handler)\n",
    "console_handler = logging.StreamHandler()\n",
    "console_handler.setFormatter(formatter)\n",
    "logger.addHandler(console_handler)\n",
    "\n",
    "logger.info(f\"启动实验 {experiment_id}，日志记录到 {log_file_path}\")\n",
    "print(f\"启动实验 {experiment_id}，日志记录到 {log_file_path}\")"
   ]
  },
  {
   "cell_type": "code",
   "execution_count": 6,
   "metadata": {},
   "outputs": [
    {
     "name": "stderr",
     "output_type": "stream",
     "text": [
      "2024-11-08 22:04:19,164 - INFO - 实验配置已保存到 /Users/jessie/Documents/Projects/Cusanus_Topic_Modeling/experiments/bertopic_experiment_1731099856/config.json\n"
     ]
    },
    {
     "name": "stdout",
     "output_type": "stream",
     "text": [
      "实验配置已保存到 /Users/jessie/Documents/Projects/Cusanus_Topic_Modeling/experiments/bertopic_experiment_1731099856/config.json\n"
     ]
    }
   ],
   "source": [
    "# 实验配置\n",
    "experiment_config = {\n",
    "    \"parameters\": {\n",
    "        \"n_gram_range\": (1, 2),  # 捕捉更多的上下文短语\n",
    "        \"min_topic_size\": 2,  # 增大最小主题大小以减少噪声\n",
    "        \"nr_topics\": \"auto\",  # 自动确定主题数量\n",
    "        \"umap_params\": {\n",
    "            \"n_neighbors\": 10,  # 增加邻居数使得降维更平滑\n",
    "            \"min_dist\": 0.1,  # 增大最小距离使主题更分离\n",
    "            \"n_components\": 2,  # 增大维度以保留更多特征信息\n",
    "            \"random_state\": 42  # 确保实验可重复\n",
    "        }\n",
    "    }\n",
    "}\n",
    "\n",
    "config_path = os.path.join(experiment_dir, 'config.json')\n",
    "with open(config_path, 'w') as config_file:\n",
    "    json.dump(experiment_config, config_file, indent=4)\n",
    "\n",
    "logger.info(f\"实验配置已保存到 {config_path}\")\n",
    "print(f\"实验配置已保存到 {config_path}\")"
   ]
  },
  {
   "cell_type": "raw",
   "metadata": {
    "vscode": {
     "languageId": "raw"
    }
   },
   "source": [
    "# 加载预训练的 Latin BERT 模型\n",
    "logger.info(\"加载 Latin-BERT 嵌入模型...\")\n",
    "model_path = \"/Users/jessie/Documents/Projects/Cusanus_Topic_Modeling/latin-bert/models/latin_bert\"\n",
    "tokenizer = AutoTokenizer.from_pretrained(model_path)\n",
    "bert_model = AutoModel.from_pretrained(model_path)"
   ]
  },
  {
   "cell_type": "code",
   "execution_count": 7,
   "metadata": {},
   "outputs": [
    {
     "name": "stderr",
     "output_type": "stream",
     "text": [
      "2024-11-08 22:04:21,743 - INFO - 加载 mBERT 嵌入模型...\n"
     ]
    },
    {
     "data": {
      "application/vnd.jupyter.widget-view+json": {
       "model_id": "6d40b51ba0bc40b0b619255bf69f5416",
       "version_major": 2,
       "version_minor": 0
      },
      "text/plain": [
       "tokenizer_config.json:   0%|          | 0.00/49.0 [00:00<?, ?B/s]"
      ]
     },
     "metadata": {},
     "output_type": "display_data"
    },
    {
     "data": {
      "application/vnd.jupyter.widget-view+json": {
       "model_id": "fca950bdaf3448d6a837116c22e2f391",
       "version_major": 2,
       "version_minor": 0
      },
      "text/plain": [
       "config.json:   0%|          | 0.00/625 [00:00<?, ?B/s]"
      ]
     },
     "metadata": {},
     "output_type": "display_data"
    },
    {
     "data": {
      "application/vnd.jupyter.widget-view+json": {
       "model_id": "a222d36b7d9e46bb89263d080991de76",
       "version_major": 2,
       "version_minor": 0
      },
      "text/plain": [
       "vocab.txt:   0%|          | 0.00/996k [00:00<?, ?B/s]"
      ]
     },
     "metadata": {},
     "output_type": "display_data"
    },
    {
     "data": {
      "application/vnd.jupyter.widget-view+json": {
       "model_id": "e32dc4812b2448e191d39f42a7140835",
       "version_major": 2,
       "version_minor": 0
      },
      "text/plain": [
       "tokenizer.json:   0%|          | 0.00/1.96M [00:00<?, ?B/s]"
      ]
     },
     "metadata": {},
     "output_type": "display_data"
    },
    {
     "data": {
      "application/vnd.jupyter.widget-view+json": {
       "model_id": "732fe1ee1a8646fcb8c764d39f04d06a",
       "version_major": 2,
       "version_minor": 0
      },
      "text/plain": [
       "model.safetensors:   0%|          | 0.00/714M [00:00<?, ?B/s]"
      ]
     },
     "metadata": {},
     "output_type": "display_data"
    },
    {
     "data": {
      "text/plain": [
       "BertModel(\n",
       "  (embeddings): BertEmbeddings(\n",
       "    (word_embeddings): Embedding(119547, 768, padding_idx=0)\n",
       "    (position_embeddings): Embedding(512, 768)\n",
       "    (token_type_embeddings): Embedding(2, 768)\n",
       "    (LayerNorm): LayerNorm((768,), eps=1e-12, elementwise_affine=True)\n",
       "    (dropout): Dropout(p=0.1, inplace=False)\n",
       "  )\n",
       "  (encoder): BertEncoder(\n",
       "    (layer): ModuleList(\n",
       "      (0-11): 12 x BertLayer(\n",
       "        (attention): BertAttention(\n",
       "          (self): BertSdpaSelfAttention(\n",
       "            (query): Linear(in_features=768, out_features=768, bias=True)\n",
       "            (key): Linear(in_features=768, out_features=768, bias=True)\n",
       "            (value): Linear(in_features=768, out_features=768, bias=True)\n",
       "            (dropout): Dropout(p=0.1, inplace=False)\n",
       "          )\n",
       "          (output): BertSelfOutput(\n",
       "            (dense): Linear(in_features=768, out_features=768, bias=True)\n",
       "            (LayerNorm): LayerNorm((768,), eps=1e-12, elementwise_affine=True)\n",
       "            (dropout): Dropout(p=0.1, inplace=False)\n",
       "          )\n",
       "        )\n",
       "        (intermediate): BertIntermediate(\n",
       "          (dense): Linear(in_features=768, out_features=3072, bias=True)\n",
       "          (intermediate_act_fn): GELUActivation()\n",
       "        )\n",
       "        (output): BertOutput(\n",
       "          (dense): Linear(in_features=3072, out_features=768, bias=True)\n",
       "          (LayerNorm): LayerNorm((768,), eps=1e-12, elementwise_affine=True)\n",
       "          (dropout): Dropout(p=0.1, inplace=False)\n",
       "        )\n",
       "      )\n",
       "    )\n",
       "  )\n",
       "  (pooler): BertPooler(\n",
       "    (dense): Linear(in_features=768, out_features=768, bias=True)\n",
       "    (activation): Tanh()\n",
       "  )\n",
       ")"
      ]
     },
     "execution_count": 7,
     "metadata": {},
     "output_type": "execute_result"
    }
   ],
   "source": [
    "# 加载 mBERT 模型\n",
    "logger.info(\"加载 mBERT 嵌入模型...\")\n",
    "model_name = \"bert-base-multilingual-cased\"  # 使用 mBERT 的模型名称\n",
    "tokenizer = AutoTokenizer.from_pretrained(model_name)\n",
    "bert_model = AutoModel.from_pretrained(model_name)\n",
    "\n",
    "# 设置设备为 CPU\n",
    "device = torch.device(\"cpu\")\n",
    "bert_model.to(device)"
   ]
  },
  {
   "cell_type": "code",
   "execution_count": 8,
   "metadata": {},
   "outputs": [],
   "source": [
    "def get_embeddings_batch(texts, batch_size=4):\n",
    "    all_embeddings = []\n",
    "    print(\"Generating embeddings with progress bar:\")\n",
    "    for i in tqdm(range(0, len(texts), batch_size), desc=\"Embedding batches\"):\n",
    "        batch_texts = texts[i:i+batch_size]\n",
    "        tokens = tokenizer(batch_texts, padding=True, truncation=True, return_tensors=\"pt\", max_length=256).to(device)\n",
    "        with torch.no_grad():\n",
    "            embeddings = bert_model(**tokens).last_hidden_state.mean(dim=1).to(\"cpu\")\n",
    "        all_embeddings.append(embeddings)\n",
    "    \n",
    "    # 将嵌入从张量转换为 numpy 数组\n",
    "    all_embeddings = torch.cat(all_embeddings, dim=0)\n",
    "    return all_embeddings.numpy()"
   ]
  },
  {
   "cell_type": "raw",
   "metadata": {
    "vscode": {
     "languageId": "raw"
    }
   },
   "source": [
    "\n",
    "# 加载预训练的 paraphrase-xlm-r-multilingual-v1 模型\n",
    "model_path = os.path.join(BASE_DIR, 'saved_models', 'paraphrase-xlm-r-multilingual-v1')\n",
    "if os.path.exists(model_path):\n",
    "    logger.info(f\"从本地路径 {model_path} 加载 paraphrase-xlm-r-multilingual-v1 模型作为嵌入模型...\")\n",
    "    embedding_model = SentenceTransformer(model_path)\n",
    "else:\n",
    "    logger.info(\"加载 paraphrase-xlm-r-multilingual-v1 模型作为嵌入模型...\")\n",
    "    embedding_model = SentenceTransformer('paraphrase-xlm-r-multilingual-v1')\n",
    "    embedding_model.save(model_path)\n",
    "    logger.info(f\"嵌入模型已保存到本地路径 {model_path}\")"
   ]
  },
  {
   "cell_type": "code",
   "execution_count": 9,
   "metadata": {},
   "outputs": [],
   "source": [
    "# 创建 CountVectorizer 和 UMAP\n",
    "vectorizer_model = CountVectorizer(\n",
    "    ngram_range=experiment_config[\"parameters\"][\"n_gram_range\"],\n",
    "    token_pattern=r\"(?u)\\b\\w+\\b\"\n",
    ")\n",
    "custom_umap = UMAP(\n",
    "    n_neighbors=experiment_config[\"parameters\"][\"umap_params\"][\"n_neighbors\"],\n",
    "    min_dist=experiment_config[\"parameters\"][\"umap_params\"][\"min_dist\"],\n",
    "    n_components=experiment_config[\"parameters\"][\"umap_params\"][\"n_components\"],\n",
    "    random_state=experiment_config[\"parameters\"][\"umap_params\"][\"random_state\"]\n",
    ")"
   ]
  },
  {
   "cell_type": "code",
   "execution_count": 10,
   "metadata": {},
   "outputs": [
    {
     "name": "stdout",
     "output_type": "stream",
     "text": [
      "Generating embeddings with progress bar:\n"
     ]
    },
    {
     "name": "stderr",
     "output_type": "stream",
     "text": [
      "Embedding batches:   0%|          | 0/1 [00:00<?, ?it/s]"
     ]
    },
    {
     "name": "stdout",
     "output_type": "stream",
     "text": [
      "Intel MKL WARNING: Support of Intel(R) Streaming SIMD Extensions 4.2 (Intel(R) SSE4.2) enabled only processors has been deprecated. Intel oneAPI Math Kernel Library 2025.0 will require Intel(R) Advanced Vector Extensions (Intel(R) AVX) instructions.\n"
     ]
    },
    {
     "name": "stderr",
     "output_type": "stream",
     "text": [
      "Embedding batches: 100%|██████████| 1/1 [00:03<00:00,  3.20s/it]"
     ]
    },
    {
     "name": "stdout",
     "output_type": "stream",
     "text": [
      "[[-0.470485   -0.44551334  0.87620616  0.2539409   0.04651868 -0.1859973\n",
      "  -0.31797978 -0.91170734  0.1361594   1.4825076   0.6874243  -0.2873758\n",
      "   0.40294683  0.08532739 -0.27130303  0.00572636 -0.28052163  0.2920426\n",
      "   0.08689792  0.3988412  -0.03843997 -0.30036142 -0.5438476   0.21518339\n",
      "   0.04183191 -0.33924854 -0.15437032 -0.47068164  0.3841212  -0.60857266\n",
      "   0.19729309  0.84971136  0.04278448 -0.21175192  0.06215887  0.2147707\n",
      "  -0.05952524  0.41915867  0.56576985  0.35840595 -0.25020942  0.7506829\n",
      "  -0.83813167 -0.26705465 -0.08727431 -0.09836506 -0.38725692  0.20073754\n",
      "  -0.19582477 -0.25368464 -0.5044367  -0.10926254 -0.38802317 -0.08912248\n",
      "  -0.10833127 -0.17533143  0.02227819 -0.31886753  0.09597922  0.2834816\n",
      "   0.13880643 -0.23092322 -0.50962543  0.09932714 -0.23265117 -0.12123919\n",
      "  -0.38961098  0.19686666 -0.79366225 -0.20112753  0.85688746  0.04029782\n",
      "   0.49419764 -0.08749607 -0.16760086  0.17439248  0.66768587 -0.20600595\n",
      "  -0.6811675   0.10808054 -0.05225864  0.39117268 -0.47022912 -0.11606011\n",
      "  -0.36621407 -0.03801515 -0.02430146 -0.18998046  0.8866284  -1.613771\n",
      "   0.2543379  -0.05602216 -0.0390653  -0.180847    0.14666834  0.17990834\n",
      "   0.7103845  -0.26344153  0.24087195  0.18257938 -0.2466663   0.14147629\n",
      "   0.19668776 -0.11191761  0.7814211   0.2781657  -0.03882742  0.5875526\n",
      "  -0.08678412 -0.3002755   0.48960292 -0.21425904  0.24624906  0.13312984\n",
      "  -0.08561499 -0.610609   -0.33951724 -0.20928268  0.02396678 -0.27557123\n",
      "   0.37212488  0.07452233  0.1865016   0.19153184  0.44742623 -0.05656751\n",
      "   0.2697678  -0.3520259   0.2782412  -0.19820915 -0.5170483  -0.33570182\n",
      "   0.08684507  0.397927    0.18197426  0.15134265  1.0015539   0.20891008\n",
      "  -0.04801394  0.4186251  -0.450704    0.24139307 -0.10749145 -0.20418462\n",
      "   0.34561655  0.36216182 -0.53553396  0.86151236 -0.4751932  -0.0089237\n",
      "   0.5375251   0.32565823  0.46108028  0.02350442  0.12540603  0.3537181\n",
      "   0.79100776  0.22932051 -0.7747049   0.60945415  0.27828357 -0.37662038\n",
      "  -0.08610319  0.63648707  0.4146697  -0.730817    0.15626372 -0.5968819\n",
      "  -0.51461464 -0.27513897 -0.5408933   0.32809266  0.16853307 -0.15282203\n",
      "  -0.32779273 -0.36227435 -0.13546593  0.10447185  0.08325406 -0.18500029\n",
      "   0.01814632  0.11741079  0.26347435 -0.34829682  0.08113155  0.19597481\n",
      "   0.06820785 -0.08553013 -0.06896948 -0.38662073 -0.27655587  0.26239502\n",
      "   0.10246971 -0.8038675   0.5248071   0.2811686  -0.03180827  0.23134919\n",
      "   0.07980797 -0.4586088   0.02707743 -0.08907133  0.22964789 -0.28162313\n",
      "  -0.18060379  0.57232326 -0.03081347 -0.46751216 -0.30948836  0.8289879\n",
      "  -0.17712286 -0.26202726  0.36384773 -0.30700165 -0.3247381   0.5555888\n",
      "   0.38630325  0.40938866 -0.09959617 -0.5872392  -0.06446239 -0.7850168\n",
      "  -0.23446709 -0.5370484  -0.5413427  -0.1995141  -0.14327544  0.22670108\n",
      "   0.29488328  0.4416526   0.18015319 -0.45549327 -0.6510236  -0.14457943\n",
      "  -0.04278558  0.27959654  0.16994411  0.2551559  -0.51406854 -0.02041565\n",
      "   0.20744187 -0.02402369  0.3655161  -0.08936036  0.24253325  0.19044966\n",
      "  -0.33400723  0.28149456  0.5170367  -0.7497909   0.60389066 -0.27067944\n",
      "  -0.02346942 -0.63347816  1.0102788   0.6242823   0.44627455 -0.24078178\n",
      "   0.28283322  0.1943355   0.3414953  -0.31253138  0.06866162  0.39339516\n",
      "   0.16174304  0.09328    -0.01013562  0.2989125  -0.03091474 -0.36677113\n",
      "  -0.5582188   0.21421748 -0.04503636 -0.05011133 -0.35073158 -0.29453456\n",
      "   0.06190189  0.01780056 -0.06581488  0.33477542  0.3779136   0.22299999\n",
      "  -0.2578006   0.27227765  0.08906969  0.02225319  0.24845554 -0.3914528\n",
      "  -0.75306416 -0.9021509  -0.5239554  -0.24472293  0.18183437  0.40601626\n",
      "  -0.2720969   0.5523565  -0.93213886 -0.07337721 -0.92228395 -0.06779549\n",
      "  -0.3910283  -0.64679176 -0.27807048 -0.46884394 -0.356543   -0.12313327\n",
      "   0.96934587 -0.0337141   0.3369947   0.09291797 -0.3239772   0.89367616\n",
      "  -0.21618599  0.4707913   0.62401825  0.1497286   0.7375471   0.03436731\n",
      "  -0.7037483   0.02337585  0.0911881  -0.91078395  0.07406454  0.450696\n",
      "  -0.03656682  0.4368948  -0.22634558 -0.03879515  0.16991404  0.04359159\n",
      "  -1.2014104   0.72498506  0.00281792  0.32968974  0.31311157  0.40263417\n",
      "   0.4533039   0.33001783 -0.70242816 -1.0967519  -0.6944482  -0.12203257\n",
      "  -0.34971535  0.15749131  0.48136485  0.11547711  0.20997614  0.13615903\n",
      "   0.16600859 -0.2288674   0.3098549   0.48981744  0.30371672  0.21818538\n",
      "  -0.70232236 -0.44953662 -0.4994937   0.3355761   0.4990311  -0.17743604\n",
      "  -0.00400048  0.28060344  0.5569959  -0.22031446 -0.3441228  -0.19866952\n",
      "  -0.0838528  -0.2317068  -0.09835418 -0.16677281  0.40401477  1.1702876\n",
      "  -0.839195   -0.24224277 -0.30021378  0.12167892 -0.17373715 -0.76222634\n",
      "   0.6653796   0.02200649  0.9755032  -0.18984272 -0.530971    0.5009552\n",
      "  -0.22433029 -0.47926876  0.816787   -0.20180492 -0.1831422   0.2743841\n",
      "  -0.7347335  -0.08399999  0.34984666  0.23083262 -0.42943764 -0.99918\n",
      "   0.446527   -0.6495423  -0.2976469   0.47727126  0.6838844  -1.2859598\n",
      "   0.8809485   0.32020906  0.53970087  0.08914299  1.2021799  -0.3433464\n",
      "  -0.51503605  0.61916804 -0.12321515 -0.1324293   0.39792794 -0.5287684\n",
      "   0.5179012   0.07998759 -0.6860768  -0.1932683   0.5592792   0.76605487\n",
      "  -0.1023572  -0.09656396  0.1999707  -1.4322057   0.32967752 -0.35379893\n",
      "  -0.0863222   0.3432698   0.21804844  0.01655106 -0.29953918 -0.31463245\n",
      "   0.5510687  -0.6023047   0.50956047 -0.2142704  -0.2698047   0.26228803\n",
      "  -0.6739829  -0.26806542  0.47355422  0.24955425  0.2029944   0.26610783\n",
      "   0.32963508  0.515707    0.2310278  -0.6231439   0.4774583  -0.10098121\n",
      "   0.7836708  -0.18457185 -0.77423996 -0.45755732 -0.04979463 -0.83894897\n",
      "  -0.48757648 -0.00375895  0.17701203  0.36185673  0.1562576  -0.26766405\n",
      "   0.09423127 -0.29299155  0.22227691  0.24327682 -0.03396095 -0.9088776\n",
      "   0.24531531  0.6919703   0.00329707 -0.24667159  0.08410322 -0.53591746\n",
      "   0.28524953 -0.6495741   0.41928807 -0.65164214 -0.09772427 -0.7152962\n",
      "  -0.5046425   0.20355506  0.05758679  0.22914568 -0.357983    0.5881608\n",
      "   0.3756879  -0.0856716  -0.06137582  1.192233    0.38025525 -0.23736654\n",
      "   0.5365741   0.34114754  0.03515607 -0.08123613 -0.12830271  0.3399532\n",
      "  -0.57138896  0.11726759  0.2923387   0.12482712 -0.7316051   0.6369118\n",
      "  -0.22309555  0.45206803 -0.23497906  0.32050195 -0.43943062  0.42580673\n",
      "   0.3735159  -1.4371641   0.2438087  -0.45522222  0.05357107  0.14324746\n",
      "   0.0700576   0.01433743 -0.15645705  0.3530979  -0.14340663  0.46275425\n",
      "   0.50653225 -0.1207329  -0.22368167  0.26611936 -0.04778511 -0.07676919\n",
      "  -0.6594355   0.48706558 -0.00398443  0.08285011  0.38149217 -0.01380279\n",
      "   0.7771315   0.01592655 -0.05209987 -0.9690477  -0.56528604  0.34220746\n",
      "   0.35114366 -0.09965812  0.8223795   0.48448363  0.8794779  -0.21674018\n",
      "  -0.6353333  -0.20971447 -0.42182675  0.23133582  0.43345672  0.1110333\n",
      "   0.2638577   0.12461314  0.26459172  0.62591463  0.22485143 -0.08107128\n",
      "  -0.16482604 -0.59235126  0.3425422  -0.78840214 -0.34687206 -0.10763519\n",
      "   0.23684283  0.4235283  -0.17406958  0.25451195  0.72115284 -0.4005605\n",
      "   0.3596646   0.85704863  0.5196488  -0.29292983  0.13757919 -0.1482381\n",
      "  -0.44406852 -0.38506353 -0.29841658  0.6869942  -0.58718807 -0.08987519\n",
      "   0.15107258 -0.0718348  -0.0503177  -0.23931131  0.07964212  0.8845209\n",
      "  -0.14276828  0.04552377  0.3943988  -0.05643032 -0.35077903  0.17257373\n",
      "   0.28396973  0.25846112  0.48988372 -0.17148776 -0.40198028 -0.67781234\n",
      "   0.77614594 -0.6300361  -0.06764434 -0.27830866 -0.21156539 -0.14186814\n",
      "  -0.1227705  -0.30532095 -0.05692414 -0.4894896   0.39433223 -0.7630823\n",
      "  -0.40659472  0.14607216 -0.5578606  -0.28535888 -0.39937305  0.19683309\n",
      "   0.26977292 -0.50509745  0.19943506  0.04373096  0.22475244 -0.52100366\n",
      "   0.00537245 -0.7314851   0.45045814 -0.04381237 -0.5717931   0.06132479\n",
      "  -0.46597785 -0.70246303  0.61054397 -0.13772573 -0.49912164 -0.09937838\n",
      "  -0.2899118  -0.50115436  0.19680853 -0.0414408  -0.31321076  0.08293597\n",
      "   0.3117611   0.18191308 -0.33042333  0.879034   -0.24375659  0.67759037\n",
      "  -0.7187019  -0.29952738  0.125099    0.37965414  0.2787469  -0.4031329\n",
      "  -0.28147525  0.20991406  0.5603313   0.31259596 -0.5862576   0.22023205\n",
      "   0.53606075  0.7314798   0.9932333   0.03315242 -0.1930998   0.61987346\n",
      "  -0.4632877  -0.33035782  0.41679496  0.2878342   0.08922683 -0.07249107\n",
      "   0.29450932  0.38307098  0.30257168 -0.03095673 -0.31748712 -0.20518652\n",
      "   0.30471167  0.358802    0.07863694 -0.7040522   0.8370409  -1.1272821\n",
      "  -0.501065   -0.13136381  0.2514193   0.19306256 -0.86614347  0.8378248\n",
      "   0.73268056  0.68615955 -0.60764575  0.5550791  -0.01484639 -0.25043634\n",
      "  -0.28007188  0.23422319 -0.16379799  0.2668985  -0.34164622  0.4589836\n",
      "   0.58879054 -0.0357521   0.21906142  0.18180518 -0.26054096 -0.42553517\n",
      "  -0.48057526  0.16769317 -0.4973383  -0.24727897  0.27056617 -0.3787247\n",
      "   0.02356723 -0.3637769   0.32245445 -0.65757656 -0.09994659  0.568309\n",
      "  -0.43882257 -0.09476664 -0.01266803  0.4362994  -0.35201737  0.5737263\n",
      "  -0.9417025   0.15318026 -0.09732635 -0.98219854 -0.30129874 -1.0749549\n",
      "   0.17753926 -0.03482011 -0.33220422 -0.5472308  -0.46979406  0.40684474\n",
      "   0.80470407 -0.07943297  0.66589564 -0.8556351  -0.09687057  0.85159755\n",
      "  -0.0508578  -0.22338368 -0.45371246  0.20754571  0.63044494 -0.2892968\n",
      "   0.33014986 -0.51494044  0.30042222 -0.29257056  0.61542517 -0.19180001\n",
      "   0.27235115  0.46285474  0.19822416 -0.39325324 -0.31695542 -0.16518703\n",
      "   0.49396026 -0.51702034  0.288926    0.31093696  0.35761765 -0.9735811 ]]\n"
     ]
    },
    {
     "name": "stderr",
     "output_type": "stream",
     "text": [
      "\n"
     ]
    }
   ],
   "source": [
    "from tqdm import tqdm\n",
    "\n",
    "sample_text = [\"Gallia est omnis divisa in partes tres.\"]\n",
    "embeddings = get_embeddings_batch(sample_text)\n",
    "print(embeddings)"
   ]
  },
  {
   "cell_type": "code",
   "execution_count": 11,
   "metadata": {},
   "outputs": [
    {
     "name": "stderr",
     "output_type": "stream",
     "text": [
      "2024-11-08 22:06:01,613 - INFO - 加载测试集数据...\n",
      "Loading testset files: 100%|██████████| 5/5 [00:00<00:00, 2196.66it/s]\n",
      "2024-11-08 22:06:01,623 - INFO - 加载了 5 个文档用于 BERTopic 实验。\n"
     ]
    },
    {
     "name": "stdout",
     "output_type": "stream",
     "text": [
      "['commemoratio lucae clementinis dominus sanctus reliquiae veneratio sanc¬tor vir honorabilis christus dilectus fra¬tres insto devotio tempus tempus piger cor redeo debeo salus cor inflammo cari¬tas ardor sedulus meditatio pensaris excusatio sperno eloquen¬tiae fuco scientia vito ineptissi¬mus sperno allegatio simplex quoad conor cunctipotentis gratia mens via salutaris meditatio incitaris meditatio verbum exprimo instituo inardescat ignis spirital affectio qui1 anima sacro passio tempus divinus amor gaudium vitalis incalesco eapropter dilectus utor doctrina urbanus reliquiae veneratio sancio dominus exordior intentio laus sacrosanctus sacramentum novus lex utor exordior commemoratio epilogus tres tres tempus magnus ecclesiastici vir superus studium meditaris debeo memoria acerbus passio salvator salutifer eucharistiae sacramentum dies pius testamentum legatus necnon tertius sacramentum confectio cum2 quattuor effectus materia forma per¬ceptio praeho verbum christus salvator ostendo thema diligo finis diligo manifestus secundus doctor superus sacerdotium apostolus verbum confero quoad sacro sacramentum confectio finis dilectio superus nox cena superus amor con¬vivio superus nostraris anima salus magnus sacerdos sermo mereo thema dirigo apostolo¬rum successor consecrativa potestas subsidiarius oratio verus deus virtus spiritus ora excel¬lenti divino supernus spiritual materia dominus postulo paruus sincerus cor devoto oratio placo verbum incarnati virgo mater nostraris pre¬cum advoco sollicitatrix mare cum2 aperio os impleo spiritus sapien¬tiae auditus auris oboedienter cor inflammetur singuli mens pius dico2 avus mare trinitas dominus deus infinitus boni¬tas cum2 aeternus essentia absque otium torpor bonificavit bonificabilis amo amabilis intellego intellegibilis bonificaris amo intellego uni¬tas essentia trinitas simplicissima unitas unissima facilis credo vivo deus bonus absque otium essentia bonificans pater appello essentia relati¬vum bonificabilis deus filius bonificaris amo spiritus sancio appello placeo bonitas effluenti essen¬tiam bonificaris crearis creo tripli¬cem natura spiritual corporal misceo spiritual brevis transeo libertas arbitrium pars sto recta humilis caritativa subiectio pars superbia rebellio blasphemia cado homo misceo corpus spiritus imago similitudo sancio trinitas essentia creo foris amoenitas paradisus decoro intus plenus notitia perficio impleo qui¬dem intellego voluntas memoria cum2 angelus sensus corporeos cum2 brutus1 homo effluo superus bonus principium superus finis alpha ome¬ga armo ratio sensus sub¬iugaret voluntas deus amo intro2 memoria stabilis firma¬ret vis appetitivam concupiscibilis cum2 delectatio affectio cari¬tas erigo irascibilis indig¬nanter deus amo contrarius repello cum2 spes audacia deus cunctus validus bonus bonus bonus nihilum similitudo ratio bonus deus bonitas magnus verus tristitia dolor habitualiter poten¬tialiter homo peccatum pono actus unus unitas unus concordia vireo1 voluntas ratio sensus pareo concordia original iustitia deus adae tribuo sanctus voco casus homo primus proto¬plasti parvus pendeo ordo concreatum deus tendo pervertentes deus praecipio praevaricatio separo imperial justus mando1 edo1 pomum transgressor gravis poena mando1 annexam puto hora comederitis mors morior verus cunctus humanus genus vis produc¬tiva seminal ratio latito cado bernardus cado lutum1 acervus lapis coinquino original culpa collido confringo vis potentiis anima optume dis¬positis gravis vulnero amitto origi¬nal iustitia casus deus justus iudicium vireo1 affectio anima status prolabor diminutae deordinatae de¬structae contrarius experior sensualitas volo1 concupiscibilis irascibilis voluntas contrarian¬tur voluntas ratio frequens ago ratio vireo1 pronus malus pro¬clives illicitus concupisco ratio caecus erronea falsum verus uto curiosus inutilis involvo voluntas car¬nalia diligo saepis spiritualia volo1 concu¬piscibilis prolabor concupiscentia car¬nis concupiscentia oculus carnal vo¬luptas irascibilis deordinata prolabor superbia vita gloria mundanam spes spero deus divitiae proprius meritum tristamur amissio divitiaris despicio mundus irasco frater totus homo discordantiam via rectitudo amissio original iusti¬tiae labor contraho disproportio vis aversio homo malus exercitium limositas viscositas concu¬piscentiis vis anima glutinosus lubricitas inferus ligo1 retineo fili¬us prodigus abeo regio longinquus totus substantia fornicatio con¬sumens longus deus abeo porco¬rum custos diabolus servio prae¬cepta custodio homo venio regio dissimilitudo longus deus revorto incarnatio deus homi¬nem salus finis resisto iusti¬tia pervenio cum2 sententia adam eva cum2 posterus mortuus resurgo aeternus mors valeo vita praesto creo deus vivo deus homo vita creo restituo similitudo angelus peccatum proveho praecedo integer satisfactio oportet deus debeo supero deus peccaris deus exhono¬raris homo debeo cunctus deus pereo debeo ratio exigo vereor immutabilis pecco reddo deus honor aufero magnus exhonoraris debeo humanus natura solus habe¬bat satisfactio finis regnum pervenio deus bonitas dilectio efficacia unit amo amo medium tempus secundus medium mundus medius silentium teneo medius creatura ho¬mini unio2 communis creatu¬raris deus descendo salus creo unio¬nem deus homo exaltaretur finis pervenio christus jesus verbum incar¬natum sententia mors mors mors morior alieno immolatio infinitus delinquo macula infinitus deus infini¬tum crimen laedo maiestas committo praeceptum levitici necessarius christus pontifex magnus accedo altare immolo hostio1 purus placabilis dignus facinus infinitus satisfieret invenio unus hostia purus christus jesus ob¬tulit mortuus volo volo augustinus trinitas unus verus mediator sacrificium pax reconcilio deus unus cum2 maneo offertor pater unus face¬ret offero unus offero relinquo memorial sacrificium sacramentum origi¬nal peccatum eximius careo relinquo sacerdos instituo sacramentum cum2 corpus christus sacrificium peccatum populus actual offertor tango sacrificium volo relin¬quere altare crux offero christus sacerdos sacrificium offertor unus sacerdos unus oblatio sacrificium cum2 sacrificium relinquo sacramen¬tum cibus magnus unio2 cibus cibati cibus spiritual conver¬tit cibo audio augustinus cibus grandis muto cibus caro muto modus presbyteri[i dius mutatio filius excello inferus tango pars mysterium passio sacrificium elevemus mens contemplo audio dilectus primus pa¬rentes corrumpo abominabilis iniquitas eapropter bonus domi¬num jesum christum deitas humanitas hypostaticam unio superus gradus exalto consequor creo homo deus unita unus creo mundus unus deus filius incarnan¬dum verbum carus1 finis venio debeo humanitas deitas unita magnus honor deus impendeo deus christus cum2 summus humilitas volun¬tarie offero ara crux contemplaris anima christiana anima gravis mors resuscitata anima misero servi¬tus sanguis deus redempto excio mens memento resuscitatio redemptio libertatio accipio doctrina via honoro deus tollo unusquisque cru¬cem sequor via christus christus uniatur mediator ascenderit finis pervenio humilio exalto vita mundus custodio nitor per¬det via pervenio caritas perficio vivo morior unus christus adhaereo bonus pono totus spes vito vivo spes morior salus spero obliviscaris aeternus hereditas acqui¬renda aeternus patria christum deus homo absque aenigma christus mortuus careo deus de¬scendere homo ascendo unitas suppono careo deus homo mundanus tribulatio tristitia absque culpa tollo terra exalta¬tus expando crux manus cunctus traho genus mors turpis pontifex rex rex verus anima pastor ani¬mam vita ovis offertor dominus dulcis fauces mel aurum eloquium sitio gratia caritas ostium intro volo volo peto accipio affluenter fons indeficiens ostium via vereor vito dulcedo acerbus passio gusto anima dominus lumen lumen lumen gloria lu¬men obscuro sol iusti¬tiae rutilans aurum dominus vito vivo muto1 color bonus vermis homo opprobrium homo abjectio plebs do¬mine verus samaritanus vulnero sano solus sano sanus despicio infirmus planto pes verti¬cem sanitas dulcedo pietas1 cum2 humanus intellec¬tus capio aperio intro2 cognosco dominus nullibi tueor fluo sanguis aqua me¬dicamenta antidotum sacramentum humanus sal¬vatio agnus immaculatus victima duco inflammo desiderium ara crux accedo sanguis agnus stola lavaris dominus anima liquefacio recordor delectus crux consummo passio mysterium amor langueo incipio sitio anima multipliciter fundamentum humilitas comessatio ebrietas vito crux induo crucifixum alibi quaero solus inveni¬tur angelicam sumo natura corpus careo creaturis assumptam humanitas praebeo auxilium humanitas scala creo deus ascendo finio infinitus proportio humanitas creaturas symbolica concordo amor ascendo transformo humanitas deus unita uni¬mur caput ascen¬sum caritas descendo unimur infinitus pietas gratia paulus1 hebraeos nihilum deus potestas caelum terra deus homo mors victor1 adae cul¬pam cado restau¬raris mors transfero vita presbyter transsubstantiat panis corpus altare magnitudo poena enumero nobilis sensibilis corpus robustus patior extrinsece intrinsece spiritualiter compatiendo humanus natura ge¬neraliter mater sanctus patior poenio humanus homo nosco cunc¬tos aequus diligo poena morior volo dolorosissima mors dolor homi¬num praeteritor mors ascendo poena scientia futu¬rorum nosco damno obsto passio offensio christianorum haeresis seco guerras tribulatio caput aqua oculus lacrimaris fons compatiar christe mortuus institutio sacramentum eucharistiae sacramentum bonus gratia cari¬tas divina deus maximus dilectio ostendo dilectio afficio specialis inflam¬mavit christus deus verbum incarnato principium repa¬rativo virtus sapientia sufficientissi¬mam secundus confero sacra¬menta largior medicamentum mor¬borum charisma gratia insti¬tuit sacramentum gratia gene¬raret baptismum gigno augmentaret confirmatio verus gigno augmentatos enutriret sacramentum eucha¬ristiae sacramentum accedo fides nutrimenta gratui¬tum attendo unoquoque fidelis con¬servatio devotio deus dilectio propior delectatio de¬votio deus exerceo sacrificium oblatio¬nem dilectio propior unus sacramentum communio delectatio viaticus refectio christus principium reparativum sacramentum sacrificium oblatio sacramentum communio¬nis viaticus refectio principium reparativum sapientissi¬mum sacrificium sacramentum viaticus dispono exhibeo secundus competo tempus gratia revelatae statuo via capaci¬tas tempus revelatae gratia requiro purus plenariam oblatio crux offertor corpus sanguis christus oportet sacramentum significaris vera¬citer corpus christus oblatio tempus debeo contineo similis sacramen¬tum tempus gratia debeo commu¬nio dilectio significaris inflam¬maris mutuus caritas magnus unire membrum unitas capio vis amor diffusivam unitivam transformativam mano dilectio mutuus sacramentum contineo unus corpus christus carus1 imma¬culata diffundo invicem uniens transformans ardentissimam caritas offero reddo finis mundus exsisto sacramentum doctor de_-voveo teneo sacramentum verus corpus verus sanguis christus significo veraciter con¬tinetur duplex species panis vinum unus duplex sacramentum consecratio sacerdotal prolatio vocal forma dominus instituo panis cor¬pus vinum calix verbum cum2 intentio confacio sacerdos1 profero transsubstantiatur elementum secundus substantia corpus sanguis christus jesu remaneo species sensibilis uter con¬tinetur totaliter circumscriptibiliter sacramentaliter totus christus propono cibus dignus accipio solus sacramentaliter verus fides caritas spiritualiter manducando corpus christus mysticus incorporatur reficio purgo verus indignus accedo iudicium manduco1 bibo dijudico corpus christus species panis vinum sta¬tui via competo christum apertus velamen aenigma mereo fides convenio christus caro dens attractaris horror crudelitas immortalitas corpus resurrectio necesse corpus christus trado velo sacra¬tissimis symbola similitudo congruo expressivis congruosius significa¬tio unitas corpus christus panis triticeus mundus1 granum vinum labrusca acinus hiis species debeo exhibeo secundus sancio cyprianum epistula christus granum fru¬menti terra mitto fruc¬tum panis granum confacio farina aqua aqua populus significo johannes apoca¬lypsi aqua populus unio2 capio verus granum aqua unitas panis triticei materia sacramentum eapropter aqua vinum calix appono christus vita verus volo uniri sacra¬mentum deus sapientia pono panis misceo vinum refectio vital refectio spiritus verbum vita refectio spiritual carnis verbum incarnatum carus1 verbum cibus communis salutaris unus sano cibus spiritual communis salutifer cor¬pus christus verus veraciter oportet sacramentum exigo perfectio sacrificium sacramentum unitivi viaticus refectivi debeo tempus nosco testamentum gratia revelatae veritas christus corpus christus verus divido pars corpus anima deus utrobique unus simplicissimum sacra¬mentum totus corpus totus species pars integer divido circumscribo occupo locus sino percepti¬bilis sensus corporeus humanus lateo sensus fides locus mereo deprehen¬datur accido1 operatio prior subicio quamdiu corpus christus quamdiu duro proprietas natural idoneus cibandum necessarius sacramentum quattuor consecro sacerdos debeo materia panis vinum tertius requiro intentio consecrantis quartum forma verbum intentio special genera¬lis requiro attentio incuria neglegentia pecco consecro secus infirmitas solus intentio consecrantis instituentis panis forum presbyter transsubstantiaret profero verbum cum2 intentio hostio1 consecraris totus1 mundus suffice¬rent cum2 ludibrium stultitia inten¬tio instituentis debeo forma verbum dictio debeo dimitto forma debeo necessarius materia necessarius panis triticeus vinum debeo panis triticeus fermen¬tatus vinum cum2 aqua misceo utor instituo christus fermento pec¬cati aqua ecclesia significo vinum christus caritas jungo vinco debeo aqua vinum alioqui impedio conse¬cratio cum2 christum converto mutamur converro sacramentum eucharistiae species panis vinum sacramentum corpus christus mysticus corpus christus verus sacramentum primus sacramentum secundus1 figura sacramentum oblatio melchi¬sedech secundus forma exter refec¬tio refectio praecedo figuro sacramentum manna significo efficio gratia agnus paschal significo liberatio servitus aegyptiaca sacramentum liberatio diabolus sacrificium levi¬tico significo oblatio passio christus hostia quoad recon¬ciliatio victima quoad satisfactio peccatum holocaustum quoad totus corpus laesio longus cunctus explicaris guilelmus parisiensis fides lex figuro sanguis christus vinum desig¬nandum refectio canticum1 introduco rex aqua ablutio aqua egredior sanguis signo redemp¬tio hebraeos sanguis effu¬sio remissio hiis appareo dignitas sacramentum christus institus lex lex prae¬figuratum propheta praenuntio panis angelus manduco1 homo apostolus observo convenio unus maximus excello sacramentum deus cunctus excello anima cunctus anima antecello corpus cor¬pora antecedo christus nobi¬lissimum caelum terra unita elevo mens sacro sacramentum miro suavitas ali¬quantulis rumino dico2 dominus dulcedo boni¬tas volo1 edo1 vita mors coti¬die annuntiemus homi¬ni mortuus edo1 vita edo1 vita alimentum crux affixum do¬num largus1 mens capio altus pius nobilis alimentum praesto2 plenitu¬do largitas dilectio modus excedo dono cum2 dator natio grandis deus approximantes verus deus adsum forma proprius sub¬stantia cibus verus nutrio reficio summe¬que impinguat caro anima venter mens memorial nobilis intimus commen¬dandum praecordia firmiter animus alligo diligenter chordus1 servo uterus commemoratio assunt sua¬vitas gaudium lacrima lacrimemur devo¬te gaudeo cor ingens perfundo gaudium dulcis oculus stillo gutta1 cum2 dominus alo consideratio¬nem elevo cognosco lumen intellego solus cunctus curiosus quaero ratio signum fides accedo mirus subeo prolatio verbum transsubstantiatio subeo calor1 semen vivus animal bombyces voco verto ser¬pens verbum incanto obturo auris audio voco incanto audio verbum necessarius compareo deus unicus verbum uxor lot visio verso lapis statua sal fons certus lignum lapis ferrum cuprum muto miro stomachus natura caro sanguis panis vinum muto vitrificator cinis silex pul¬chrum vitrum educo1 percussio pyrites lapis subeo ignis emano miror deus homo contractatus cum2 totus quantitas pependisti crux sacramentum ciconia oculus aviculae mons magnus modicus granum sinapis maximus virtus magnus arbor elisaeus vir magnus puer mortuus pono singulus membrum singulus reg miror species natura subiectus adamo figuro sacramentum velo species debeo jacob esau species isaac decipio sensus deci¬piuntur gustus tango auditus fallo isaac voco interior venio nosco fides fallo deus miror sacramentaliter corpus sanguis diver¬sis locus integraliter unus sermo profero integraliter aequus perficio audio intellego scio deus convenio ubique homo unus locus tan¬tum mirus deus homo medium ubique unus locus unus definitio species individuus aequus convenio verbum totus aeternus aeternus pater totus descendo uterus virgi¬nis totus unus utrobique venio caro manduco1 homo maneo integer pater pasco angelus paruus miro totus pars hostia divido mul¬tis locus indivisus totaliter pars hostia unus totus christus speculum similis capio figura unus frango fragmentum similis totus capio homogeneis qui1 pars puto aqua aqua totus colligo manna pluo desero2 paruus paruus anima parvus homo magnus magnus totus totus pars miror paruus cottidie man¬ducetur minuo glorifico incorruptibilis resurrectio corrum¬pitur converto natura alo sumo spiritualiter verto men¬tis excedo amor lumen unus candela accendo2 lumen candela minuo potis miran¬dum edo1 minuo corpus christus mysticus ecclesia cum2 caput sponsum christus dignus edo1 homo efficio corpus membrum edo1 maio¬ratur cor nescio corpus membrum christus dignus manduco1 augmentat corpus mysticus dia¬boli scientia distribuo suscipio incre¬mentum eph cresco caput christus fons cottidie aqua fluo minuo mirus fons salvator miror sacramentum prodo salus noceo iudicium floreo apis1 mel araneus vene¬num sugo unus unus medicina mors sol dissolvo glacio congelo lutum1 dominus dubito vita promitto assequor sacramentum dominus vito concordo anima corpus plenus miseria mor¬tem subitaneus comparatio aeviter¬nitas sequor diligo aeternus vito dignus sacra¬mentum accedo fons vita hauri¬unt vae indignus fons vita mors bibo1 dominus misero vito plenus fletus cum2 laetitia divitiae voluptas homo decipio cum2 cogo perdo vita aeternus caducus tran¬sitoriam totus ingemisco tremo vito ordino abutor venio fallacia magnus pars homo fingo servio pereo vereor suffoco falsitas sacerdos cogito vito cogito cogito verbum opus cogito nobilitas officium', 'clavo regnum caelum1 considero ago fe¬stum cathedra petri festus1 exsecutio promitto christus evangelium opto milevitanus ecclesia ha¬bere cathedra angelus alibi primus attendo christus clavo regnum caelum1 christus vereor erro1 janitor vereor clavo aperio ministro vereor ministro erro1 hieronymus supercilium praesumptio vereor ministro clavo annuo ianua aperio christus vereor aperio aperio christus commissio aperio chri¬stus pontifex immortal potestas aperio com¬missario commissarium sa¬cerdos exercitium clavium christus vicis ago vicarius christus absolvo lavo baptizando exse¬quitur commissio committo opero chri¬stus pontifex pontifex petrus singula¬riter commissarius vicarius christus commissarius commissariorum attendo clavo petro1 rece¬pit alibi clavo duo paruus debeo debeo clavo plural nu¬mero unus claudo regnum ligo1 anima aperio regnum solvo anima reperio anima ligaris praestigiae dae¬moniorum ago ratio¬nal careo vito lux ratio alligo princeps tenebraris vexa¬tur vinculum absolvo pontifex catechizat trado pontifex pote¬stas sacerdos1 baptismum exor¬cistis trado homo satanas paulus1 trado corinthium ligo1 ponti¬fex anima anathematizat christus mitto spiritus porcus nosco refero verbum pontifex cathedra pontificaliter procedo in¬ter cathedra private cathedra iudico commissio christus iudex sedes judiciarius cum2 intentio iudico absolvo unus ligo1 senten¬tia exsecutio officium sedes potestas divino homo ha¬bet homo potestas homo mors condemno par par imperium homo praesum bestia pi¬lato judicium christus potestas desuper cathedra ostendo sedeo privo homo commissarium verbum cathedra committo loqui¬tur commissarium vereor adhaereo cathedra cathedra sedeo iudico admitto repello discretio unus ape¬rit claudo auctoritas discernendo po¬testas exsequor unus clavus unus essentia respicio exsecutio praesupponit sententia petro1 clavo me¬dio ecclesia aperio os impleo attendo petro1 agno¬scens cognosco christum filius deus vivo cognitio vito aeternus cognitio medicus iuristaris naturalis homo scio desidero audio novo inclinamur apprehensio veritas sapientia plenitudo christus ap¬prehensio vita purus ulter desiderium spiritus amo amo sapientia vita immortal mens christus unita pervenio christum magister unicus verbum vita aeternus petrus apostolus benevo¬lentiam caritas praeceptum christus ama¬vit experior proprietas amor reperio amor gravis levis1 amor labo¬rat ignis aqua resolvo levo1 vaporo ascendo gravis petrus aqua ambulo christum discipulis na¬vigantibus anima amor devotio venio lacrima resolvo ignis cum2 virido lignum applico ardeo unus pars humectatur anima frigidus petrus christus cogito lacrimaba¬tur congregatio quamdiu duro amor tamdiu ordo familia civitas regnum monasteriis amor ordo cesso cesso ordo corpus du¬rante amor humores homo tempera¬tus cesso concordia amor distempe¬ratus sancio petrus validus ordino ecclesia committo amor calor spiritual sollicitus sino cogito num¬quam quiesco calor natural quiesco cor sedes petrus christus sollicitus oportet morior sancio augustinus dominus nolo ostende¬re judam traditor interfe¬cisset amor contendo anima ferventer amo amo appeto1 petrus panis oliva tunica cum2 pallium con¬tentabatur deus sufficio ava¬rus petrus efficaciam virtus loquor cado spiritus sancio tabitam suscito paralyticus umbra sano excellentiam dignitas clavo multitudo unus genus reperio unus plenitudo respicio christus plenitudo gratia descendo sancio plenitudo accipio virgo mare plenitudo misericordia mater misericordia descendo misericordia peccator bernardus mare sinum aperio plenitudo sumo universus caelum primus moueo moueo recipio sol plenitududo lucus ignis pleni¬tudo calor1 cor plenitudo vita caput plenitudo sensus imperator plenitudo civilis imperatio petro1 plenitudo auctoritas christus committo descendo pontifex sacerdos ecclesia clavo alligo petrum nosco cum2 regnum caelum1 cogno¬scere deus petrus clavo scienti¬ae evangelium christus clavis medium ecclesia utor medium ecclesia aperio os congrego ecclesia con¬gregatio rationabiliorum unitor observan¬tia lex pax laus laus communis pax deus pax mandatum servo congrega¬tio synagoga bestialium congregatio spiritus pono ecclesia divisor spiritus bestial canis porcus rabidus gulosus luxuriosus', 'scribo doc¬trinam scribo romanus lec¬tio epistula mitto dominicus apostolus doceo unusquis¬que propior placeo debeo bonus aedificatio christus placu¬it scribo persono pro¬pheta deus loquor improperia expro¬brantium cado subjungo scribo christus scribo placeo infirmitas sustineo fortis infirmo¬rum imbecillitas sustineo debeo nosco sententia apostolus christus scribo doctrina scribo christus actium instructio christus scribo describo vir perficio doceo debeo quo¬modo perficio debeo anima rational semen divinus semino adam terra cresco perficio abraham pater humanitas capio usus ratio summitto deus fides discipulus magi¬stro deus ambulo perficio continuo proficio humanitas christus pervenio perficio magisterius doceo perfectio imitor deus pater scribo perficio scribo doctrina scribo pati¬entiam consolatio scripturaris spes ha¬beamus paulus1 volo duo sacer scribo contineo patientia conso¬latio spes vito turbatio¬ne deus proprius filius peper¬cit doceo patienter necessitas virtus se¬quamur perficio vir iob scribo magnus perfectio perfector christum cum2 malus tracto aperio os scribo patientia sancio doctrina patientia quo¬modo patientia studeo similis scribo enarratio patientia enarro consolatio iob magnus christus exalto deus no¬men nomen scribo doceo magnus exspec¬taris consolatio magnus patienti¬am patientia consolatio aequus animus patientia consolatio habebi¬mus spes assequendi praemium sancio patientia virtus consisto arduus terribilis utilitas honestas aequus animus diuturne patior secun¬dum tullium patientia adverro proprius tolero malus extrin¬seco infero ad¬versitas vetus homo infero temptatio carnis surgo homo natura rational animal unus desursum deorsum homo ignis aqua animal similis aqua spiritual ignis natura contra¬riantur constitutio homo uniuntur homo unio2 naturaris diverto lex motio unio2 amor continuo2 pugno virtus pa¬cificat bellum patientia virtus anima diligo corpus complacere corpus desiderium resto corpus amo complacendo desiderium sensibilis vita perdo vita rational patienter patior pot¬est complacere amo lex ratio praecipio molestus caro molestia observator lex proprius cor¬pus cum2 bonus infero voluntas virtuose ago virtus homo dominor magister patientia possideo anima incongruus pa¬tientia scio patior coincidit tristitia consolatio chri¬stus tristitia sancio verto gaudium tristitia gaudium patior gaudiosa consolatio virtus patientia nobilis vinco genus pa¬titur vincio telum hostis cor recon¬dit vincio patior hostis daemon anima patior similis salamandra ignis tribulatio pascor strutio ferrum deglutienti aurum caementum pono purgo gregorius martyres patientia animus veraciter conservamus pa¬tientia scribo consolatio sub¬secuta doceo fiducia debe¬mus assecutio praemium textus2 lego distinctio scribo doctrina pungo subjungo scribo patientia consolatio¬nem distinctio contraho universal doctrina sacer scribo doctrina christianorum scribo sum¬ma doctrina patientia consolatio¬nem pervenio verus spes evangelium sacer liber bibliae scribo lo¬quuntur canone bibliae scribo intentio specificatur actus2 paulus1 poetaris oro paulus1 consequenter deus pa¬tientiae solacium romanus sa¬pere secundus doctrina iesus christus unani¬mes unus os honorifico deus pater domi¬ni iesus christus unanimitas regula discipulus christus iohannis cognosco discipulis dilectio invicem unus corpus christus romanus facilis im¬petramus peto congrego macchabae¬orum congrego convenio cen¬tum paro proelium oro peto misericordia matthaei duo tres consentio unus os creo oboedio deus honor dignus accipio gloria honor creo apo¬calypsis fortis homo rational debeo imitor angelus cesso con¬cin<e>ntes deus gloria apocalypsis neglego noto deus dator patientia loquor intendo apostolus similis solacium loquor patientia tullius rhetorica di¬vina homo incendo desidero adversitas finis cresco virtus pa¬tientiae probo cum2 patientia cresco solacium apostolus gaudeo consilium mors sententia dignus patior contumelia nomen iesus oro sapio sapio se¬cundum christum iesum invicem christus infero suscipio invicem christus suscipio unus cura ha¬beat debeo differentia iudaismo fides venio gentilitas qui1 christianus debeo pro¬curaris bonus frater declaro chri¬stus veritas promissio pater iudaeorum venio mitto qui¬bus praedico1 honoro deus sus¬cepit gentilis misericordia admitto nosco paulus1 allego1 psalmus propterea confiteor gens christus gens confiteor deus pater iudaeis fidelis christus cor¬pus mysticus deus confiteor laudo natio christiana christus rectus confiteor deus christus confiteor christus laudo christus praemiatur ca¬pitaneus exercitus exercitus nosco propheta induo persona christus repraesentan¬tes prophetarunt propheta confiteor gens persono christus remoueo gens deus pater laudo loquor intellego verbum propheta percutio deus deus respicio pro¬phetas attendo assumo persona chri¬sti loquor christum repraesento spiritus christus occupo christus spiritus loquor concludo apostolus oratio deus spes repleo pax gaudium credo abundo spes virtus spiritus sanctus deus deus patientia deus solacium deus spes deus solus repleo anima pax gaudium credo fides donum deus credo veritas donum deus sin¬gularis veritas ratio dissentio nequeo veritas credo donum deus gratia veritas veritas venio veritas verbum pervenio deus credo consequenter abundo spes pax fides fides com¬plemento pax gaudium perficio vivus formo sequor abundantia spes adsum virtus spiritus sanctus fides augeo virtus anima virtus spiritus sanctus donum romanus spi¬ritus adjuvo infirmitas postulo postulo scribo doc¬trinam scribo bonaventura illuminatio scribo assimilat aqua visio intelligentiae scribo erudio intellego secundus opus tertius dies deus divido aqua terra congregatio aqua voco ma¬ria bonus germino terra herba vireo1 fons irrigo pa¬radisum scribo irrigo terra semen arbor1 vita rational spiritus attendo scribo aqua semen terra semino medio calor1 sol cieo ac¬tum prodeo solaris calor medio aqua semen fructifer spiritus deus spiritus sapientia medio scribo semen intellectual fructifer aqua medius convenio calor1 sol terra aqua firma¬mento aptus medius obtempero ardo¬rem sol vivificatio semen scribo scribo attendo debeo invisi¬bilis radius sol justitia sapientia frac¬tum infirmitas claritas nequeo medium spe¬culis aenigmatum signum figuraris scribo capio valeo forma substan¬tial perficio oculus sensibilis visi¬bilis figuro visibilis resplendeo me¬liori attingo rectus apostolus timothei scribo divinitus inspiro utilis perfectio homo deus rectus iudaei scribo vita anima cre¬debant intelligebant vita spiritus sapientia lateo spiritus iesus magister remitto scrutatio scripturaris aperio scriptu¬ras verbum vita contineo iohan¬nis attendo sancio scribo aqua impraegnata spiritus caelestial fe¬cunditas terra natura aqua medius generatio influentia caelum terra intellectual natura scrip¬turas scribo ars intellectual natura inspiratio divinus radius unus intel¬lectus communicaris gloria deus natura rational perfectio scribo medius medium con¬ceptus manifesto2 eruditio homo praesens absentium praetereo prae¬sentibus sum1 necesse experientia informaris intellego aptus inquiro semen pos¬sum scio semino oria¬tur experientia praetereo doceo manifestaverit homo praevideo scientia praeteritor homo neces¬saria scientia praeteritor ptolemaeus observantiis abrachis tymocardis motus planetaris invenio regula coniectural motus2 sum1 homo necessarius scio praetereo longus tempus observo secu¬rius syllogizet sum1 primus fu¬erunt longus vita iosephus liber anti¬quitas refero longus experientia annus motus caelum inquiro posterus innotesco experientia subsidium scribo con¬tinuatur aetas aetas adminiculo homo speculum praetereo retro proficio subsidium sci¬licet scribo sensibiliter mortuus loquor vivo absum praesens divinus ar¬tificium aetas saeculum doceo orbis divina illuminatio at¬que humanus adinventio praecedo tempus qui1 intellectus2 perfectio vivo praesens vivo doctrina spiritus paulus epistula medium scribo doceo per¬ficit scribo no¬stram doctrina scribo certus scribo spiritus immortal na¬turae dependeo littera vito spiritus converro spiritus littera epistula paulus scribo alligo littera cartae locus spiritus intellec¬tual scribo no¬stram doctrina ostendo doceo scribo incorruptibilis spiritus varietas doctrina varia perfec¬tio spiritus apprehendimus unus doctrina rudis puerilis digero solus christus doctrina apprehendimus spiritus perficio magisterius vita verus aeternus spiritus iesus doceo conicio humanus visio certus deus pater principium creator revelantur doctrina quorumcum¬que auditus coniectural solus christus doctrina verus certus invariabilis aeternus caelum terra transeo verbum om¬nium doctrina conicio doctrina christus varietas instabilitas recipio conicio veritas paruus vereor apostolus corinthiorum eleganter loquor felicitas salus attingo prudentia prudentum simplicitas fides prudens hu¬ius mundus stultitia reputo nomino aristotelis li¬brum physicus appello phy¬sico auditus fors certitudo infallibilis attingo coniectural discursus2 humanus mos rectus inspicio doctrina christus perfectio doctrina compli¬cans doctrina ratio deus saeculum dubito inquisitio versaris apprehendo desiderium intellego finis quies felicitas lux verbum deus doctri¬nam illuminans capio lucus ha¬bent philosophus invenio par¬ticipatio lucus doctrina sancio recipio lux doctrina iesus christus sanctus pro¬palarunt doctrina christus recepe¬runt vivo doctrina doctrina christus vivo spiritus spiritus iesus paulus1 capitulum1 fateor christus efficio vivo scribo paulus spiritus lateo spiritus iesus auctor vita doctrina discipulis platonis plato magister fecunditas scribo multiplex sentio bonaventuram allego1 locus subtilis scribo vulgo2 pabulum necessarius ministro praedicator insequor lumen scribo illu¬minans tenebrae quaero scribo praesci¬entiae increatae conscientia innascor scientia inspiratae sapientia incarnatae primus liber vita lucae gaudeo nomen scribo studeo debeo nomen scrip¬ta liber vita liber liber gaudium regnum immortal vilis rex scribo deus cum2 filius conregnaturos conscribo vae scribo liber mors scio liber vita describo vita describo vito iesus pec¬cator christus peccatum dolus invenio os pateo usurarii fornicator adulter nomino liber vita eo¬rum nomen memoria deus aboleo me¬moriam deus vito eicio tene¬bras exter apocalypsis invenio liber vita mitto stagnum ignis scribo liber prae¬destinatio notas liber reprobatio iesaiae scribo taceo reddo retribuo sinus iniquitas scribo ostendo mortuus dam¬natos secundus romanus cum2 gens lex ostendo opus lex scribo cor testimoni¬um reddo conscientia excuso scriptu¬ras nescio cum2 cor decem praecipio tabula archa taber¬naculo lex natural conscientia consci¬entia anima anima corpus pec¬catum deleo gratia reparo hebrae¬os lex cor mens superscribo liber conscientia solus lex natural scribo aureus calamus scribo secundus lex natura stilus ferreus ie¬remiae peccatum iudae scribo stilus ferreus unguis adamantinus cor obstina¬to dies iudicium scribo lego2 condemnatio nosco tertius timothei scribo divinitus inspiro scribo servo bene vivo volo1 vivo lucae magister vi¬tam aeternus possideo iesus lex scribo vae trans¬gressor lex galeo scribo maledico maneo scribo liber lex nosco inspiro pateo cae¬litus mitto exsulis peregrinus littera mitto caris patria consolo amicus scribo divino signum caelestis patria pertineo littera curo observo quartum psalmus lingua calamus scriba spiritus sancio lingua calamus de¬signatur verbum concipio uterus describo liber ezechiel intus foris describo intus sapientia foris exemplum scrip¬ta scio lego debeo reperio lamentatio mundus carmen caelum vae iudicium', 'curro comprehendatis necessitas immineo com¬missam pontifex visitatio deus dirigente perficio sancio verbum doctor paulus corinthiis scribo ecclesia lego2 di¬cendi materia praesto2 frater paulus1 christus loquor curro comprehendatis mundus secundus interior homo exulis peregrinus ma¬nentem civitas curro determino finis curro desi¬derat curro curro mo¬vetur quies moveo moueo natura moueo intelligentiae mo¬ventur equus equito equus directio sessor necessitatur sessor elec¬tio necessitat equus curro certus comprehendo finis causaris gratia ago finis in¬tellectus principium moueo intentus dispono ordinans ordo igi¬tur natura experior intelli¬gentiam primus conditor intellego pri¬mum moveo paulus1 deus nomino ordo deus or¬dinata equus teneo via recingo civitas vagaris campus desiderium scio sessor dirigo locus appeto1 animal corpus moveo maneo civitas caelestis civis sci¬mus motus directio intellectua¬lis spiritus animal dirigo dirigo intellego certus fides curro credo finis curro ap¬prehensio spero cursus finis attingo curro semino spes semino animo fides spes cursus apprehendimus cum2 anima spi¬ritu moueo certus careo careo spiritus vita fides spes attendo virtus divino moveo intellego incorruptibilis divinus finis debeo elevatio visibilis homo invisibilis secundus doctrina apostolus romanus principium homo experior corpus vivo vi¬demus corpus vito careo sentio vita virtus sensitiva homo experior virtus sensitivam dirigo contrarius desiderium castita¬tem abstinentia scio alo vir¬tus virtus sensitiva oboedio liber voluntas li¬bera voluntas intellectual natura arbitrium praesupponit intellego cum2 electio electio comparo1 discerno virtus alo natura li¬beri arbitrium dirigo spes vivo fides fides moveo caritas igi¬tur caritas intellego homo forma vivus formo vivifico careo virtus unitrina cesso corpus sensitiva virtus deficio intellego careo maneo fides spes ces¬sante careo comprehensio necto christianus necto divina im¬mortalitas consisto ulter felicitas di¬ceres cum2 superus homo liber intellec¬tus pervenio homo spiritus intellego dirigo comprehensio finis intellego animal homo natura corruptibilis mortalis penitus ignoro caecus virtus intellectual scio conformiter an¬gelis dius moyses nomino intellectual doctrina intellec¬tual natura spiritus caritas divina felix consisto felicitas intelligentiae scio cum2 scio capio paruus felicitat magnus paruus tollo paruus perficio magnus felicitas ambiguus finis perfectio stabilis ae¬ternitas quamdiu gradus ulter sensibilis cognitio defi¬cit quamdiu scio veritas ip¬sam visio ulter fruitiva cognitio finis desiderium attingo felicitas visio intellego conditor exsisto doctrina divinus spiritus pateo evangelium annuntiatio bonus philosophia logica discursiva ratiocinatio rational persuasio locutio filius deus annuntiatio virtus ope¬rum ostendo doctrina pervenio spiritus felicitas dirigo paulus1 particeps evangelium spiritus doceo via vita curro debeo particeps evangelium certus comprehensio immortal corona pervenio considero paulus evangelium particeps evangelium divino doctrina christus filius deus capio doctri¬nae particeps doctrina participatio¬nem intellectual natura scio natura divino scientia cum2 mo¬veat intellego spiritual natura spiritus moto careo doctrina christus diffundo cor christiformium spiritus sancio apostolus diffe¬rentia vivus christianum spiri¬tum caritas mortuus spiritus careo christum sensibilis corpus fides informis credo christus loquor evangelium daemo¬nes contremisco chri¬stum vivus vito sentio spiritus rational intellego receptibilis dico2 experior spiritus christus cor interior homo experior motus desiderium moueo desiderium christiformis puto moueo desiderium oboedientia deus inclino mors ardeo divinus praecipio pareo gau¬des adversitas patera so¬lum placeo dico2 ago debeo sentio spiritus atten¬dere debeo vocatio curro diligenter comprehensio pervenio apostolus curro com¬prehendatis loquor curro tendo finis canonicus finis curro debeo ta¬liter comprehendo cursus christiani via dirigo comprehensio voco curratis canonici curro dubito canonicus cur¬rere debeo nomen respicio canon graeca regula latina canonicus regula regularis canonum observo vivo moveo curro debeo regula men¬sura rectitudo justitia mensuret ca¬nonicus cursus rectus canonum observo invenio scio via comprehensio consisto rectitudo regulando motus concupiscentia ani¬mal trinus elatio avaritia luxuria religio reprimo mundo immaculatus regula oboedi¬entiae dominor motui elatio superbia regula paupertas avaritia regula castitas luxuria christianus regula evangelica dirigo dominor concupiscen¬tia ordo canonici veto particularius canones astrinxerunt divinus laus vaco sacrarium ope¬raris statuo sacrarium edo1 apostolus curro comprehensio debeo agon cur¬su bravii cum2 summus vigilo cura certo2 bonus aurum desiderabilis mundus corona honor assequenda linquo im¬pedientia deonerat curro et¬iam aurum pondus impedio gloria memoria laus mors immortalitas imagi¬nem sensibilis mors subeo ago debeo immortalitas compre¬hendere satagens imago veritas agonizaris debeo cum2 mundus certo2 vinco mori¬endum contendo oportet christianum victoria mundus rex coheres christus mundus vincio spiritus christus mundus accidioso zeloso oboedio vigilantissi¬mo mors mors crux de¬spectuosissimam verus agonista linquo anima vita as¬sequatur bravium verus immortalitas incor¬ruptibilis corona oboedio evangelium visitatio directio necessarius audi¬stis lectio apostolicae bulla sa¬lute committo paucus ex¬planatio thema praemitto deus nomen accedo', 'dies sanctifico illucesco liber sermo nosco expono invenio homo humaniter gero in¬fans textus2 pono praesaepe scio species']\n"
     ]
    }
   ],
   "source": [
    "# 加载测试集文档\n",
    "testset_dir = os.path.join(BASE_DIR, 'data/berttest')\n",
    "documents = []\n",
    "\n",
    "logger.info(\"加载测试集数据...\")\n",
    "test_files = [f for f in os.listdir(testset_dir) if f.endswith('.txt')]\n",
    "for test_file in tqdm(test_files, desc=\"Loading testset files\"):\n",
    "    file_path = os.path.join(testset_dir, test_file)\n",
    "    with open(file_path, 'r', encoding='utf-8') as file:\n",
    "        documents.append(file.read())\n",
    "\n",
    "logger.info(f\"加载了 {len(documents)} 个文档用于 BERTopic 实验。\")\n",
    "print(documents[:5])\n"
   ]
  },
  {
   "cell_type": "code",
   "execution_count": null,
   "metadata": {},
   "outputs": [
    {
     "name": "stdout",
     "output_type": "stream",
     "text": [
      "Generating embeddings for documents...\n",
      "Generating embeddings with progress bar:\n"
     ]
    },
    {
     "name": "stderr",
     "output_type": "stream",
     "text": [
      "Embedding batches: 100%|██████████| 2/2 [00:02<00:00,  1.19s/it]\n",
      "2024-11-08 22:06:06,248 - INFO - 开始训练 BERTopic 模型...\n",
      "OMP: Info #276: omp_set_nested routine deprecated, please use omp_set_max_active_levels instead.\n"
     ]
    },
    {
     "name": "stdout",
     "output_type": "stream",
     "text": [
      "Starting BERTopic model training...\n"
     ]
    }
   ],
   "source": [
    "# 初始化 BERTopic 模型，不设置 embedding_model\n",
    "topic_model = BERTopic(\n",
    "    embedding_model=None,  # 不使用默认的嵌入模型\n",
    "    vectorizer_model=vectorizer_model,\n",
    "    umap_model=custom_umap,\n",
    "    min_topic_size=experiment_config[\"parameters\"][\"min_topic_size\"],\n",
    "    nr_topics=experiment_config[\"parameters\"][\"nr_topics\"],\n",
    "    language=None  # 禁用语言特定的嵌入\n",
    ")\n",
    "\n",
    "# 手动生成嵌入\n",
    "print(\"Generating embeddings for documents...\")\n",
    "custom_embeddings = get_embeddings_batch(documents)\n",
    "\n",
    "# 使用手动生成的嵌入进行主题模型训练\n",
    "if documents:\n",
    "    print(\"Starting BERTopic model training...\")\n",
    "    logger.info(\"开始训练 BERTopic 模型...\")\n",
    "    \n",
    "    # 将生成的 numpy 格式的自定义嵌入传入 fit_transform\n",
    "    topics, probabilities = topic_model.fit_transform(documents, embeddings=custom_embeddings)\n",
    "    logger.info(\"BERTopic 模型训练成功。\")\n",
    "    print(\"BERTopic model training completed.\")\n",
    "    \n",
    "    # 可视化和保存结果\n",
    "    topics_info = topic_model.get_topic_info()\n",
    "    for topic_num in topics_info['Topic'][:10]:  # 输出前 10 个主题\n",
    "        if topic_num != -1:\n",
    "            words_weights = topic_model.get_topic(topic_num)\n",
    "            words_str = ', '.join([word for word, _ in words_weights])\n",
    "            print(f\"主题 {topic_num}: {words_str}\")\n",
    "            logger.info(f\"主题 {topic_num}: {words_str}\")\n",
    "\n",
    "    # 保存文档的主题分配结果\n",
    "    document_topic_data = []\n",
    "    for doc_idx, (topic, prob) in enumerate(zip(topics, probabilities)):\n",
    "        document_name = os.path.basename(test_files[doc_idx])\n",
    "        document_topic_data.append([document_name, topic, prob])\n",
    "\n",
    "    df_document_topics = pd.DataFrame(document_topic_data, columns=[\"Document\", \"Assigned Topic\", \"Probability\"])\n",
    "    document_topics_csv_path = os.path.join(experiment_dir, 'bertopic_document_topic_distribution.csv')\n",
    "    df_document_topics.to_csv(document_topics_csv_path, index=False)\n",
    "    logger.info(f\"每个文档的主题分配结果已保存至 {document_topics_csv_path}。\")\n"
   ]
  },
  {
   "cell_type": "code",
   "execution_count": null,
   "metadata": {},
   "outputs": [],
   "source": [
    "# 保存可视化图表为 HTML 文件\n",
    "try:\n",
    "    topics_fig_path = os.path.join(experiment_dir, 'bertopic_topics.html')\n",
    "    fig = topic_model.visualize_topics()\n",
    "    fig.write_html(topics_fig_path)\n",
    "    logger.info(f\"主题可视化图表已保存至 {topics_fig_path}\")\n",
    "\n",
    "    # 生成并保存层次聚类图表\n",
    "    fig_hierarchy = topic_model.visualize_hierarchy()\n",
    "    fig_hierarchy.show()\n",
    "    hierarchy_fig_path = os.path.join(experiment_dir, 'bertopic_hierarchy.html')\n",
    "    fig_hierarchy.write_html(hierarchy_fig_path)\n",
    "    logger.info(f\"层次聚类图表已保存至 {hierarchy_fig_path}\")\n",
    "except Exception as e:\n",
    "    logger.error(f\"保存可视化图表时发生错误: {e}\")\n",
    "    raise"
   ]
  },
  {
   "cell_type": "raw",
   "metadata": {
    "vscode": {
     "languageId": "raw"
    }
   },
   "source": [
    "# Step 10: 评估模块\n",
    "try:\n",
    "    logger.info(\"开始评估 BERTopic 模型...\")\n",
    "\n",
    "    # 提取每个主题的前10个关键词\n",
    "    bertopic_topics = []\n",
    "    for topic_num in range(len(topic_model.get_topics())):\n",
    "        topic = topic_model.get_topic(topic_num)\n",
    "        if topic:  # 确保 topic 不是布尔值\n",
    "            bertopic_topics.append([word for word, _ in topic])\n",
    "\n",
    "    # 使用 gensim.corpora.Dictionary 创建词典\n",
    "    texts = [doc.split() for doc in documents]\n",
    "    dictionary = corpora.Dictionary(texts)\n",
    "\n",
    "    # Step 10.1: 计算主题一致性（Topic Coherence） - TC-NPMI\n",
    "    logger.info(\"计算主题一致性 (TC-NPMI)...\")\n",
    "    coherence_model_npmi = CoherenceModel(topics=bertopic_topics, texts=texts, dictionary=dictionary, coherence='c_npmi')\n",
    "    coherence_score_npmi = coherence_model_npmi.get_coherence()\n",
    "    logger.info(f\"平均主题一致性 (TC-NPMI): {coherence_score_npmi}\")\n",
    "    print(f\"平均主题一致性 (TC-NPMI): {coherence_score_npmi}\")\n",
    "\n",
    "    # Step 10.2: 计算主题一致性（Topic Coherence） - TC-LCP\n",
    "    logger.info(\"计算主题一致性 (TC-LCP)...\")\n",
    "    coherence_model_lcp = CoherenceModel(topics=bertopic_topics, texts=texts, dictionary=dictionary, coherence='c_uci')\n",
    "    coherence_score_lcp = coherence_model_lcp.get_coherence()\n",
    "    logger.info(f\"平均主题一致性 (TC-LCP): {coherence_score_lcp}\")\n",
    "    print(f\"平均主题一致性 (TC-LCP): {coherence_score_lcp}\")\n",
    "\n",
    "    # Step 10.3: 计算平均成对 Jaccard 相似度（Mean Pairwise Jaccard Similarity）\n",
    "    logger.info(\"计算平均成对 Jaccard 相似度 (MPJ)...\")\n",
    "\n",
    "    @jit(nopython=True)\n",
    "    def jaccard_similarity(set1, set2):\n",
    "        intersection = set1 & set2\n",
    "        union = set1 | set2\n",
    "        return len(intersection) / len(union) if union else 0\n",
    "\n",
    "    @jit(nopython=True)\n",
    "    def calculate_avg_jaccard(bertopic_topics):\n",
    "        jaccard_scores = []\n",
    "        for i in range(len(bertopic_topics)):\n",
    "            for j in range(i + 1, len(bertopic_topics)):\n",
    "                jaccard_scores.append(jaccard_similarity(set(bertopic_topics[i]), set(bertopic_topics[j])))\n",
    "        return np.mean(jaccard_scores)\n",
    "\n",
    "    avg_jaccard = calculate_avg_jaccard(bertopic_topics)\n",
    "    logger.info(f\"平均成对 Jaccard 相似度 (MPJ): {avg_jaccard}\")\n",
    "    print(f\"平均成对 Jaccard 相似度 (MPJ): {avg_jaccard}\")\n",
    "\n",
    "    # Step 10.4: 高频词汇分布分析\n",
    "    logger.info(\"进行高频词汇分布分析...\")\n",
    "\n",
    "    # 统计所有文档中的词频\n",
    "    word_freq = collections.Counter([word for doc in documents for word in doc.split()])\n",
    "\n",
    "    # 获取高频词汇\n",
    "    high_freq_words = set([word for word, freq in word_freq.most_common(50)])\n",
    "\n",
    "    # 检查每个主题中高频词汇的比例\n",
    "    high_freq_word_ratios = []\n",
    "    for topic in bertopic_topics:\n",
    "        high_freq_count = sum(1 for word in topic if word in high_freq_words)\n",
    "        high_freq_word_ratios.append(high_freq_count / len(topic))\n",
    "\n",
    "    avg_high_freq_word_ratio = np.mean(high_freq_word_ratios)\n",
    "    logger.info(f\"平均高频词汇比例: {avg_high_freq_word_ratio}\")\n",
    "    print(f\"平均高频词汇比例: {avg_high_freq_word_ratio}\")\n",
    "\n",
    "    # 保存评估结果\n",
    "    evaluation_results_path = os.path.join(experiment_dir, 'bertopic_evaluation_results.txt')\n",
    "    with open(evaluation_results_path, 'w') as eval_file:\n",
    "        eval_file.write(f\"平均主题一致性 (TC-NPMI): {coherence_score_npmi}\\n\")\n",
    "        eval_file.write(f\"平均主题一致性 (TC-LCP): {coherence_score_lcp}\\n\")\n",
    "        eval_file.write(f\"平均成对 Jaccard 相似度 (MPJ): {avg_jaccard}\\n\")\n",
    "        eval_file.write(f\"平均高频词汇比例: {avg_high_freq_word_ratio}\\n\")\n",
    "\n",
    "    logger.info(f\"BERTopic 模型评估结果已保存至 {evaluation_results_path}\")\n",
    "except Exception as e:\n",
    "    logger.error(f\"评估 BERTopic 模型时发生错误: {e}\")\n",
    "    raise"
   ]
  }
 ],
 "metadata": {
  "kernelspec": {
   "display_name": "cusanus_py310",
   "language": "python",
   "name": "python3"
  },
  "language_info": {
   "codemirror_mode": {
    "name": "ipython",
    "version": 3
   },
   "file_extension": ".py",
   "mimetype": "text/x-python",
   "name": "python",
   "nbconvert_exporter": "python",
   "pygments_lexer": "ipython3",
   "version": "3.10.15"
  }
 },
 "nbformat": 4,
 "nbformat_minor": 2
}
