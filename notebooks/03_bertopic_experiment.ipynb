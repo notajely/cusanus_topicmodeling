{
 "cells": [
  {
   "cell_type": "code",
   "execution_count": 1,
   "metadata": {},
   "outputs": [
    {
     "name": "stdout",
     "output_type": "stream",
     "text": [
      "Using MPS backend on Apple Silicon.\n"
     ]
    },
    {
     "name": "stderr",
     "output_type": "stream",
     "text": [
      "2024-11-08 22:37:23.369 python[54418:454522] getMetalPluginClassForService: Failed to find bundle for accelerator bundle named: AGXMetalA12 errno: 0\n"
     ]
    }
   ],
   "source": [
    "import torch\n",
    "\n",
    "# 检查 MPS 是否可用\n",
    "if torch.backends.mps.is_available():\n",
    "    device = torch.device(\"mps\")\n",
    "    print(\"Using MPS backend on Apple Silicon.\")\n",
    "else:\n",
    "    device = torch.device(\"cpu\")\n",
    "    print(\"MPS backend not available, using CPU instead.\")\n"
   ]
  },
  {
   "cell_type": "code",
   "execution_count": 2,
   "metadata": {},
   "outputs": [],
   "source": [
    "import os\n",
    "import time\n",
    "import logging\n",
    "import pickle\n",
    "import tqdm\n",
    "import json\n",
    "from bertopic import BERTopic\n",
    "from sklearn.feature_extraction.text import CountVectorizer\n",
    "from umap import UMAP\n",
    "from transformers import AutoTokenizer, AutoModel\n",
    "import torch\n",
    "import pandas as pd\n",
    "import numpy as np"
   ]
  },
  {
   "cell_type": "code",
   "execution_count": 3,
   "metadata": {},
   "outputs": [],
   "source": [
    "BASE_DIR = '/Users/jessie/Documents/Projects/Cusanus_Topic_Modeling'"
   ]
  },
  {
   "cell_type": "code",
   "execution_count": 4,
   "metadata": {},
   "outputs": [
    {
     "name": "stderr",
     "output_type": "stream",
     "text": [
      "2024-11-08 22:37:29,181 - INFO - 启动实验 bertopic_experiment_1731101849，日志记录到 /Users/jessie/Documents/Projects/Cusanus_Topic_Modeling/experiments/bertopic_experiment_1731101849/bertopic_experiment_bertopic_experiment_1731101849.log\n"
     ]
    },
    {
     "name": "stdout",
     "output_type": "stream",
     "text": [
      "启动实验 bertopic_experiment_1731101849，日志记录到 /Users/jessie/Documents/Projects/Cusanus_Topic_Modeling/experiments/bertopic_experiment_1731101849/bertopic_experiment_bertopic_experiment_1731101849.log\n"
     ]
    }
   ],
   "source": [
    "# 生成唯一实验ID\n",
    "experiment_id = f\"bertopic_experiment_{int(time.time())}\"\n",
    "experiment_dir = os.path.join(BASE_DIR, 'experiments', experiment_id)\n",
    "\n",
    "# 创建实验目录\n",
    "if not os.path.exists(experiment_dir):\n",
    "    os.makedirs(experiment_dir)\n",
    "\n",
    "# 获取日志文件路径\n",
    "log_file_path = os.path.join(experiment_dir, f\"bertopic_experiment_{experiment_id}.log\")\n",
    "\n",
    "# 配置日志记录\n",
    "logger = logging.getLogger()\n",
    "if logger.hasHandlers():\n",
    "    logger.handlers.clear()\n",
    "logger.setLevel(logging.INFO)\n",
    "formatter = logging.Formatter(\"%(asctime)s - %(levelname)s - %(message)s\")\n",
    "file_handler = logging.FileHandler(log_file_path)\n",
    "file_handler.setFormatter(formatter)\n",
    "logger.addHandler(file_handler)\n",
    "console_handler = logging.StreamHandler()\n",
    "console_handler.setFormatter(formatter)\n",
    "logger.addHandler(console_handler)\n",
    "\n",
    "logger.info(f\"启动实验 {experiment_id}，日志记录到 {log_file_path}\")\n",
    "print(f\"启动实验 {experiment_id}，日志记录到 {log_file_path}\")"
   ]
  },
  {
   "cell_type": "code",
   "execution_count": 5,
   "metadata": {},
   "outputs": [
    {
     "name": "stderr",
     "output_type": "stream",
     "text": [
      "2024-11-08 22:37:29,210 - INFO - 实验配置已保存到 /Users/jessie/Documents/Projects/Cusanus_Topic_Modeling/experiments/bertopic_experiment_1731101849/config.json\n"
     ]
    },
    {
     "name": "stdout",
     "output_type": "stream",
     "text": [
      "实验配置已保存到 /Users/jessie/Documents/Projects/Cusanus_Topic_Modeling/experiments/bertopic_experiment_1731101849/config.json\n"
     ]
    }
   ],
   "source": [
    "# 实验配置\n",
    "experiment_config = {\n",
    "    \"parameters\": {\n",
    "        \"n_gram_range\": (1, 2),  # 捕捉更多的上下文短语\n",
    "        \"min_topic_size\": 2,  # 增大最小主题大小以减少噪声\n",
    "        \"nr_topics\": \"auto\",  # 自动确定主题数量\n",
    "        \"umap_params\": {\n",
    "            \"n_neighbors\": 10,  # 增加邻居数使得降维更平滑\n",
    "            \"min_dist\": 0.1,  # 增大最小距离使主题更分离\n",
    "            \"n_components\": 2,  # 增大维度以保留更多特征信息\n",
    "            \"random_state\": 42  # 确保实验可重复\n",
    "        }\n",
    "    }\n",
    "}\n",
    "\n",
    "config_path = os.path.join(experiment_dir, 'config.json')\n",
    "with open(config_path, 'w') as config_file:\n",
    "    json.dump(experiment_config, config_file, indent=4)\n",
    "\n",
    "logger.info(f\"实验配置已保存到 {config_path}\")\n",
    "print(f\"实验配置已保存到 {config_path}\")"
   ]
  },
  {
   "cell_type": "raw",
   "metadata": {
    "vscode": {
     "languageId": "raw"
    }
   },
   "source": [
    "# 加载预训练的 Latin BERT 模型\n",
    "logger.info(\"加载 Latin-BERT 嵌入模型...\")\n",
    "model_path = \"/Users/jessie/Documents/Projects/Cusanus_Topic_Modeling/latin-bert/models/latin_bert\"\n",
    "tokenizer = AutoTokenizer.from_pretrained(model_path)\n",
    "bert_model = AutoModel.from_pretrained(model_path)"
   ]
  },
  {
   "cell_type": "code",
   "execution_count": 6,
   "metadata": {},
   "outputs": [
    {
     "data": {
      "text/plain": [
       "BertModel(\n",
       "  (embeddings): BertEmbeddings(\n",
       "    (word_embeddings): Embedding(119547, 768, padding_idx=0)\n",
       "    (position_embeddings): Embedding(512, 768)\n",
       "    (token_type_embeddings): Embedding(2, 768)\n",
       "    (LayerNorm): LayerNorm((768,), eps=1e-12, elementwise_affine=True)\n",
       "    (dropout): Dropout(p=0.1, inplace=False)\n",
       "  )\n",
       "  (encoder): BertEncoder(\n",
       "    (layer): ModuleList(\n",
       "      (0-11): 12 x BertLayer(\n",
       "        (attention): BertAttention(\n",
       "          (self): BertSdpaSelfAttention(\n",
       "            (query): Linear(in_features=768, out_features=768, bias=True)\n",
       "            (key): Linear(in_features=768, out_features=768, bias=True)\n",
       "            (value): Linear(in_features=768, out_features=768, bias=True)\n",
       "            (dropout): Dropout(p=0.1, inplace=False)\n",
       "          )\n",
       "          (output): BertSelfOutput(\n",
       "            (dense): Linear(in_features=768, out_features=768, bias=True)\n",
       "            (LayerNorm): LayerNorm((768,), eps=1e-12, elementwise_affine=True)\n",
       "            (dropout): Dropout(p=0.1, inplace=False)\n",
       "          )\n",
       "        )\n",
       "        (intermediate): BertIntermediate(\n",
       "          (dense): Linear(in_features=768, out_features=3072, bias=True)\n",
       "          (intermediate_act_fn): GELUActivation()\n",
       "        )\n",
       "        (output): BertOutput(\n",
       "          (dense): Linear(in_features=3072, out_features=768, bias=True)\n",
       "          (LayerNorm): LayerNorm((768,), eps=1e-12, elementwise_affine=True)\n",
       "          (dropout): Dropout(p=0.1, inplace=False)\n",
       "        )\n",
       "      )\n",
       "    )\n",
       "  )\n",
       "  (pooler): BertPooler(\n",
       "    (dense): Linear(in_features=768, out_features=768, bias=True)\n",
       "    (activation): Tanh()\n",
       "  )\n",
       ")"
      ]
     },
     "execution_count": 6,
     "metadata": {},
     "output_type": "execute_result"
    }
   ],
   "source": [
    "# 加载模型和分词器\n",
    "model_name = \"bert-base-multilingual-cased\"\n",
    "tokenizer = AutoTokenizer.from_pretrained(model_name)\n",
    "model = AutoModel.from_pretrained(model_name)\n",
    "\n",
    "# 将模型移动到 MPS 设备\n",
    "model.to(device)\n"
   ]
  },
  {
   "cell_type": "code",
   "execution_count": 7,
   "metadata": {},
   "outputs": [],
   "source": [
    "# 定义嵌入生成函数\n",
    "def get_mbert_embeddings(texts):\n",
    "    tokens = tokenizer(texts, padding=True, truncation=True, return_tensors=\"pt\", max_length=256).to(device)\n",
    "    with torch.no_grad():\n",
    "        # 将计算过程放到 MPS 上\n",
    "        embeddings = model(**tokens).last_hidden_state.mean(dim=1)\n",
    "    return embeddings.cpu().numpy()  # 返回到 CPU 上，以便后续处理"
   ]
  },
  {
   "cell_type": "raw",
   "metadata": {
    "vscode": {
     "languageId": "raw"
    }
   },
   "source": [
    "\n",
    "# 加载预训练的 paraphrase-xlm-r-multilingual-v1 模型\n",
    "model_path = os.path.join(BASE_DIR, 'saved_models', 'paraphrase-xlm-r-multilingual-v1')\n",
    "if os.path.exists(model_path):\n",
    "    logger.info(f\"从本地路径 {model_path} 加载 paraphrase-xlm-r-multilingual-v1 模型作为嵌入模型...\")\n",
    "    embedding_model = SentenceTransformer(model_path)\n",
    "else:\n",
    "    logger.info(\"加载 paraphrase-xlm-r-multilingual-v1 模型作为嵌入模型...\")\n",
    "    embedding_model = SentenceTransformer('paraphrase-xlm-r-multilingual-v1')\n",
    "    embedding_model.save(model_path)\n",
    "    logger.info(f\"嵌入模型已保存到本地路径 {model_path}\")"
   ]
  },
  {
   "cell_type": "code",
   "execution_count": 8,
   "metadata": {},
   "outputs": [
    {
     "name": "stdout",
     "output_type": "stream",
     "text": [
      "Embeddings shape: (2, 768)\n"
     ]
    }
   ],
   "source": [
    "# 测试运行 MPS 加速\n",
    "texts = [\"Gallia est omnis divisa in partes tres.\", \"Alea iacta est.\"]\n",
    "embeddings = get_mbert_embeddings(texts)\n",
    "print(\"Embeddings shape:\", embeddings.shape)\n"
   ]
  },
  {
   "cell_type": "code",
   "execution_count": 9,
   "metadata": {},
   "outputs": [],
   "source": [
    "# 创建 CountVectorizer 和 UMAP\n",
    "vectorizer_model = CountVectorizer(\n",
    "    ngram_range=experiment_config[\"parameters\"][\"n_gram_range\"],\n",
    "    token_pattern=r\"(?u)\\b\\w+\\b\"\n",
    ")\n",
    "custom_umap = UMAP(\n",
    "    n_neighbors=experiment_config[\"parameters\"][\"umap_params\"][\"n_neighbors\"],\n",
    "    min_dist=experiment_config[\"parameters\"][\"umap_params\"][\"min_dist\"],\n",
    "    n_components=experiment_config[\"parameters\"][\"umap_params\"][\"n_components\"],\n",
    "    random_state=experiment_config[\"parameters\"][\"umap_params\"][\"random_state\"]\n",
    ")"
   ]
  },
  {
   "cell_type": "code",
   "execution_count": 10,
   "metadata": {},
   "outputs": [
    {
     "name": "stderr",
     "output_type": "stream",
     "text": [
      "2024-11-08 22:37:31,888 - INFO - 加载测试集数据...\n",
      "huggingface/tokenizers: The current process just got forked, after parallelism has already been used. Disabling parallelism to avoid deadlocks...\n",
      "To disable this warning, you can either:\n",
      "\t- Avoid using `tokenizers` before the fork if possible\n",
      "\t- Explicitly set the environment variable TOKENIZERS_PARALLELISM=(true | false)\n",
      "Loading testset files: 100%|██████████| 5/5 [00:00<00:00, 2666.78it/s]\n",
      "2024-11-08 22:37:31,929 - INFO - 加载了 5 个文档用于 BERTopic 实验。\n"
     ]
    },
    {
     "name": "stdout",
     "output_type": "stream",
     "text": [
      "['commemoratio lucae clementinis dominus sanctus reliquiae veneratio sanc¬tor vir honorabilis christus dilectus fra¬tres insto devotio tempus tempus piger cor redeo debeo salus cor inflammo cari¬tas ardor sedulus meditatio pensaris excusatio sperno eloquen¬tiae fuco scientia vito ineptissi¬mus sperno allegatio simplex quoad conor cunctipotentis gratia mens via salutaris meditatio incitaris meditatio verbum exprimo instituo inardescat ignis spirital affectio qui1 anima sacro passio tempus divinus amor gaudium vitalis incalesco eapropter dilectus utor doctrina urbanus reliquiae veneratio sancio dominus exordior intentio laus sacrosanctus sacramentum novus lex utor exordior commemoratio epilogus tres tres tempus magnus ecclesiastici vir superus studium meditaris debeo memoria acerbus passio salvator salutifer eucharistiae sacramentum dies pius testamentum legatus necnon tertius sacramentum confectio cum2 quattuor effectus materia forma per¬ceptio praeho verbum christus salvator ostendo thema diligo finis diligo manifestus secundus doctor superus sacerdotium apostolus verbum confero quoad sacro sacramentum confectio finis dilectio superus nox cena superus amor con¬vivio superus nostraris anima salus magnus sacerdos sermo mereo thema dirigo apostolo¬rum successor consecrativa potestas subsidiarius oratio verus deus virtus spiritus ora excel¬lenti divino supernus spiritual materia dominus postulo paruus sincerus cor devoto oratio placo verbum incarnati virgo mater nostraris pre¬cum advoco sollicitatrix mare cum2 aperio os impleo spiritus sapien¬tiae auditus auris oboedienter cor inflammetur singuli mens pius dico2 avus mare trinitas dominus deus infinitus boni¬tas cum2 aeternus essentia absque otium torpor bonificavit bonificabilis amo amabilis intellego intellegibilis bonificaris amo intellego uni¬tas essentia trinitas simplicissima unitas unissima facilis credo vivo deus bonus absque otium essentia bonificans pater appello essentia relati¬vum bonificabilis deus filius bonificaris amo spiritus sancio appello placeo bonitas effluenti essen¬tiam bonificaris crearis creo tripli¬cem natura spiritual corporal misceo spiritual brevis transeo libertas arbitrium pars sto recta humilis caritativa subiectio pars superbia rebellio blasphemia cado homo misceo corpus spiritus imago similitudo sancio trinitas essentia creo foris amoenitas paradisus decoro intus plenus notitia perficio impleo qui¬dem intellego voluntas memoria cum2 angelus sensus corporeos cum2 brutus1 homo effluo superus bonus principium superus finis alpha ome¬ga armo ratio sensus sub¬iugaret voluntas deus amo intro2 memoria stabilis firma¬ret vis appetitivam concupiscibilis cum2 delectatio affectio cari¬tas erigo irascibilis indig¬nanter deus amo contrarius repello cum2 spes audacia deus cunctus validus bonus bonus bonus nihilum similitudo ratio bonus deus bonitas magnus verus tristitia dolor habitualiter poten¬tialiter homo peccatum pono actus unus unitas unus concordia vireo1 voluntas ratio sensus pareo concordia original iustitia deus adae tribuo sanctus voco casus homo primus proto¬plasti parvus pendeo ordo concreatum deus tendo pervertentes deus praecipio praevaricatio separo imperial justus mando1 edo1 pomum transgressor gravis poena mando1 annexam puto hora comederitis mors morior verus cunctus humanus genus vis produc¬tiva seminal ratio latito cado bernardus cado lutum1 acervus lapis coinquino original culpa collido confringo vis potentiis anima optume dis¬positis gravis vulnero amitto origi¬nal iustitia casus deus justus iudicium vireo1 affectio anima status prolabor diminutae deordinatae de¬structae contrarius experior sensualitas volo1 concupiscibilis irascibilis voluntas contrarian¬tur voluntas ratio frequens ago ratio vireo1 pronus malus pro¬clives illicitus concupisco ratio caecus erronea falsum verus uto curiosus inutilis involvo voluntas car¬nalia diligo saepis spiritualia volo1 concu¬piscibilis prolabor concupiscentia car¬nis concupiscentia oculus carnal vo¬luptas irascibilis deordinata prolabor superbia vita gloria mundanam spes spero deus divitiae proprius meritum tristamur amissio divitiaris despicio mundus irasco frater totus homo discordantiam via rectitudo amissio original iusti¬tiae labor contraho disproportio vis aversio homo malus exercitium limositas viscositas concu¬piscentiis vis anima glutinosus lubricitas inferus ligo1 retineo fili¬us prodigus abeo regio longinquus totus substantia fornicatio con¬sumens longus deus abeo porco¬rum custos diabolus servio prae¬cepta custodio homo venio regio dissimilitudo longus deus revorto incarnatio deus homi¬nem salus finis resisto iusti¬tia pervenio cum2 sententia adam eva cum2 posterus mortuus resurgo aeternus mors valeo vita praesto creo deus vivo deus homo vita creo restituo similitudo angelus peccatum proveho praecedo integer satisfactio oportet deus debeo supero deus peccaris deus exhono¬raris homo debeo cunctus deus pereo debeo ratio exigo vereor immutabilis pecco reddo deus honor aufero magnus exhonoraris debeo humanus natura solus habe¬bat satisfactio finis regnum pervenio deus bonitas dilectio efficacia unit amo amo medium tempus secundus medium mundus medius silentium teneo medius creatura ho¬mini unio2 communis creatu¬raris deus descendo salus creo unio¬nem deus homo exaltaretur finis pervenio christus jesus verbum incar¬natum sententia mors mors mors morior alieno immolatio infinitus delinquo macula infinitus deus infini¬tum crimen laedo maiestas committo praeceptum levitici necessarius christus pontifex magnus accedo altare immolo hostio1 purus placabilis dignus facinus infinitus satisfieret invenio unus hostia purus christus jesus ob¬tulit mortuus volo volo augustinus trinitas unus verus mediator sacrificium pax reconcilio deus unus cum2 maneo offertor pater unus face¬ret offero unus offero relinquo memorial sacrificium sacramentum origi¬nal peccatum eximius careo relinquo sacerdos instituo sacramentum cum2 corpus christus sacrificium peccatum populus actual offertor tango sacrificium volo relin¬quere altare crux offero christus sacerdos sacrificium offertor unus sacerdos unus oblatio sacrificium cum2 sacrificium relinquo sacramen¬tum cibus magnus unio2 cibus cibati cibus spiritual conver¬tit cibo audio augustinus cibus grandis muto cibus caro muto modus presbyteri[i dius mutatio filius excello inferus tango pars mysterium passio sacrificium elevemus mens contemplo audio dilectus primus pa¬rentes corrumpo abominabilis iniquitas eapropter bonus domi¬num jesum christum deitas humanitas hypostaticam unio superus gradus exalto consequor creo homo deus unita unus creo mundus unus deus filius incarnan¬dum verbum carus1 finis venio debeo humanitas deitas unita magnus honor deus impendeo deus christus cum2 summus humilitas volun¬tarie offero ara crux contemplaris anima christiana anima gravis mors resuscitata anima misero servi¬tus sanguis deus redempto excio mens memento resuscitatio redemptio libertatio accipio doctrina via honoro deus tollo unusquisque cru¬cem sequor via christus christus uniatur mediator ascenderit finis pervenio humilio exalto vita mundus custodio nitor per¬det via pervenio caritas perficio vivo morior unus christus adhaereo bonus pono totus spes vito vivo spes morior salus spero obliviscaris aeternus hereditas acqui¬renda aeternus patria christum deus homo absque aenigma christus mortuus careo deus de¬scendere homo ascendo unitas suppono careo deus homo mundanus tribulatio tristitia absque culpa tollo terra exalta¬tus expando crux manus cunctus traho genus mors turpis pontifex rex rex verus anima pastor ani¬mam vita ovis offertor dominus dulcis fauces mel aurum eloquium sitio gratia caritas ostium intro volo volo peto accipio affluenter fons indeficiens ostium via vereor vito dulcedo acerbus passio gusto anima dominus lumen lumen lumen gloria lu¬men obscuro sol iusti¬tiae rutilans aurum dominus vito vivo muto1 color bonus vermis homo opprobrium homo abjectio plebs do¬mine verus samaritanus vulnero sano solus sano sanus despicio infirmus planto pes verti¬cem sanitas dulcedo pietas1 cum2 humanus intellec¬tus capio aperio intro2 cognosco dominus nullibi tueor fluo sanguis aqua me¬dicamenta antidotum sacramentum humanus sal¬vatio agnus immaculatus victima duco inflammo desiderium ara crux accedo sanguis agnus stola lavaris dominus anima liquefacio recordor delectus crux consummo passio mysterium amor langueo incipio sitio anima multipliciter fundamentum humilitas comessatio ebrietas vito crux induo crucifixum alibi quaero solus inveni¬tur angelicam sumo natura corpus careo creaturis assumptam humanitas praebeo auxilium humanitas scala creo deus ascendo finio infinitus proportio humanitas creaturas symbolica concordo amor ascendo transformo humanitas deus unita uni¬mur caput ascen¬sum caritas descendo unimur infinitus pietas gratia paulus1 hebraeos nihilum deus potestas caelum terra deus homo mors victor1 adae cul¬pam cado restau¬raris mors transfero vita presbyter transsubstantiat panis corpus altare magnitudo poena enumero nobilis sensibilis corpus robustus patior extrinsece intrinsece spiritualiter compatiendo humanus natura ge¬neraliter mater sanctus patior poenio humanus homo nosco cunc¬tos aequus diligo poena morior volo dolorosissima mors dolor homi¬num praeteritor mors ascendo poena scientia futu¬rorum nosco damno obsto passio offensio christianorum haeresis seco guerras tribulatio caput aqua oculus lacrimaris fons compatiar christe mortuus institutio sacramentum eucharistiae sacramentum bonus gratia cari¬tas divina deus maximus dilectio ostendo dilectio afficio specialis inflam¬mavit christus deus verbum incarnato principium repa¬rativo virtus sapientia sufficientissi¬mam secundus confero sacra¬menta largior medicamentum mor¬borum charisma gratia insti¬tuit sacramentum gratia gene¬raret baptismum gigno augmentaret confirmatio verus gigno augmentatos enutriret sacramentum eucha¬ristiae sacramentum accedo fides nutrimenta gratui¬tum attendo unoquoque fidelis con¬servatio devotio deus dilectio propior delectatio de¬votio deus exerceo sacrificium oblatio¬nem dilectio propior unus sacramentum communio delectatio viaticus refectio christus principium reparativum sacramentum sacrificium oblatio sacramentum communio¬nis viaticus refectio principium reparativum sapientissi¬mum sacrificium sacramentum viaticus dispono exhibeo secundus competo tempus gratia revelatae statuo via capaci¬tas tempus revelatae gratia requiro purus plenariam oblatio crux offertor corpus sanguis christus oportet sacramentum significaris vera¬citer corpus christus oblatio tempus debeo contineo similis sacramen¬tum tempus gratia debeo commu¬nio dilectio significaris inflam¬maris mutuus caritas magnus unire membrum unitas capio vis amor diffusivam unitivam transformativam mano dilectio mutuus sacramentum contineo unus corpus christus carus1 imma¬culata diffundo invicem uniens transformans ardentissimam caritas offero reddo finis mundus exsisto sacramentum doctor de_-voveo teneo sacramentum verus corpus verus sanguis christus significo veraciter con¬tinetur duplex species panis vinum unus duplex sacramentum consecratio sacerdotal prolatio vocal forma dominus instituo panis cor¬pus vinum calix verbum cum2 intentio confacio sacerdos1 profero transsubstantiatur elementum secundus substantia corpus sanguis christus jesu remaneo species sensibilis uter con¬tinetur totaliter circumscriptibiliter sacramentaliter totus christus propono cibus dignus accipio solus sacramentaliter verus fides caritas spiritualiter manducando corpus christus mysticus incorporatur reficio purgo verus indignus accedo iudicium manduco1 bibo dijudico corpus christus species panis vinum sta¬tui via competo christum apertus velamen aenigma mereo fides convenio christus caro dens attractaris horror crudelitas immortalitas corpus resurrectio necesse corpus christus trado velo sacra¬tissimis symbola similitudo congruo expressivis congruosius significa¬tio unitas corpus christus panis triticeus mundus1 granum vinum labrusca acinus hiis species debeo exhibeo secundus sancio cyprianum epistula christus granum fru¬menti terra mitto fruc¬tum panis granum confacio farina aqua aqua populus significo johannes apoca¬lypsi aqua populus unio2 capio verus granum aqua unitas panis triticei materia sacramentum eapropter aqua vinum calix appono christus vita verus volo uniri sacra¬mentum deus sapientia pono panis misceo vinum refectio vital refectio spiritus verbum vita refectio spiritual carnis verbum incarnatum carus1 verbum cibus communis salutaris unus sano cibus spiritual communis salutifer cor¬pus christus verus veraciter oportet sacramentum exigo perfectio sacrificium sacramentum unitivi viaticus refectivi debeo tempus nosco testamentum gratia revelatae veritas christus corpus christus verus divido pars corpus anima deus utrobique unus simplicissimum sacra¬mentum totus corpus totus species pars integer divido circumscribo occupo locus sino percepti¬bilis sensus corporeus humanus lateo sensus fides locus mereo deprehen¬datur accido1 operatio prior subicio quamdiu corpus christus quamdiu duro proprietas natural idoneus cibandum necessarius sacramentum quattuor consecro sacerdos debeo materia panis vinum tertius requiro intentio consecrantis quartum forma verbum intentio special genera¬lis requiro attentio incuria neglegentia pecco consecro secus infirmitas solus intentio consecrantis instituentis panis forum presbyter transsubstantiaret profero verbum cum2 intentio hostio1 consecraris totus1 mundus suffice¬rent cum2 ludibrium stultitia inten¬tio instituentis debeo forma verbum dictio debeo dimitto forma debeo necessarius materia necessarius panis triticeus vinum debeo panis triticeus fermen¬tatus vinum cum2 aqua misceo utor instituo christus fermento pec¬cati aqua ecclesia significo vinum christus caritas jungo vinco debeo aqua vinum alioqui impedio conse¬cratio cum2 christum converto mutamur converro sacramentum eucharistiae species panis vinum sacramentum corpus christus mysticus corpus christus verus sacramentum primus sacramentum secundus1 figura sacramentum oblatio melchi¬sedech secundus forma exter refec¬tio refectio praecedo figuro sacramentum manna significo efficio gratia agnus paschal significo liberatio servitus aegyptiaca sacramentum liberatio diabolus sacrificium levi¬tico significo oblatio passio christus hostia quoad recon¬ciliatio victima quoad satisfactio peccatum holocaustum quoad totus corpus laesio longus cunctus explicaris guilelmus parisiensis fides lex figuro sanguis christus vinum desig¬nandum refectio canticum1 introduco rex aqua ablutio aqua egredior sanguis signo redemp¬tio hebraeos sanguis effu¬sio remissio hiis appareo dignitas sacramentum christus institus lex lex prae¬figuratum propheta praenuntio panis angelus manduco1 homo apostolus observo convenio unus maximus excello sacramentum deus cunctus excello anima cunctus anima antecello corpus cor¬pora antecedo christus nobi¬lissimum caelum terra unita elevo mens sacro sacramentum miro suavitas ali¬quantulis rumino dico2 dominus dulcedo boni¬tas volo1 edo1 vita mors coti¬die annuntiemus homi¬ni mortuus edo1 vita edo1 vita alimentum crux affixum do¬num largus1 mens capio altus pius nobilis alimentum praesto2 plenitu¬do largitas dilectio modus excedo dono cum2 dator natio grandis deus approximantes verus deus adsum forma proprius sub¬stantia cibus verus nutrio reficio summe¬que impinguat caro anima venter mens memorial nobilis intimus commen¬dandum praecordia firmiter animus alligo diligenter chordus1 servo uterus commemoratio assunt sua¬vitas gaudium lacrima lacrimemur devo¬te gaudeo cor ingens perfundo gaudium dulcis oculus stillo gutta1 cum2 dominus alo consideratio¬nem elevo cognosco lumen intellego solus cunctus curiosus quaero ratio signum fides accedo mirus subeo prolatio verbum transsubstantiatio subeo calor1 semen vivus animal bombyces voco verto ser¬pens verbum incanto obturo auris audio voco incanto audio verbum necessarius compareo deus unicus verbum uxor lot visio verso lapis statua sal fons certus lignum lapis ferrum cuprum muto miro stomachus natura caro sanguis panis vinum muto vitrificator cinis silex pul¬chrum vitrum educo1 percussio pyrites lapis subeo ignis emano miror deus homo contractatus cum2 totus quantitas pependisti crux sacramentum ciconia oculus aviculae mons magnus modicus granum sinapis maximus virtus magnus arbor elisaeus vir magnus puer mortuus pono singulus membrum singulus reg miror species natura subiectus adamo figuro sacramentum velo species debeo jacob esau species isaac decipio sensus deci¬piuntur gustus tango auditus fallo isaac voco interior venio nosco fides fallo deus miror sacramentaliter corpus sanguis diver¬sis locus integraliter unus sermo profero integraliter aequus perficio audio intellego scio deus convenio ubique homo unus locus tan¬tum mirus deus homo medium ubique unus locus unus definitio species individuus aequus convenio verbum totus aeternus aeternus pater totus descendo uterus virgi¬nis totus unus utrobique venio caro manduco1 homo maneo integer pater pasco angelus paruus miro totus pars hostia divido mul¬tis locus indivisus totaliter pars hostia unus totus christus speculum similis capio figura unus frango fragmentum similis totus capio homogeneis qui1 pars puto aqua aqua totus colligo manna pluo desero2 paruus paruus anima parvus homo magnus magnus totus totus pars miror paruus cottidie man¬ducetur minuo glorifico incorruptibilis resurrectio corrum¬pitur converto natura alo sumo spiritualiter verto men¬tis excedo amor lumen unus candela accendo2 lumen candela minuo potis miran¬dum edo1 minuo corpus christus mysticus ecclesia cum2 caput sponsum christus dignus edo1 homo efficio corpus membrum edo1 maio¬ratur cor nescio corpus membrum christus dignus manduco1 augmentat corpus mysticus dia¬boli scientia distribuo suscipio incre¬mentum eph cresco caput christus fons cottidie aqua fluo minuo mirus fons salvator miror sacramentum prodo salus noceo iudicium floreo apis1 mel araneus vene¬num sugo unus unus medicina mors sol dissolvo glacio congelo lutum1 dominus dubito vita promitto assequor sacramentum dominus vito concordo anima corpus plenus miseria mor¬tem subitaneus comparatio aeviter¬nitas sequor diligo aeternus vito dignus sacra¬mentum accedo fons vita hauri¬unt vae indignus fons vita mors bibo1 dominus misero vito plenus fletus cum2 laetitia divitiae voluptas homo decipio cum2 cogo perdo vita aeternus caducus tran¬sitoriam totus ingemisco tremo vito ordino abutor venio fallacia magnus pars homo fingo servio pereo vereor suffoco falsitas sacerdos cogito vito cogito cogito verbum opus cogito nobilitas officium', 'clavo regnum caelum1 considero ago fe¬stum cathedra petri festus1 exsecutio promitto christus evangelium opto milevitanus ecclesia ha¬bere cathedra angelus alibi primus attendo christus clavo regnum caelum1 christus vereor erro1 janitor vereor clavo aperio ministro vereor ministro erro1 hieronymus supercilium praesumptio vereor ministro clavo annuo ianua aperio christus vereor aperio aperio christus commissio aperio chri¬stus pontifex immortal potestas aperio com¬missario commissarium sa¬cerdos exercitium clavium christus vicis ago vicarius christus absolvo lavo baptizando exse¬quitur commissio committo opero chri¬stus pontifex pontifex petrus singula¬riter commissarius vicarius christus commissarius commissariorum attendo clavo petro1 rece¬pit alibi clavo duo paruus debeo debeo clavo plural nu¬mero unus claudo regnum ligo1 anima aperio regnum solvo anima reperio anima ligaris praestigiae dae¬moniorum ago ratio¬nal careo vito lux ratio alligo princeps tenebraris vexa¬tur vinculum absolvo pontifex catechizat trado pontifex pote¬stas sacerdos1 baptismum exor¬cistis trado homo satanas paulus1 trado corinthium ligo1 ponti¬fex anima anathematizat christus mitto spiritus porcus nosco refero verbum pontifex cathedra pontificaliter procedo in¬ter cathedra private cathedra iudico commissio christus iudex sedes judiciarius cum2 intentio iudico absolvo unus ligo1 senten¬tia exsecutio officium sedes potestas divino homo ha¬bet homo potestas homo mors condemno par par imperium homo praesum bestia pi¬lato judicium christus potestas desuper cathedra ostendo sedeo privo homo commissarium verbum cathedra committo loqui¬tur commissarium vereor adhaereo cathedra cathedra sedeo iudico admitto repello discretio unus ape¬rit claudo auctoritas discernendo po¬testas exsequor unus clavus unus essentia respicio exsecutio praesupponit sententia petro1 clavo me¬dio ecclesia aperio os impleo attendo petro1 agno¬scens cognosco christum filius deus vivo cognitio vito aeternus cognitio medicus iuristaris naturalis homo scio desidero audio novo inclinamur apprehensio veritas sapientia plenitudo christus ap¬prehensio vita purus ulter desiderium spiritus amo amo sapientia vita immortal mens christus unita pervenio christum magister unicus verbum vita aeternus petrus apostolus benevo¬lentiam caritas praeceptum christus ama¬vit experior proprietas amor reperio amor gravis levis1 amor labo¬rat ignis aqua resolvo levo1 vaporo ascendo gravis petrus aqua ambulo christum discipulis na¬vigantibus anima amor devotio venio lacrima resolvo ignis cum2 virido lignum applico ardeo unus pars humectatur anima frigidus petrus christus cogito lacrimaba¬tur congregatio quamdiu duro amor tamdiu ordo familia civitas regnum monasteriis amor ordo cesso cesso ordo corpus du¬rante amor humores homo tempera¬tus cesso concordia amor distempe¬ratus sancio petrus validus ordino ecclesia committo amor calor spiritual sollicitus sino cogito num¬quam quiesco calor natural quiesco cor sedes petrus christus sollicitus oportet morior sancio augustinus dominus nolo ostende¬re judam traditor interfe¬cisset amor contendo anima ferventer amo amo appeto1 petrus panis oliva tunica cum2 pallium con¬tentabatur deus sufficio ava¬rus petrus efficaciam virtus loquor cado spiritus sancio tabitam suscito paralyticus umbra sano excellentiam dignitas clavo multitudo unus genus reperio unus plenitudo respicio christus plenitudo gratia descendo sancio plenitudo accipio virgo mare plenitudo misericordia mater misericordia descendo misericordia peccator bernardus mare sinum aperio plenitudo sumo universus caelum primus moueo moueo recipio sol plenitududo lucus ignis pleni¬tudo calor1 cor plenitudo vita caput plenitudo sensus imperator plenitudo civilis imperatio petro1 plenitudo auctoritas christus committo descendo pontifex sacerdos ecclesia clavo alligo petrum nosco cum2 regnum caelum1 cogno¬scere deus petrus clavo scienti¬ae evangelium christus clavis medium ecclesia utor medium ecclesia aperio os congrego ecclesia con¬gregatio rationabiliorum unitor observan¬tia lex pax laus laus communis pax deus pax mandatum servo congrega¬tio synagoga bestialium congregatio spiritus pono ecclesia divisor spiritus bestial canis porcus rabidus gulosus luxuriosus', 'scribo doc¬trinam scribo romanus lec¬tio epistula mitto dominicus apostolus doceo unusquis¬que propior placeo debeo bonus aedificatio christus placu¬it scribo persono pro¬pheta deus loquor improperia expro¬brantium cado subjungo scribo christus scribo placeo infirmitas sustineo fortis infirmo¬rum imbecillitas sustineo debeo nosco sententia apostolus christus scribo doctrina scribo christus actium instructio christus scribo describo vir perficio doceo debeo quo¬modo perficio debeo anima rational semen divinus semino adam terra cresco perficio abraham pater humanitas capio usus ratio summitto deus fides discipulus magi¬stro deus ambulo perficio continuo proficio humanitas christus pervenio perficio magisterius doceo perfectio imitor deus pater scribo perficio scribo doctrina scribo pati¬entiam consolatio scripturaris spes ha¬beamus paulus1 volo duo sacer scribo contineo patientia conso¬latio spes vito turbatio¬ne deus proprius filius peper¬cit doceo patienter necessitas virtus se¬quamur perficio vir iob scribo magnus perfectio perfector christum cum2 malus tracto aperio os scribo patientia sancio doctrina patientia quo¬modo patientia studeo similis scribo enarratio patientia enarro consolatio iob magnus christus exalto deus no¬men nomen scribo doceo magnus exspec¬taris consolatio magnus patienti¬am patientia consolatio aequus animus patientia consolatio habebi¬mus spes assequendi praemium sancio patientia virtus consisto arduus terribilis utilitas honestas aequus animus diuturne patior secun¬dum tullium patientia adverro proprius tolero malus extrin¬seco infero ad¬versitas vetus homo infero temptatio carnis surgo homo natura rational animal unus desursum deorsum homo ignis aqua animal similis aqua spiritual ignis natura contra¬riantur constitutio homo uniuntur homo unio2 naturaris diverto lex motio unio2 amor continuo2 pugno virtus pa¬cificat bellum patientia virtus anima diligo corpus complacere corpus desiderium resto corpus amo complacendo desiderium sensibilis vita perdo vita rational patienter patior pot¬est complacere amo lex ratio praecipio molestus caro molestia observator lex proprius cor¬pus cum2 bonus infero voluntas virtuose ago virtus homo dominor magister patientia possideo anima incongruus pa¬tientia scio patior coincidit tristitia consolatio chri¬stus tristitia sancio verto gaudium tristitia gaudium patior gaudiosa consolatio virtus patientia nobilis vinco genus pa¬titur vincio telum hostis cor recon¬dit vincio patior hostis daemon anima patior similis salamandra ignis tribulatio pascor strutio ferrum deglutienti aurum caementum pono purgo gregorius martyres patientia animus veraciter conservamus pa¬tientia scribo consolatio sub¬secuta doceo fiducia debe¬mus assecutio praemium textus2 lego distinctio scribo doctrina pungo subjungo scribo patientia consolatio¬nem distinctio contraho universal doctrina sacer scribo doctrina christianorum scribo sum¬ma doctrina patientia consolatio¬nem pervenio verus spes evangelium sacer liber bibliae scribo lo¬quuntur canone bibliae scribo intentio specificatur actus2 paulus1 poetaris oro paulus1 consequenter deus pa¬tientiae solacium romanus sa¬pere secundus doctrina iesus christus unani¬mes unus os honorifico deus pater domi¬ni iesus christus unanimitas regula discipulus christus iohannis cognosco discipulis dilectio invicem unus corpus christus romanus facilis im¬petramus peto congrego macchabae¬orum congrego convenio cen¬tum paro proelium oro peto misericordia matthaei duo tres consentio unus os creo oboedio deus honor dignus accipio gloria honor creo apo¬calypsis fortis homo rational debeo imitor angelus cesso con¬cin<e>ntes deus gloria apocalypsis neglego noto deus dator patientia loquor intendo apostolus similis solacium loquor patientia tullius rhetorica di¬vina homo incendo desidero adversitas finis cresco virtus pa¬tientiae probo cum2 patientia cresco solacium apostolus gaudeo consilium mors sententia dignus patior contumelia nomen iesus oro sapio sapio se¬cundum christum iesum invicem christus infero suscipio invicem christus suscipio unus cura ha¬beat debeo differentia iudaismo fides venio gentilitas qui1 christianus debeo pro¬curaris bonus frater declaro chri¬stus veritas promissio pater iudaeorum venio mitto qui¬bus praedico1 honoro deus sus¬cepit gentilis misericordia admitto nosco paulus1 allego1 psalmus propterea confiteor gens christus gens confiteor deus pater iudaeis fidelis christus cor¬pus mysticus deus confiteor laudo natio christiana christus rectus confiteor deus christus confiteor christus laudo christus praemiatur ca¬pitaneus exercitus exercitus nosco propheta induo persona christus repraesentan¬tes prophetarunt propheta confiteor gens persono christus remoueo gens deus pater laudo loquor intellego verbum propheta percutio deus deus respicio pro¬phetas attendo assumo persona chri¬sti loquor christum repraesento spiritus christus occupo christus spiritus loquor concludo apostolus oratio deus spes repleo pax gaudium credo abundo spes virtus spiritus sanctus deus deus patientia deus solacium deus spes deus solus repleo anima pax gaudium credo fides donum deus credo veritas donum deus sin¬gularis veritas ratio dissentio nequeo veritas credo donum deus gratia veritas veritas venio veritas verbum pervenio deus credo consequenter abundo spes pax fides fides com¬plemento pax gaudium perficio vivus formo sequor abundantia spes adsum virtus spiritus sanctus fides augeo virtus anima virtus spiritus sanctus donum romanus spi¬ritus adjuvo infirmitas postulo postulo scribo doc¬trinam scribo bonaventura illuminatio scribo assimilat aqua visio intelligentiae scribo erudio intellego secundus opus tertius dies deus divido aqua terra congregatio aqua voco ma¬ria bonus germino terra herba vireo1 fons irrigo pa¬radisum scribo irrigo terra semen arbor1 vita rational spiritus attendo scribo aqua semen terra semino medio calor1 sol cieo ac¬tum prodeo solaris calor medio aqua semen fructifer spiritus deus spiritus sapientia medio scribo semen intellectual fructifer aqua medius convenio calor1 sol terra aqua firma¬mento aptus medius obtempero ardo¬rem sol vivificatio semen scribo scribo attendo debeo invisi¬bilis radius sol justitia sapientia frac¬tum infirmitas claritas nequeo medium spe¬culis aenigmatum signum figuraris scribo capio valeo forma substan¬tial perficio oculus sensibilis visi¬bilis figuro visibilis resplendeo me¬liori attingo rectus apostolus timothei scribo divinitus inspiro utilis perfectio homo deus rectus iudaei scribo vita anima cre¬debant intelligebant vita spiritus sapientia lateo spiritus iesus magister remitto scrutatio scripturaris aperio scriptu¬ras verbum vita contineo iohan¬nis attendo sancio scribo aqua impraegnata spiritus caelestial fe¬cunditas terra natura aqua medius generatio influentia caelum terra intellectual natura scrip¬turas scribo ars intellectual natura inspiratio divinus radius unus intel¬lectus communicaris gloria deus natura rational perfectio scribo medius medium con¬ceptus manifesto2 eruditio homo praesens absentium praetereo prae¬sentibus sum1 necesse experientia informaris intellego aptus inquiro semen pos¬sum scio semino oria¬tur experientia praetereo doceo manifestaverit homo praevideo scientia praeteritor homo neces¬saria scientia praeteritor ptolemaeus observantiis abrachis tymocardis motus planetaris invenio regula coniectural motus2 sum1 homo necessarius scio praetereo longus tempus observo secu¬rius syllogizet sum1 primus fu¬erunt longus vita iosephus liber anti¬quitas refero longus experientia annus motus caelum inquiro posterus innotesco experientia subsidium scribo con¬tinuatur aetas aetas adminiculo homo speculum praetereo retro proficio subsidium sci¬licet scribo sensibiliter mortuus loquor vivo absum praesens divinus ar¬tificium aetas saeculum doceo orbis divina illuminatio at¬que humanus adinventio praecedo tempus qui1 intellectus2 perfectio vivo praesens vivo doctrina spiritus paulus epistula medium scribo doceo per¬ficit scribo no¬stram doctrina scribo certus scribo spiritus immortal na¬turae dependeo littera vito spiritus converro spiritus littera epistula paulus scribo alligo littera cartae locus spiritus intellec¬tual scribo no¬stram doctrina ostendo doceo scribo incorruptibilis spiritus varietas doctrina varia perfec¬tio spiritus apprehendimus unus doctrina rudis puerilis digero solus christus doctrina apprehendimus spiritus perficio magisterius vita verus aeternus spiritus iesus doceo conicio humanus visio certus deus pater principium creator revelantur doctrina quorumcum¬que auditus coniectural solus christus doctrina verus certus invariabilis aeternus caelum terra transeo verbum om¬nium doctrina conicio doctrina christus varietas instabilitas recipio conicio veritas paruus vereor apostolus corinthiorum eleganter loquor felicitas salus attingo prudentia prudentum simplicitas fides prudens hu¬ius mundus stultitia reputo nomino aristotelis li¬brum physicus appello phy¬sico auditus fors certitudo infallibilis attingo coniectural discursus2 humanus mos rectus inspicio doctrina christus perfectio doctrina compli¬cans doctrina ratio deus saeculum dubito inquisitio versaris apprehendo desiderium intellego finis quies felicitas lux verbum deus doctri¬nam illuminans capio lucus ha¬bent philosophus invenio par¬ticipatio lucus doctrina sancio recipio lux doctrina iesus christus sanctus pro¬palarunt doctrina christus recepe¬runt vivo doctrina doctrina christus vivo spiritus spiritus iesus paulus1 capitulum1 fateor christus efficio vivo scribo paulus spiritus lateo spiritus iesus auctor vita doctrina discipulis platonis plato magister fecunditas scribo multiplex sentio bonaventuram allego1 locus subtilis scribo vulgo2 pabulum necessarius ministro praedicator insequor lumen scribo illu¬minans tenebrae quaero scribo praesci¬entiae increatae conscientia innascor scientia inspiratae sapientia incarnatae primus liber vita lucae gaudeo nomen scribo studeo debeo nomen scrip¬ta liber vita liber liber gaudium regnum immortal vilis rex scribo deus cum2 filius conregnaturos conscribo vae scribo liber mors scio liber vita describo vita describo vito iesus pec¬cator christus peccatum dolus invenio os pateo usurarii fornicator adulter nomino liber vita eo¬rum nomen memoria deus aboleo me¬moriam deus vito eicio tene¬bras exter apocalypsis invenio liber vita mitto stagnum ignis scribo liber prae¬destinatio notas liber reprobatio iesaiae scribo taceo reddo retribuo sinus iniquitas scribo ostendo mortuus dam¬natos secundus romanus cum2 gens lex ostendo opus lex scribo cor testimoni¬um reddo conscientia excuso scriptu¬ras nescio cum2 cor decem praecipio tabula archa taber¬naculo lex natural conscientia consci¬entia anima anima corpus pec¬catum deleo gratia reparo hebrae¬os lex cor mens superscribo liber conscientia solus lex natural scribo aureus calamus scribo secundus lex natura stilus ferreus ie¬remiae peccatum iudae scribo stilus ferreus unguis adamantinus cor obstina¬to dies iudicium scribo lego2 condemnatio nosco tertius timothei scribo divinitus inspiro scribo servo bene vivo volo1 vivo lucae magister vi¬tam aeternus possideo iesus lex scribo vae trans¬gressor lex galeo scribo maledico maneo scribo liber lex nosco inspiro pateo cae¬litus mitto exsulis peregrinus littera mitto caris patria consolo amicus scribo divino signum caelestis patria pertineo littera curo observo quartum psalmus lingua calamus scriba spiritus sancio lingua calamus de¬signatur verbum concipio uterus describo liber ezechiel intus foris describo intus sapientia foris exemplum scrip¬ta scio lego debeo reperio lamentatio mundus carmen caelum vae iudicium', 'curro comprehendatis necessitas immineo com¬missam pontifex visitatio deus dirigente perficio sancio verbum doctor paulus corinthiis scribo ecclesia lego2 di¬cendi materia praesto2 frater paulus1 christus loquor curro comprehendatis mundus secundus interior homo exulis peregrinus ma¬nentem civitas curro determino finis curro desi¬derat curro curro mo¬vetur quies moveo moueo natura moueo intelligentiae mo¬ventur equus equito equus directio sessor necessitatur sessor elec¬tio necessitat equus curro certus comprehendo finis causaris gratia ago finis in¬tellectus principium moueo intentus dispono ordinans ordo igi¬tur natura experior intelli¬gentiam primus conditor intellego pri¬mum moveo paulus1 deus nomino ordo deus or¬dinata equus teneo via recingo civitas vagaris campus desiderium scio sessor dirigo locus appeto1 animal corpus moveo maneo civitas caelestis civis sci¬mus motus directio intellectua¬lis spiritus animal dirigo dirigo intellego certus fides curro credo finis curro ap¬prehensio spero cursus finis attingo curro semino spes semino animo fides spes cursus apprehendimus cum2 anima spi¬ritu moueo certus careo careo spiritus vita fides spes attendo virtus divino moveo intellego incorruptibilis divinus finis debeo elevatio visibilis homo invisibilis secundus doctrina apostolus romanus principium homo experior corpus vivo vi¬demus corpus vito careo sentio vita virtus sensitiva homo experior virtus sensitivam dirigo contrarius desiderium castita¬tem abstinentia scio alo vir¬tus virtus sensitiva oboedio liber voluntas li¬bera voluntas intellectual natura arbitrium praesupponit intellego cum2 electio electio comparo1 discerno virtus alo natura li¬beri arbitrium dirigo spes vivo fides fides moveo caritas igi¬tur caritas intellego homo forma vivus formo vivifico careo virtus unitrina cesso corpus sensitiva virtus deficio intellego careo maneo fides spes ces¬sante careo comprehensio necto christianus necto divina im¬mortalitas consisto ulter felicitas di¬ceres cum2 superus homo liber intellec¬tus pervenio homo spiritus intellego dirigo comprehensio finis intellego animal homo natura corruptibilis mortalis penitus ignoro caecus virtus intellectual scio conformiter an¬gelis dius moyses nomino intellectual doctrina intellec¬tual natura spiritus caritas divina felix consisto felicitas intelligentiae scio cum2 scio capio paruus felicitat magnus paruus tollo paruus perficio magnus felicitas ambiguus finis perfectio stabilis ae¬ternitas quamdiu gradus ulter sensibilis cognitio defi¬cit quamdiu scio veritas ip¬sam visio ulter fruitiva cognitio finis desiderium attingo felicitas visio intellego conditor exsisto doctrina divinus spiritus pateo evangelium annuntiatio bonus philosophia logica discursiva ratiocinatio rational persuasio locutio filius deus annuntiatio virtus ope¬rum ostendo doctrina pervenio spiritus felicitas dirigo paulus1 particeps evangelium spiritus doceo via vita curro debeo particeps evangelium certus comprehensio immortal corona pervenio considero paulus evangelium particeps evangelium divino doctrina christus filius deus capio doctri¬nae particeps doctrina participatio¬nem intellectual natura scio natura divino scientia cum2 mo¬veat intellego spiritual natura spiritus moto careo doctrina christus diffundo cor christiformium spiritus sancio apostolus diffe¬rentia vivus christianum spiri¬tum caritas mortuus spiritus careo christum sensibilis corpus fides informis credo christus loquor evangelium daemo¬nes contremisco chri¬stum vivus vito sentio spiritus rational intellego receptibilis dico2 experior spiritus christus cor interior homo experior motus desiderium moueo desiderium christiformis puto moueo desiderium oboedientia deus inclino mors ardeo divinus praecipio pareo gau¬des adversitas patera so¬lum placeo dico2 ago debeo sentio spiritus atten¬dere debeo vocatio curro diligenter comprehensio pervenio apostolus curro com¬prehendatis loquor curro tendo finis canonicus finis curro debeo ta¬liter comprehendo cursus christiani via dirigo comprehensio voco curratis canonici curro dubito canonicus cur¬rere debeo nomen respicio canon graeca regula latina canonicus regula regularis canonum observo vivo moveo curro debeo regula men¬sura rectitudo justitia mensuret ca¬nonicus cursus rectus canonum observo invenio scio via comprehensio consisto rectitudo regulando motus concupiscentia ani¬mal trinus elatio avaritia luxuria religio reprimo mundo immaculatus regula oboedi¬entiae dominor motui elatio superbia regula paupertas avaritia regula castitas luxuria christianus regula evangelica dirigo dominor concupiscen¬tia ordo canonici veto particularius canones astrinxerunt divinus laus vaco sacrarium ope¬raris statuo sacrarium edo1 apostolus curro comprehensio debeo agon cur¬su bravii cum2 summus vigilo cura certo2 bonus aurum desiderabilis mundus corona honor assequenda linquo im¬pedientia deonerat curro et¬iam aurum pondus impedio gloria memoria laus mors immortalitas imagi¬nem sensibilis mors subeo ago debeo immortalitas compre¬hendere satagens imago veritas agonizaris debeo cum2 mundus certo2 vinco mori¬endum contendo oportet christianum victoria mundus rex coheres christus mundus vincio spiritus christus mundus accidioso zeloso oboedio vigilantissi¬mo mors mors crux de¬spectuosissimam verus agonista linquo anima vita as¬sequatur bravium verus immortalitas incor¬ruptibilis corona oboedio evangelium visitatio directio necessarius audi¬stis lectio apostolicae bulla sa¬lute committo paucus ex¬planatio thema praemitto deus nomen accedo', 'dies sanctifico illucesco liber sermo nosco expono invenio homo humaniter gero in¬fans textus2 pono praesaepe scio species']\n"
     ]
    }
   ],
   "source": [
    "from tqdm import tqdm\n",
    "\n",
    "# 加载测试集文档\n",
    "testset_dir = os.path.join(BASE_DIR, 'data/berttest')\n",
    "documents = []\n",
    "\n",
    "logger.info(\"加载测试集数据...\")\n",
    "test_files = [f for f in os.listdir(testset_dir) if f.endswith('.txt')]\n",
    "for test_file in tqdm(test_files, desc=\"Loading testset files\"):\n",
    "    file_path = os.path.join(testset_dir, test_file)\n",
    "    with open(file_path, 'r', encoding='utf-8') as file:\n",
    "        documents.append(file.read())\n",
    "\n",
    "logger.info(f\"加载了 {len(documents)} 个文档用于 BERTopic 实验。\")\n",
    "print(documents[:5])\n"
   ]
  },
  {
   "cell_type": "code",
   "execution_count": null,
   "metadata": {},
   "outputs": [
    {
     "name": "stdout",
     "output_type": "stream",
     "text": [
      "Generating embeddings for documents...\n"
     ]
    },
    {
     "name": "stderr",
     "output_type": "stream",
     "text": [
      "2024-11-08 22:37:32,222 - INFO - 开始训练 BERTopic 模型...\n"
     ]
    },
    {
     "name": "stdout",
     "output_type": "stream",
     "text": [
      "Starting BERTopic model training...\n",
      "Intel MKL WARNING: Support of Intel(R) Streaming SIMD Extensions 4.2 (Intel(R) SSE4.2) enabled only processors has been deprecated. Intel oneAPI Math Kernel Library 2025.0 will require Intel(R) Advanced Vector Extensions (Intel(R) AVX) instructions.\n"
     ]
    },
    {
     "name": "stderr",
     "output_type": "stream",
     "text": [
      "OMP: Info #276: omp_set_nested routine deprecated, please use omp_set_max_active_levels instead.\n"
     ]
    }
   ],
   "source": [
    "# 初始化 BERTopic 模型，不设置 embedding_model\n",
    "topic_model = BERTopic(\n",
    "    embedding_model=None,  # 不使用默认的嵌入模型\n",
    "    vectorizer_model=vectorizer_model,\n",
    "    umap_model=custom_umap,\n",
    "    min_topic_size=experiment_config[\"parameters\"][\"min_topic_size\"],\n",
    "    nr_topics=experiment_config[\"parameters\"][\"nr_topics\"],\n",
    "    language=None  # 禁用语言特定的嵌入\n",
    ")\n",
    "\n",
    "# 手动生成嵌入\n",
    "print(\"Generating embeddings for documents...\")\n",
    "custom_embeddings = get_mbert_embeddings(documents)\n",
    "\n",
    "# 使用手动生成的嵌入进行主题模型训练\n",
    "if documents:\n",
    "    print(\"Starting BERTopic model training...\")\n",
    "    logger.info(\"开始训练 BERTopic 模型...\")\n",
    "    \n",
    "    # 将生成的 numpy 格式的自定义嵌入传入 fit_transform\n",
    "    topics, probabilities = topic_model.fit_transform(documents, embeddings=custom_embeddings)\n",
    "    logger.info(\"BERTopic 模型训练成功。\")\n",
    "    print(\"BERTopic model training completed.\")\n",
    "    \n",
    "    # 可视化和保存结果\n",
    "    topics_info = topic_model.get_topic_info()\n",
    "    for topic_num in topics_info['Topic'][:10]:  # 输出前 10 个主题\n",
    "        if topic_num != -1:\n",
    "            words_weights = topic_model.get_topic(topic_num)\n",
    "            words_str = ', '.join([word for word, _ in words_weights])\n",
    "            print(f\"主题 {topic_num}: {words_str}\")\n",
    "            logger.info(f\"主题 {topic_num}: {words_str}\")\n",
    "\n",
    "    # 保存文档的主题分配结果\n",
    "    document_topic_data = []\n",
    "    for doc_idx, (topic, prob) in enumerate(zip(topics, probabilities)):\n",
    "        document_name = os.path.basename(test_files[doc_idx])\n",
    "        document_topic_data.append([document_name, topic, prob])\n",
    "\n",
    "    df_document_topics = pd.DataFrame(document_topic_data, columns=[\"Document\", \"Assigned Topic\", \"Probability\"])\n",
    "    document_topics_csv_path = os.path.join(experiment_dir, 'bertopic_document_topic_distribution.csv')\n",
    "    df_document_topics.to_csv(document_topics_csv_path, index=False)\n",
    "    logger.info(f\"每个文档的主题分配结果已保存至 {document_topics_csv_path}。\")\n"
   ]
  },
  {
   "cell_type": "code",
   "execution_count": null,
   "metadata": {},
   "outputs": [],
   "source": [
    "# 保存可视化图表为 HTML 文件\n",
    "try:\n",
    "    topics_fig_path = os.path.join(experiment_dir, 'bertopic_topics.html')\n",
    "    fig = topic_model.visualize_topics()\n",
    "    fig.write_html(topics_fig_path)\n",
    "    logger.info(f\"主题可视化图表已保存至 {topics_fig_path}\")\n",
    "\n",
    "    # 生成并保存层次聚类图表\n",
    "    fig_hierarchy = topic_model.visualize_hierarchy()\n",
    "    fig_hierarchy.show()\n",
    "    hierarchy_fig_path = os.path.join(experiment_dir, 'bertopic_hierarchy.html')\n",
    "    fig_hierarchy.write_html(hierarchy_fig_path)\n",
    "    logger.info(f\"层次聚类图表已保存至 {hierarchy_fig_path}\")\n",
    "except Exception as e:\n",
    "    logger.error(f\"保存可视化图表时发生错误: {e}\")\n",
    "    raise"
   ]
  },
  {
   "cell_type": "raw",
   "metadata": {
    "vscode": {
     "languageId": "raw"
    }
   },
   "source": [
    "# Step 10: 评估模块\n",
    "try:\n",
    "    logger.info(\"开始评估 BERTopic 模型...\")\n",
    "\n",
    "    # 提取每个主题的前10个关键词\n",
    "    bertopic_topics = []\n",
    "    for topic_num in range(len(topic_model.get_topics())):\n",
    "        topic = topic_model.get_topic(topic_num)\n",
    "        if topic:  # 确保 topic 不是布尔值\n",
    "            bertopic_topics.append([word for word, _ in topic])\n",
    "\n",
    "    # 使用 gensim.corpora.Dictionary 创建词典\n",
    "    texts = [doc.split() for doc in documents]\n",
    "    dictionary = corpora.Dictionary(texts)\n",
    "\n",
    "    # Step 10.1: 计算主题一致性（Topic Coherence） - TC-NPMI\n",
    "    logger.info(\"计算主题一致性 (TC-NPMI)...\")\n",
    "    coherence_model_npmi = CoherenceModel(topics=bertopic_topics, texts=texts, dictionary=dictionary, coherence='c_npmi')\n",
    "    coherence_score_npmi = coherence_model_npmi.get_coherence()\n",
    "    logger.info(f\"平均主题一致性 (TC-NPMI): {coherence_score_npmi}\")\n",
    "    print(f\"平均主题一致性 (TC-NPMI): {coherence_score_npmi}\")\n",
    "\n",
    "    # Step 10.2: 计算主题一致性（Topic Coherence） - TC-LCP\n",
    "    logger.info(\"计算主题一致性 (TC-LCP)...\")\n",
    "    coherence_model_lcp = CoherenceModel(topics=bertopic_topics, texts=texts, dictionary=dictionary, coherence='c_uci')\n",
    "    coherence_score_lcp = coherence_model_lcp.get_coherence()\n",
    "    logger.info(f\"平均主题一致性 (TC-LCP): {coherence_score_lcp}\")\n",
    "    print(f\"平均主题一致性 (TC-LCP): {coherence_score_lcp}\")\n",
    "\n",
    "    # Step 10.3: 计算平均成对 Jaccard 相似度（Mean Pairwise Jaccard Similarity）\n",
    "    logger.info(\"计算平均成对 Jaccard 相似度 (MPJ)...\")\n",
    "\n",
    "    @jit(nopython=True)\n",
    "    def jaccard_similarity(set1, set2):\n",
    "        intersection = set1 & set2\n",
    "        union = set1 | set2\n",
    "        return len(intersection) / len(union) if union else 0\n",
    "\n",
    "    @jit(nopython=True)\n",
    "    def calculate_avg_jaccard(bertopic_topics):\n",
    "        jaccard_scores = []\n",
    "        for i in range(len(bertopic_topics)):\n",
    "            for j in range(i + 1, len(bertopic_topics)):\n",
    "                jaccard_scores.append(jaccard_similarity(set(bertopic_topics[i]), set(bertopic_topics[j])))\n",
    "        return np.mean(jaccard_scores)\n",
    "\n",
    "    avg_jaccard = calculate_avg_jaccard(bertopic_topics)\n",
    "    logger.info(f\"平均成对 Jaccard 相似度 (MPJ): {avg_jaccard}\")\n",
    "    print(f\"平均成对 Jaccard 相似度 (MPJ): {avg_jaccard}\")\n",
    "\n",
    "    # Step 10.4: 高频词汇分布分析\n",
    "    logger.info(\"进行高频词汇分布分析...\")\n",
    "\n",
    "    # 统计所有文档中的词频\n",
    "    word_freq = collections.Counter([word for doc in documents for word in doc.split()])\n",
    "\n",
    "    # 获取高频词汇\n",
    "    high_freq_words = set([word for word, freq in word_freq.most_common(50)])\n",
    "\n",
    "    # 检查每个主题中高频词汇的比例\n",
    "    high_freq_word_ratios = []\n",
    "    for topic in bertopic_topics:\n",
    "        high_freq_count = sum(1 for word in topic if word in high_freq_words)\n",
    "        high_freq_word_ratios.append(high_freq_count / len(topic))\n",
    "\n",
    "    avg_high_freq_word_ratio = np.mean(high_freq_word_ratios)\n",
    "    logger.info(f\"平均高频词汇比例: {avg_high_freq_word_ratio}\")\n",
    "    print(f\"平均高频词汇比例: {avg_high_freq_word_ratio}\")\n",
    "\n",
    "    # 保存评估结果\n",
    "    evaluation_results_path = os.path.join(experiment_dir, 'bertopic_evaluation_results.txt')\n",
    "    with open(evaluation_results_path, 'w') as eval_file:\n",
    "        eval_file.write(f\"平均主题一致性 (TC-NPMI): {coherence_score_npmi}\\n\")\n",
    "        eval_file.write(f\"平均主题一致性 (TC-LCP): {coherence_score_lcp}\\n\")\n",
    "        eval_file.write(f\"平均成对 Jaccard 相似度 (MPJ): {avg_jaccard}\\n\")\n",
    "        eval_file.write(f\"平均高频词汇比例: {avg_high_freq_word_ratio}\\n\")\n",
    "\n",
    "    logger.info(f\"BERTopic 模型评估结果已保存至 {evaluation_results_path}\")\n",
    "except Exception as e:\n",
    "    logger.error(f\"评估 BERTopic 模型时发生错误: {e}\")\n",
    "    raise"
   ]
  }
 ],
 "metadata": {
  "kernelspec": {
   "display_name": "cusanus_py310",
   "language": "python",
   "name": "python3"
  },
  "language_info": {
   "codemirror_mode": {
    "name": "ipython",
    "version": 3
   },
   "file_extension": ".py",
   "mimetype": "text/x-python",
   "name": "python",
   "nbconvert_exporter": "python",
   "pygments_lexer": "ipython3",
   "version": "3.10.15"
  }
 },
 "nbformat": 4,
 "nbformat_minor": 2
}
