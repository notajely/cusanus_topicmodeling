{
 "cells": [
  {
   "cell_type": "code",
   "execution_count": null,
   "metadata": {},
   "outputs": [],
   "source": [
    "import os\n",
    "import time\n",
    "import logging\n",
    "import pickle\n",
    "import tqdm\n",
    "import json\n",
    "from bertopic import BERTopic\n",
    "from sklearn.feature_extraction.text import CountVectorizer\n",
    "from umap import UMAP\n",
    "from transformers import AutoTokenizer, AutoModel\n",
    "import torch\n",
    "import pandas as pd"
   ]
  },
  {
   "cell_type": "code",
   "execution_count": null,
   "metadata": {},
   "outputs": [],
   "source": [
    "# 设置工作目录\n",
    "BASE_DIR = '/Users/jessie/Documents/Projects/Cusanus_Topic_Modeling'"
   ]
  },
  {
   "cell_type": "code",
   "execution_count": 62,
   "metadata": {},
   "outputs": [
    {
     "name": "stderr",
     "output_type": "stream",
     "text": [
      "2024-11-08 00:51:55,768 - INFO - 启动实验 bertopic_experiment_1731023515，日志记录到 /Users/jessie/Documents/Projects/Cusanus_Topic_Modeling/experiments/bertopic_experiment_1731023515/bertopic_experiment_bertopic_experiment_1731023515.log\n"
     ]
    },
    {
     "name": "stdout",
     "output_type": "stream",
     "text": [
      "启动实验 bertopic_experiment_1731023515，日志记录到 /Users/jessie/Documents/Projects/Cusanus_Topic_Modeling/experiments/bertopic_experiment_1731023515/bertopic_experiment_bertopic_experiment_1731023515.log\n"
     ]
    }
   ],
   "source": [
    "# 生成唯一实验ID\n",
    "experiment_id = f\"bertopic_experiment_{int(time.time())}\"\n",
    "experiment_dir = os.path.join(BASE_DIR, 'experiments', experiment_id)\n",
    "\n",
    "# 创建实验目录\n",
    "if not os.path.exists(experiment_dir):\n",
    "    os.makedirs(experiment_dir)\n",
    "\n",
    "# 获取当前 experiment_id 的日志文件路径\n",
    "log_file_path = os.path.join(experiment_dir, f\"bertopic_experiment_{experiment_id}.log\")\n",
    "\n",
    "# 配置日志记录，使每个实验的日志记录到独立的文件中\n",
    "logger = logging.getLogger()\n",
    "if logger.hasHandlers():\n",
    "    logger.handlers.clear()  # 清除现有的处理器，避免重复添加\n",
    "\n",
    "logger.setLevel(logging.INFO)\n",
    "formatter = logging.Formatter(\"%(asctime)s - %(levelname)s - %(message)s\")\n",
    "\n",
    "# 添加文件日志处理器\n",
    "file_handler = logging.FileHandler(log_file_path)\n",
    "file_handler.setFormatter(formatter)\n",
    "logger.addHandler(file_handler)\n",
    "\n",
    "# 添加控制台日志处理器\n",
    "console_handler = logging.StreamHandler()\n",
    "console_handler.setFormatter(formatter)\n",
    "logger.addHandler(console_handler)\n",
    "\n",
    "# 确保在配置 logging 后马上打印一条信息，便于确认新的日志文件被创建\n",
    "logger.info(f\"启动实验 {experiment_id}，日志记录到 {log_file_path}\")\n",
    "print(f\"启动实验 {experiment_id}，日志记录到 {log_file_path}\")"
   ]
  },
  {
   "cell_type": "code",
   "execution_count": 63,
   "metadata": {},
   "outputs": [
    {
     "name": "stderr",
     "output_type": "stream",
     "text": [
      "2024-11-08 00:51:55,791 - INFO - 实验配置已保存到 /Users/jessie/Documents/Projects/Cusanus_Topic_Modeling/experiments/bertopic_experiment_1731023515/config.json\n"
     ]
    },
    {
     "name": "stdout",
     "output_type": "stream",
     "text": [
      "实验配置已保存到 /Users/jessie/Documents/Projects/Cusanus_Topic_Modeling/experiments/bertopic_experiment_1731023515/config.json\n"
     ]
    }
   ],
   "source": [
    "# 实验配置\n",
    "experiment_config = {\n",
    "    \"parameters\": {\n",
    "        \"n_gram_range\": (1, 2),\n",
    "        \"min_topic_size\": 2,\n",
    "        \"nr_topics\": \"auto\",\n",
    "        \"umap_params\": {\n",
    "            \"n_neighbors\": 15,\n",
    "            \"min_dist\": 0.1,\n",
    "            \"n_components\": 5,\n",
    "            \"random_state\": 42\n",
    "        }\n",
    "    }\n",
    "}\n",
    "\n",
    "config_path = os.path.join(experiment_dir, 'config.json')\n",
    "with open(config_path, 'w') as config_file:\n",
    "    json.dump(experiment_config, config_file, indent=4)\n",
    "\n",
    "logger.info(f\"实验配置已保存到 {config_path}\")\n",
    "print(f\"实验配置已保存到 {config_path}\")"
   ]
  },
  {
   "cell_type": "code",
   "execution_count": 64,
   "metadata": {},
   "outputs": [
    {
     "name": "stderr",
     "output_type": "stream",
     "text": [
      "2024-11-08 00:51:55,803 - INFO - 加载 Latin-BERT 嵌入模型...\n"
     ]
    }
   ],
   "source": [
    "# 加载预训练的 Latin BERT 模型\n",
    "logger.info(\"加载 Latin-BERT 嵌入模型...\")\n",
    "model_path = \"/Users/jessie/Documents/Projects/Cusanus_Topic_Modeling/latin-bert/models/latin_bert\"\n",
    "tokenizer = AutoTokenizer.from_pretrained(model_path)\n",
    "bert_model = AutoModel.from_pretrained(model_path)\n",
    "\n",
    "def get_embeddings(texts):\n",
    "    \"\"\"\n",
    "    使用 Latin-BERT 模型为文本生成嵌入。\n",
    "    \"\"\"\n",
    "    tokens = tokenizer(\n",
    "        texts, padding=True, truncation=True, return_tensors=\"pt\", max_length=512\n",
    "    )\n",
    "    with torch.no_grad():\n",
    "        embeddings = bert_model(**tokens).last_hidden_state.mean(dim=1)  # 取最后一层的平均表示\n",
    "    return embeddings"
   ]
  },
  {
   "cell_type": "raw",
   "metadata": {
    "vscode": {
     "languageId": "raw"
    }
   },
   "source": [
    "\n",
    "# 加载预训练的 paraphrase-xlm-r-multilingual-v1 模型\n",
    "model_path = os.path.join(BASE_DIR, 'saved_models', 'paraphrase-xlm-r-multilingual-v1')\n",
    "if os.path.exists(model_path):\n",
    "    logger.info(f\"从本地路径 {model_path} 加载 paraphrase-xlm-r-multilingual-v1 模型作为嵌入模型...\")\n",
    "    embedding_model = SentenceTransformer(model_path)\n",
    "else:\n",
    "    logger.info(\"加载 paraphrase-xlm-r-multilingual-v1 模型作为嵌入模型...\")\n",
    "    embedding_model = SentenceTransformer('paraphrase-xlm-r-multilingual-v1')\n",
    "    embedding_model.save(model_path)\n",
    "    logger.info(f\"嵌入模型已保存到本地路径 {model_path}\")"
   ]
  },
  {
   "cell_type": "code",
   "execution_count": 65,
   "metadata": {},
   "outputs": [],
   "source": [
    "# 创建 CountVectorizer 和 UMAP\n",
    "vectorizer_model = CountVectorizer(\n",
    "    ngram_range=experiment_config[\"parameters\"][\"n_gram_range\"],  # 可调整的 n-gram 范围\n",
    "    token_pattern=r\"(?u)\\b\\w+\\b\"\n",
    ")\n",
    "custom_umap = UMAP(\n",
    "    n_neighbors=experiment_config[\"parameters\"][\"umap_params\"][\"n_neighbors\"],\n",
    "    min_dist=experiment_config[\"parameters\"][\"umap_params\"][\"min_dist\"],\n",
    "    n_components=experiment_config[\"parameters\"][\"umap_params\"][\"n_components\"],\n",
    "    random_state=experiment_config[\"parameters\"][\"umap_params\"][\"random_state\"]\n",
    ")\n"
   ]
  },
  {
   "cell_type": "raw",
   "metadata": {
    "vscode": {
     "languageId": "raw"
    }
   },
   "source": [
    "# 检查嵌入生成\n",
    "sample_text = [\"Gallia est omnis divisa in partes tres.\"]\n",
    "embeddings = get_embeddings(sample_text)\n",
    "print(embeddings)"
   ]
  },
  {
   "cell_type": "code",
   "execution_count": 66,
   "metadata": {},
   "outputs": [
    {
     "name": "stderr",
     "output_type": "stream",
     "text": [
      "2024-11-08 00:51:56,561 - INFO - 加载测试集数据...\n",
      "Loading testset files: 100%|██████████| 61/61 [00:00<00:00, 224.61it/s]\n",
      "2024-11-08 00:51:56,846 - INFO - 加载了 61 个文档用于 BERTopic 实验。\n",
      "2024-11-08 00:51:56,847 - INFO - 文档列表包含 61 个文档。\n"
     ]
    },
    {
     "name": "stdout",
     "output_type": "stream",
     "text": [
      "['induimini dominus iesum christum romanus epistula dominicus quoad intellego aliqual iesus secundus adam filius deus andreas declaro aegeae lego his¬toria lombardica tertius folium considero epistula aposto¬lus hora somnus surgo probo apostolus dilectio com¬pletio lex prae¬cepto dilectio propior complicantur om¬nia quoad propior subjungo plenitudo lex dilectio scio hora somnus sur¬gere dilectio plenitudo lex scio surgen¬dum somnus vigilanter attenden¬dum propior salus cum2 credo expono tempus credo fides recipio salus mors christus conformabimur exspecto dico2 credo salus lex spiri¬tualiter intellego scien¬tes spiritual intellego dilectio¬nem propior salus unus mando1 dilectio adimpleo diligo nolo malus infero salus intel¬lectu diligo removeo difficilis potestas pauper dives nobilis ignobilis graecus barbaris diligo plenitu¬do lex deus adimplemus mandatum ser¬vamus vita ingredior salus magister veritas volo1 vita ingredior servo mandatum somnus sopor teneo dilectio plenitudo lex ignoro peccatum te¬nebra obfuscatio mens peccatum moueo inor¬dinatus amor moueo anima mo¬vetur ordino moveo rectus justus amo deus pro¬ximum inordinatus moveo reflexe curvus retorquendo om¬nia diligo finis con¬stituat surgo peccatum mortalis somnus orior spiritus calor desero2 expando exter contraho interior vigil verus dif¬fusio spiritus exter somnus di¬citur peccatum similitudo som¬nus immobilitat motus immobilitat sensus immobilitat ago immobilitat in¬fluxum moueo procedo cor prop¬ter finis finis bonus hiis finis sanitas bonus medicina cor¬pus indumentum gratia poenitentia peccatum immobilitat aufero mo¬tum cum2 deus finis ulter moueo homo finis dimitto constituo pec¬cator finis particularis luxuriosus luxuria moveo avarus pecunia superbus vanus gloria finis homo vilis peccatum aufero motus immobilitat sensus sensus rivulis procedo sentio com¬muni resideo primus pars cerebrum fumus ascendo cerebrum infrigidantur condenso claudeo spiritus rivulorum sensus2 immobilitatur sensus peccator sentio sensus tango iudico lenis1 pun¬git gustus iudico dulcis amaris olefactus sentio foe¬tor pecco puteo plenus foetor corpus sentio audio faber audio magnus clamor peccator deus mors praedicator ami¬cos audio ammonent lucidus judico tenebrosus bonus malus peccatum immobilitat ago som¬nus meritorium natural sci¬licet augeo nutrio rational sci¬licet consiliaris gubernaris publicus meritorium separo gratia deus mereo immobilitat influxum gra¬tiae caput ecclesia iesus corpus peccator membrum abscido corpus somnus pecco assimilatur ratio generatio ratio privatio ra¬tio operatio ratio apparitio genero somnus vapor as¬cendentibus occupatio spiritus evaporatio caro orior peccatum concupisco caro oculus superbia vita infrigidatur sensus communis somnus origo sensus2 peccator careo origo virtus meritor ratio privatio somnus homo privo actus intelligentiae ligo1 vireo1 animal pecco ma¬ximae luxuria intellego visio somnus appareo peccator visio ap¬paret bonus apostolus surgo dormio ex¬surge morior som¬num assimilaris pecco hora somnus surgo considero salus salvator venio salus radius illuminans nox tenebrae detineo radius dies efficio descendo sol recedo verbum sapientia pater sapientia magister illuminan¬dum discipulus nox ignorantia existen¬tes mens descendo medium verbum maneo magister sedeo tenebrae um¬bra mors lux orior magnus af¬fert laetitia radius illuminans dulcis delectabilis lumen oculus nox gravis infirmis dies alleviat venio salvator canto ambrosius1 hymnus dominicus advenio salvator infirmis iu¬cundissimus advenio sponsus sponsa sponsus procedo thalamus cum2 venio rex nos¬ter mansuetus abicio debeo opus te¬nebraris vitio fugio lu¬cem fur odi lux sordidus debe¬mus lavaris proicio tenebrosus nox induo splendidus arma lucus arma princeps tenebraris arma lucus veritas occurro debeo bene mundo orno arma splendeo rex dies natalis honestus ambulo debeo po¬nere festivitas advenio vita comessatio ebrietas cubilis vito anima esca potus2 gratia pax induo debeo iesum christum induo iesum christum abicio tenebrae praecedo nox animalita¬tem primus adae assumo arma lucus honestas ambulo dies opus manifesto2 specto pos¬sunt lucidus honestus deus mundus laudabilis complicetur vito iesus humilis mitis mansueto rex christus conformo re¬periet requies anima testor attingo vita quaero immortal necesse chri¬stum induamus induo nequi¬mus prior abicio opus tenebra¬rum incoho tempus ad¬ventus dominus venio spi¬ritus spiritus nasco deside¬ria caro necesse abicio spi¬ritus iesus nascor desiderium caro desiderium caelestis virtuosis incorruptibilis adjuvo memoria beatus an¬dreae apostolus cum2 discipulus io¬hannis audio iohannes baptista dice¬bat agnus deus quaero maneo nox frater petro1 revelo iesum messiam redeo officium pis¬catio cum2 frater delinquo mens ie¬sum stagnum genezareth frater petrus servio magister volo iesus intimiores dome¬stici ambulo secus mare mitto reor mare voco penitus relinquo adhaereo verbum vita andreas penitus induo ie¬sum sequor maximus desiderium desidero morior prout magister christus crux mortuus achaia magnus fructus crux aegea biduus populus praedico1 cum2 lux caelestis spiritus reddo volo uxor aegeae maximilla deus amabilis honorificus sepelio mitis humilis cor andreas spiritus iesus crux gloria praedico1 praedicatio obeo testimonium perhi¬buit iesum induo sequor', 'thesaurus cor evangelium locus iustus iustus iustitia albus albus al¬bedo christianus christianus christus christus maneo volo necessarius induamus induo maneo comessatio ebrietas cubilis im¬puditiis ambulo ambulo volo1 iustus studeo induo iustitia vo¬lens calidus induo caliditas thesaurus volo calidus certus ignis calidum reperio om¬nia participatio ignis calidum plenitudo ignis thesaurus recipio calidum caliditas christus plenitudo gratia plenitudo gratia ad-sequor recipio calor1 fomentum vi¬tae sensibilis calidus umidus consisto gratia pasco spiritus gratia ra¬dius sol justitia christus deus vivo amo amo gratia amo christianus verus christianus vivo gratia chri¬sti studium quaero assimilaris diligo cupio thesaurus verus christiani christus cor locus reperio christus verus minister christus minister locus sequor minister se¬quitur christum mors cum2 christus resurrectio incoho ieiunium quadragesimal ecclesia institus spiritus christus moveo christus apostolus successo¬ribus rector ecclesia audio au¬dit christus praecipio custodio amo amo praeceptum cum2 gaudium recipio stringo servo fomentum vita amplector vivo amo lex amo ecclesia rector ecclesia jejuno christus quadraginta dies nox christianus ieiunaris debeo christus actium instruc¬tio edo1 ieiunaris dies nox tene¬mur bonus ieiu¬naris validus obligaremur saltem solutio teneo evangelium hau¬rire debeo praeceptum jejunium praeceptum christus poena pecco mortalis cum2 humilitas mens delectatio sus¬cipere debeo dominicus propior tango caritas virtus christus vito praecipio vita praecipio qui¬bus spiritus vivo cupio cum2 alacritas pareo vita oppono mors ruo displicenter capio confero spiritus liber voluntas involuntarium intro2 intro2 vivifico doceo hypocrisin spiritus christus validus adversaris spiritus christus ar¬det amor deus contemno spiri¬tus hypocrita vanitas spiritus ardeo amor contemno deus finis opus deus solus finis opus spiritus iesus quaero gloria su¬am deus gaudeo gloria deus impendeo apostolus gaudeo conspectus concilium dignus nomen iesus contumelia patior cum2 jejuno nolo hy¬pocritae tristis conrumpo appareo homo jejuno hy¬pocritae judico gloriosus ieiunaris homo conrumpo macilentia appareo homo jejuno vanus gloria curo spiritus vanus gloria validus adverso christus veritas ho¬die dominor totus christianitas ap¬proximat antichristus proprius mansio sano oculus intueor sta¬tum christianitas vanitas reperio veritas vereor vita christus princeps praefero religiosus saecularis adverto bonus appareo potis timeo sententia christus amen recipio merces bonus bene opus mereo recipio gloria opero assecutu¬rum credo homo sequor cum2 jejuno ungo caput lavo homo jejuno intendo de¬bere finis gloria deus pater ungo caput lavaris signum laetitia ieiu¬nantes mundus ostendo appareo tri¬stes mundus iudico jejuno solus deus nitor complacere considero sequor pater abscon¬so verus jejuno debeo curo vide¬atur jejuno pater ieiu¬nantis deus absconso signum sensibilis mundus intueor cor scru¬tator cordium consequenter pater absconso reddo servio merces haurio littera ieiunium fie¬ri utilitas sanitas augmentum intelli¬gentiae prolongatio vita deus retributio ieiunium poenitentia homo affligendo corpus motus concupiscentia caro oculus superbi¬am vita mortificaris finis amo¬ri divino spiritus quiesco vacaris ioel propheta instruo poenitentem necesse converto dominus converto peccator secundus concupiscentia ambulo deus incommutabilis recedo corruptibilis uniendo necesse doleo converto deus mercator lucrum infirmis sa¬nitas vanus gloriosus miles tole¬rant torneamentis hastiludiis mulier pompaticae laus homo mos bestia poenitere debeo tole¬rant vivo nutrio daemon jejuno vigilo la¬borant perverto intentio propheta totus cor debeo poenitentia integer voluntarius proprius cor debeo asper jejunium dolorosa fleo internus scindo cor vehemens debeo contritio scindo cor debeo concurro poenitentia ieiunantis sequor evangelium nolo thesaurizaris thesaurus terra aerugo tinea de¬molitur furo effodio furo hypo¬crita avarus peccator thesaurizo terra deus dirigo cor desiderium deus nihilum corruptibilis aerugo tinea perdibilis furtum oblivio thesaurizo thesaurus caelum aerugo tinea demolio furo effodio furo incorruptibilis caelum timor perditio repono locus lo¬catum locus conservo loco id¬eo aeternitas pereo locus cum2 locus conservativus loco aeternitas incorruptibi¬litas conservo aeternitas recondo aeternaliter christus loquor spiritualiter verbum spiritus vito subjungo thesaurus cor cor voluntas diligo thesaurus amo appeto1 voluntas amo thesaurus pater abscondo pater caelis caelum celo abs-condio voluntas volo bonus amo bonus bonus absolvo infinitus the¬saurus chordus1 justus recingo', 'verus filius deus jesus potestas pono sumo anima verus filius deus primus evangelium resurrectio approbo testimonium creaturis caelestis terrestris infernal caelestis angelus terrestris terra tremo infernal duo filius sime¬onis justus surgo argumentum gustus tango manus gustus manduco1 tango palpo1 approbo indicium signum passio¬nis corpus ostendo infero digitus1 perficio comitivam corpus hora diliculo nox circumstantia tertius dies necesse chris¬tum resurgo perficio con¬summatum solutio convenio christum resurgo complementum perfectio mereo humiliatio obicio delec¬tatio argumentum obsto car¬cere exsisto indigeo primus redimo vestio resurrectio necessarius per¬fectio natura exsecutio iustiti¬ae fruitio gloria confor¬tatio fiducia modus dico2 resur¬rexit corono orno fortificatus primus egredior filia sion corona flos floreo appareo terra surgo orno lumen surgo armo impassibilitas fortificatus agilitas subtilitas considero johannes evan¬gelista scribo jesus signum miraculum fe¬cit credo filius deus ostendo argumentum crucifixio vivo credo filius deus apostolus testis resurrectio actus2 apostolus resurrectio capio testimonium resurgo te¬stantur colloquium comissatio filius deus pono ani¬mam sumo dubito bene considero christus miraculum mors ostendo mortal natura unitam immortal resurrectio ostendo mor¬tal absorptam immortal depositio mortalitas miraculum mors ma¬nifesta humanitas credo occulo divinitas argumentum resurrectio¬nem manifestus divinitas crede¬retur occulo humanitas intro2 jesus janua claudo discipulus credo propterea natura humanus ostendo natura convenio humanus loquor comedo cum2 dubito humanus natura chri¬sto mors divino dubi¬um argumentum ostendo opus homo dubito deus immortal bene dubito natura divino oc¬cultata humanus ostendo argumentum concludebant apostolus testimonium sanguis perhibeo resurgo homo dubito', 'dominus christum sanctifico cor petri epistula dominicus cur¬rentis evangelium festus1 aliquoties sacer brevis loquor longus venio redeo festino in¬stantem messis sermo patronus bea¬tissimi princeps apostolus epistula dominicus lego2 aedi¬ficatio explanantes evangelium dominicus loquor piscator petrus capio verbum reor laxo piscator homo narro christum duco navis altus sanctus expono profunditas intelli¬gentiae scripturaris epistula haurio navo fides duco altus capio piscis magnus primus exhortor unani¬mes unanimitas glossator fides oratio missal refero credo debeo cor unus anima unus fides unus verbum deus pater fides unus unit creden¬tes homo fides christus christiani dico2 christus divido uniti membrum unus caput unus intentio animus cum2 volo1 unita fortis dis¬persa fortitudo fides requiro uni¬tas vigor oratio oratio¬nem fides credo spero spero amo ama¬tur desidero peto volo petrus instruo volo publicus salus impetro primus un¬animes fides haesito doctrina chri¬sti peto accipio cum2 magnus fides publicus salus impetro conveniamus unanimiter oro oratio persevero salus assequor christus cum2 oro cubiculum doceo hypocrisis fugio privo oratio occulo publicus au¬tem oratio domus deus domus oratio deus ecclesia unanimitas oratio attentio devo¬tio totus adsum animus impetro pulso persevero pulso importunus impetro christus doceo lucae oratio volo2 spiritus ala duo ieiu¬nium caro attenuando elemosynam exter alleviando oro chri¬stum pater mediator deus homi¬num intercessor reverendus exaudio mereo exaudio au¬tem oro doceo exter vita periculum constituo absolvo peto iu¬dice occaedes iustitia lacrimosas oratio pro-volvo terra humilis intermissio clamo totus cor misericordia fors beatus petrus loquor ora¬tio antiquus liber excipio missal terminus simplex unanimi¬tas persuadeo addico compati¬entes offendo1 compatientes debeo dimitto debeo unanimis divisio ira rixo amator fra¬ternitas amor fraternitas debeo compassio adversitas tollo unanimitas inviolo maneo sequor misericors alterut¬rum modestus irrito1 humilis reputo servo pax unitas magnus reddo malus malus maledico maledico contrarius maledico benedico voco benedictio hae¬reditas possideo teneo allego1 prophetia david volo vita longus iocundam dili¬gere dies bonus laetus1 debeo maledico absque freno lingua per¬mittere coerceo debeo malus la¬bia loquor dolus declinaris debeo malus bonus inquiro pax sequor justus incedo protectio deus oculus dominus iustus regio justitia deus praesum existit deus oculus protectio derelinquo iustus regnum deus regnum immortalitas iustitia immortal virtus anima induo fides vivo immortalitas vereor realiter immortalitas possideo iustus prex fundo1 deus valeo justus deprecatio auris deus prex iustor inclino oculus sensibilis sensibilis auris sensibilis sensibilis audio deus absolvo iustitia oculus justitia iustus auris justitia iustus percipio opor¬tet dator vita militaris volo servio justus justitia deus homo adae evae iusti¬tiae original voco regnum su¬um immortalitas donum ami¬serunt mors ruo oportet denuo iustitia induo felicitas perve¬nire cupio credo deus lateo malus opus iniustus subdo vultus dominus malus protego perdo terra memoria conforto bonus noceo bonus aemulator bonus aemula¬tor deus aemulator absolvo bonitas absolvo bonus deus eximo nocumento patior iustitia beati patior noceo beati¬ficat timor timeo conturbo quae¬runt iustitia noceo conturbo timor conturbo iustus conturbo iniuria justus iustus iustus volo iustitia solus appeto1 solus delectabilis vivo morior oculus inspicientium morior mors iustitia intro2 sequor dominus christum sancti¬ficate cor cor sanctifi¬cat christum iustitia curo morior', 'accipio stas salvo corinthios epistula curro dominicus pontifex magnus jesus christus penetro caelus pontifex ec¬clesia catholicus sponsa acquisivit sanguis aedificatio corpus mysticus salus relinquo legatio fungor apostolus successor exsisto christus audio audio mitto vivo pater mitto mitto christus quaero salvus pontifex vicarius iubeo quae¬rere salvus pontifex co¬ram conspicitis christus legatio subin¬travit cogito deus mitto quaero salvo neglegentia inexcusabilis pontifical iugum subicio publicus privo occupatio exsecutio sanctus propono retraho verus cum2 qualiscumque opportunitas offertor sanguis subditor manus discretissimo deus iudicium exquiro frater deus servus1 venio quaero salvus ne¬cessitas committo officium pastoral sollicitudo visita¬tio consisto visitatio verus exhortor prae¬dicando corrigo reformo iubeo reverendus paternitas exhortati¬onis initiaris seriatim visitatio membrum reverendam paternitas de¬veniatur paruus tempus con¬grue exhortaris requiro oboedio constringo verbum doctor gens expletio mando1 convolavi accipio sta¬tis salvo paulus1 corinthiis evangelium annunti¬avit christus mors libero resurrectio vivificati audio semino resurrectio morior rescribo corinthiis annuntio evangelium praedico1 ac¬ceperunt christus di¬lectissimis frater annuntiandum occurro nosco quoad innovem pater apostolici vir considero christus doctrina evangelica vita salus contineo homo christus jesu resurgo aeternaliter vivo animadverto ne¬cessitas resurgo valeo supererogatio perfectiore ordo beatitudo adipiscitur paulus1 sentio primus christus christus qui1 ordo re¬surgent perfectiore ordo christus resurgo perfectiora vito attingo christus expli¬cavit dilectio deus propior vita assequor perficio volo vendo debeo pau¬peribus christum sequor ali¬bi beati pauper spiritus ipso¬rum regnum caelum1 cum2 mortificaris om¬nium capio sancio apostolici vir perfectio¬nem studium tendo regula constituo via perfecto¬rum tendo obligo fidelis om¬nes perficio elige¬rent adipiscor vivo mo¬dum evangelicum regula observo cano¬nici regularis annuntio clerici por¬tio fidelis sortio divina possessi¬onem dominus possessio re¬gularis canonici strictioribus regulis subicio dominus astrinxistis secundus militaris teneo assequamini salvati¬onem perfectiore ordo accipio regularis iugum canonici stas sal¬vemini pono manus arater respicio retro aptus regnum caelum1 oportet unumquemque maneo perse¬verantem vocatio voco praemium consequor debeo maneo sto consto accipio evangelium voveo libertas reddo necessitas regula sancio constringo cum2 canonici accipio necesse sto salvo tendo exhortatio subsequor visitatio verus sto accipio realiter sanc¬tor regulis vivo fallo labium superficies verbum cano¬nici vocitemini cor removeo vis nomi¬nis elongati publicus mundus dolosus statera odiosus offendo pistor cerdo gene¬ris mechanicum profiteor dolosus statera utor verus triticeus panis appareo de¬ceptorium vendo iustus dolo¬sam statera defero publicus servio offendo qua¬propter visitantur opus mechanicorum corrigo reformentur sacrum concilium saepis definio lego2 placeo secundus etymo¬logiam nomen vivo monachus secundus derivatio unus solus tristis defleo delictum canonicus regularis regulis sancio astringo episcopus superintendens presbyter via salus praebeo reliquus summus exhortatio accipio nomen canonici opus ostendatis summus salus consequor fortassis juvenis nosco vis vocabulis edissero vis vocabulis accipio sto oportet subsequor salvatio hiis tres interrogatio brevis sa¬tisfacere curo primus accipio explano secundus sto tertius praemium consequor ali¬quantisper explico quoad primus magnus accipio peculiariores servus1 christus constituo deus spiritus spiritus servio vita sancio profiteor mun¬di abdico1 totus deus dedicarent regularium vito mundus abstraho debeo sursum sapio credo mona¬chos differo unus sancio consi¬deratio abdicatio proprietas mundus mortificatio caro resi¬gnatio libertas arbitrium consisto recedo mundus deus adhaereo spiritus religio substantialia scio exsisto mundus mortificant sancio jo¬hannes mundus concu¬piscentia caro concupisco oculus superbia vita consisto tres praenarravimus relegaris manifestus religio mundo immaculatus scio mundus inquinamenta relegaris regula pater contineo mundus desero2 deus ad¬haereatur accipio fortassis accipio stricti¬tudo vita mortuus mundus mo¬nachos proprius possideo possu¬mus morior convenio respondeo nego cano¬nicos religiosus debeo strictioribus regulis constringo differo mundus religio diversitas praetactis substantial con¬veniunt unus remitto stringo canonicorum re¬gula laxus gradus teneo latitudo religio egredior administratio permitto reditus ecclesia vivo ta¬men vinco vestio necessita¬tem ius vindico do¬naris testaris proprietarius convenio valeo parum refero conventual regularis unus administratio concedo cum2 uniquique lex unus praeessenti concedo solus peculium successio differo sacer ordo matri¬monium convolaris concedo cum2 ordo castitas voveo advenio re¬gulas pater oboedientia apertus vove¬mus superus accipio vita religiosus quo¬niam stipendium vinco vestio mortifico carnis vita castimonia voluntas oboedientia deus servio constrinxi¬mus salvemur frater iugum do¬mini accipio secundus quaestio satisfaciendo accipio sto valeo respondeo stas dominus mancipastis secundus dominus condicio sedulus servio laboro cum2 deus mundus regnum mundus ne¬cesse studium mundus desero2 regnum beati assequemini pauper spiritus regnum alo gradus adi¬piscemini mundus parvi¬pendetis affluo divitiae cor apposueritis delectamentum caro sperno arrogo semoveo humilitas subiec¬tio sperno vivo sto vide¬mini accipio consideraveritis deus veritas vereor consuetudo veritas colueri¬tis veritas amplector stas accipio iustitia pietas constantia fortitudo caritas intellego deus virtus abstractissima servio vitiosus careo sto accipio caritas sto cupio accipio salvo caritas dili¬gite alteruter frater christus jesu careo cognosco sto dilexeritis invicem contentio rixa carnal idolum servio avaritia regno ago unusquisque volo frater firmiter accipio sto al¬terius onus portas iudico nolo cum2 ascenderitis templum pharisaei divido iustificantes recordor justifico publicanus conspectus dominus humiliantes acediosi servitium ser¬vire locus proposuistis diligo sedulis os cor ani¬mo totus volo deus hiis steteritis decet christus mi¬lites accipio teneo virtus virtus ascendo humanus conversatio angelicam transfero caecitas vi¬sum ignoro scientia terrenus caelestis sto ascendo sursum continuus secundus quaestio tertius quaestio salvatio promitto sto respondeo cor homo capax felicitas ulter promitto deus diligen¬tibus magnus diligo oppono non-esse verus magnus vivo diligo vito viventi¬bus horribilis mors verus magnus amo spiritus intellectual intellego ignoro mors vita vivo intellectual spiritus intellego assequeris frater hiis gradus magnus incorruptibilis salvati¬one aeternitas exsistentiae vito immortalitas vita intellego apprehensi¬onem verus desiderium indefectibiliter intellectual visio deus jesum christum domi¬num visio perduco jesus salvator saeculum saeculum benedico']\n"
     ]
    }
   ],
   "source": [
    "# 加载测试集文档\n",
    "testset_dir = os.path.join(BASE_DIR, 'data/testset')\n",
    "documents = []\n",
    "\n",
    "logger.info(\"加载测试集数据...\")\n",
    "test_files = [f for f in os.listdir(testset_dir) if f.endswith('.txt')]\n",
    "for test_file in tqdm.tqdm(test_files, desc=\"Loading testset files\"):\n",
    "    file_path = os.path.join(testset_dir, test_file)\n",
    "    with open(file_path, 'r', encoding='utf-8') as file:\n",
    "        documents.append(file.read())\n",
    "\n",
    "logger.info(f\"加载了 {len(documents)} 个文档用于 BERTopic 实验。\")\n",
    "\n",
    "# 打印一些文档内容进行检查\n",
    "print(documents[:5])\n",
    "\n",
    "# 检查文档列表是否为空\n",
    "if not documents:\n",
    "    logger.error(\"文档列表为空，无法进行 BERTopic 分析。\")\n",
    "else:\n",
    "    logger.info(f\"文档列表包含 {len(documents)} 个文档。\")"
   ]
  },
  {
   "cell_type": "code",
   "execution_count": 67,
   "metadata": {},
   "outputs": [
    {
     "name": "stderr",
     "output_type": "stream",
     "text": [
      "2024-11-08 00:51:56,875 - INFO - 初始化 BERTopic 模型...\n"
     ]
    }
   ],
   "source": [
    "# 创建 BERTopic 模型\n",
    "logger.info(\"初始化 BERTopic 模型...\")\n",
    "topic_model = BERTopic(\n",
    "    vectorizer_model=CountVectorizer(ngram_range=experiment_config[\"parameters\"][\"n_gram_range\"]),\n",
    "    embedding_model=get_embeddings,\n",
    "    umap_model=UMAP(**experiment_config[\"parameters\"][\"umap_params\"]),\n",
    "    min_topic_size=experiment_config[\"parameters\"][\"min_topic_size\"],\n",
    "    nr_topics=experiment_config[\"parameters\"][\"nr_topics\"],\n",
    "    language=\"multilingual\"\n",
    ")"
   ]
  },
  {
   "cell_type": "code",
   "execution_count": 68,
   "metadata": {},
   "outputs": [
    {
     "name": "stderr",
     "output_type": "stream",
     "text": [
      "2024-11-08 00:51:56,952 - INFO - 开始训练 BERTopic 模型...\n",
      "2024-11-08 00:51:57,004 - INFO - Use pytorch device_name: mps\n",
      "2024-11-08 00:51:57,005 - INFO - Load pretrained SentenceTransformer: sentence-transformers/all-MiniLM-L6-v2\n",
      "2024-11-08 00:52:05,304 - INFO - BERTopic 模型训练成功。\n",
      "2024-11-08 00:52:05,336 - INFO - 生成了 12 个唯一主题。\n",
      "2024-11-08 00:52:05,338 - INFO - 开始进行主题的简单可视化...\n",
      "2024-11-08 00:52:05,348 - INFO - 主题 0: scribo, deus, homo, christus, pontifex, pater, doctrina, vita, sol, fides\n",
      "2024-11-08 00:52:05,349 - INFO - 主题 1: deus, gratia, secundus, cum2, mare, corpus, dominus, anima, homo, christus\n",
      "2024-11-08 00:52:05,350 - INFO - 主题 2: deus, filius, gaudium, spiritus, iesus, novitas, christus, homo, natura, dominus\n",
      "2024-11-08 00:52:05,351 - INFO - 主题 3: deus, verbum, audio, mundus, cum2, homo, verbum deus, peccator, fides, accipio\n",
      "2024-11-08 00:52:05,351 - INFO - 主题 4: deus, locus, via, mundus, tempus, jesus, pilo1, vox, manus, caelum\n",
      "2024-11-08 00:52:05,351 - INFO - 主题 5: christus, deus, pater, caritas, latitudo, thesaurus, homo, longitudo, fecunditas, cum2\n",
      "2024-11-08 00:52:05,352 - INFO - 主题 6: pater, mundus, filius, deus, peto, aeternus, deus pater, intellego, cognitio, venio\n",
      "2024-11-08 00:52:05,352 - INFO - 主题 7: mors, sanguis, deus, christus, veritas, vereor, oblatio, filius, offero, libero\n",
      "2024-11-08 00:52:05,352 - INFO - 主题 8: spiritus, anima, ferrum, pastor, caro, numerus, magnes1, moveo, carus1, ovo\n",
      "2024-11-08 00:52:05,353 - INFO - 保存每个文档的主题分配结果...\n",
      "2024-11-08 00:52:05,388 - INFO - 每个文档的主题分配结果已保存至 /Users/jessie/Documents/Projects/Cusanus_Topic_Modeling/experiments/bertopic_experiment_1731023515/bertopic_document_topic_distribution.csv。\n"
     ]
    },
    {
     "name": "stdout",
     "output_type": "stream",
     "text": [
      "主题 0: scribo, deus, homo, christus, pontifex, pater, doctrina, vita, sol, fides\n",
      "主题 1: deus, gratia, secundus, cum2, mare, corpus, dominus, anima, homo, christus\n",
      "主题 2: deus, filius, gaudium, spiritus, iesus, novitas, christus, homo, natura, dominus\n",
      "主题 3: deus, verbum, audio, mundus, cum2, homo, verbum deus, peccator, fides, accipio\n",
      "主题 4: deus, locus, via, mundus, tempus, jesus, pilo1, vox, manus, caelum\n",
      "主题 5: christus, deus, pater, caritas, latitudo, thesaurus, homo, longitudo, fecunditas, cum2\n",
      "主题 6: pater, mundus, filius, deus, peto, aeternus, deus pater, intellego, cognitio, venio\n",
      "主题 7: mors, sanguis, deus, christus, veritas, vereor, oblatio, filius, offero, libero\n",
      "主题 8: spiritus, anima, ferrum, pastor, caro, numerus, magnes1, moveo, carus1, ovo\n"
     ]
    }
   ],
   "source": [
    "# 训练 BERTopic 模型\n",
    "if documents:\n",
    "    logger.info(\"开始训练 BERTopic 模型...\")\n",
    "    topics, probabilities = topic_model.fit_transform(documents)\n",
    "    logger.info(\"BERTopic 模型训练成功。\")\n",
    "\n",
    "    # 检查生成的主题数量\n",
    "    unique_topics = set(topics)\n",
    "    logger.info(f\"生成了 {len(unique_topics)} 个唯一主题。\")\n",
    "\n",
    "    # 可视化主题，直接显示生成的主题和前10个主题词\n",
    "    logger.info(\"开始进行主题的简单可视化...\")\n",
    "    try:\n",
    "        topics_info = topic_model.get_topic_info()\n",
    "        if len(topics_info) > 0:\n",
    "            for topic_num in topics_info['Topic'][:10]:\n",
    "                if topic_num != -1:  # 排除噪声主题\n",
    "                    words_weights = topic_model.get_topic(topic_num)\n",
    "                    words_str = ', '.join([word for word, _ in words_weights])\n",
    "                    print(f\"主题 {topic_num}: {words_str}\")\n",
    "                    logger.info(f\"主题 {topic_num}: {words_str}\")\n",
    "        else:\n",
    "            logger.warning(\"未生成有效的主题，无法进行可视化。\")\n",
    "    except Exception as e:\n",
    "        logger.error(f\"可视化时发生错误: {e}\")\n",
    "\n",
    "    # 保存每个文档的主题分配结果\n",
    "    logger.info(\"保存每个文档的主题分配结果...\")\n",
    "    document_topic_data = []\n",
    "\n",
    "    for doc_idx, (topic, prob) in enumerate(zip(topics, probabilities)):\n",
    "        document_name = os.path.basename(test_files[doc_idx])\n",
    "        document_topic_data.append([document_name, topic, prob])\n",
    "\n",
    "    df_document_topics = pd.DataFrame(document_topic_data, columns=[\"Document\", \"Assigned Topic\", \"Probability\"])\n",
    "    document_topics_csv_path = os.path.join(experiment_dir, 'bertopic_document_topic_distribution.csv')\n",
    "    df_document_topics.to_csv(document_topics_csv_path, index=False)\n",
    "    logger.info(f\"每个文档的主题分配结果已保存至 {document_topics_csv_path}。\")\n",
    "\n",
    "else:\n",
    "    logger.error(\"文档加载失败，无法进行 BERTopic 分析。\")"
   ]
  },
  {
   "cell_type": "code",
   "execution_count": 69,
   "metadata": {},
   "outputs": [
    {
     "data": {
      "application/vnd.plotly.v1+json": {
       "config": {
        "plotlyServerURL": "https://plot.ly"
       },
       "data": [
        {
         "customdata": [
          [
           0,
           "scribo | deus | homo | christus | pontifex",
           6
          ],
          [
           1,
           "deus | gratia | secundus | cum2 | mare",
           6
          ],
          [
           2,
           "deus | filius | gaudium | spiritus | iesus",
           5
          ],
          [
           3,
           "deus | verbum | audio | mundus | cum2",
           5
          ],
          [
           4,
           "deus | locus | via | mundus | tempus",
           4
          ],
          [
           5,
           "christus | deus | pater | caritas | latitudo",
           3
          ],
          [
           6,
           "pater | mundus | filius | deus | peto",
           3
          ],
          [
           7,
           "mors | sanguis | deus | christus | veritas",
           3
          ],
          [
           8,
           "spiritus | anima | ferrum | pastor | caro",
           3
          ],
          [
           9,
           "nomen | christus | unus | panis | unitas",
           3
          ],
          [
           10,
           "misericordia | magister | filius | planto | deus",
           2
          ]
         ],
         "hovertemplate": "<b>Topic %{customdata[0]}</b><br>%{customdata[1]}<br>Size: %{customdata[2]}",
         "legendgroup": "",
         "marker": {
          "color": "#B0BEC5",
          "line": {
           "color": "DarkSlateGrey",
           "width": 2
          },
          "size": [
           6,
           6,
           5,
           5,
           4,
           3,
           3,
           3,
           3,
           3,
           2
          ],
          "sizemode": "area",
          "sizeref": 0.00375,
          "symbol": "circle"
         },
         "mode": "markers",
         "name": "",
         "orientation": "v",
         "showlegend": false,
         "type": "scatter",
         "x": [
          14.836165428161621,
          16.224088668823242,
          -4.179795742034912,
          16.5659122467041,
          16.6868953704834,
          14.739994049072266,
          17.283979415893555,
          15.482200622558594,
          -3.9201176166534424,
          15.302349090576172,
          15.851487159729004
         ],
         "xaxis": "x",
         "y": [
          2.424473285675049,
          -0.6002272963523865,
          3.9310483932495117,
          0.2967775762081146,
          0.7612113356590271,
          1.8995516300201416,
          0.37635338306427,
          1.8574533462524414,
          4.190469264984131,
          2.6248841285705566,
          -0.7709277272224426
         ],
         "yaxis": "y"
        }
       ],
       "layout": {
        "annotations": [
         {
          "showarrow": false,
          "text": "D1",
          "x": -4.806765103340149,
          "y": 1.9662363842129709,
          "yshift": 10
         },
         {
          "showarrow": false,
          "text": "D2",
          "x": 7.534905612468719,
          "xshift": 10,
          "y": 4.819039654731751
         }
        ],
        "height": 650,
        "hoverlabel": {
         "bgcolor": "white",
         "font": {
          "family": "Rockwell",
          "size": 16
         }
        },
        "legend": {
         "itemsizing": "constant",
         "tracegroupgap": 0
        },
        "margin": {
         "t": 60
        },
        "shapes": [
         {
          "line": {
           "color": "#CFD8DC",
           "width": 2
          },
          "type": "line",
          "x0": 7.534905612468719,
          "x1": 7.534905612468719,
          "y0": -0.886566886305809,
          "y1": 4.819039654731751
         },
         {
          "line": {
           "color": "#9E9E9E",
           "width": 2
          },
          "type": "line",
          "x0": -4.806765103340149,
          "x1": 19.876576328277586,
          "y0": 1.9662363842129709,
          "y1": 1.9662363842129709
         }
        ],
        "sliders": [
         {
          "active": 0,
          "pad": {
           "t": 50
          },
          "steps": [
           {
            "args": [
             {
              "marker.color": [
               [
                "red",
                "#B0BEC5",
                "#B0BEC5",
                "#B0BEC5",
                "#B0BEC5",
                "#B0BEC5",
                "#B0BEC5",
                "#B0BEC5",
                "#B0BEC5",
                "#B0BEC5",
                "#B0BEC5"
               ]
              ]
             }
            ],
            "label": "Topic 0",
            "method": "update"
           },
           {
            "args": [
             {
              "marker.color": [
               [
                "#B0BEC5",
                "red",
                "#B0BEC5",
                "#B0BEC5",
                "#B0BEC5",
                "#B0BEC5",
                "#B0BEC5",
                "#B0BEC5",
                "#B0BEC5",
                "#B0BEC5",
                "#B0BEC5"
               ]
              ]
             }
            ],
            "label": "Topic 1",
            "method": "update"
           },
           {
            "args": [
             {
              "marker.color": [
               [
                "#B0BEC5",
                "#B0BEC5",
                "red",
                "#B0BEC5",
                "#B0BEC5",
                "#B0BEC5",
                "#B0BEC5",
                "#B0BEC5",
                "#B0BEC5",
                "#B0BEC5",
                "#B0BEC5"
               ]
              ]
             }
            ],
            "label": "Topic 2",
            "method": "update"
           },
           {
            "args": [
             {
              "marker.color": [
               [
                "#B0BEC5",
                "#B0BEC5",
                "#B0BEC5",
                "red",
                "#B0BEC5",
                "#B0BEC5",
                "#B0BEC5",
                "#B0BEC5",
                "#B0BEC5",
                "#B0BEC5",
                "#B0BEC5"
               ]
              ]
             }
            ],
            "label": "Topic 3",
            "method": "update"
           },
           {
            "args": [
             {
              "marker.color": [
               [
                "#B0BEC5",
                "#B0BEC5",
                "#B0BEC5",
                "#B0BEC5",
                "red",
                "#B0BEC5",
                "#B0BEC5",
                "#B0BEC5",
                "#B0BEC5",
                "#B0BEC5",
                "#B0BEC5"
               ]
              ]
             }
            ],
            "label": "Topic 4",
            "method": "update"
           },
           {
            "args": [
             {
              "marker.color": [
               [
                "#B0BEC5",
                "#B0BEC5",
                "#B0BEC5",
                "#B0BEC5",
                "#B0BEC5",
                "red",
                "#B0BEC5",
                "#B0BEC5",
                "#B0BEC5",
                "#B0BEC5",
                "#B0BEC5"
               ]
              ]
             }
            ],
            "label": "Topic 5",
            "method": "update"
           },
           {
            "args": [
             {
              "marker.color": [
               [
                "#B0BEC5",
                "#B0BEC5",
                "#B0BEC5",
                "#B0BEC5",
                "#B0BEC5",
                "#B0BEC5",
                "red",
                "#B0BEC5",
                "#B0BEC5",
                "#B0BEC5",
                "#B0BEC5"
               ]
              ]
             }
            ],
            "label": "Topic 6",
            "method": "update"
           },
           {
            "args": [
             {
              "marker.color": [
               [
                "#B0BEC5",
                "#B0BEC5",
                "#B0BEC5",
                "#B0BEC5",
                "#B0BEC5",
                "#B0BEC5",
                "#B0BEC5",
                "red",
                "#B0BEC5",
                "#B0BEC5",
                "#B0BEC5"
               ]
              ]
             }
            ],
            "label": "Topic 7",
            "method": "update"
           },
           {
            "args": [
             {
              "marker.color": [
               [
                "#B0BEC5",
                "#B0BEC5",
                "#B0BEC5",
                "#B0BEC5",
                "#B0BEC5",
                "#B0BEC5",
                "#B0BEC5",
                "#B0BEC5",
                "red",
                "#B0BEC5",
                "#B0BEC5"
               ]
              ]
             }
            ],
            "label": "Topic 8",
            "method": "update"
           },
           {
            "args": [
             {
              "marker.color": [
               [
                "#B0BEC5",
                "#B0BEC5",
                "#B0BEC5",
                "#B0BEC5",
                "#B0BEC5",
                "#B0BEC5",
                "#B0BEC5",
                "#B0BEC5",
                "#B0BEC5",
                "red",
                "#B0BEC5"
               ]
              ]
             }
            ],
            "label": "Topic 9",
            "method": "update"
           },
           {
            "args": [
             {
              "marker.color": [
               [
                "#B0BEC5",
                "#B0BEC5",
                "#B0BEC5",
                "#B0BEC5",
                "#B0BEC5",
                "#B0BEC5",
                "#B0BEC5",
                "#B0BEC5",
                "#B0BEC5",
                "#B0BEC5",
                "red"
               ]
              ]
             }
            ],
            "label": "Topic 10",
            "method": "update"
           }
          ]
         }
        ],
        "template": {
         "data": {
          "bar": [
           {
            "error_x": {
             "color": "rgb(36,36,36)"
            },
            "error_y": {
             "color": "rgb(36,36,36)"
            },
            "marker": {
             "line": {
              "color": "white",
              "width": 0.5
             },
             "pattern": {
              "fillmode": "overlay",
              "size": 10,
              "solidity": 0.2
             }
            },
            "type": "bar"
           }
          ],
          "barpolar": [
           {
            "marker": {
             "line": {
              "color": "white",
              "width": 0.5
             },
             "pattern": {
              "fillmode": "overlay",
              "size": 10,
              "solidity": 0.2
             }
            },
            "type": "barpolar"
           }
          ],
          "carpet": [
           {
            "aaxis": {
             "endlinecolor": "rgb(36,36,36)",
             "gridcolor": "white",
             "linecolor": "white",
             "minorgridcolor": "white",
             "startlinecolor": "rgb(36,36,36)"
            },
            "baxis": {
             "endlinecolor": "rgb(36,36,36)",
             "gridcolor": "white",
             "linecolor": "white",
             "minorgridcolor": "white",
             "startlinecolor": "rgb(36,36,36)"
            },
            "type": "carpet"
           }
          ],
          "choropleth": [
           {
            "colorbar": {
             "outlinewidth": 1,
             "tickcolor": "rgb(36,36,36)",
             "ticks": "outside"
            },
            "type": "choropleth"
           }
          ],
          "contour": [
           {
            "colorbar": {
             "outlinewidth": 1,
             "tickcolor": "rgb(36,36,36)",
             "ticks": "outside"
            },
            "colorscale": [
             [
              0,
              "#440154"
             ],
             [
              0.1111111111111111,
              "#482878"
             ],
             [
              0.2222222222222222,
              "#3e4989"
             ],
             [
              0.3333333333333333,
              "#31688e"
             ],
             [
              0.4444444444444444,
              "#26828e"
             ],
             [
              0.5555555555555556,
              "#1f9e89"
             ],
             [
              0.6666666666666666,
              "#35b779"
             ],
             [
              0.7777777777777778,
              "#6ece58"
             ],
             [
              0.8888888888888888,
              "#b5de2b"
             ],
             [
              1,
              "#fde725"
             ]
            ],
            "type": "contour"
           }
          ],
          "contourcarpet": [
           {
            "colorbar": {
             "outlinewidth": 1,
             "tickcolor": "rgb(36,36,36)",
             "ticks": "outside"
            },
            "type": "contourcarpet"
           }
          ],
          "heatmap": [
           {
            "colorbar": {
             "outlinewidth": 1,
             "tickcolor": "rgb(36,36,36)",
             "ticks": "outside"
            },
            "colorscale": [
             [
              0,
              "#440154"
             ],
             [
              0.1111111111111111,
              "#482878"
             ],
             [
              0.2222222222222222,
              "#3e4989"
             ],
             [
              0.3333333333333333,
              "#31688e"
             ],
             [
              0.4444444444444444,
              "#26828e"
             ],
             [
              0.5555555555555556,
              "#1f9e89"
             ],
             [
              0.6666666666666666,
              "#35b779"
             ],
             [
              0.7777777777777778,
              "#6ece58"
             ],
             [
              0.8888888888888888,
              "#b5de2b"
             ],
             [
              1,
              "#fde725"
             ]
            ],
            "type": "heatmap"
           }
          ],
          "heatmapgl": [
           {
            "colorbar": {
             "outlinewidth": 1,
             "tickcolor": "rgb(36,36,36)",
             "ticks": "outside"
            },
            "colorscale": [
             [
              0,
              "#440154"
             ],
             [
              0.1111111111111111,
              "#482878"
             ],
             [
              0.2222222222222222,
              "#3e4989"
             ],
             [
              0.3333333333333333,
              "#31688e"
             ],
             [
              0.4444444444444444,
              "#26828e"
             ],
             [
              0.5555555555555556,
              "#1f9e89"
             ],
             [
              0.6666666666666666,
              "#35b779"
             ],
             [
              0.7777777777777778,
              "#6ece58"
             ],
             [
              0.8888888888888888,
              "#b5de2b"
             ],
             [
              1,
              "#fde725"
             ]
            ],
            "type": "heatmapgl"
           }
          ],
          "histogram": [
           {
            "marker": {
             "line": {
              "color": "white",
              "width": 0.6
             }
            },
            "type": "histogram"
           }
          ],
          "histogram2d": [
           {
            "colorbar": {
             "outlinewidth": 1,
             "tickcolor": "rgb(36,36,36)",
             "ticks": "outside"
            },
            "colorscale": [
             [
              0,
              "#440154"
             ],
             [
              0.1111111111111111,
              "#482878"
             ],
             [
              0.2222222222222222,
              "#3e4989"
             ],
             [
              0.3333333333333333,
              "#31688e"
             ],
             [
              0.4444444444444444,
              "#26828e"
             ],
             [
              0.5555555555555556,
              "#1f9e89"
             ],
             [
              0.6666666666666666,
              "#35b779"
             ],
             [
              0.7777777777777778,
              "#6ece58"
             ],
             [
              0.8888888888888888,
              "#b5de2b"
             ],
             [
              1,
              "#fde725"
             ]
            ],
            "type": "histogram2d"
           }
          ],
          "histogram2dcontour": [
           {
            "colorbar": {
             "outlinewidth": 1,
             "tickcolor": "rgb(36,36,36)",
             "ticks": "outside"
            },
            "colorscale": [
             [
              0,
              "#440154"
             ],
             [
              0.1111111111111111,
              "#482878"
             ],
             [
              0.2222222222222222,
              "#3e4989"
             ],
             [
              0.3333333333333333,
              "#31688e"
             ],
             [
              0.4444444444444444,
              "#26828e"
             ],
             [
              0.5555555555555556,
              "#1f9e89"
             ],
             [
              0.6666666666666666,
              "#35b779"
             ],
             [
              0.7777777777777778,
              "#6ece58"
             ],
             [
              0.8888888888888888,
              "#b5de2b"
             ],
             [
              1,
              "#fde725"
             ]
            ],
            "type": "histogram2dcontour"
           }
          ],
          "mesh3d": [
           {
            "colorbar": {
             "outlinewidth": 1,
             "tickcolor": "rgb(36,36,36)",
             "ticks": "outside"
            },
            "type": "mesh3d"
           }
          ],
          "parcoords": [
           {
            "line": {
             "colorbar": {
              "outlinewidth": 1,
              "tickcolor": "rgb(36,36,36)",
              "ticks": "outside"
             }
            },
            "type": "parcoords"
           }
          ],
          "pie": [
           {
            "automargin": true,
            "type": "pie"
           }
          ],
          "scatter": [
           {
            "fillpattern": {
             "fillmode": "overlay",
             "size": 10,
             "solidity": 0.2
            },
            "type": "scatter"
           }
          ],
          "scatter3d": [
           {
            "line": {
             "colorbar": {
              "outlinewidth": 1,
              "tickcolor": "rgb(36,36,36)",
              "ticks": "outside"
             }
            },
            "marker": {
             "colorbar": {
              "outlinewidth": 1,
              "tickcolor": "rgb(36,36,36)",
              "ticks": "outside"
             }
            },
            "type": "scatter3d"
           }
          ],
          "scattercarpet": [
           {
            "marker": {
             "colorbar": {
              "outlinewidth": 1,
              "tickcolor": "rgb(36,36,36)",
              "ticks": "outside"
             }
            },
            "type": "scattercarpet"
           }
          ],
          "scattergeo": [
           {
            "marker": {
             "colorbar": {
              "outlinewidth": 1,
              "tickcolor": "rgb(36,36,36)",
              "ticks": "outside"
             }
            },
            "type": "scattergeo"
           }
          ],
          "scattergl": [
           {
            "marker": {
             "colorbar": {
              "outlinewidth": 1,
              "tickcolor": "rgb(36,36,36)",
              "ticks": "outside"
             }
            },
            "type": "scattergl"
           }
          ],
          "scattermapbox": [
           {
            "marker": {
             "colorbar": {
              "outlinewidth": 1,
              "tickcolor": "rgb(36,36,36)",
              "ticks": "outside"
             }
            },
            "type": "scattermapbox"
           }
          ],
          "scatterpolar": [
           {
            "marker": {
             "colorbar": {
              "outlinewidth": 1,
              "tickcolor": "rgb(36,36,36)",
              "ticks": "outside"
             }
            },
            "type": "scatterpolar"
           }
          ],
          "scatterpolargl": [
           {
            "marker": {
             "colorbar": {
              "outlinewidth": 1,
              "tickcolor": "rgb(36,36,36)",
              "ticks": "outside"
             }
            },
            "type": "scatterpolargl"
           }
          ],
          "scatterternary": [
           {
            "marker": {
             "colorbar": {
              "outlinewidth": 1,
              "tickcolor": "rgb(36,36,36)",
              "ticks": "outside"
             }
            },
            "type": "scatterternary"
           }
          ],
          "surface": [
           {
            "colorbar": {
             "outlinewidth": 1,
             "tickcolor": "rgb(36,36,36)",
             "ticks": "outside"
            },
            "colorscale": [
             [
              0,
              "#440154"
             ],
             [
              0.1111111111111111,
              "#482878"
             ],
             [
              0.2222222222222222,
              "#3e4989"
             ],
             [
              0.3333333333333333,
              "#31688e"
             ],
             [
              0.4444444444444444,
              "#26828e"
             ],
             [
              0.5555555555555556,
              "#1f9e89"
             ],
             [
              0.6666666666666666,
              "#35b779"
             ],
             [
              0.7777777777777778,
              "#6ece58"
             ],
             [
              0.8888888888888888,
              "#b5de2b"
             ],
             [
              1,
              "#fde725"
             ]
            ],
            "type": "surface"
           }
          ],
          "table": [
           {
            "cells": {
             "fill": {
              "color": "rgb(237,237,237)"
             },
             "line": {
              "color": "white"
             }
            },
            "header": {
             "fill": {
              "color": "rgb(217,217,217)"
             },
             "line": {
              "color": "white"
             }
            },
            "type": "table"
           }
          ]
         },
         "layout": {
          "annotationdefaults": {
           "arrowhead": 0,
           "arrowwidth": 1
          },
          "autotypenumbers": "strict",
          "coloraxis": {
           "colorbar": {
            "outlinewidth": 1,
            "tickcolor": "rgb(36,36,36)",
            "ticks": "outside"
           }
          },
          "colorscale": {
           "diverging": [
            [
             0,
             "rgb(103,0,31)"
            ],
            [
             0.1,
             "rgb(178,24,43)"
            ],
            [
             0.2,
             "rgb(214,96,77)"
            ],
            [
             0.3,
             "rgb(244,165,130)"
            ],
            [
             0.4,
             "rgb(253,219,199)"
            ],
            [
             0.5,
             "rgb(247,247,247)"
            ],
            [
             0.6,
             "rgb(209,229,240)"
            ],
            [
             0.7,
             "rgb(146,197,222)"
            ],
            [
             0.8,
             "rgb(67,147,195)"
            ],
            [
             0.9,
             "rgb(33,102,172)"
            ],
            [
             1,
             "rgb(5,48,97)"
            ]
           ],
           "sequential": [
            [
             0,
             "#440154"
            ],
            [
             0.1111111111111111,
             "#482878"
            ],
            [
             0.2222222222222222,
             "#3e4989"
            ],
            [
             0.3333333333333333,
             "#31688e"
            ],
            [
             0.4444444444444444,
             "#26828e"
            ],
            [
             0.5555555555555556,
             "#1f9e89"
            ],
            [
             0.6666666666666666,
             "#35b779"
            ],
            [
             0.7777777777777778,
             "#6ece58"
            ],
            [
             0.8888888888888888,
             "#b5de2b"
            ],
            [
             1,
             "#fde725"
            ]
           ],
           "sequentialminus": [
            [
             0,
             "#440154"
            ],
            [
             0.1111111111111111,
             "#482878"
            ],
            [
             0.2222222222222222,
             "#3e4989"
            ],
            [
             0.3333333333333333,
             "#31688e"
            ],
            [
             0.4444444444444444,
             "#26828e"
            ],
            [
             0.5555555555555556,
             "#1f9e89"
            ],
            [
             0.6666666666666666,
             "#35b779"
            ],
            [
             0.7777777777777778,
             "#6ece58"
            ],
            [
             0.8888888888888888,
             "#b5de2b"
            ],
            [
             1,
             "#fde725"
            ]
           ]
          },
          "colorway": [
           "#1F77B4",
           "#FF7F0E",
           "#2CA02C",
           "#D62728",
           "#9467BD",
           "#8C564B",
           "#E377C2",
           "#7F7F7F",
           "#BCBD22",
           "#17BECF"
          ],
          "font": {
           "color": "rgb(36,36,36)"
          },
          "geo": {
           "bgcolor": "white",
           "lakecolor": "white",
           "landcolor": "white",
           "showlakes": true,
           "showland": true,
           "subunitcolor": "white"
          },
          "hoverlabel": {
           "align": "left"
          },
          "hovermode": "closest",
          "mapbox": {
           "style": "light"
          },
          "paper_bgcolor": "white",
          "plot_bgcolor": "white",
          "polar": {
           "angularaxis": {
            "gridcolor": "rgb(232,232,232)",
            "linecolor": "rgb(36,36,36)",
            "showgrid": false,
            "showline": true,
            "ticks": "outside"
           },
           "bgcolor": "white",
           "radialaxis": {
            "gridcolor": "rgb(232,232,232)",
            "linecolor": "rgb(36,36,36)",
            "showgrid": false,
            "showline": true,
            "ticks": "outside"
           }
          },
          "scene": {
           "xaxis": {
            "backgroundcolor": "white",
            "gridcolor": "rgb(232,232,232)",
            "gridwidth": 2,
            "linecolor": "rgb(36,36,36)",
            "showbackground": true,
            "showgrid": false,
            "showline": true,
            "ticks": "outside",
            "zeroline": false,
            "zerolinecolor": "rgb(36,36,36)"
           },
           "yaxis": {
            "backgroundcolor": "white",
            "gridcolor": "rgb(232,232,232)",
            "gridwidth": 2,
            "linecolor": "rgb(36,36,36)",
            "showbackground": true,
            "showgrid": false,
            "showline": true,
            "ticks": "outside",
            "zeroline": false,
            "zerolinecolor": "rgb(36,36,36)"
           },
           "zaxis": {
            "backgroundcolor": "white",
            "gridcolor": "rgb(232,232,232)",
            "gridwidth": 2,
            "linecolor": "rgb(36,36,36)",
            "showbackground": true,
            "showgrid": false,
            "showline": true,
            "ticks": "outside",
            "zeroline": false,
            "zerolinecolor": "rgb(36,36,36)"
           }
          },
          "shapedefaults": {
           "fillcolor": "black",
           "line": {
            "width": 0
           },
           "opacity": 0.3
          },
          "ternary": {
           "aaxis": {
            "gridcolor": "rgb(232,232,232)",
            "linecolor": "rgb(36,36,36)",
            "showgrid": false,
            "showline": true,
            "ticks": "outside"
           },
           "baxis": {
            "gridcolor": "rgb(232,232,232)",
            "linecolor": "rgb(36,36,36)",
            "showgrid": false,
            "showline": true,
            "ticks": "outside"
           },
           "bgcolor": "white",
           "caxis": {
            "gridcolor": "rgb(232,232,232)",
            "linecolor": "rgb(36,36,36)",
            "showgrid": false,
            "showline": true,
            "ticks": "outside"
           }
          },
          "title": {
           "x": 0.05
          },
          "xaxis": {
           "automargin": true,
           "gridcolor": "rgb(232,232,232)",
           "linecolor": "rgb(36,36,36)",
           "showgrid": false,
           "showline": true,
           "ticks": "outside",
           "title": {
            "standoff": 15
           },
           "zeroline": false,
           "zerolinecolor": "rgb(36,36,36)"
          },
          "yaxis": {
           "automargin": true,
           "gridcolor": "rgb(232,232,232)",
           "linecolor": "rgb(36,36,36)",
           "showgrid": false,
           "showline": true,
           "ticks": "outside",
           "title": {
            "standoff": 15
           },
           "zeroline": false,
           "zerolinecolor": "rgb(36,36,36)"
          }
         }
        },
        "title": {
         "font": {
          "color": "Black",
          "size": 22
         },
         "text": "<b>Intertopic Distance Map</b>",
         "x": 0.5,
         "xanchor": "center",
         "y": 0.95,
         "yanchor": "top"
        },
        "width": 650,
        "xaxis": {
         "anchor": "y",
         "domain": [
          0,
          1
         ],
         "range": [
          -4.806765103340149,
          19.876576328277586
         ],
         "title": {
          "text": ""
         },
         "visible": false
        },
        "yaxis": {
         "anchor": "x",
         "domain": [
          0,
          1
         ],
         "range": [
          -0.886566886305809,
          4.819039654731751
         ],
         "title": {
          "text": ""
         },
         "visible": false
        }
       }
      }
     },
     "metadata": {},
     "output_type": "display_data"
    }
   ],
   "source": [
    "# 假设您已经训练好了 BERTopic 模型\n",
    "fig = topic_model.visualize_topics()\n",
    "fig.show()\n"
   ]
  },
  {
   "cell_type": "code",
   "execution_count": 70,
   "metadata": {},
   "outputs": [
    {
     "data": {
      "application/vnd.plotly.v1+json": {
       "config": {
        "plotlyServerURL": "https://plot.ly"
       },
       "data": [
        {
         "hoverinfo": "text",
         "marker": {
          "color": "rgb(61,153,112)"
         },
         "mode": "lines",
         "type": "scatter",
         "x": [
          0,
          0.6477104808746479,
          0.6477104808746479,
          0
         ],
         "xaxis": "x",
         "y": [
          -25,
          -25,
          -35,
          -35
         ],
         "yaxis": "y"
        },
        {
         "hoverinfo": "text",
         "marker": {
          "color": "rgb(61,153,112)"
         },
         "mode": "lines",
         "type": "scatter",
         "x": [
          0,
          0.7208263393991772,
          0.7208263393991772,
          0.6477104808746479
         ],
         "xaxis": "x",
         "y": [
          -15,
          -15,
          -30,
          -30
         ],
         "yaxis": "y"
        },
        {
         "hoverinfo": "text",
         "marker": {
          "color": "rgb(61,153,112)"
         },
         "mode": "lines",
         "type": "scatter",
         "x": [
          0,
          0.5760567329474027,
          0.5760567329474027,
          0
         ],
         "xaxis": "x",
         "y": [
          -75,
          -75,
          -85,
          -85
         ],
         "yaxis": "y"
        },
        {
         "hoverinfo": "text",
         "marker": {
          "color": "rgb(61,153,112)"
         },
         "mode": "lines",
         "type": "scatter",
         "x": [
          0,
          0.5827942185960301,
          0.5827942185960301,
          0.5760567329474027
         ],
         "xaxis": "x",
         "y": [
          -65,
          -65,
          -80,
          -80
         ],
         "yaxis": "y"
        },
        {
         "hoverinfo": "text",
         "marker": {
          "color": "rgb(61,153,112)"
         },
         "mode": "lines",
         "type": "scatter",
         "x": [
          0,
          0.6107222400983807,
          0.6107222400983807,
          0.5827942185960301
         ],
         "xaxis": "x",
         "y": [
          -55,
          -55,
          -72.5,
          -72.5
         ],
         "yaxis": "y"
        },
        {
         "hoverinfo": "text",
         "marker": {
          "color": "rgb(61,153,112)"
         },
         "mode": "lines",
         "type": "scatter",
         "x": [
          0.6107222400983807,
          0.6632534557054299,
          0.6632534557054299,
          0
         ],
         "xaxis": "x",
         "y": [
          -63.75,
          -63.75,
          -95,
          -95
         ],
         "yaxis": "y"
        },
        {
         "hoverinfo": "text",
         "marker": {
          "color": "rgb(61,153,112)"
         },
         "mode": "lines",
         "type": "scatter",
         "x": [
          0,
          0.697696052167917,
          0.697696052167917,
          0.6632534557054299
         ],
         "xaxis": "x",
         "y": [
          -45,
          -45,
          -79.375,
          -79.375
         ],
         "yaxis": "y"
        },
        {
         "hoverinfo": "text",
         "marker": {
          "color": "rgb(61,153,112)"
         },
         "mode": "lines",
         "type": "scatter",
         "x": [
          0.697696052167917,
          0.714041474811614,
          0.714041474811614,
          0
         ],
         "xaxis": "x",
         "y": [
          -62.1875,
          -62.1875,
          -105,
          -105
         ],
         "yaxis": "y"
        },
        {
         "hoverinfo": "text",
         "marker": {
          "color": "rgb(61,153,112)"
         },
         "mode": "lines",
         "type": "scatter",
         "x": [
          0.7208263393991772,
          0.7916946636406655,
          0.7916946636406655,
          0.714041474811614
         ],
         "xaxis": "x",
         "y": [
          -22.5,
          -22.5,
          -83.59375,
          -83.59375
         ],
         "yaxis": "y"
        },
        {
         "hoverinfo": "text",
         "marker": {
          "color": "rgb(61,153,112)"
         },
         "mode": "lines",
         "type": "scatter",
         "x": [
          0,
          0.8230916142697315,
          0.8230916142697315,
          0.7916946636406655
         ],
         "xaxis": "x",
         "y": [
          -5,
          -5,
          -53.046875,
          -53.046875
         ],
         "yaxis": "y"
        }
       ],
       "layout": {
        "autosize": false,
        "height": 365,
        "hoverlabel": {
         "bgcolor": "white",
         "font": {
          "family": "Rockwell",
          "size": 16
         }
        },
        "hovermode": "closest",
        "plot_bgcolor": "#ECEFF1",
        "showlegend": false,
        "template": {
         "data": {
          "bar": [
           {
            "error_x": {
             "color": "#2a3f5f"
            },
            "error_y": {
             "color": "#2a3f5f"
            },
            "marker": {
             "line": {
              "color": "white",
              "width": 0.5
             },
             "pattern": {
              "fillmode": "overlay",
              "size": 10,
              "solidity": 0.2
             }
            },
            "type": "bar"
           }
          ],
          "barpolar": [
           {
            "marker": {
             "line": {
              "color": "white",
              "width": 0.5
             },
             "pattern": {
              "fillmode": "overlay",
              "size": 10,
              "solidity": 0.2
             }
            },
            "type": "barpolar"
           }
          ],
          "carpet": [
           {
            "aaxis": {
             "endlinecolor": "#2a3f5f",
             "gridcolor": "#C8D4E3",
             "linecolor": "#C8D4E3",
             "minorgridcolor": "#C8D4E3",
             "startlinecolor": "#2a3f5f"
            },
            "baxis": {
             "endlinecolor": "#2a3f5f",
             "gridcolor": "#C8D4E3",
             "linecolor": "#C8D4E3",
             "minorgridcolor": "#C8D4E3",
             "startlinecolor": "#2a3f5f"
            },
            "type": "carpet"
           }
          ],
          "choropleth": [
           {
            "colorbar": {
             "outlinewidth": 0,
             "ticks": ""
            },
            "type": "choropleth"
           }
          ],
          "contour": [
           {
            "colorbar": {
             "outlinewidth": 0,
             "ticks": ""
            },
            "colorscale": [
             [
              0,
              "#0d0887"
             ],
             [
              0.1111111111111111,
              "#46039f"
             ],
             [
              0.2222222222222222,
              "#7201a8"
             ],
             [
              0.3333333333333333,
              "#9c179e"
             ],
             [
              0.4444444444444444,
              "#bd3786"
             ],
             [
              0.5555555555555556,
              "#d8576b"
             ],
             [
              0.6666666666666666,
              "#ed7953"
             ],
             [
              0.7777777777777778,
              "#fb9f3a"
             ],
             [
              0.8888888888888888,
              "#fdca26"
             ],
             [
              1,
              "#f0f921"
             ]
            ],
            "type": "contour"
           }
          ],
          "contourcarpet": [
           {
            "colorbar": {
             "outlinewidth": 0,
             "ticks": ""
            },
            "type": "contourcarpet"
           }
          ],
          "heatmap": [
           {
            "colorbar": {
             "outlinewidth": 0,
             "ticks": ""
            },
            "colorscale": [
             [
              0,
              "#0d0887"
             ],
             [
              0.1111111111111111,
              "#46039f"
             ],
             [
              0.2222222222222222,
              "#7201a8"
             ],
             [
              0.3333333333333333,
              "#9c179e"
             ],
             [
              0.4444444444444444,
              "#bd3786"
             ],
             [
              0.5555555555555556,
              "#d8576b"
             ],
             [
              0.6666666666666666,
              "#ed7953"
             ],
             [
              0.7777777777777778,
              "#fb9f3a"
             ],
             [
              0.8888888888888888,
              "#fdca26"
             ],
             [
              1,
              "#f0f921"
             ]
            ],
            "type": "heatmap"
           }
          ],
          "heatmapgl": [
           {
            "colorbar": {
             "outlinewidth": 0,
             "ticks": ""
            },
            "colorscale": [
             [
              0,
              "#0d0887"
             ],
             [
              0.1111111111111111,
              "#46039f"
             ],
             [
              0.2222222222222222,
              "#7201a8"
             ],
             [
              0.3333333333333333,
              "#9c179e"
             ],
             [
              0.4444444444444444,
              "#bd3786"
             ],
             [
              0.5555555555555556,
              "#d8576b"
             ],
             [
              0.6666666666666666,
              "#ed7953"
             ],
             [
              0.7777777777777778,
              "#fb9f3a"
             ],
             [
              0.8888888888888888,
              "#fdca26"
             ],
             [
              1,
              "#f0f921"
             ]
            ],
            "type": "heatmapgl"
           }
          ],
          "histogram": [
           {
            "marker": {
             "pattern": {
              "fillmode": "overlay",
              "size": 10,
              "solidity": 0.2
             }
            },
            "type": "histogram"
           }
          ],
          "histogram2d": [
           {
            "colorbar": {
             "outlinewidth": 0,
             "ticks": ""
            },
            "colorscale": [
             [
              0,
              "#0d0887"
             ],
             [
              0.1111111111111111,
              "#46039f"
             ],
             [
              0.2222222222222222,
              "#7201a8"
             ],
             [
              0.3333333333333333,
              "#9c179e"
             ],
             [
              0.4444444444444444,
              "#bd3786"
             ],
             [
              0.5555555555555556,
              "#d8576b"
             ],
             [
              0.6666666666666666,
              "#ed7953"
             ],
             [
              0.7777777777777778,
              "#fb9f3a"
             ],
             [
              0.8888888888888888,
              "#fdca26"
             ],
             [
              1,
              "#f0f921"
             ]
            ],
            "type": "histogram2d"
           }
          ],
          "histogram2dcontour": [
           {
            "colorbar": {
             "outlinewidth": 0,
             "ticks": ""
            },
            "colorscale": [
             [
              0,
              "#0d0887"
             ],
             [
              0.1111111111111111,
              "#46039f"
             ],
             [
              0.2222222222222222,
              "#7201a8"
             ],
             [
              0.3333333333333333,
              "#9c179e"
             ],
             [
              0.4444444444444444,
              "#bd3786"
             ],
             [
              0.5555555555555556,
              "#d8576b"
             ],
             [
              0.6666666666666666,
              "#ed7953"
             ],
             [
              0.7777777777777778,
              "#fb9f3a"
             ],
             [
              0.8888888888888888,
              "#fdca26"
             ],
             [
              1,
              "#f0f921"
             ]
            ],
            "type": "histogram2dcontour"
           }
          ],
          "mesh3d": [
           {
            "colorbar": {
             "outlinewidth": 0,
             "ticks": ""
            },
            "type": "mesh3d"
           }
          ],
          "parcoords": [
           {
            "line": {
             "colorbar": {
              "outlinewidth": 0,
              "ticks": ""
             }
            },
            "type": "parcoords"
           }
          ],
          "pie": [
           {
            "automargin": true,
            "type": "pie"
           }
          ],
          "scatter": [
           {
            "fillpattern": {
             "fillmode": "overlay",
             "size": 10,
             "solidity": 0.2
            },
            "type": "scatter"
           }
          ],
          "scatter3d": [
           {
            "line": {
             "colorbar": {
              "outlinewidth": 0,
              "ticks": ""
             }
            },
            "marker": {
             "colorbar": {
              "outlinewidth": 0,
              "ticks": ""
             }
            },
            "type": "scatter3d"
           }
          ],
          "scattercarpet": [
           {
            "marker": {
             "colorbar": {
              "outlinewidth": 0,
              "ticks": ""
             }
            },
            "type": "scattercarpet"
           }
          ],
          "scattergeo": [
           {
            "marker": {
             "colorbar": {
              "outlinewidth": 0,
              "ticks": ""
             }
            },
            "type": "scattergeo"
           }
          ],
          "scattergl": [
           {
            "marker": {
             "colorbar": {
              "outlinewidth": 0,
              "ticks": ""
             }
            },
            "type": "scattergl"
           }
          ],
          "scattermapbox": [
           {
            "marker": {
             "colorbar": {
              "outlinewidth": 0,
              "ticks": ""
             }
            },
            "type": "scattermapbox"
           }
          ],
          "scatterpolar": [
           {
            "marker": {
             "colorbar": {
              "outlinewidth": 0,
              "ticks": ""
             }
            },
            "type": "scatterpolar"
           }
          ],
          "scatterpolargl": [
           {
            "marker": {
             "colorbar": {
              "outlinewidth": 0,
              "ticks": ""
             }
            },
            "type": "scatterpolargl"
           }
          ],
          "scatterternary": [
           {
            "marker": {
             "colorbar": {
              "outlinewidth": 0,
              "ticks": ""
             }
            },
            "type": "scatterternary"
           }
          ],
          "surface": [
           {
            "colorbar": {
             "outlinewidth": 0,
             "ticks": ""
            },
            "colorscale": [
             [
              0,
              "#0d0887"
             ],
             [
              0.1111111111111111,
              "#46039f"
             ],
             [
              0.2222222222222222,
              "#7201a8"
             ],
             [
              0.3333333333333333,
              "#9c179e"
             ],
             [
              0.4444444444444444,
              "#bd3786"
             ],
             [
              0.5555555555555556,
              "#d8576b"
             ],
             [
              0.6666666666666666,
              "#ed7953"
             ],
             [
              0.7777777777777778,
              "#fb9f3a"
             ],
             [
              0.8888888888888888,
              "#fdca26"
             ],
             [
              1,
              "#f0f921"
             ]
            ],
            "type": "surface"
           }
          ],
          "table": [
           {
            "cells": {
             "fill": {
              "color": "#EBF0F8"
             },
             "line": {
              "color": "white"
             }
            },
            "header": {
             "fill": {
              "color": "#C8D4E3"
             },
             "line": {
              "color": "white"
             }
            },
            "type": "table"
           }
          ]
         },
         "layout": {
          "annotationdefaults": {
           "arrowcolor": "#2a3f5f",
           "arrowhead": 0,
           "arrowwidth": 1
          },
          "autotypenumbers": "strict",
          "coloraxis": {
           "colorbar": {
            "outlinewidth": 0,
            "ticks": ""
           }
          },
          "colorscale": {
           "diverging": [
            [
             0,
             "#8e0152"
            ],
            [
             0.1,
             "#c51b7d"
            ],
            [
             0.2,
             "#de77ae"
            ],
            [
             0.3,
             "#f1b6da"
            ],
            [
             0.4,
             "#fde0ef"
            ],
            [
             0.5,
             "#f7f7f7"
            ],
            [
             0.6,
             "#e6f5d0"
            ],
            [
             0.7,
             "#b8e186"
            ],
            [
             0.8,
             "#7fbc41"
            ],
            [
             0.9,
             "#4d9221"
            ],
            [
             1,
             "#276419"
            ]
           ],
           "sequential": [
            [
             0,
             "#0d0887"
            ],
            [
             0.1111111111111111,
             "#46039f"
            ],
            [
             0.2222222222222222,
             "#7201a8"
            ],
            [
             0.3333333333333333,
             "#9c179e"
            ],
            [
             0.4444444444444444,
             "#bd3786"
            ],
            [
             0.5555555555555556,
             "#d8576b"
            ],
            [
             0.6666666666666666,
             "#ed7953"
            ],
            [
             0.7777777777777778,
             "#fb9f3a"
            ],
            [
             0.8888888888888888,
             "#fdca26"
            ],
            [
             1,
             "#f0f921"
            ]
           ],
           "sequentialminus": [
            [
             0,
             "#0d0887"
            ],
            [
             0.1111111111111111,
             "#46039f"
            ],
            [
             0.2222222222222222,
             "#7201a8"
            ],
            [
             0.3333333333333333,
             "#9c179e"
            ],
            [
             0.4444444444444444,
             "#bd3786"
            ],
            [
             0.5555555555555556,
             "#d8576b"
            ],
            [
             0.6666666666666666,
             "#ed7953"
            ],
            [
             0.7777777777777778,
             "#fb9f3a"
            ],
            [
             0.8888888888888888,
             "#fdca26"
            ],
            [
             1,
             "#f0f921"
            ]
           ]
          },
          "colorway": [
           "#636efa",
           "#EF553B",
           "#00cc96",
           "#ab63fa",
           "#FFA15A",
           "#19d3f3",
           "#FF6692",
           "#B6E880",
           "#FF97FF",
           "#FECB52"
          ],
          "font": {
           "color": "#2a3f5f"
          },
          "geo": {
           "bgcolor": "white",
           "lakecolor": "white",
           "landcolor": "white",
           "showlakes": true,
           "showland": true,
           "subunitcolor": "#C8D4E3"
          },
          "hoverlabel": {
           "align": "left"
          },
          "hovermode": "closest",
          "mapbox": {
           "style": "light"
          },
          "paper_bgcolor": "white",
          "plot_bgcolor": "white",
          "polar": {
           "angularaxis": {
            "gridcolor": "#EBF0F8",
            "linecolor": "#EBF0F8",
            "ticks": ""
           },
           "bgcolor": "white",
           "radialaxis": {
            "gridcolor": "#EBF0F8",
            "linecolor": "#EBF0F8",
            "ticks": ""
           }
          },
          "scene": {
           "xaxis": {
            "backgroundcolor": "white",
            "gridcolor": "#DFE8F3",
            "gridwidth": 2,
            "linecolor": "#EBF0F8",
            "showbackground": true,
            "ticks": "",
            "zerolinecolor": "#EBF0F8"
           },
           "yaxis": {
            "backgroundcolor": "white",
            "gridcolor": "#DFE8F3",
            "gridwidth": 2,
            "linecolor": "#EBF0F8",
            "showbackground": true,
            "ticks": "",
            "zerolinecolor": "#EBF0F8"
           },
           "zaxis": {
            "backgroundcolor": "white",
            "gridcolor": "#DFE8F3",
            "gridwidth": 2,
            "linecolor": "#EBF0F8",
            "showbackground": true,
            "ticks": "",
            "zerolinecolor": "#EBF0F8"
           }
          },
          "shapedefaults": {
           "line": {
            "color": "#2a3f5f"
           }
          },
          "ternary": {
           "aaxis": {
            "gridcolor": "#DFE8F3",
            "linecolor": "#A2B1C6",
            "ticks": ""
           },
           "baxis": {
            "gridcolor": "#DFE8F3",
            "linecolor": "#A2B1C6",
            "ticks": ""
           },
           "bgcolor": "white",
           "caxis": {
            "gridcolor": "#DFE8F3",
            "linecolor": "#A2B1C6",
            "ticks": ""
           }
          },
          "title": {
           "x": 0.05
          },
          "xaxis": {
           "automargin": true,
           "gridcolor": "#EBF0F8",
           "linecolor": "#EBF0F8",
           "ticks": "",
           "title": {
            "standoff": 15
           },
           "zerolinecolor": "#EBF0F8",
           "zerolinewidth": 2
          },
          "yaxis": {
           "automargin": true,
           "gridcolor": "#EBF0F8",
           "linecolor": "#EBF0F8",
           "ticks": "",
           "title": {
            "standoff": 15
           },
           "zerolinecolor": "#EBF0F8",
           "zerolinewidth": 2
          }
         }
        },
        "title": {
         "font": {
          "color": "Black",
          "size": 22
         },
         "text": "<b>Hierarchical Clustering</b>",
         "x": 0.5,
         "xanchor": "center",
         "yanchor": "top"
        },
        "width": 1000,
        "xaxis": {
         "mirror": "allticks",
         "rangemode": "tozero",
         "showgrid": false,
         "showline": true,
         "showticklabels": true,
         "ticks": "outside",
         "type": "linear",
         "zeroline": false
        },
        "yaxis": {
         "mirror": "allticks",
         "range": [
          -110,
          0
         ],
         "rangemode": "tozero",
         "showgrid": false,
         "showline": true,
         "showticklabels": true,
         "tickmode": "array",
         "ticks": "outside",
         "ticktext": [
          "10_misericordia_magister_fi...",
          "9_nomen_christus_unus",
          "6_pater_mundus_filius",
          "5_christus_deus_pater",
          "4_deus_locus_via",
          "3_deus_verbum_audio",
          "1_deus_gratia_secundus",
          "2_deus_filius_gaudium",
          "0_scribo_deus_homo",
          "7_mors_sanguis_deus",
          "8_spiritus_anima_ferrum"
         ],
         "tickvals": [
          -5,
          -15,
          -25,
          -35,
          -45,
          -55,
          -65,
          -75,
          -85,
          -95,
          -105
         ],
         "type": "linear",
         "zeroline": false
        }
       }
      }
     },
     "metadata": {},
     "output_type": "display_data"
    }
   ],
   "source": [
    "fig = topic_model.visualize_hierarchy()\n",
    "fig.show()\n"
   ]
  },
  {
   "cell_type": "code",
   "execution_count": 71,
   "metadata": {},
   "outputs": [
    {
     "name": "stderr",
     "output_type": "stream",
     "text": [
      "2024-11-08 01:02:53,717 - INFO - 开始进行模型评估...\n"
     ]
    }
   ],
   "source": [
    "import torch\n",
    "import numpy as np\n",
    "from itertools import combinations\n",
    "from sklearn.metrics.pairwise import cosine_similarity\n",
    "\n",
    "logger.info(\"开始进行模型评估...\")\n",
    "\n"
   ]
  },
  {
   "cell_type": "code",
   "execution_count": 73,
   "metadata": {},
   "outputs": [
    {
     "name": "stderr",
     "output_type": "stream",
     "text": [
      "2024-11-08 01:03:49,473 - INFO - 获取每个主题的前10个关键词...\n"
     ]
    }
   ],
   "source": [
    "# Step 1: 获取每个主题的前 10 个关键词\n",
    "logger.info(\"获取每个主题的前10个关键词...\")\n",
    "topics = []\n",
    "\n",
    "# 遍历所有可能的主题编号，确保每个主题返回的不是 `bool`\n",
    "for topic_num in range(len(topic_model.get_topics())):\n",
    "    topic = topic_model.get_topic(topic_num)\n",
    "    if topic:  # 检查 topic 是否有效\n",
    "        topics.append(topic)\n",
    "\n",
    "# 提取前 10 个关键词\n",
    "topic_words = [[word for word, _ in topic[:10]] for topic in topics]\n"
   ]
  },
  {
   "cell_type": "code",
   "execution_count": 74,
   "metadata": {},
   "outputs": [],
   "source": [
    "# Step 2: 定义获取嵌入的函数（使用您提供的 Latin-BERT 模型）\n",
    "def get_word_embedding(word):\n",
    "    tokens = tokenizer(word, padding=True, truncation=True, return_tensors=\"pt\", max_length=512)\n",
    "    with torch.no_grad():\n",
    "        embedding = bert_model(**tokens).last_hidden_state.mean(dim=1).squeeze().numpy()  # 取最后一层的平均表示\n",
    "    return embedding\n",
    "\n"
   ]
  },
  {
   "cell_type": "code",
   "execution_count": 75,
   "metadata": {},
   "outputs": [
    {
     "name": "stderr",
     "output_type": "stream",
     "text": [
      "2024-11-08 01:03:54,334 - INFO - 计算 TC-EMBED (Topic Coherence - Embed) 指标...\n",
      "2024-11-08 01:03:59,324 - INFO - 平均 TC-EMBED 得分: 0.9823591709136963\n"
     ]
    },
    {
     "name": "stdout",
     "output_type": "stream",
     "text": [
      "平均 TC-EMBED 得分: 0.9823591709136963\n"
     ]
    }
   ],
   "source": [
    "# Step 3: 计算 TC-EMBED (Topic Coherence - Embed)\n",
    "logger.info(\"计算 TC-EMBED (Topic Coherence - Embed) 指标...\")\n",
    "tc_embed_scores = []\n",
    "for topic in topic_words:\n",
    "    embeddings = np.array([get_word_embedding(word) for word in topic])\n",
    "    cos_sim_matrix = cosine_similarity(embeddings)\n",
    "    upper_triangle = cos_sim_matrix[np.triu_indices_from(cos_sim_matrix, k=1)]  # 取余弦相似度矩阵的上三角部分\n",
    "    tc_embed_scores.append(upper_triangle.mean())  # 计算均值\n",
    "\n",
    "avg_tc_embed = np.mean(tc_embed_scores)\n",
    "logger.info(f\"平均 TC-EMBED 得分: {avg_tc_embed}\")\n",
    "print(f\"平均 TC-EMBED 得分: {avg_tc_embed}\")\n",
    "\n"
   ]
  },
  {
   "cell_type": "code",
   "execution_count": 76,
   "metadata": {},
   "outputs": [
    {
     "name": "stderr",
     "output_type": "stream",
     "text": [
      "2024-11-08 01:04:03,003 - INFO - 计算平均成对 Jaccard 相似度指标...\n",
      "2024-11-08 01:04:03,007 - INFO - 平均成对 Jaccard 相似度: 0.08991618976139097\n",
      "2024-11-08 01:04:03,012 - INFO - 评估结果已保存至 /Users/jessie/Documents/Projects/Cusanus_Topic_Modeling/experiments/bertopic_experiment_1731023515/evaluation_results.txt\n"
     ]
    },
    {
     "name": "stdout",
     "output_type": "stream",
     "text": [
      "平均成对 Jaccard 相似度: 0.08991618976139097\n"
     ]
    }
   ],
   "source": [
    "# Step 4: 计算 Mean Pairwise Jaccard Similarity\n",
    "logger.info(\"计算平均成对 Jaccard 相似度指标...\")\n",
    "def jaccard_similarity(set1, set2):\n",
    "    intersection = set1.intersection(set2)\n",
    "    union = set1.union(set2)\n",
    "    return len(intersection) / len(union) if union else 0\n",
    "\n",
    "jaccard_scores = []\n",
    "for topic1, topic2 in combinations(topic_words, 2):\n",
    "    jaccard_scores.append(jaccard_similarity(set(topic1), set(topic2)))\n",
    "\n",
    "avg_jaccard = np.mean(jaccard_scores)\n",
    "logger.info(f\"平均成对 Jaccard 相似度: {avg_jaccard}\")\n",
    "print(f\"平均成对 Jaccard 相似度: {avg_jaccard}\")\n",
    "\n",
    "# 保存评估结果\n",
    "evaluation_results_path = os.path.join(experiment_dir, 'evaluation_results.txt')\n",
    "with open(evaluation_results_path, 'w') as eval_file:\n",
    "    eval_file.write(f\"平均 TC-EMBED 得分: {avg_tc_embed}\\n\")\n",
    "    eval_file.write(f\"平均成对 Jaccard 相似度: {avg_jaccard}\\n\")\n",
    "logger.info(f\"评估结果已保存至 {evaluation_results_path}\")\n"
   ]
  }
 ],
 "metadata": {
  "kernelspec": {
   "display_name": "cusanus_py310",
   "language": "python",
   "name": "python3"
  },
  "language_info": {
   "codemirror_mode": {
    "name": "ipython",
    "version": 3
   },
   "file_extension": ".py",
   "mimetype": "text/x-python",
   "name": "python",
   "nbconvert_exporter": "python",
   "pygments_lexer": "ipython3",
   "version": "3.10.15"
  }
 },
 "nbformat": 4,
 "nbformat_minor": 2
}
