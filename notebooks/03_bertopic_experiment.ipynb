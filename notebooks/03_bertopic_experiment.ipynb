{
 "cells": [
  {
   "cell_type": "code",
   "execution_count": null,
   "metadata": {},
   "outputs": [],
   "source": [
    "import os\n",
    "import time\n",
    "import logging\n",
    "import pickle\n",
    "import tqdm\n",
    "import json\n",
    "from bertopic import BERTopic\n",
    "from sklearn.feature_extraction.text import CountVectorizer\n",
    "from umap import UMAP\n",
    "from transformers import AutoTokenizer, AutoModel\n",
    "import torch\n",
    "import pandas as pd"
   ]
  },
  {
   "cell_type": "code",
   "execution_count": 82,
   "metadata": {},
   "outputs": [],
   "source": [
    "# 设置工作目录\n",
    "BASE_DIR = '/Users/jessie/Documents/Projects/Cusanus_Topic_Modeling'"
   ]
  },
  {
   "cell_type": "code",
   "execution_count": 83,
   "metadata": {},
   "outputs": [
    {
     "name": "stderr",
     "output_type": "stream",
     "text": [
      "2024-11-07 16:09:28,031 - INFO - 启动实验 bertopic_experiment_1730992167，日志记录到 /Users/jessie/Documents/Projects/Cusanus_Topic_Modeling/experiments/bertopic_experiment_1730992167/bertopic_experiment_bertopic_experiment_1730992167.log\n"
     ]
    },
    {
     "name": "stdout",
     "output_type": "stream",
     "text": [
      "启动实验 bertopic_experiment_1730992167，日志记录到 /Users/jessie/Documents/Projects/Cusanus_Topic_Modeling/experiments/bertopic_experiment_1730992167/bertopic_experiment_bertopic_experiment_1730992167.log\n"
     ]
    }
   ],
   "source": [
    "# 生成唯一实验ID\n",
    "experiment_id = f\"bertopic_experiment_{int(time.time())}\"\n",
    "experiment_dir = os.path.join(BASE_DIR, 'experiments', experiment_id)\n",
    "\n",
    "# 创建实验目录\n",
    "if not os.path.exists(experiment_dir):\n",
    "    os.makedirs(experiment_dir)\n",
    "\n",
    "# 获取当前 experiment_id 的日志文件路径\n",
    "log_file_path = os.path.join(experiment_dir, f\"bertopic_experiment_{experiment_id}.log\")\n",
    "\n",
    "# 配置日志记录，使每个实验的日志记录到独立的文件中\n",
    "logger = logging.getLogger()\n",
    "if logger.hasHandlers():\n",
    "    logger.handlers.clear()  # 清除现有的处理器，避免重复添加\n",
    "\n",
    "logger.setLevel(logging.INFO)\n",
    "formatter = logging.Formatter(\"%(asctime)s - %(levelname)s - %(message)s\")\n",
    "\n",
    "# 添加文件日志处理器\n",
    "file_handler = logging.FileHandler(log_file_path)\n",
    "file_handler.setFormatter(formatter)\n",
    "logger.addHandler(file_handler)\n",
    "\n",
    "# 添加控制台日志处理器\n",
    "console_handler = logging.StreamHandler()\n",
    "console_handler.setFormatter(formatter)\n",
    "logger.addHandler(console_handler)\n",
    "\n",
    "# 确保在配置 logging 后马上打印一条信息，便于确认新的日志文件被创建\n",
    "logger.info(f\"启动实验 {experiment_id}，日志记录到 {log_file_path}\")\n",
    "print(f\"启动实验 {experiment_id}，日志记录到 {log_file_path}\")"
   ]
  },
  {
   "cell_type": "code",
   "execution_count": 84,
   "metadata": {},
   "outputs": [
    {
     "name": "stderr",
     "output_type": "stream",
     "text": [
      "2024-11-07 16:09:28,050 - INFO - 实验配置已保存到 /Users/jessie/Documents/Projects/Cusanus_Topic_Modeling/experiments/bertopic_experiment_1730992167/config.json\n"
     ]
    },
    {
     "name": "stdout",
     "output_type": "stream",
     "text": [
      "实验配置已保存到 /Users/jessie/Documents/Projects/Cusanus_Topic_Modeling/experiments/bertopic_experiment_1730992167/config.json\n"
     ]
    }
   ],
   "source": [
    "# 实验配置\n",
    "experiment_config = {\n",
    "    \"parameters\": {\n",
    "        \"n_gram_range\": (1, 2),  # 捕捉更多的上下文短语\n",
    "        \"min_topic_size\": 2,  # 增大最小主题大小以减少噪声\n",
    "        \"nr_topics\": \"auto\",  # 自动确定主题数量\n",
    "        \"umap_params\": {\n",
    "            \"n_neighbors\": 10,  # 增加邻居数使得降维更平滑\n",
    "            \"min_dist\": 0.1,  # 增大最小距离使主题更分离\n",
    "            \"n_components\": 5,  # 增大维度以保留更多特征信息\n",
    "            \"random_state\": 42  # 确保实验可重复\n",
    "        }\n",
    "    }\n",
    "}\n",
    "\n",
    "config_path = os.path.join(experiment_dir, 'config.json')\n",
    "with open(config_path, 'w') as config_file:\n",
    "    json.dump(experiment_config, config_file, indent=4)\n",
    "\n",
    "logger.info(f\"实验配置已保存到 {config_path}\")\n",
    "print(f\"实验配置已保存到 {config_path}\")"
   ]
  },
  {
   "cell_type": "code",
   "execution_count": 85,
   "metadata": {},
   "outputs": [
    {
     "name": "stderr",
     "output_type": "stream",
     "text": [
      "2024-11-07 16:09:28,063 - INFO - 加载 Latin-BERT 嵌入模型...\n"
     ]
    }
   ],
   "source": [
    "# 加载预训练的 Latin BERT 模型\n",
    "logger.info(\"加载 Latin-BERT 嵌入模型...\")\n",
    "model_path = \"/Users/jessie/Documents/Projects/Cusanus_Topic_Modeling/latin-bert/models/latin_bert\"\n",
    "tokenizer = AutoTokenizer.from_pretrained(model_path)\n",
    "bert_model = AutoModel.from_pretrained(model_path)\n",
    "\n",
    "def get_embeddings(texts):\n",
    "    \"\"\"\n",
    "    使用 Latin-BERT 模型为文本生成嵌入。\n",
    "    \"\"\"\n",
    "    tokens = tokenizer(\n",
    "        texts, padding=True, truncation=True, return_tensors=\"pt\", max_length=512\n",
    "    )\n",
    "    with torch.no_grad():\n",
    "        embeddings = bert_model(**tokens).last_hidden_state.mean(dim=1)  # 取最后一层的平均表示\n",
    "    return embeddings"
   ]
  },
  {
   "cell_type": "raw",
   "metadata": {
    "vscode": {
     "languageId": "raw"
    }
   },
   "source": [
    "\n",
    "# 加载预训练的 paraphrase-xlm-r-multilingual-v1 模型\n",
    "model_path = os.path.join(BASE_DIR, 'saved_models', 'paraphrase-xlm-r-multilingual-v1')\n",
    "if os.path.exists(model_path):\n",
    "    logger.info(f\"从本地路径 {model_path} 加载 paraphrase-xlm-r-multilingual-v1 模型作为嵌入模型...\")\n",
    "    embedding_model = SentenceTransformer(model_path)\n",
    "else:\n",
    "    logger.info(\"加载 paraphrase-xlm-r-multilingual-v1 模型作为嵌入模型...\")\n",
    "    embedding_model = SentenceTransformer('paraphrase-xlm-r-multilingual-v1')\n",
    "    embedding_model.save(model_path)\n",
    "    logger.info(f\"嵌入模型已保存到本地路径 {model_path}\")"
   ]
  },
  {
   "cell_type": "code",
   "execution_count": 86,
   "metadata": {},
   "outputs": [],
   "source": [
    "# 创建 CountVectorizer 和 UMAP\n",
    "vectorizer_model = CountVectorizer(\n",
    "    ngram_range=experiment_config[\"parameters\"][\"n_gram_range\"],  # 可调整的 n-gram 范围\n",
    "    token_pattern=r\"(?u)\\b\\w+\\b\"\n",
    ")\n",
    "custom_umap = UMAP(\n",
    "    n_neighbors=experiment_config[\"parameters\"][\"umap_params\"][\"n_neighbors\"],\n",
    "    min_dist=experiment_config[\"parameters\"][\"umap_params\"][\"min_dist\"],\n",
    "    n_components=experiment_config[\"parameters\"][\"umap_params\"][\"n_components\"],\n",
    "    random_state=experiment_config[\"parameters\"][\"umap_params\"][\"random_state\"]\n",
    ")\n"
   ]
  },
  {
   "cell_type": "code",
   "execution_count": 87,
   "metadata": {},
   "outputs": [
    {
     "name": "stdout",
     "output_type": "stream",
     "text": [
      "tensor([[ 5.0366e-01, -8.2940e-02,  6.8993e-01, -6.4628e-01, -5.4111e-01,\n",
      "          1.3897e-01,  3.0640e-01, -3.8169e-01, -6.9933e-02, -2.7038e-01,\n",
      "          3.1233e-01,  8.5968e-01,  2.7322e-02, -2.3399e-01, -5.9250e-01,\n",
      "         -1.1730e-01, -5.7347e-01, -1.2630e-01, -2.6752e-01,  1.5595e+00,\n",
      "          2.0561e-01,  8.4108e-02,  1.3122e-01, -3.5626e-01, -1.1722e-01,\n",
      "         -2.0510e-01, -5.6573e-01,  7.0868e-02,  9.3588e-01, -1.3381e-01,\n",
      "          4.3802e-01, -4.6198e-01, -5.5544e-01, -4.5095e-02,  2.5489e-01,\n",
      "          1.0352e-02, -2.6475e-01, -3.1353e-01, -3.2140e-01,  2.5392e-01,\n",
      "          4.2841e-02, -5.3262e-01, -4.7118e-01,  2.0216e-02,  1.9804e-01,\n",
      "          1.7835e-01,  5.8115e-01, -1.4839e-02, -1.1122e-01,  1.4460e-01,\n",
      "         -3.0590e-01, -6.8662e-02, -4.8024e-01, -1.7965e-02,  6.8085e-01,\n",
      "         -5.7150e-02,  2.8283e-01,  4.7284e-01, -4.3270e-01,  4.1282e-01,\n",
      "         -3.8502e-01, -3.2037e-01, -1.3186e-01, -1.9784e-01, -3.6641e-01,\n",
      "         -2.9638e-01,  4.5709e-01, -4.0017e-01,  1.9752e-01,  4.3947e-01,\n",
      "          6.9259e-01,  1.8102e-01, -2.8478e-02, -2.2289e-01,  3.8859e-01,\n",
      "          2.6211e-02,  1.0996e+00, -1.1497e-01, -5.7497e-01, -1.1729e-02,\n",
      "         -4.2045e-01, -3.0843e-01,  9.0895e-02, -1.7328e-01, -3.1238e-01,\n",
      "          3.7048e-01, -2.0239e-02, -5.7462e-01,  9.7577e-02, -2.0367e-01,\n",
      "         -6.5507e-02,  1.4263e-01,  5.4276e-01,  1.0106e+00,  1.1019e-02,\n",
      "         -4.3890e-01, -3.5101e-01,  6.5676e-02, -6.7375e-01,  4.1917e-01,\n",
      "         -9.8782e-04, -2.4264e-01,  4.6219e-01, -2.7365e-01, -3.3337e-01,\n",
      "          9.7125e-02, -1.1937e-01,  3.5245e-01, -7.1444e-01, -1.0657e-01,\n",
      "         -1.0270e+00,  3.4252e-01, -4.2785e-02,  2.9365e-01,  5.5999e-01,\n",
      "          6.6448e-01, -6.4229e-02,  3.2536e-01, -5.4367e-01, -8.9393e-02,\n",
      "         -4.8525e-02, -9.1177e-01,  1.5542e-01,  4.4633e-01, -3.3177e-01,\n",
      "         -8.8986e-02, -1.9531e-01, -1.1429e-01,  7.5570e-01,  2.6343e-01,\n",
      "         -4.7302e-01,  1.7438e-01,  6.2813e-01,  6.4365e-01,  4.0286e-01,\n",
      "          1.4198e-01,  7.5546e-02,  3.7883e-01, -4.1942e-02, -2.6464e-01,\n",
      "          3.8287e-01,  6.9954e-01, -9.3818e-01,  5.9115e-02,  3.5997e-01,\n",
      "          4.0677e-01, -1.1034e-01, -2.5372e-01, -1.2874e-01,  1.9075e-03,\n",
      "          1.7433e-01,  3.3347e-01,  1.2844e-01,  5.9326e-01,  1.7498e-01,\n",
      "         -2.2536e-01, -3.0768e-01,  3.6236e-01, -1.8432e-02,  2.4734e-01,\n",
      "         -6.1278e-01, -4.4356e-01, -1.9437e-01, -3.9621e-02, -2.3512e-01,\n",
      "         -3.6037e-03,  2.0286e-01, -2.6713e-02, -1.0710e-01, -8.8328e-01,\n",
      "          3.7656e-01,  6.3949e-01, -3.2255e-01, -5.8913e-01,  3.4767e-01,\n",
      "         -1.0148e+00, -3.8270e-01, -3.5710e-01, -1.5122e-01,  1.5240e-01,\n",
      "         -5.7617e-01,  4.5184e-01,  3.2431e-01,  8.5980e-03, -2.9515e-01,\n",
      "          9.9278e-02,  1.0953e-01,  2.4295e-01, -3.3004e-01, -1.7893e-01,\n",
      "          4.0880e-01, -7.2020e-01,  2.1711e-01, -3.0281e-01, -3.9843e-01,\n",
      "          4.2116e-01, -1.2965e-01,  4.0198e-02, -4.2164e-01, -8.3084e-02,\n",
      "         -2.4147e-01, -3.2492e-01, -4.2573e-01,  3.7266e-01,  2.0472e-01,\n",
      "          1.1839e-01, -6.2122e-01,  4.2766e-02,  4.9438e-02,  9.7960e-02,\n",
      "         -1.6907e-01, -3.6035e-01,  6.1126e-01,  6.9528e-02, -8.5481e-01,\n",
      "          2.9676e-01,  2.9502e-01,  2.9201e-01, -1.8138e-01,  7.7091e-02,\n",
      "         -1.8203e-01, -5.9710e-01, -6.1847e-02,  6.0319e-01,  5.7163e-01,\n",
      "          2.5389e-02,  3.1230e-01,  7.2781e-01, -1.6700e-01,  2.7848e-01,\n",
      "         -3.2789e-01, -5.0140e-01,  5.0282e-03,  9.4694e-02,  2.0720e-01,\n",
      "         -1.7129e-01, -3.3812e-01,  5.2432e-01, -5.1699e-01,  4.9529e-01,\n",
      "         -8.0152e-02, -1.2502e-01, -1.9833e-01,  9.0186e-02,  6.5468e-01,\n",
      "          4.5704e-01, -2.9726e-01,  2.5139e-01, -4.3191e-01, -2.9226e-02,\n",
      "         -5.7017e-02, -1.7614e-01, -2.5871e-03, -2.4644e-01,  1.2708e-01,\n",
      "         -2.6594e-01, -3.7033e-01,  9.5996e-02,  8.0362e-02,  2.8633e-01,\n",
      "          4.9894e-01,  1.9395e-01,  1.5220e-02, -3.9791e-01,  3.6666e-01,\n",
      "         -8.0664e-03, -5.0223e-01, -3.7348e-01,  1.8210e-01,  1.0692e-01,\n",
      "          5.1044e-01, -5.1422e-01,  2.4432e-02,  3.9197e-01, -6.5737e-01,\n",
      "          2.5832e-01,  5.1140e-01, -1.8151e-03, -2.0285e-01, -7.1984e-02,\n",
      "          4.1463e-01,  1.7122e-01, -2.8076e-01,  5.7659e-02,  4.3147e-01,\n",
      "          2.4103e-02, -2.8183e-01, -1.8862e-01, -3.4526e-01, -4.0287e-01,\n",
      "          5.8250e-02,  4.1212e-01, -4.0328e-01,  1.9085e-01,  4.7715e-02,\n",
      "          1.2027e-01,  3.7768e-01, -3.2727e-01, -6.1245e-02, -1.2559e-01,\n",
      "         -2.6479e-01, -2.4356e-01, -3.3583e-01, -2.7082e-01,  1.0748e+00,\n",
      "          1.6554e-01,  4.6252e-02, -7.8012e-01, -1.3987e-01, -3.0280e-01,\n",
      "          4.6024e-01, -4.2622e-01, -8.0339e-01,  5.2727e-01,  2.0164e-01,\n",
      "          2.2153e+00,  4.7669e-01,  4.8022e-02, -5.1652e-01, -2.9320e-01,\n",
      "         -7.7057e-01,  5.9636e-01,  5.6998e-01, -2.6680e-01, -7.1681e-01,\n",
      "          2.3952e-01,  9.4098e-02,  2.3901e-01, -1.3030e-01,  7.3740e-02,\n",
      "         -4.8878e-01, -7.6897e-01,  2.3119e-01, -3.1690e-01, -4.1508e-01,\n",
      "         -6.2731e-01, -2.2208e-01,  5.5879e-03, -5.5926e-02, -8.9808e-01,\n",
      "         -2.4431e-01,  3.0406e-01,  3.9273e-01,  7.1827e-02,  6.9628e-02,\n",
      "          6.7576e-01,  5.2916e-02, -1.4484e-01,  5.7725e-02, -5.5682e-01,\n",
      "          3.7590e-01, -1.1154e-01, -2.1477e-01, -1.9996e-01, -1.3563e-01,\n",
      "          2.8734e-01, -7.0824e-02, -4.1193e-02,  7.3351e-02, -2.8305e-01,\n",
      "         -4.9766e-01,  4.6374e-02, -5.4294e-01, -3.2490e-02,  5.3954e-01,\n",
      "          2.8355e-01,  7.3416e-01,  2.5200e-01, -1.2438e-01, -1.4907e-01,\n",
      "         -3.2153e-01, -5.8108e-01,  3.7830e-01, -7.6880e-01,  2.2972e-01,\n",
      "         -6.0692e-01,  4.0897e-03, -3.5985e-01, -5.8783e-01, -4.2129e-01,\n",
      "          1.7310e-01, -5.0103e-01, -3.5774e-01,  3.5709e-01, -3.9347e-02,\n",
      "         -5.0152e-01,  1.4871e+00,  1.8774e-01,  4.5776e-01, -1.5869e-01,\n",
      "         -2.0256e-01, -1.1986e-01, -4.4688e-02, -4.8394e-01,  3.9379e-01,\n",
      "          9.6483e-02,  2.2134e-01, -5.6051e-01,  1.6641e-01, -3.5391e-01,\n",
      "          2.6161e-01,  4.5261e-01,  4.3685e-01, -2.4181e-01,  5.7013e-01,\n",
      "         -1.9335e-02,  1.5860e-01, -3.4863e-01, -2.4289e-02, -5.6534e-03,\n",
      "         -2.4921e-01, -9.4277e-02,  3.4574e-01,  5.3890e-01,  1.8827e-01,\n",
      "          2.4870e-01,  5.6085e-04,  3.5361e-01, -2.8560e-01, -4.9965e-01,\n",
      "         -4.3973e-01,  1.8252e-01,  5.0333e-01,  2.1045e-01, -3.1403e-02,\n",
      "          9.5885e-02,  5.2266e-01,  2.4148e-01,  2.5845e-01,  2.7096e-01,\n",
      "          9.5679e-02,  1.2039e-01,  1.1419e-01,  1.6795e-01, -4.8759e-02,\n",
      "         -5.3160e-01, -2.8669e-01, -1.3484e-01,  4.6131e-01,  2.8441e-01,\n",
      "         -3.8168e-01, -5.0325e-01, -9.6605e-02,  6.1318e-01, -1.2738e-01,\n",
      "          4.8003e-02,  9.9599e-03, -1.3208e-01,  6.4887e-01,  1.9233e-01,\n",
      "          3.4580e-01, -5.4479e-01, -1.2829e-01, -8.1577e-01,  4.3913e-01,\n",
      "         -1.3116e-01,  1.9522e-01,  2.7578e-02,  3.2810e-01, -1.9188e-01,\n",
      "          5.0535e-01, -2.1467e-01, -2.6764e-01, -1.1546e-01,  1.0457e+00,\n",
      "         -1.4476e-01,  4.1003e-01, -9.1460e-02, -4.9335e-02,  3.5965e-01,\n",
      "         -6.5371e-02,  2.0169e-01, -4.2187e-01, -2.9415e-01,  2.9586e-01,\n",
      "          1.8771e-01, -9.4296e-02, -3.3305e-02, -2.9164e-01, -1.4174e-01,\n",
      "         -1.1281e+00,  3.0414e-01, -1.5313e-01,  2.2578e-01, -6.0420e-01,\n",
      "          5.9892e-01,  6.8497e-02, -5.3107e-01, -1.9902e-01,  1.9498e-02,\n",
      "          3.8265e-01,  2.3734e-01, -3.0046e-01,  3.0829e-01,  3.3516e-01,\n",
      "          4.3633e-01,  4.0136e-01, -3.8128e-01,  7.0281e-01, -3.1280e-01,\n",
      "          1.1432e-01, -9.4908e-01,  3.3348e-01, -7.8457e-01,  5.1692e-01,\n",
      "         -3.0178e-01, -3.5021e-01,  1.9977e-01,  6.5564e-01, -3.9756e-02,\n",
      "         -1.1429e-01, -1.7267e-01, -2.9074e-02,  2.3752e-02, -3.1981e-02,\n",
      "          1.4800e-01,  5.0988e-01, -2.3170e-01, -1.6018e-01,  1.7055e-01,\n",
      "          2.9924e-01,  2.9629e-01, -5.4287e-01,  2.5360e-01, -7.2941e-02,\n",
      "         -3.8433e-01, -3.6279e-01,  3.5625e-01,  1.3455e-01, -2.0113e-01,\n",
      "          4.8066e-01, -5.3119e-01,  4.5755e-02,  1.0353e-02,  1.0107e-01,\n",
      "          1.3006e-01, -1.2744e-01, -1.3851e-01, -4.0619e-01,  2.5656e-01,\n",
      "          2.0785e-01, -9.8608e-02, -3.3870e-01, -3.1352e-01, -3.1137e-01,\n",
      "         -4.6304e-01,  2.0375e-01, -1.6596e-01, -7.5329e-01,  5.5704e-01,\n",
      "          2.2049e-01,  1.1454e-01,  2.4451e-01,  3.8407e-02, -3.0033e-01,\n",
      "          7.1851e-02, -1.8217e-01, -1.7128e-01, -1.1718e-02,  5.6963e-02,\n",
      "         -2.2424e-01, -8.2828e-02,  8.0513e-02, -3.0261e-01,  5.0769e-01,\n",
      "         -4.1252e-01,  4.2988e-02, -2.6969e-01,  3.6315e-01,  7.8228e-03,\n",
      "          5.4820e-01, -6.2924e-03,  2.8640e-01, -3.0040e-01,  1.3808e-01,\n",
      "         -3.4656e-01, -1.8657e-01,  3.8129e-01,  1.5732e-01,  6.2529e-02,\n",
      "          3.5157e-01, -1.2423e-01, -3.4812e-01,  1.0131e-01,  3.5936e-01,\n",
      "         -2.8294e-01, -1.8842e-01, -9.6370e+00, -3.1818e-01,  7.7589e-02,\n",
      "          1.0573e+00, -6.8915e-01,  1.4101e-02,  2.5207e-01,  1.5217e-01,\n",
      "         -8.9225e-01,  2.8956e-02, -1.4664e-01, -1.5725e-01, -3.6008e-01,\n",
      "         -3.0145e-01,  1.1628e-02, -6.0011e-01, -7.5842e-02,  4.5823e-01,\n",
      "         -3.4370e-02,  2.5894e-01, -2.2136e-01, -1.4506e-01,  2.7065e-01,\n",
      "         -6.2149e-01,  1.1639e-01,  4.7816e-01,  5.2585e-01, -1.4867e-02,\n",
      "          3.6562e-01, -7.3036e-01,  3.9640e-01, -9.2641e-02, -1.4520e-01,\n",
      "         -5.2520e-01,  7.1308e-02, -1.4302e-01,  6.1331e-02, -4.2799e-01,\n",
      "          9.9663e-03, -1.7007e-01, -7.2850e-01,  5.8192e-01,  1.0114e-01,\n",
      "         -6.8056e-01,  4.1058e-01, -5.2495e-02, -3.3698e-01,  2.5145e-02,\n",
      "         -1.0911e-01,  3.7330e-01,  7.7009e-01, -9.7151e-02, -5.4759e-01,\n",
      "         -3.8279e-01, -5.4705e-01,  7.1778e-02, -8.7350e-02,  6.4631e-01,\n",
      "         -2.6644e-01, -1.2266e-01,  8.0509e-01,  5.5113e-01, -3.6229e-01,\n",
      "         -3.0417e-01, -1.0711e-01,  2.1900e-01,  2.5962e-01, -1.5198e-01,\n",
      "         -1.5894e-01, -2.2656e-01, -8.8879e-01, -2.3720e-01, -5.7328e-01,\n",
      "          2.7902e-01,  4.2998e-02, -4.3929e-01,  1.7748e-01,  2.6481e-01,\n",
      "         -2.2398e-01, -1.3291e-01,  2.0959e-02,  2.6745e-01, -1.5444e-01,\n",
      "          1.2141e+00, -3.8626e-01, -1.7923e-01, -1.4511e-01,  3.7968e-01,\n",
      "         -7.7312e-01,  1.6122e-01,  3.3459e-01,  1.7884e-01,  1.3262e-01,\n",
      "          2.6894e-02,  2.3492e-01, -9.3868e-01,  8.4572e-02,  1.8902e-01,\n",
      "          5.4147e-02,  4.1499e-01,  4.6198e-01,  2.0451e-01, -7.4528e-01,\n",
      "         -1.5448e-01,  4.1348e-01,  1.1957e-01, -4.4937e-01,  3.1358e-02,\n",
      "         -5.6025e-01, -1.9106e-01,  4.9751e-01,  6.2929e-01,  4.9818e-02,\n",
      "         -4.2678e-01, -1.7255e-01,  9.3037e-02,  2.7393e-01, -6.3979e-02,\n",
      "          4.7758e-01, -7.3869e-02, -2.3626e-01,  1.0136e-01,  4.8412e-02,\n",
      "          6.9086e-01, -4.1659e-01,  2.0088e-01, -2.5815e-01, -1.9898e-01,\n",
      "         -2.8028e-01, -3.2121e-01,  1.4560e-01, -7.9918e-01, -2.3673e-01,\n",
      "         -2.8830e-01,  3.4331e-01, -7.8553e-01,  8.4563e-02, -1.9342e-01,\n",
      "         -8.9630e-02,  1.0674e-01, -1.1111e-01, -4.9847e-01,  1.6918e-01,\n",
      "          3.9834e-01,  8.6591e-01, -1.1572e-01,  1.2202e-01,  2.8000e-01,\n",
      "          2.2551e-01,  2.4516e-01,  6.3575e-01,  1.4091e-01,  1.3203e-01,\n",
      "         -4.5205e-02, -4.5650e-01, -2.5887e-01, -2.0057e-01,  9.3934e-03,\n",
      "          9.0142e-02, -1.0299e-01, -1.3497e-01,  6.9413e-02, -2.0090e-01,\n",
      "          1.0867e-01, -1.9101e-01, -9.6387e-01, -3.4892e-01, -1.7437e-02,\n",
      "         -1.0629e-01,  5.4478e-01, -4.1395e-01,  1.2589e-02, -7.5015e-01,\n",
      "          2.2394e-01,  1.5341e-01, -3.2525e-01, -2.3680e-01,  1.9665e-01,\n",
      "          1.5119e-01, -1.0585e-01,  1.1223e-01]])\n"
     ]
    }
   ],
   "source": [
    "# 检查嵌入生成\n",
    "sample_text = [\"Gallia est omnis divisa in partes tres.\"]\n",
    "embeddings = get_embeddings(sample_text)\n",
    "print(embeddings)"
   ]
  },
  {
   "cell_type": "code",
   "execution_count": 88,
   "metadata": {},
   "outputs": [
    {
     "name": "stderr",
     "output_type": "stream",
     "text": [
      "2024-11-07 16:09:30,922 - INFO - 加载测试集数据...\n",
      "Loading testset files: 100%|██████████| 61/61 [00:00<00:00, 2220.85it/s]\n",
      "2024-11-07 16:09:30,992 - INFO - 加载了 61 个文档用于 BERTopic 实验。\n",
      "2024-11-07 16:09:30,998 - INFO - 文档列表包含 61 个文档。\n"
     ]
    },
    {
     "name": "stdout",
     "output_type": "stream",
     "text": [
      "['thesaurus cor evangelium locus iustus iustus iustitia albus albus al¬bedo christianus christianus christus christus maneo volo necessarius induamus induo maneo comessatio ebrietas cubilis im¬puditiis ambulo ambulo volo1 iustus studeo induo iustitia vo¬lens calidus induo caliditas thesaurus volo calidus certus ignis calidum reperio om¬nia participatio ignis calidum plenitudo ignis thesaurus recipio calidum caliditas christus plenitudo gratia plenitudo gratia ad-sequor recipio calor1 fomentum vi¬tae sensibilis calidus umidus consisto gratia pasco spiritus gratia ra¬dius sol justitia christus deus vivo amo amo gratia amo christianus verus christianus vivo gratia chri¬sti studium quaero assimilaris diligo cupio thesaurus verus christiani christus cor locus reperio christus verus minister christus minister locus sequor minister se¬quitur christum mors cum2 christus resurrectio incoho ieiunium quadragesimal ecclesia institus spiritus christus moveo christus apostolus successo¬ribus rector ecclesia audio au¬dit christus praecipio custodio amo amo praeceptum cum2 gaudium recipio stringo servo fomentum vita amplector vivo amo lex amo ecclesia rector ecclesia jejuno christus quadraginta dies nox christianus ieiunaris debeo christus actium instruc¬tio edo1 ieiunaris dies nox tene¬mur bonus ieiu¬naris validus obligaremur saltem solutio teneo evangelium hau¬rire debeo praeceptum jejunium praeceptum christus poena pecco mortalis cum2 humilitas mens delectatio sus¬cipere debeo dominicus propior tango caritas virtus christus vito praecipio vita praecipio qui¬bus spiritus vivo cupio cum2 alacritas pareo vita oppono mors ruo displicenter capio confero spiritus liber voluntas involuntarium intro2 intro2 vivifico doceo hypocrisin spiritus christus validus adversaris spiritus christus ar¬det amor deus contemno spiri¬tus hypocrita vanitas spiritus ardeo amor contemno deus finis opus deus solus finis opus spiritus iesus quaero gloria su¬am deus gaudeo gloria deus impendeo apostolus gaudeo conspectus concilium dignus nomen iesus contumelia patior cum2 jejuno nolo hy¬pocritae tristis conrumpo appareo homo jejuno hy¬pocritae judico gloriosus ieiunaris homo conrumpo macilentia appareo homo jejuno vanus gloria curo spiritus vanus gloria validus adverso christus veritas ho¬die dominor totus christianitas ap¬proximat antichristus proprius mansio sano oculus intueor sta¬tum christianitas vanitas reperio veritas vereor vita christus princeps praefero religiosus saecularis adverto bonus appareo potis timeo sententia christus amen recipio merces bonus bene opus mereo recipio gloria opero assecutu¬rum credo homo sequor cum2 jejuno ungo caput lavo homo jejuno intendo de¬bere finis gloria deus pater ungo caput lavaris signum laetitia ieiu¬nantes mundus ostendo appareo tri¬stes mundus iudico jejuno solus deus nitor complacere considero sequor pater abscon¬so verus jejuno debeo curo vide¬atur jejuno pater ieiu¬nantis deus absconso signum sensibilis mundus intueor cor scru¬tator cordium consequenter pater absconso reddo servio merces haurio littera ieiunium fie¬ri utilitas sanitas augmentum intelli¬gentiae prolongatio vita deus retributio ieiunium poenitentia homo affligendo corpus motus concupiscentia caro oculus superbi¬am vita mortificaris finis amo¬ri divino spiritus quiesco vacaris ioel propheta instruo poenitentem necesse converto dominus converto peccator secundus concupiscentia ambulo deus incommutabilis recedo corruptibilis uniendo necesse doleo converto deus mercator lucrum infirmis sa¬nitas vanus gloriosus miles tole¬rant torneamentis hastiludiis mulier pompaticae laus homo mos bestia poenitere debeo tole¬rant vivo nutrio daemon jejuno vigilo la¬borant perverto intentio propheta totus cor debeo poenitentia integer voluntarius proprius cor debeo asper jejunium dolorosa fleo internus scindo cor vehemens debeo contritio scindo cor debeo concurro poenitentia ieiunantis sequor evangelium nolo thesaurizaris thesaurus terra aerugo tinea de¬molitur furo effodio furo hypo¬crita avarus peccator thesaurizo terra deus dirigo cor desiderium deus nihilum corruptibilis aerugo tinea perdibilis furtum oblivio thesaurizo thesaurus caelum aerugo tinea demolio furo effodio furo incorruptibilis caelum timor perditio repono locus lo¬catum locus conservo loco id¬eo aeternitas pereo locus cum2 locus conservativus loco aeternitas incorruptibi¬litas conservo aeternitas recondo aeternaliter christus loquor spiritualiter verbum spiritus vito subjungo thesaurus cor cor voluntas diligo thesaurus amo appeto1 voluntas amo thesaurus pater abscondo pater caelis caelum celo abs-condio voluntas volo bonus amo bonus bonus absolvo infinitus the¬saurus chordus1 justus recingo', 'verus filius deus memoria ago mors jesu christus christianus compassio rectus ago patior dominus passio acerbus dolor exter laceratio cor¬poris intereo tristitia magnus declaro sancio thomas tertius pars summa exter sensibilis ma¬ximus convinco christus nobilis¬simae complexio tener compac¬tio membrum patior compassus mater maestissimae au¬tem pateo angustiae martyrium ma¬trem converro mulier genus passio mors cru¬cifixorum acerbus confi¬guntur locus nervosus mors diuturnus aetas iuvenilis vivax liberaris volo peccatum po¬testas iustitia patior peccatum peccator innumerabilis ma¬ximis tristis tristis pecco multitudo magnitudo peccator probo tristis cla¬ritas cognitio peccator augeo tristitia malus displiceo cogno¬scitur maximus careo dilectio deus offen¬ditur pecco adaugeo tristitia tristis ingratitudo judaeorum bonus terra fluo lac mel cura casus discipulus vendo discipulus distinctissime anima percipio molestia infero tristissi¬ma nosco exemplum serpo aeneus jo¬hannis tertius inspectio curo memoria passio serpens aeneus curo cum2 fides accedo christus accedo cum2 fides crux sano considero bonus exemplum serpens vi¬vus mordeo mortuus libero nosco exposi¬tio augustini considero bene cursus passio ordo gero expo¬scat testimonium sanguis cogito exceptio agonium probo filius deus paruus patior homo mors terribilissime praesentaret patior dies sol perdo lux mors innocens attestaretur pilo1 sententia innocens judico praevaleo peccatum primus quaero convenio christum morior peccatum adae conveni¬ens domicellus furtum pomum sus¬penderetur dominus servus1 sermo a<ldobrandini> tuscanelli', 'accipio stas salvo corinthios epistula curro dominicus pontifex magnus jesus christus penetro caelus pontifex ec¬clesia catholicus sponsa acquisivit sanguis aedificatio corpus mysticus salus relinquo legatio fungor apostolus successor exsisto christus audio audio mitto vivo pater mitto mitto christus quaero salvus pontifex vicarius iubeo quae¬rere salvus pontifex co¬ram conspicitis christus legatio subin¬travit cogito deus mitto quaero salvo neglegentia inexcusabilis pontifical iugum subicio publicus privo occupatio exsecutio sanctus propono retraho verus cum2 qualiscumque opportunitas offertor sanguis subditor manus discretissimo deus iudicium exquiro frater deus servus1 venio quaero salvus ne¬cessitas committo officium pastoral sollicitudo visita¬tio consisto visitatio verus exhortor prae¬dicando corrigo reformo iubeo reverendus paternitas exhortati¬onis initiaris seriatim visitatio membrum reverendam paternitas de¬veniatur paruus tempus con¬grue exhortaris requiro oboedio constringo verbum doctor gens expletio mando1 convolavi accipio sta¬tis salvo paulus1 corinthiis evangelium annunti¬avit christus mors libero resurrectio vivificati audio semino resurrectio morior rescribo corinthiis annuntio evangelium praedico1 ac¬ceperunt christus di¬lectissimis frater annuntiandum occurro nosco quoad innovem pater apostolici vir considero christus doctrina evangelica vita salus contineo homo christus jesu resurgo aeternaliter vivo animadverto ne¬cessitas resurgo valeo supererogatio perfectiore ordo beatitudo adipiscitur paulus1 sentio primus christus christus qui1 ordo re¬surgent perfectiore ordo christus resurgo perfectiora vito attingo christus expli¬cavit dilectio deus propior vita assequor perficio volo vendo debeo pau¬peribus christum sequor ali¬bi beati pauper spiritus ipso¬rum regnum caelum1 cum2 mortificaris om¬nium capio sancio apostolici vir perfectio¬nem studium tendo regula constituo via perfecto¬rum tendo obligo fidelis om¬nes perficio elige¬rent adipiscor vivo mo¬dum evangelicum regula observo cano¬nici regularis annuntio clerici por¬tio fidelis sortio divina possessi¬onem dominus possessio re¬gularis canonici strictioribus regulis subicio dominus astrinxistis secundus militaris teneo assequamini salvati¬onem perfectiore ordo accipio regularis iugum canonici stas sal¬vemini pono manus arater respicio retro aptus regnum caelum1 oportet unumquemque maneo perse¬verantem vocatio voco praemium consequor debeo maneo sto consto accipio evangelium voveo libertas reddo necessitas regula sancio constringo cum2 canonici accipio necesse sto salvo tendo exhortatio subsequor visitatio verus sto accipio realiter sanc¬tor regulis vivo fallo labium superficies verbum cano¬nici vocitemini cor removeo vis nomi¬nis elongati publicus mundus dolosus statera odiosus offendo pistor cerdo gene¬ris mechanicum profiteor dolosus statera utor verus triticeus panis appareo de¬ceptorium vendo iustus dolo¬sam statera defero publicus servio offendo qua¬propter visitantur opus mechanicorum corrigo reformentur sacrum concilium saepis definio lego2 placeo secundus etymo¬logiam nomen vivo monachus secundus derivatio unus solus tristis defleo delictum canonicus regularis regulis sancio astringo episcopus superintendens presbyter via salus praebeo reliquus summus exhortatio accipio nomen canonici opus ostendatis summus salus consequor fortassis juvenis nosco vis vocabulis edissero vis vocabulis accipio sto oportet subsequor salvatio hiis tres interrogatio brevis sa¬tisfacere curo primus accipio explano secundus sto tertius praemium consequor ali¬quantisper explico quoad primus magnus accipio peculiariores servus1 christus constituo deus spiritus spiritus servio vita sancio profiteor mun¬di abdico1 totus deus dedicarent regularium vito mundus abstraho debeo sursum sapio credo mona¬chos differo unus sancio consi¬deratio abdicatio proprietas mundus mortificatio caro resi¬gnatio libertas arbitrium consisto recedo mundus deus adhaereo spiritus religio substantialia scio exsisto mundus mortificant sancio jo¬hannes mundus concu¬piscentia caro concupisco oculus superbia vita consisto tres praenarravimus relegaris manifestus religio mundo immaculatus scio mundus inquinamenta relegaris regula pater contineo mundus desero2 deus ad¬haereatur accipio fortassis accipio stricti¬tudo vita mortuus mundus mo¬nachos proprius possideo possu¬mus morior convenio respondeo nego cano¬nicos religiosus debeo strictioribus regulis constringo differo mundus religio diversitas praetactis substantial con¬veniunt unus remitto stringo canonicorum re¬gula laxus gradus teneo latitudo religio egredior administratio permitto reditus ecclesia vivo ta¬men vinco vestio necessita¬tem ius vindico do¬naris testaris proprietarius convenio valeo parum refero conventual regularis unus administratio concedo cum2 uniquique lex unus praeessenti concedo solus peculium successio differo sacer ordo matri¬monium convolaris concedo cum2 ordo castitas voveo advenio re¬gulas pater oboedientia apertus vove¬mus superus accipio vita religiosus quo¬niam stipendium vinco vestio mortifico carnis vita castimonia voluntas oboedientia deus servio constrinxi¬mus salvemur frater iugum do¬mini accipio secundus quaestio satisfaciendo accipio sto valeo respondeo stas dominus mancipastis secundus dominus condicio sedulus servio laboro cum2 deus mundus regnum mundus ne¬cesse studium mundus desero2 regnum beati assequemini pauper spiritus regnum alo gradus adi¬piscemini mundus parvi¬pendetis affluo divitiae cor apposueritis delectamentum caro sperno arrogo semoveo humilitas subiec¬tio sperno vivo sto vide¬mini accipio consideraveritis deus veritas vereor consuetudo veritas colueri¬tis veritas amplector stas accipio iustitia pietas constantia fortitudo caritas intellego deus virtus abstractissima servio vitiosus careo sto accipio caritas sto cupio accipio salvo caritas dili¬gite alteruter frater christus jesu careo cognosco sto dilexeritis invicem contentio rixa carnal idolum servio avaritia regno ago unusquisque volo frater firmiter accipio sto al¬terius onus portas iudico nolo cum2 ascenderitis templum pharisaei divido iustificantes recordor justifico publicanus conspectus dominus humiliantes acediosi servitium ser¬vire locus proposuistis diligo sedulis os cor ani¬mo totus volo deus hiis steteritis decet christus mi¬lites accipio teneo virtus virtus ascendo humanus conversatio angelicam transfero caecitas vi¬sum ignoro scientia terrenus caelestis sto ascendo sursum continuus secundus quaestio tertius quaestio salvatio promitto sto respondeo cor homo capax felicitas ulter promitto deus diligen¬tibus magnus diligo oppono non-esse verus magnus vivo diligo vito viventi¬bus horribilis mors verus magnus amo spiritus intellectual intellego ignoro mors vita vivo intellectual spiritus intellego assequeris frater hiis gradus magnus incorruptibilis salvati¬one aeternitas exsistentiae vito immortalitas vita intellego apprehensi¬onem verus desiderium indefectibiliter intellectual visio deus jesum christum domi¬num visio perduco jesus salvator saeculum saeculum benedico', 'unus oblatio consummo sempiter¬num sanctifico unus oblatio consummo sem¬piternum sanctifico christus rex rex dominus dominor johan¬nes apocalypsis primus capitulum1 la¬vit sanguis princeps rex terra principium genesis homi¬nem creo praesum bestia de¬inde genesis quartum capitulum1 reperio deus cain appeto1 pecco intelligo appeto1 sequor natura bestial animal sensibilitas appeto1 pecco homo ratio homo dominabi¬tur reperio homo homo praefero rex na¬turaliter rego vigeo volo1 rego ratio homo ra¬tio vigeo naturalis dominus rector aristotelis homo bestia praefero christus princeps rex terra cu¬ius regnum mundus regnum rex pasco homo regnum pasco bestia regnum pasco rex homo princeps teneo principatus ratio rego deus sapientia ratio expers sapientia apto rego solus sapientia ratio luceo oboeditur ratio ostendo veritas sapientia oboeditur audi¬ens auditus intellego capio acquiescit praecipio sapientia vereor princeps rex praecipio prae¬cepta vita vivificantis suavis gratus plenus amor homo natura praesum bestia intereo homo praesum exter paulus animal interior homo praesum ver¬bum pater verbum praesum pater paulus1 caput mulier vir ratio dominaris appetitui paulus1 caput vir christum caput christus deus rex animalitas bonus sensibilitas bonus anima rational animal brutus1 bonus princeps ratio homo humiliatio princeps rex virtuosior humanus humiliatio oboedio oboedientia bonus oboedio victima oboedio cum2 victima illi¬us consummo oblatio complicans om¬ne mereo mediatio pacificus victima possibilis recon¬ciliatio attendo textus2 gene¬sis deus imago similitudo homo creo praesum bestia verus praeessentia imperium conservaris dependo deus creator similitudo deus prae¬est universaliter creo homo participo divina potestas quoad bestia manifestus praeessentiam ra¬tio volo1 rational similitu¬do deus creo experior praesum sensibilitas animalitas cum2 imperium ratio extendo sensibilis natura manifestus homo exterio¬rem animal homo per¬cipit deus subsum debeo homo inte¬riori spiritus percipio deus percipio deus rego debeo exter homo secundus verbum princeps ratio loquor audio loquor dominus similitudo deus praeessendo servo augeo assimilat regimen su¬um divinus praecipio percipio verus negligit principatus rego dominor animalitas evenio appeto1 erigo inoboedientia imago deus obscuro rex volo1 perdo induo servilis obumbratur deus similitudo finaliter subsum princeps tenebraris maneo interior homo deus imago animalitas sensibilis appeto1 sub¬egit homo deus finis pervenio finis imago principium deus vereor imago veri¬tas imago pertingo reluceo vereor cesso imago christus reparator imago offusca¬tae doceo imago offuscatio denuo renascor coepio doceo visibilis experimentum pertingeremus renascentiam via scia¬mus imago repararis debeo deus imago exemplaris vereor ex¬emplum disco necesse imago deus vivo vivus motus vita gusto deus vivus imago intueor imago quiesco continuo desiderium move¬tur vito vivifico lavo sordeo limus terra filiaris sion sanguis denuo creo reparo lotio novus homo secun¬dum deus inspiro spi¬raculis vita imago deus spiritus vi¬vum reno1 attendo debeo offuscatae imago renovator necessarius pertineo exemplar veritas volo imago renovaris possibilis solus filius pater creator solus filius co¬gnoscit pater id¬eo solus filius salvator renovator regenerator nosco homo homo imago secundus deus renovaris paruus alte¬rius imago unus deus filius opero salus novo om¬nia textus2 solus filius cognosco pater volo revelaris deus abs-condio oculus solus fili¬um revelaris revelatio renovatio imago praedico2 nosco reparator renovator imago debeo natura conversatio instruo infirmitas tenebrositas imago debeo imago offuscata pec¬cator tenebrae obumbrata magisterius reparandi imago vereor exemplaris re¬splenduisset intellego magister deus pater reparo imagi¬nem proprius imago quapropter magister re¬paratio concupisco caro imago foedus1 macula1 contraho filius adae sanguis concupiscen¬tia vir necesse magister re¬paratio homo virilis semen natus mater virgo filius ho¬minis necesse oportet filius deus solus cognosco pater filius virgo optume reparo mortalis homo similis evangelium contineo seriatim perago bonus mo¬do deus imago ip¬sum magister dominus debeo re¬pararis superfluo1 diminute ac¬tum prout exigo salvatio cum2 intellego subintras gero inquiro no¬stram reparatio reperio ordinatissima deus provideo optume servio similitudo granum triticum1 attendo christus gentilis prout johannes scribo dies luna lego2 evangelium volo1 aperio granum panis vivus caelum descendo nomino johannis mortalis cado terra mortalis granum humilio cado terra sacro virgineus vitio infructiferam bonus forma mortalis homo induo terra descendo morior maneo solus fructus affer¬ret sapientia pater omnipotens hu¬mana natura remaneo induo car¬nem mors subeo volo1 vegetativae vita gra¬no abs-condio mors granum triticum1 morior potis expando communico volo1 divino vita mor¬tal jesu abs-condio mors mo¬ritur potis expando communico fructus affero considero vis vegetabilis granum virtus ratio mensurabilis divina vis verbum similis actus intellego excedo admiror similitudo similitudo vitis verus perficio adam vita exspecto labrusca profero labrusca verso amari¬tudo deus creo pal¬mites vitis procedo se¬cundum condicio vita labrusca fructus profero sequor natura vita inficio christus verus novus adam novo verus vita sano fecundus palmes fructiferi reperio vegeten¬tur adam vita natura corrumpo chri¬stus vita gratia adam vita veto homo christus vita nosco homo adam vita concu¬piscentiae christus vita caritas considero institutio sacrificium no¬vae lex memoria liberatio mors institutio sacrificium agnus paschal me¬moriam liberatio mors exodium le¬gitur sanguis munio domus salvo primogenitus exsistentes angelus de¬vastator interfacio reperio mu¬nitio praetereo domus pha¬se primogenitus deus sacro deus specto primogenitus christus primogenitus sancio sancio sanguis pri¬mogenitum munio spiritus devastator inter¬imatur vivo aeternus memoria liberatio mors perpetuus institus sacrificium attendo memoria locus venter domus anima colligo1 repono venio mundus via sensus2 ostium intro¬itus species intro ostium debeo nox claudo si¬gnatum superliminaris postis sanguis immaculati agnus signo angelus devastator vita princeps mundus tene¬braris negotium perambulo tenebrae reperio sanguis ostium memoria linitum praetereo alibi quaero anima macto dies lucius debeo ostium aperio noto filius israel credo moysi sanguis agnus domus tueor experior credo salvatos fides auditus verbum medium sensibilis signum aptus credo significo salvo in¬credulus visibilis sacramentum conse¬quitur scio intellectual spiritus domus memoria primogenitus deus inspiratus vito spiritus spiraculis vita salvo noceo malignus spiritus vita adverso ostium memoria linitum san¬guine vinco sanguis effusio¬ne linitio fides indu¬bitata fides sacramentum sensibilis prout auctor institus sperno manifestus consto verus fides sacrificium perficio signum firmitas foedo testamentum indubito fides compactato¬rum verbum deus professio homo scio christus verbum solus defendo noceo adversarius diabolus vinco adversarius mortuus resuscito vivifico fi¬liatio deus transfero solus medicina morbus solus cibus vita conforto transfero qua¬propter optume significo fides visibilis species corporal cibus debilitas expello confortatio tribuo principalis panis triticeus vinum adverto virtus panis vinum famescentis furor debilitas caro expello, confortatio induco robur innovan¬te exter homo contingo1 fides virtus verbum similis interior homo opero intueor natura visibilis cibus exter homo ministro fides in¬visibilis cibus verbum deus interior ho¬mine invisibilis assequitur igi¬tur cibus deus verbum ordino assequitur corpus desidero pascentiam anima corpus medium virtus digestivae unio cum2 calor1 natural anima me¬dio virtus fides digestiva fortis unio calor1 super¬natural calor careo scio cibus perficio utri¬usque homo catholicus ecclesia reperio cibus exter homo eucharistia verus cibus homo nutrio corpus panis stomachus di¬gestus nutrio spiritus rational verbum fides filius deus recipio verbum re¬cipitur fides verbum filius deus pinguis panis praebeo deliquia virtus pasco panis principalis deus virtus verbum pasco anima verbum deus divino substantia reperio eucharistia substantia unus fluo virtus substantia panis visibilis substantia verbum innuo christus moyses mysterium exprimo panis vivo homo verbum pro¬cedit os deus homo exter vivo substantia panis excludo substantia verbum virtus panis teneo vivo solus pa¬nem corpus christus sacramentum adverto substantia panis ne¬cessariam pasco adsum substan¬tia virtus pasco complicatur virtus inferus substantia virtus superus propheta vercod. vat. lat. 1245 fol.85vbbo dominus caelum firmo virtus attendo substantia panis confec¬tio sacramentum debeo superus substanti¬am christus transsumi alioqui perfec¬tum sacramentum debeo contineo possibilis transsubstantiatio vera¬citer natura transeo gratiosus deus filiatio natura pereo substantia transsumitur alo natura panis cibatio pereo substantia transsubstantiatur alti¬orem substantia transsumitur divinus propheta david exprimo lex dominus immaculatus converto anima testimonium fidelis praesto2 parvulis lex dominus immaculatus verbum deus lex deus verbum converto ani¬mas sapientia converto intellego sapientia transsumendo parvulis conversio praesto fidelis testimonium fidelis validus praesto sacramentum testimonium conversio substantia panis converto substantia verbum incarnati praecisissimum efficax testi¬monium spiritual natura vi¬deatur humanus ignoro verbum deus filius deus tenebrae ignorantia deus ve¬ritas visio lux converto pateo christum sacramentum localiter cum2 accido1 substantia panis accido1 sub¬stantia panis subsisto virtus superus substantia substantia panis effluo substantia panis converro sub¬stantiam corpus christus praevenio acci¬dens maneo accido1 prior sub¬stantia converro ignoro homo sapio laicus sacerdos subdo servus1 rex maneo accido1 solus ignoro transfero sapientia imperfectus perficio similitudo aliqual propinquus propinquus igno¬rantia substantia similis sapientia paulus1 intelligeret panis transsubstantiaris supervestio nobilis substantia exspecto lu¬mine gloria supervestio substantia salvo prout vetus theologus intellego reperi¬untur solus panis cor¬pus christus sacramentum vis vocabulis attendo lumen gloria accido1 nobilis prior substantia christus juda bonus natus damno econverso bonus lumen gloria substantia anima adverso propono voco substantia bonus reperio accido1 advenio na¬tural refero dico2 necessarius corpus christus magnitudo quantitativa sa¬cramento indivisibiliter pars hostia perficio memoria induo mons magnus in¬duit granum milium totus memoro memoro memoria induo memoria recordor memoria reperio me¬moria unus oculus unus vox auris praeci¬sius exemplum alibi', 'epistula dominicus debitor romanus concludo praemitto paulus1 vita secundus caro vita secundus spiritus aristotelis ethicis vita vocod. vat. lat. 1245 fol.111vbluptu¬osam vita politicam vita contemplativam philosophus concorditer cum2 paulus vo¬luptas caro fugio doceo insecta¬tur passio voluptas recedo sapientia vito rational bestial maneo homo propheta homo cum2 honor intellego comparo1 jumentum similis vito politica bonus consisto velis christus matthaei doceo lex propheta vito loquor complicaris praeceptum vito contemplativus verus vito spiritus intellectual contrarius delectabilissima aeternus vito caro contrariatur vita spiritus vo¬luptas contemplatio secundus car¬nem vivo morior secundus spiritus vergo ratio bestialitas verus secun¬dum spiritus vivo mortificatur vito caro verus secundus compositio vi¬xerimus humanus politicam duco vita tempus primus bestial secundus1 divina tertius humanus cura ma¬gistri divina vita duco artus1 stringo paucus solus sci¬licet spiritus deus ago filius deus contemplaris filius solus pater principium possideo heres christus heres coheres nosco octo tusculano secundus spiritus potis vivo debeo cum2 om¬nia ordino vivo ars tendo natura membrum principalis vito diligo munio pateo vito amabilis vito contemplativus vito rational spiritus se¬cundum homo cum2 deus angelus com¬munem vita possideo stabilis perpetuus vito sensibilis comparo1 corruptibilis perpetu¬um finis laetitia delectatio vita mereo praefero vita car¬nis corruptibilis continuus deficio servitium in¬corruptibilis secundus spiritus imme¬diate filius deus spiritus imitor vita deus potis teneo filius voluptas caro magnus he¬redes regnum caelestis perdo succes¬sio vivo debeo secundus lex regnum caelestis fugio debeo vita caro promitto vita decipio duco es¬se cottidie se-neco particula corpus diminuitur oleum consu¬mitur lucerna exstinguo con¬sumpto oleum vivo secundus caro bestialitas intro2 diminuimus nobilitas forma numerus ternarius subtrahimus unus desino ternarius subtrahimus ratio imus bestialita¬tem peccatum aufero intellego magnus carnal aristotelis septimus ethicorum impossibilis intellego effi¬citur bestial carus1 concupisco adverro spiritus pugno continuo2 inoboedientia primus parens pugno cedo1 caro']\n"
     ]
    }
   ],
   "source": [
    "# 加载测试集文档\n",
    "testset_dir = os.path.join(BASE_DIR, 'data/testset')\n",
    "documents = []\n",
    "\n",
    "logger.info(\"加载测试集数据...\")\n",
    "test_files = [f for f in os.listdir(testset_dir) if f.endswith('.txt')]\n",
    "for test_file in tqdm.tqdm(test_files, desc=\"Loading testset files\"):\n",
    "    file_path = os.path.join(testset_dir, test_file)\n",
    "    with open(file_path, 'r', encoding='utf-8') as file:\n",
    "        documents.append(file.read())\n",
    "\n",
    "logger.info(f\"加载了 {len(documents)} 个文档用于 BERTopic 实验。\")\n",
    "\n",
    "# 打印一些文档内容进行检查\n",
    "print(documents[:5])\n",
    "\n",
    "# 检查文档列表是否为空\n",
    "if not documents:\n",
    "    logger.error(\"文档列表为空，无法进行 BERTopic 分析。\")\n",
    "else:\n",
    "    logger.info(f\"文档列表包含 {len(documents)} 个文档。\")"
   ]
  },
  {
   "cell_type": "code",
   "execution_count": 89,
   "metadata": {},
   "outputs": [
    {
     "name": "stderr",
     "output_type": "stream",
     "text": [
      "2024-11-07 16:09:31,027 - INFO - 初始化 BERTopic 模型...\n"
     ]
    }
   ],
   "source": [
    "# 创建 BERTopic 模型\n",
    "logger.info(\"初始化 BERTopic 模型...\")\n",
    "topic_model = BERTopic(\n",
    "    vectorizer_model=CountVectorizer(ngram_range=experiment_config[\"parameters\"][\"n_gram_range\"]),\n",
    "    embedding_model=get_embeddings,\n",
    "    umap_model=UMAP(**experiment_config[\"parameters\"][\"umap_params\"]),\n",
    "    min_topic_size=experiment_config[\"parameters\"][\"min_topic_size\"],\n",
    "    nr_topics=experiment_config[\"parameters\"][\"nr_topics\"],\n",
    "    language=\"multilingual\"\n",
    ")"
   ]
  },
  {
   "cell_type": "code",
   "execution_count": 90,
   "metadata": {},
   "outputs": [
    {
     "name": "stderr",
     "output_type": "stream",
     "text": [
      "2024-11-07 16:09:31,082 - INFO - 开始训练 BERTopic 模型...\n",
      "2024-11-07 16:09:31,169 - INFO - Use pytorch device_name: mps\n",
      "2024-11-07 16:09:31,170 - INFO - Load pretrained SentenceTransformer: sentence-transformers/all-MiniLM-L6-v2\n"
     ]
    },
    {
     "name": "stdout",
     "output_type": "stream",
     "text": [
      "Intel MKL WARNING: Support of Intel(R) Streaming SIMD Extensions 4.2 (Intel(R) SSE4.2) enabled only processors has been deprecated. Intel oneAPI Math Kernel Library 2025.0 will require Intel(R) Advanced Vector Extensions (Intel(R) AVX) instructions.\n"
     ]
    },
    {
     "name": "stderr",
     "output_type": "stream",
     "text": [
      "2024-11-07 16:09:40,305 - INFO - BERTopic 模型训练成功。\n",
      "2024-11-07 16:09:40,317 - INFO - 生成了 8 个唯一主题。\n",
      "2024-11-07 16:09:40,317 - INFO - 开始进行主题的简单可视化...\n",
      "2024-11-07 16:09:40,335 - INFO - 主题 0: deus, cum2, sapientia, mundus, spiritus, verbum, magister, misericordia, christus, homo\n",
      "2024-11-07 16:09:40,335 - INFO - 主题 1: christus, deus, homo, rex, veritas, mors, filius, vereor, mundus, verbum\n",
      "2024-11-07 16:09:40,336 - INFO - 主题 2: anima, vito, corpus, christus, deus, cibus, vita, spiritus, resurrectio, caro\n",
      "2024-11-07 16:09:40,337 - INFO - 主题 3: fides, credo, deus, spiritus, intellego, domus, virtus, unus, filius, christus\n",
      "2024-11-07 16:09:40,337 - INFO - 主题 4: verbum, deus, anima, cum2, spiritus, homo, christus, corpus, carus1, numerus\n",
      "2024-11-07 16:09:40,338 - INFO - 主题 5: spiritus, deus, vita, sancio, pater, spiritus sancio, christus, filius, fructus, venio\n",
      "2024-11-07 16:09:40,338 - INFO - 主题 6: christus, spiritus, thesaurus, jejuno, substantia, apostolus, mundus, pater, deus, sacramentum\n",
      "2024-11-07 16:09:40,339 - INFO - 保存每个文档的主题分配结果...\n",
      "2024-11-07 16:09:40,360 - INFO - 每个文档的主题分配结果已保存至 /Users/jessie/Documents/Projects/Cusanus_Topic_Modeling/experiments/bertopic_experiment_1730992167/bertopic_document_topic_distribution.csv。\n"
     ]
    },
    {
     "name": "stdout",
     "output_type": "stream",
     "text": [
      "主题 0: deus, cum2, sapientia, mundus, spiritus, verbum, magister, misericordia, christus, homo\n",
      "主题 1: christus, deus, homo, rex, veritas, mors, filius, vereor, mundus, verbum\n",
      "主题 2: anima, vito, corpus, christus, deus, cibus, vita, spiritus, resurrectio, caro\n",
      "主题 3: fides, credo, deus, spiritus, intellego, domus, virtus, unus, filius, christus\n",
      "主题 4: verbum, deus, anima, cum2, spiritus, homo, christus, corpus, carus1, numerus\n",
      "主题 5: spiritus, deus, vita, sancio, pater, spiritus sancio, christus, filius, fructus, venio\n",
      "主题 6: christus, spiritus, thesaurus, jejuno, substantia, apostolus, mundus, pater, deus, sacramentum\n"
     ]
    }
   ],
   "source": [
    "# 训练 BERTopic 模型\n",
    "if documents:\n",
    "    logger.info(\"开始训练 BERTopic 模型...\")\n",
    "    topics, probabilities = topic_model.fit_transform(documents)\n",
    "    logger.info(\"BERTopic 模型训练成功。\")\n",
    "\n",
    "    # 检查生成的主题数量\n",
    "    unique_topics = set(topics)\n",
    "    logger.info(f\"生成了 {len(unique_topics)} 个唯一主题。\")\n",
    "\n",
    "    # 可视化主题，直接显示生成的主题和前10个主题词\n",
    "    logger.info(\"开始进行主题的简单可视化...\")\n",
    "    try:\n",
    "        topics_info = topic_model.get_topic_info()\n",
    "        if len(topics_info) > 0:\n",
    "            for topic_num in topics_info['Topic'][:10]:\n",
    "                if topic_num != -1:  # 排除噪声主题\n",
    "                    words_weights = topic_model.get_topic(topic_num)\n",
    "                    words_str = ', '.join([word for word, _ in words_weights])\n",
    "                    print(f\"主题 {topic_num}: {words_str}\")\n",
    "                    logger.info(f\"主题 {topic_num}: {words_str}\")\n",
    "        else:\n",
    "            logger.warning(\"未生成有效的主题，无法进行可视化。\")\n",
    "    except Exception as e:\n",
    "        logger.error(f\"可视化时发生错误: {e}\")\n",
    "\n",
    "    # 保存每个文档的主题分配结果\n",
    "    logger.info(\"保存每个文档的主题分配结果...\")\n",
    "    document_topic_data = []\n",
    "\n",
    "    for doc_idx, (topic, prob) in enumerate(zip(topics, probabilities)):\n",
    "        document_name = os.path.basename(test_files[doc_idx])\n",
    "        document_topic_data.append([document_name, topic, prob])\n",
    "\n",
    "    df_document_topics = pd.DataFrame(document_topic_data, columns=[\"Document\", \"Assigned Topic\", \"Probability\"])\n",
    "    document_topics_csv_path = os.path.join(experiment_dir, 'bertopic_document_topic_distribution.csv')\n",
    "    df_document_topics.to_csv(document_topics_csv_path, index=False)\n",
    "    logger.info(f\"每个文档的主题分配结果已保存至 {document_topics_csv_path}。\")\n",
    "\n",
    "else:\n",
    "    logger.error(\"文档加载失败，无法进行 BERTopic 分析。\")"
   ]
  },
  {
   "cell_type": "raw",
   "metadata": {
    "vscode": {
     "languageId": "raw"
    }
   },
   "source": [
    "import torch\n",
    "print(\"MPS available:\", torch.backends.mps.is_available())\n"
   ]
  },
  {
   "cell_type": "raw",
   "metadata": {
    "vscode": {
     "languageId": "raw"
    }
   },
   "source": [
    "sample_text = [\"Gallia est omnis divisa in partes tres.\"]\n",
    "embeddings = get_embeddings(sample_text)\n",
    "print(embeddings)\n"
   ]
  }
 ],
 "metadata": {
  "kernelspec": {
   "display_name": "cusanus_py310",
   "language": "python",
   "name": "python3"
  },
  "language_info": {
   "codemirror_mode": {
    "name": "ipython",
    "version": 3
   },
   "file_extension": ".py",
   "mimetype": "text/x-python",
   "name": "python",
   "nbconvert_exporter": "python",
   "pygments_lexer": "ipython3",
   "version": "3.10.15"
  }
 },
 "nbformat": 4,
 "nbformat_minor": 2
}
