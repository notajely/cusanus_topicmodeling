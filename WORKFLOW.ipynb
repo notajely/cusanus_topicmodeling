{
 "cells": [
  {
   "cell_type": "markdown",
   "metadata": {},
   "source": [
    "# 1. 设置虚拟环境\n",
    "\n",
    "确保你在虚拟环境中工作，并安装所有必要的依赖项。"
   ]
  },
  {
   "cell_type": "code",
   "execution_count": null,
   "metadata": {
    "vscode": {
     "languageId": "shellscript"
    }
   },
   "outputs": [],
   "source": [
    "# 创建虚拟环境\n",
    "!python -m venv venv\n",
    "\n",
    "# 激活虚拟环境\n",
    "# 对于 macOS/Linux\n",
    "!source venv/bin/activate\n",
    "\n",
    "# 安装依赖项\n",
    "!pip install -r requirements.txt"
   ]
  },
  {
   "cell_type": "markdown",
   "metadata": {},
   "source": [
    "# 2. 编写和运行单元测试\n",
    "\n",
    "使用 `unittest` 编写和运行单元测试。\n",
    "\n",
    "### 示例测试文件 `tests/test_data_preprocess.py`"
   ]
  },
  {
   "cell_type": "code",
   "execution_count": null,
   "metadata": {},
   "outputs": [],
   "source": [
    "import unittest\n",
    "from src.data_preprocess import preprocess_tei_data\n",
    "\n",
    "class TestPreprocessTeiData(unittest.TestCase):\n",
    "    def setUp(self):\n",
    "        # 创建一个临时的 XML 文件内容用于测试\n",
    "        self.test_content = '''<TEI>\n",
    "                                <text>\n",
    "                                    <body>\n",
    "                                        <p>This is a test sermon.</p>\n",
    "                                    </body>\n",
    "                                </text>\n",
    "                            </TEI>'''\n",
    "\n",
    "    def test_preprocess_tei_data(self):\n",
    "        # 使用临时内容进行测试\n",
    "        with open('test_file.xml', 'w', encoding='utf-8') as f:\n",
    "            f.write(self.test_content)\n",
    "        \n",
    "        result = preprocess_tei_data('test_file.xml')\n",
    "        self.assertEqual(result, 'This is a test sermon.')\n",
    "\n",
    "    def tearDown(self):\n",
    "        # 删除临时的 XML 文件\n",
    "        import os\n",
    "        if os.path.exists('test_file.xml'):\n",
    "            os.remove('test_file.xml')\n",
    "\n",
    "if __name__ == '__main__':\n",
    "    unittest.main()"
   ]
  },
  {
   "cell_type": "markdown",
   "metadata": {},
   "source": [
    "### 运行测试\n",
    "\n",
    "在项目的根目录下运行以下命令来发现并运行所有测试文件："
   ]
  },
  {
   "cell_type": "code",
   "execution_count": null,
   "metadata": {
    "vscode": {
     "languageId": "shellscript"
    }
   },
   "outputs": [],
   "source": [
    "!python -m unittest discover -s tests"
   ]
  },
  {
   "cell_type": "markdown",
   "metadata": {},
   "source": [
    "# 3. 使用 Git 进行版本控制\n",
    "\n",
    "### 常用 Git 命令"
   ]
  },
  {
   "cell_type": "code",
   "execution_count": null,
   "metadata": {
    "vscode": {
     "languageId": "shellscript"
    }
   },
   "outputs": [],
   "source": [
    "# 初始化 git 仓库\n",
    "!git init\n",
    "\n",
    "# 添加所有文件到暂存区\n",
    "!git add .\n",
    "\n",
    "# 提交更改\n",
    "!git commit -m \"Initial commit\"\n",
    "\n",
    "# 查看当前状态\n",
    "!git status\n",
    "\n",
    "# 查看提交历史\n",
    "!git log\n",
    "\n",
    "# 创建新分支\n",
    "!git checkout -b new-feature\n",
    "\n",
    "# 合并分支\n",
    "!git checkout main\n",
    "!git merge new-feature\n",
    "\n",
    "# 推送到远程仓库\n",
    "!git remote add origin <remote-repository-url>\n",
    "!git push -u origin main"
   ]
  },
  {
   "cell_type": "markdown",
   "metadata": {},
   "source": [
    "# 4. 使用 Visual Studio Code 进行开发和调试\n",
    "\n",
    "### 调试配置\n",
    "\n",
    "在 `.vscode/launch.json` 文件中配置调试设置："
   ]
  },
  {
   "cell_type": "code",
   "execution_count": null,
   "metadata": {},
   "outputs": [],
   "source": [
    "{\n",
    "    \"version\": \"0.2.0\",\n",
    "    \"configurations\": [\n",
    "        {\n",
    "            \"name\": \"Python 调试程序: 当前文件\",\n",
    "            \"type\": \"python\",\n",
    "            \"request\": \"launch\",\n",
    "            \"program\": \"${file}\",\n",
    "            \"console\": \"integratedTerminal\"\n",
    "        }\n",
    "    ]\n",
    "}"
   ]
  },
  {
   "cell_type": "markdown",
   "metadata": {},
   "source": [
    "### 设置断点并启动调试\n",
    "\n",
    "1. 在代码中设置断点。\n",
    "2. 点击调试按钮或按 `F5` 键启动调试器。"
   ]
  },
  {
   "cell_type": "markdown",
   "metadata": {},
   "source": [
    "# 5. 使用 Jupyter Notebook 进行数据分析和可视化\n",
    "\n",
    "在 `notebooks` 目录中使用 Jupyter Notebook 进行数据分析和可视化。例如，`notebooks/01_preprocessing.ipynb` 用于数据预处理。"
   ]
  },
  {
   "cell_type": "code",
   "execution_count": null,
   "metadata": {
    "vscode": {
     "languageId": "shellscript"
    }
   },
   "outputs": [],
   "source": [
    "# 启动 Jupyter Notebook\n",
    "!jupyter notebook"
   ]
  },
  {
   "cell_type": "markdown",
   "metadata": {},
   "source": [
    "# 6. 预处理数据\n",
    "\n",
    "在 `src/data_preprocess.py` 文件中定义数据预处理函数，并运行预处理脚本。"
   ]
  },
  {
   "cell_type": "markdown",
   "metadata": {},
   "source": [
    "# 7. 提交代码到 Git\n",
    "\n",
    "在完成开发和测试后，使用以下命令提交代码到 Git："
   ]
  },
  {
   "cell_type": "code",
   "execution_count": null,
   "metadata": {
    "vscode": {
     "languageId": "shellscript"
    }
   },
   "outputs": [],
   "source": [
    "!git add .\n",
    "!git commit -m \"Add unit tests for preprocess_tei_data function\"\n",
    "!git push origin main"
   ]
  }
 ],
 "metadata": {
  "language_info": {
   "name": "python"
  }
 },
 "nbformat": 4,
 "nbformat_minor": 2
}
